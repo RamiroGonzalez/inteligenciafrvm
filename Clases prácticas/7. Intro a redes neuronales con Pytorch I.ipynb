{
 "cells": [
  {
   "cell_type": "markdown",
   "metadata": {},
   "source": [
    "<a href=\"https://colab.research.google.com/github/inteligenciafrvm/inteligenciafrvm/blob/master/Clases%20pr%C3%A1cticas/7.%20Intro%20a%20redes%20neuronales%20con%20Pytorch%20I.ipynb\" target=\"_parent\"><img src=\"https://colab.research.google.com/assets/colab-badge.svg\" alt=\"Open In Colab\"/></a>"
   ]
  },
  {
   "cell_type": "markdown",
   "metadata": {},
   "source": [
    "# Introducción a las Redes Neuronales con Pytorch - Parte I\n",
    "\n",
    "* Intro a Pytorch.\n",
    "* Implementación de autograd y descenso de gradiente.\n",
    "* Pytorch con redes neuronales.\n",
    "* Ejemplo de entrenamiento y evaluación.\n",
    "\n",
    "\n",
    "5to año - Ingeniería en Sistemas de Información\n",
    "\n",
    "UTN - Facultad Regional Villa María"
   ]
  },
  {
   "cell_type": "markdown",
   "metadata": {},
   "source": [
    "Parte de este notebook está basado en material del curso de Aprendizaje Automático y Visión por Computadoras dictado en FaMAF, UNC por Jorge A. Sánchez, y en tutoriales oficiales de pytorch."
   ]
  },
  {
   "cell_type": "markdown",
   "metadata": {},
   "source": [
    "## Introducción a Pytorch"
   ]
  },
  {
   "cell_type": "markdown",
   "metadata": {},
   "source": [
    "Pytorch es un framework open source para Machine Learning. Al igual que numpy, maneja arrays multidimensionales (aquí llamados *tensores*) y tiene una interfaz parecida(\\*). Se destaca en que brinda soporte para redes neuronales (con su módulo de autograd para el cómputo automático de los gradientes) y sus librerías están optimizadas para operar con tensores en GPUs. Junto con [Tensorflow](https://www.tensorflow.org/) son los dos frameworks principales de NNs del momento (otro framework que asoma: [JAX](https://github.com/google/jax)).\n",
    "\n",
    "Se recomienda leer los siguientes tutoriales para obtener una idea rápida (parte de este notebook está basado en ellos):\n",
    "\n",
    "1. [What is pytorch?](https://pytorch.org/tutorials/beginner/blitz/tensor_tutorial.html#sphx-glr-beginner-blitz-tensor-tutorial-py)\n",
    "\n",
    "1. [Autograd: automatic differentiation](https://pytorch.org/tutorials/beginner/blitz/autograd_tutorial.html#sphx-glr-beginner-blitz-autograd-tutorial-py)\n",
    "\n",
    "Otros links de referencia:\n",
    "\n",
    "1. [torch package](https://pytorch.org/docs/stable/torch.html)\n",
    "\n",
    "1. [torch.nn](https://pytorch.org/docs/stable/nn.html)\n",
    "\n",
    "1. [torch.tensor](https://pytorch.org/docs/stable/tensors.html)\n",
    "\n",
    "(\\*) nota: varias de las operaciones con ndarrays de numpy no están disponibles en pytorch o requieren procesamiento adicional, por tanto arrojarán errores. Ejemplo común: muchas funciones en pytorch requieren se designe específicamente el tipo de datos de salida, como\n",
    "\n",
    "    dtype=torch.float32\n",
    "\n",
    "y que el mismo coincida con el tipo de datos que se venía procesando\n",
    "\n",
    "De no hacerlo arroja error de tipo."
   ]
  },
  {
   "cell_type": "markdown",
   "metadata": {},
   "source": [
    "Para instalar Pytorch lo más recomendable es ir a la página oficial https://pytorch.org/ y seleccionar la opción según su sitema operativo y hardware. **Importante!** sólo seleccionar Cuda si se cuenta con placa de video Nvidia con dicha versión de Cuda, de lo contrario varias porciones de código (sobretodo del siguiente notebook) no van a compilar. Si no se cuenta con placa de video, seleccionar None para poder correr los modelos desde el CPU."
   ]
  },
  {
   "cell_type": "code",
   "execution_count": 1,
   "metadata": {},
   "outputs": [],
   "source": [
    "import numpy as np\n",
    "import torch\n",
    "from torch import nn\n",
    "\n",
    "import matplotlib\n",
    "%matplotlib inline\n",
    "\n",
    "import matplotlib.pyplot as plt\n",
    "\n",
    "import warnings\n",
    "warnings.simplefilter('ignore')\n",
    "\n",
    "np.random.seed(12345)"
   ]
  },
  {
   "cell_type": "markdown",
   "metadata": {},
   "source": [
    "Algunos ejemplos y diferencias con numpy útiles de recordar:"
   ]
  },
  {
   "cell_type": "code",
   "execution_count": 2,
   "metadata": {},
   "outputs": [
    {
     "name": "stdout",
     "output_type": "stream",
     "text": [
      "tensor([1, 2, 3, 4])\n"
     ]
    }
   ],
   "source": [
    "# torch.tensor() sería el np.array en numpy\n",
    "x = torch.tensor([1,2,3,4])\n",
    "print(x)"
   ]
  },
  {
   "cell_type": "code",
   "execution_count": 3,
   "metadata": {},
   "outputs": [
    {
     "name": "stdout",
     "output_type": "stream",
     "text": [
      "tensor([[5.2158e-11, 6.8571e+22],\n",
      "        [1.8060e+28, 3.0301e+35],\n",
      "        [1.8936e+23, 7.2076e+31],\n",
      "        [2.7490e+20, 1.8470e+31]])\n"
     ]
    }
   ],
   "source": [
    "# creamos un tensor de dimensiones 4x2 \"vacío\"\n",
    "x = torch.empty(4, 2)\n",
    "print(x)"
   ]
  },
  {
   "cell_type": "code",
   "execution_count": 4,
   "metadata": {},
   "outputs": [
    {
     "name": "stdout",
     "output_type": "stream",
     "text": [
      "tensor([[5.2158e-11, 6.8571e+22],\n",
      "        [1.8060e+28, 3.0301e+35],\n",
      "        [1.8936e+23, 7.2076e+31],\n",
      "        [2.7490e+20, 1.8470e+31]])\n"
     ]
    }
   ],
   "source": [
    "# tenemos disponibles las  manipulaciones usuales con vectores\n",
    "print(x + 1e-20)"
   ]
  },
  {
   "cell_type": "code",
   "execution_count": 5,
   "metadata": {},
   "outputs": [
    {
     "name": "stdout",
     "output_type": "stream",
     "text": [
      "tensor([[5.2158e-11],\n",
      "        [6.8571e+22],\n",
      "        [1.8060e+28],\n",
      "        [3.0301e+35],\n",
      "        [1.8936e+23],\n",
      "        [7.2076e+31],\n",
      "        [2.7490e+20],\n",
      "        [1.8470e+31]])\n"
     ]
    }
   ],
   "source": [
    "# x.view sería en numpy el np.resize()\n",
    "# cambiamos nuestro tensor de 4x2 a 8x1\n",
    "x_2 = x.view((-1,1))  # -1 significa \"inferir dimensión\" (cuando sea posible)\n",
    "print(x_2)"
   ]
  },
  {
   "cell_type": "code",
   "execution_count": 6,
   "metadata": {},
   "outputs": [
    {
     "name": "stdout",
     "output_type": "stream",
     "text": [
      "torch.Size([4, 2])\n"
     ]
    }
   ],
   "source": [
    "# torch.size sería np.shape()\n",
    "print(x.size())"
   ]
  },
  {
   "cell_type": "markdown",
   "metadata": {},
   "source": [
    "### Conexión con numpy\n",
    "\n",
    "Es posible traer tensores de numpy a ndarray y viceversa. Para ello puede usarse lo siguiente:"
   ]
  },
  {
   "cell_type": "code",
   "execution_count": 7,
   "metadata": {},
   "outputs": [
    {
     "name": "stdout",
     "output_type": "stream",
     "text": [
      "tensor([1, 2, 3]) [1 2 3]\n"
     ]
    }
   ],
   "source": [
    "a = torch.tensor([1,2,3])\n",
    "b = a.numpy()\n",
    "print(a, b)"
   ]
  },
  {
   "cell_type": "markdown",
   "metadata": {},
   "source": [
    "Atención: los mismos comparten memoria, entonces"
   ]
  },
  {
   "cell_type": "code",
   "execution_count": 8,
   "metadata": {},
   "outputs": [
    {
     "name": "stdout",
     "output_type": "stream",
     "text": [
      "tensor([3, 4, 5]) [3 4 5]\n"
     ]
    }
   ],
   "source": [
    "a +=1\n",
    "b +=1\n",
    "print(a,b)"
   ]
  },
  {
   "cell_type": "markdown",
   "metadata": {},
   "source": [
    "Para evitar que compartan memoria, tenemos que clonar el objeto, por ejemplo"
   ]
  },
  {
   "cell_type": "code",
   "execution_count": 9,
   "metadata": {},
   "outputs": [
    {
     "name": "stdout",
     "output_type": "stream",
     "text": [
      "tensor([3, 4, 5]) [3 4 5] tensor([4, 5, 6]) [4 5 6]\n"
     ]
    }
   ],
   "source": [
    "c = a.clone() + 1\n",
    "d = np.copy(b) + 1\n",
    "print(a, b, c, d)"
   ]
  },
  {
   "cell_type": "markdown",
   "metadata": {},
   "source": [
    "### Tensores en GPU\n",
    "\n",
    "Del tutorial de pytorch: así es como se crea un objeto en la memoria de la GPU"
   ]
  },
  {
   "cell_type": "code",
   "execution_count": 10,
   "metadata": {},
   "outputs": [],
   "source": [
    "# let us run this cell only if CUDA is available\n",
    "# We will use ``torch.device`` objects to move tensors in and out of GPU\n",
    "if torch.cuda.is_available():\n",
    "    device = torch.device(\"cuda\")          # a CUDA device object\n",
    "    y = torch.ones_like(x, device=device)  # directly create a tensor on GPU\n",
    "    x = x.to(device)                       # or just use strings ``.to(\"cuda\")``\n",
    "    z = x + y\n",
    "    print(z)\n",
    "    print(z.to(\"cpu\", torch.double))       # ``.to`` can also change dtype together!"
   ]
  },
  {
   "cell_type": "markdown",
   "metadata": {},
   "source": [
    "Nota: para correr esto necesitan tener en su PC una GPU con CUDA (Nvidia) o bien pueden usar una GPU compartida desde un notebook de Google Colab yendo a *Edit -> Notebook settings ->* y cambiando Hardware accelerator de *None* a *GPU*."
   ]
  },
  {
   "cell_type": "markdown",
   "metadata": {},
   "source": [
    "### Autograd\n",
    "\n",
    "Una de las características principales de Pytorch es el paquete Autograd. El mismo computa y acumula automáticamente los gradientes a medida que se realizan las distintas operaciones en la red neuronal."
   ]
  },
  {
   "cell_type": "markdown",
   "metadata": {},
   "source": [
    "Función de ejemplo: $(x_1^3 - 15)^2 + e^{2x_2}$"
   ]
  },
  {
   "cell_type": "markdown",
   "metadata": {},
   "source": [
    "Derivada: $2(x_1^3 - 15)(3x_1^2) + 2e^{2x_2}$"
   ]
  },
  {
   "cell_type": "markdown",
   "metadata": {},
   "source": [
    "Punto inicial de evaluación: $X_t = (3,5)$"
   ]
  },
  {
   "cell_type": "markdown",
   "metadata": {},
   "source": [
    "Bonus: hay una librería de python que permite hacer estas operaciones aritméticas simbólicas: [sympy](https://www.sympy.org/en/index.html)"
   ]
  },
  {
   "cell_type": "code",
   "execution_count": 11,
   "metadata": {},
   "outputs": [
    {
     "name": "stdout",
     "output_type": "stream",
     "text": [
      "d/dx1 = 6*x_1**2*(x_1**3 - 15)\n",
      "d/dx2 = 2*exp(2*x_2)\n"
     ]
    }
   ],
   "source": [
    "import sympy as sp\n",
    "x_1,x_2 = sp.symbols('x_1,x_2')\n",
    "f_sp = (x_1**3 - 15)**2 + sp.exp(2*x_2)\n",
    "print('d/dx1 = {}'.format(sp.diff(f_sp, x_1)))\n",
    "print('d/dx2 = {}'.format(sp.diff(f_sp, x_2)))"
   ]
  },
  {
   "cell_type": "markdown",
   "metadata": {},
   "source": [
    "Iniciamos nuestro tensor"
   ]
  },
  {
   "cell_type": "code",
   "execution_count": 12,
   "metadata": {},
   "outputs": [
    {
     "name": "stdout",
     "output_type": "stream",
     "text": [
      "tensor([3., 5.], requires_grad=True)\n"
     ]
    }
   ],
   "source": [
    "# requires_grad es lo que hará que se computen los gradientes\n",
    "# con dtype pasamos explícitamente el tipo de datos\n",
    "x = torch.tensor([3,5], requires_grad=True, dtype=torch.float32)  \n",
    "print(x)"
   ]
  },
  {
   "cell_type": "markdown",
   "metadata": {},
   "source": [
    "A modo didáctico, hacemos primero el paso por paso para que se vea cómo se acumulan los gradientes"
   ]
  },
  {
   "cell_type": "code",
   "execution_count": 13,
   "metadata": {},
   "outputs": [
    {
     "name": "stdout",
     "output_type": "stream",
     "text": [
      "Resultado: 22170.46484375\n",
      "Gradiente: tensor([  648.0000, 44052.9297])\n"
     ]
    }
   ],
   "source": [
    "z11 = (x[0]**3 - 15)  # gradiente: 3*x1**2 |3 = 27\n",
    "z12 = z11**2  # gradiente: 2(x1**3 - 15)*27 |3 = 648\n",
    "# notar que tienen que usarse torch.log porque no puede \n",
    "# pasarse un tensor que requiere gradiente en numpy\n",
    "z2 = torch.exp(2*x[1]) # gradiente: 2e**(2x2) |5 = 44052. \n",
    "y = z12 + z2  # Gradiente acumulado: 648 + 44052\n",
    "print('Resultado: {}'.format(y))\n",
    "y.backward() # el método backward() calcula los gradientes de las operaciones que hicimos.\n",
    "print('Gradiente: {}'.format(x.grad))"
   ]
  },
  {
   "cell_type": "markdown",
   "metadata": {},
   "source": [
    "Iniciamos nuevamente nuestro tensor y hacemos esto mismo en una sola operación"
   ]
  },
  {
   "cell_type": "code",
   "execution_count": 14,
   "metadata": {},
   "outputs": [
    {
     "name": "stdout",
     "output_type": "stream",
     "text": [
      "Gradiente: tensor([  648.0000, 44052.9297])\n"
     ]
    }
   ],
   "source": [
    "x = torch.tensor([3,5], requires_grad=True, dtype=torch.float32)  \n",
    "y = (x[0]**3 - 15)**2 + torch.exp(2*x[1])\n",
    "y.backward()  \n",
    "print('Gradiente: {}'.format(x.grad))"
   ]
  },
  {
   "cell_type": "markdown",
   "metadata": {},
   "source": [
    "Comparamos los resultados con la función derivada manualmente"
   ]
  },
  {
   "cell_type": "code",
   "execution_count": 15,
   "metadata": {},
   "outputs": [
    {
     "name": "stdout",
     "output_type": "stream",
     "text": [
      "tensor(648.) tensor(44052.9297)\n"
     ]
    }
   ],
   "source": [
    "# detach nos da el valor sin computar gradientes\n",
    "y_dx1, y_dx2 = (6*x[0]**2*(x[0]**3 - 15)).detach(), (2*torch.exp(2*x[1])).detach()  \n",
    "print(y_dx1, y_dx2)"
   ]
  },
  {
   "cell_type": "markdown",
   "metadata": {},
   "source": [
    "Si nuestra función objetivo $f$ es una función que quisieramos minimizar (por ejemplo en una función de error) siendo $x$ su parámetro, el algoritmo de desdenso de gradiente propone tomar pasos hacia la dirección de ese gradiente, debido a que es donde más rápido decrece la función, de forma que\n",
    "\n",
    "$$X_{t+1} = X_{t} - \\alpha \\nabla f(X_t)$$\n",
    "\n",
    "donde $\\alpha$ es un número pequeño como $\\alpha=2x10^{-4}$\n",
    "\n",
    "Para nuestro ejemplo $X$ actualizado quedaría: $X_{t+1} = (2.9, -3.81)$, pudiendo observar que dicho valor efectivamente hace decrecer la función en dirección a los elementos de $X$ que más aportan al error."
   ]
  },
  {
   "cell_type": "markdown",
   "metadata": {},
   "source": [
    "Este que vimos fue un ejemplo de juguete, pero la potencia real está en poder realizar esto en una red neuronal potente, en donde usaremos este mismo algoritmo para actualizar los pesos $w$."
   ]
  },
  {
   "cell_type": "markdown",
   "metadata": {},
   "source": [
    "Por ejemplo, generalizando para una red neuronal dada por la siguiente imagen, podemos ver cómo sería el cálculo de la derivada de la función de costo con respecto a $x_1$\n",
    "\n",
    "![](images/7/chain_rule_derivatives.png)"
   ]
  },
  {
   "cell_type": "markdown",
   "metadata": {},
   "source": [
    "## Pytorch y redes neuronales\n",
    "\n",
    "Repaso rápido:\n",
    "\n",
    "* Epoch: en una época, todo el dataset de entrenamiento es pasado (tomado como entrada, determinada la salida y calculados los gradientes) por la red neuronal (NN) \n",
    "\n",
    "* Para optimizar el modelo, los gradientes pueden actualizarlo de varias formas, para ello un híper-parámetro útil es el número de datos de entrenamiento que usaremos para estimar el gradiente, denominado *batch-size*. Dados $n$ ejemplos del conjunto de entrenamiento. Vemos algunos algoritmos básicos:\n",
    "\n",
    "    * Batch gradient descent (batch-size = $n$): se hace una pasada completa del conjunto de entrenamiento, estimando el gradiente a partir de la función de costo de todas las muestras del mismo y se actualiza el modelo al final del epoch. Es la forma más eficiente computacionalmente, converge en funciones convexas pero actualizar de esta manera el modelo la convergencia puede resultar muy lenta.\n",
    "    \n",
    "    * Stochastic gradient descent (SGD, batch-size = $1$): se pasa muestra por muestra del conjunto de entrenamiento (ordenado aleatoriamente), y por cada una de esas muestras se calcula el error de la función de costo y se computa el gradiente, actualizando el modelo tras cada una. Hacer esto es la forma más demandante computacionalmente.\n",
    "    \n",
    "    * Mini-batch gradient descent (batch-size < $n$): se divide el conjunto de entrenamiento en partes (*minibatches*). Se realiza una pasada por cada minibatch, calculando el error para todas muestras del minibatch y actualizando el modelo con dicho error. Presenta un equilibrio entre SGD y Batch, balanceando convergencia con demanda computacional.\n",
    " \n",
    "  No obstante, en la práctica suelen usarse formas más refinadas de los algoritmos que vimos aquí. Este post muestra una excelente vista general de ellas https://ruder.io/optimizing-gradient-descent/.\n",
    " \n",
    "* Regularización: al optimizar el modelo, para evitar que los pesos de la red tomen valores demasiado altos y generen overfitting, consiste en añadirle a la función de costo un término de regularización, que asigne mayor costo mientras más grande sean esos pesos. Una común es la regularización $L2 = ||w||^2_2 = \\lambda \\sum w_{ij}^2$, donde $\\lambda$ es un híper-parámetro llamado *weight decay*, que toma valores pequeños como $\\lambda = 1 \\times 10^{-3}$."
   ]
  },
  {
   "cell_type": "markdown",
   "metadata": {},
   "source": [
    "### Ejemplo 1. Regresión polinomial"
   ]
  },
  {
   "cell_type": "markdown",
   "metadata": {},
   "source": [
    "Primero, generamos un dataset \"de juguete\" con la función provista en el módulo utils"
   ]
  },
  {
   "cell_type": "code",
   "execution_count": 16,
   "metadata": {},
   "outputs": [
    {
     "data": {
      "image/png": "[encoded data removed]",
      "text/plain": [
       "<Figure size 432x288 with 1 Axes>"
      ]
     },
     "metadata": {
      "needs_background": "light"
     },
     "output_type": "display_data"
    }
   ],
   "source": [
    "from utils import create_sinusoidal_data as create_data\n",
    "\n",
    "x_train, y_train, x_test, y_test = create_data()\n",
    "\n",
    "plt.plot(x_test, y_test)\n",
    "plt.scatter(x_train, y_train, color='red')\n",
    "plt.ylabel('$\\sin(2 \\pi x)$')\n",
    "plt.xlabel('$x$')\n",
    "plt.grid()"
   ]
  },
  {
   "cell_type": "markdown",
   "metadata": {},
   "source": [
    "Usaremos dos redes neuronales. Para la primera trabajaremos con el siguiente modelo polinomial de orden $P$, para cada entrada $i$:\n",
    "$$\n",
    "y(x; \\mathbf{w}) = \\sum_{p=0}^P w_p x^p,\n",
    "$$\n",
    "el cual podemos expresar como un modelo linear en $\\mathbb{R}^{P+1}$ como:\n",
    "\n",
    "$$\n",
    "y(x; \\mathbf{w}) = \\mathbf{w}^T \\mathbf{x} + w_0,\n",
    "$$\n",
    "\n",
    "donde $$\\mathbf{w}={(w_1, \\dots, w_P)}^T$$ $$\\mathbf{x}={(x, x^2, \\dots, x^P)}^T$$ y $w_0$ es el sesgo (bias)\n",
    "\n",
    "La función ``polynomial_features`` provee dicha funcionalidad."
   ]
  },
  {
   "cell_type": "code",
   "execution_count": 17,
   "metadata": {},
   "outputs": [
    {
     "name": "stdout",
     "output_type": "stream",
     "text": [
      "(10, 3) (50, 3)\n"
     ]
    }
   ],
   "source": [
    "from utils import polynomial_features\n",
    "\n",
    "P = 3\n",
    "\n",
    "x_train_vec = polynomial_features(x_train, P)\n",
    "y_train_vec = y_train.reshape(-1, 1) # aumentamos nuestro tensor de 1D a 2D pues así lo usará nuestro modelo\n",
    "\n",
    "x_test_vec = polynomial_features(x_test, P)\n",
    "y_test_vec = y_test.reshape(-1, 1)\n",
    "\n",
    "print(x_train_vec.shape, x_test_vec.shape)"
   ]
  },
  {
   "cell_type": "code",
   "execution_count": 18,
   "metadata": {},
   "outputs": [
    {
     "name": "stdout",
     "output_type": "stream",
     "text": [
      "[0.         0.77777778 0.33333333 1.         0.66666667 0.44444444\n",
      " 0.11111111 0.88888889 0.55555556 0.22222222]\n"
     ]
    }
   ],
   "source": [
    "print(x_train)"
   ]
  },
  {
   "cell_type": "code",
   "execution_count": 19,
   "metadata": {},
   "outputs": [
    {
     "name": "stdout",
     "output_type": "stream",
     "text": [
      "[[0.         0.         0.        ]\n",
      " [0.77777778 0.60493827 0.47050754]\n",
      " [0.33333333 0.11111111 0.03703704]\n",
      " [1.         1.         1.        ]\n",
      " [0.66666667 0.44444444 0.2962963 ]\n",
      " [0.44444444 0.19753086 0.0877915 ]\n",
      " [0.11111111 0.01234568 0.00137174]\n",
      " [0.88888889 0.79012346 0.70233196]\n",
      " [0.55555556 0.30864198 0.17146776]\n",
      " [0.22222222 0.04938272 0.01097394]]\n"
     ]
    }
   ],
   "source": [
    "print(x_train_vec)"
   ]
  },
  {
   "cell_type": "markdown",
   "metadata": {},
   "source": [
    "Cada $x_i \\in X_{train}$ procesado con polynomial features sirve como entrada de las siguientes redes neuronales. Las mismas procesan cada una de las entradas $i$ con la primera arquitectura (la segunda es la que hay que implementar en el TP2)."
   ]
  },
  {
   "cell_type": "markdown",
   "metadata": {},
   "source": [
    "![Red neuronal de ejemplo](images/7/red_nn_ejemplo.png)"
   ]
  },
  {
   "cell_type": "markdown",
   "metadata": {},
   "source": [
    "### Definición del modelo\n",
    "\n",
    "Comenzaremos con la definición del modelo de regresión heredando de ``nn.Module`` como sigue. "
   ]
  },
  {
   "cell_type": "code",
   "execution_count": 20,
   "metadata": {},
   "outputs": [],
   "source": [
    "\n",
    "class LinearRegression(nn.Module):\n",
    "    def __init__(self, num_features):\n",
    "        super().__init__()        \n",
    "        self.fc = nn.Linear(in_features=num_features, out_features=1, bias=True)\n",
    "        \n",
    "    def forward(self, x):\n",
    "        out = self.fc(x)\n",
    "        return out\n",
    "    \n",
    "\n",
    "class FeedforwardNet(nn.Module):\n",
    "    def __init__(self, num_features, num_hidden):\n",
    "        super().__init__()        \n",
    "        # completa con tu código aquí\n",
    "        \n",
    "    def forward(self, x):\n",
    "        # completa con tu código aquí\n",
    "        return 0."
   ]
  },
  {
   "cell_type": "markdown",
   "metadata": {},
   "source": [
    "Instanciamos nuestro modelo"
   ]
  },
  {
   "cell_type": "code",
   "execution_count": 21,
   "metadata": {},
   "outputs": [
    {
     "data": {
      "text/plain": [
       "LinearRegression(\n",
       "  (fc): Linear(in_features=3, out_features=1, bias=True)\n",
       ")"
      ]
     },
     "execution_count": 21,
     "metadata": {},
     "output_type": "execute_result"
    }
   ],
   "source": [
    "model = LinearRegression(num_features=P)\n",
    "\n",
    "# si tenemos GPU, llevamos el modelo ahí\n",
    "if torch.cuda.is_available():\n",
    "    device = torch.device('cuda:0')\n",
    "else:\n",
    "    device = torch.device('cpu')    \n",
    "\n",
    "model.to(device)"
   ]
  },
  {
   "cell_type": "markdown",
   "metadata": {},
   "source": [
    "Probamos nuestro modelo en modo evaluación"
   ]
  },
  {
   "cell_type": "code",
   "execution_count": 22,
   "metadata": {},
   "outputs": [
    {
     "name": "stdout",
     "output_type": "stream",
     "text": [
      "Ejemplo de 1 vector de entrada: tensor([0.7778, 0.6049, 0.4705])\n",
      "Salida para ese vector: tensor([0.2028])\n",
      "Salida para cada entrada:\n",
      " tensor([[0.3206],\n",
      "        [0.2028],\n",
      "        [0.2326],\n",
      "        [0.1916],\n",
      "        [0.2065],\n",
      "        [0.2195],\n",
      "        [0.2812],\n",
      "        [0.1985],\n",
      "        [0.2114],\n",
      "        [0.2525]])\n"
     ]
    }
   ],
   "source": [
    "# model.eval() pone el modelo en \"evaluación\", desactivando particularidades de entrenamiento\n",
    "# estas se reactivan cuando hacemos model.train()\n",
    "model.eval()\n",
    "\n",
    "# aquí impedimos se procesen gradientes ya que estamos evaluando\n",
    "with torch.no_grad():\n",
    "    inputs_all = torch.from_numpy(np.float32(x_train_vec))\n",
    "    \n",
    "    input_single = inputs_all[1]\n",
    "    output_single = model(torch.from_numpy(np.float32(inputs_all[1])))\n",
    "    output_all = model(torch.from_numpy(np.float32(inputs_all)))\n",
    "    print('Ejemplo de 1 vector de entrada: {}'.format(input_single))\n",
    "    print('Salida para ese vector: {}'.format(output_single))\n",
    "    print('Salida para cada entrada:\\n {}'.format(output_all))"
   ]
  },
  {
   "cell_type": "markdown",
   "metadata": {},
   "source": [
    "### Función de costo y algoritmo de optimización\n",
    "\n",
    "Utilizaremos la función de costo error cuadrático medio (MSE) y optimizamos el modelo con descenso de gradiente estocástico (SGD)."
   ]
  },
  {
   "cell_type": "code",
   "execution_count": 23,
   "metadata": {},
   "outputs": [],
   "source": [
    "from torch.optim import SGD\n",
    "\n",
    "model.train()  # modelo nuevamente activado para entrenamiento\n",
    "\n",
    "LEARNING_RATE = 0.1\n",
    "WEIGHT_DECAY = 0.0  # L2 regularization coef.\n",
    "\n",
    "criterion = nn.MSELoss(reduction='sum')\n",
    "\n",
    "optimizer = SGD(model.parameters(), lr=LEARNING_RATE, weight_decay=WEIGHT_DECAY)"
   ]
  },
  {
   "cell_type": "markdown",
   "metadata": {},
   "source": [
    "### Entrenamiento"
   ]
  },
  {
   "cell_type": "code",
   "execution_count": 24,
   "metadata": {},
   "outputs": [
    {
     "name": "stdout",
     "output_type": "stream",
     "text": [
      "epoch = 00, train_loss = 6.274e-01, test_loss = 4.395e-01\n",
      "epoch = 1000, train_loss = 3.164e-01, test_loss = 1.984e-01\n",
      "epoch = 2000, train_loss = 2.981e-01, test_loss = 1.848e-01\n",
      "epoch = 3000, train_loss = 2.815e-01, test_loss = 1.732e-01\n",
      "epoch = 4000, train_loss = 2.660e-01, test_loss = 1.624e-01\n",
      "epoch = 5000, train_loss = 2.514e-01, test_loss = 1.523e-01\n",
      "epoch = 6000, train_loss = 2.377e-01, test_loss = 1.428e-01\n",
      "epoch = 7000, train_loss = 2.249e-01, test_loss = 1.340e-01\n",
      "epoch = 8000, train_loss = 2.128e-01, test_loss = 1.258e-01\n",
      "epoch = 9000, train_loss = 2.015e-01, test_loss = 1.181e-01\n"
     ]
    }
   ],
   "source": [
    "EPOCHS = 10000\n",
    "\n",
    "x_train_tensor = torch.from_numpy(np.float32(x_train_vec))\n",
    "y_train_tensor = torch.from_numpy(np.float32(y_train_vec))\n",
    "n_train = len(x_train_tensor)\n",
    "\n",
    "x_test_tensor = torch.from_numpy(np.float32(x_test_vec))\n",
    "y_test_tensor = torch.from_numpy(np.float32(y_test_vec))\n",
    "n_test = len(x_test_tensor)\n",
    "\n",
    "train_loss = []\n",
    "test_loss = []\n",
    "\n",
    "for epoch in range(EPOCHS):\n",
    "        \n",
    "    optimizer.zero_grad()                                # limpia todos los gradientes\n",
    "    y_pred = model(x_train_tensor)                       # realiza predicción con el modelo (forward pass)\n",
    "    loss = criterion(y_pred, y_train_tensor) / n_train   # calcula la pérdida (loss) y la divide por # obs\n",
    "    loss.backward()                                      # calcula los gradientes (backward pass)\n",
    "    optimizer.step()                                     # realiza paso de optimización, actualizando pesos\n",
    "    \n",
    "    train_loss.append(loss.detach().item())\n",
    "    \n",
    "    with torch.no_grad():\n",
    "        y_pred = model(x_test_tensor)\n",
    "        loss = criterion(y_pred, y_test_tensor) / n_test\n",
    "        test_loss.append(loss.item())\n",
    "                \n",
    "    if epoch % (EPOCHS//10) == 0:\n",
    "        print(\"epoch = {:02d}, train_loss = {:.3e}, test_loss = {:.3e}\".format(epoch, train_loss[-1], test_loss[-1]))"
   ]
  },
  {
   "cell_type": "markdown",
   "metadata": {},
   "source": [
    "### Visualización"
   ]
  },
  {
   "cell_type": "code",
   "execution_count": 25,
   "metadata": {},
   "outputs": [
    {
     "data": {
      "image/png": "[encoded data removed]",
      "text/plain": [
       "<Figure size 432x288 with 1 Axes>"
      ]
     },
     "metadata": {
      "needs_background": "light"
     },
     "output_type": "display_data"
    },
    {
     "data": {
      "image/png": "[encoded data removed]",
      "text/plain": [
       "<Figure size 432x288 with 1 Axes>"
      ]
     },
     "metadata": {
      "needs_background": "light"
     },
     "output_type": "display_data"
    }
   ],
   "source": [
    "plt.figure()\n",
    "plt.plot(np.arange(EPOCHS), train_loss)\n",
    "plt.plot(np.arange(EPOCHS), test_loss)\n",
    "plt.ylabel('loss')\n",
    "plt.xlabel('epoch')\n",
    "plt.legend(['train', 'test'])\n",
    "plt.grid()\n",
    "\n",
    "model.eval()  \n",
    "y_pred = model(x_test_tensor)\n",
    "y_pred = y_pred.detach().numpy().squeeze()\n",
    "\n",
    "plt.figure()\n",
    "plt.plot(x_test, y_test)\n",
    "plt.plot(x_test, y_pred, color='orange')\n",
    "plt.scatter(x_train, y_train, color='red')\n",
    "plt.ylabel('$\\sin(2 \\pi x)$')\n",
    "plt.xlabel('$x$')\n",
    "plt.grid()"
   ]
  },
  {
   "cell_type": "markdown",
   "metadata": {},
   "source": [
    "### Usando data loaders y mini-batch SGD\n",
    "\n",
    "Volvemos a instanciar el modelo, criterio y optimizador:"
   ]
  },
  {
   "cell_type": "code",
   "execution_count": 26,
   "metadata": {},
   "outputs": [],
   "source": [
    "model = LinearRegression(num_features=P)\n",
    "\n",
    "if torch.cuda.is_available():\n",
    "    device = torch.device('cuda:0')\n",
    "else:\n",
    "    device = torch.device('cpu')    \n",
    "\n",
    "model.to(device)\n",
    "\n",
    "criterion = nn.MSELoss(reduction='sum')\n",
    "\n",
    "optimizer = SGD(model.parameters(), lr=LEARNING_RATE, weight_decay=WEIGHT_DECAY)"
   ]
  },
  {
   "cell_type": "markdown",
   "metadata": {},
   "source": [
    "Pytorch provee distintas clases para el accesso a datos, como los *TensorDataset* y *DataLoader*.\n",
    "\n",
    "* *DataLoader* nos permite realizar iteraciones sobre un dataset. Es especialmente útil para iterar sobre datasets grandes, como por ejemplo los datasets de imágenes, permitiendo abstraernos de tener que implementar código específico para manejar aspectos como las rutas de los archivos o la aleatoriedad en su iteración.\n",
    "\n",
    "* *TensorDataset*, por otra parte, nos permite generar un dataset de tensores para ser iterado a partir del DataLoader.\n"
   ]
  },
  {
   "cell_type": "code",
   "execution_count": 27,
   "metadata": {},
   "outputs": [
    {
     "name": "stdout",
     "output_type": "stream",
     "text": [
      "10 2\n"
     ]
    }
   ],
   "source": [
    "from torch.utils import data\n",
    "\n",
    "BATCH_SIZE = 5\n",
    "\n",
    "train_data = data.TensorDataset(x_train_tensor, y_train_tensor)\n",
    "train_loader = data.DataLoader(dataset=train_data, batch_size=BATCH_SIZE, shuffle=True, num_workers=0,)\n",
    "\n",
    "test_data = data.TensorDataset(x_test_tensor, y_test_tensor)\n",
    "test_loader = data.DataLoader(dataset=test_data, batch_size=BATCH_SIZE, shuffle=False, num_workers=0,)\n",
    "\n",
    "print(len(train_data), len(train_loader))"
   ]
  },
  {
   "cell_type": "code",
   "execution_count": 28,
   "metadata": {},
   "outputs": [
    {
     "name": "stdout",
     "output_type": "stream",
     "text": [
      "epoch = 00, train_loss = 2.582e+00, test_loss = 3.451e+01\n",
      "epoch = 1000, train_loss = 6.239e-01, test_loss = 9.044e+00\n",
      "epoch = 2000, train_loss = 5.250e-01, test_loss = 7.836e+00\n",
      "epoch = 3000, train_loss = 5.217e-01, test_loss = 6.883e+00\n",
      "epoch = 4000, train_loss = 4.185e-01, test_loss = 6.049e+00\n",
      "epoch = 5000, train_loss = 4.057e-01, test_loss = 5.349e+00\n",
      "epoch = 6000, train_loss = 3.617e-01, test_loss = 4.789e+00\n",
      "epoch = 7000, train_loss = 2.987e-01, test_loss = 4.135e+00\n",
      "epoch = 8000, train_loss = 2.873e-01, test_loss = 3.670e+00\n",
      "epoch = 9000, train_loss = 2.483e-01, test_loss = 3.225e+00\n"
     ]
    }
   ],
   "source": [
    "train_loss, test_loss = [], []\n",
    "\n",
    "for epoch in range(EPOCHS):\n",
    "       \n",
    "    train_loss_acc = 0.    \n",
    "    for x, y in train_loader:\n",
    "        x.to(device, non_blocking=True)\n",
    "        y.to(device, non_blocking=True)\n",
    "                \n",
    "        optimizer.zero_grad()\n",
    "        y_pred = model(x)\n",
    "        loss = criterion(y_pred, y) / BATCH_SIZE\n",
    "        loss.backward()\n",
    "        optimizer.step()\n",
    "        \n",
    "        train_loss_acc += loss.detach().item()\n",
    "    train_loss.append(train_loss_acc / len(train_data))        \n",
    "    \n",
    "    with torch.no_grad():\n",
    "        test_loss_acc = 0.\n",
    "        for x, y in test_loader:        \n",
    "            x.to(device, non_blocking=True)\n",
    "            y.to(device, non_blocking=True)        \n",
    "            \n",
    "            y_pred = model(x)      \n",
    "            loss = criterion(y_pred, y)\n",
    "            \n",
    "            test_loss_acc += loss.item()    \n",
    "        test_loss.append(test_loss_acc / len(test_data))\n",
    "        \n",
    "    if epoch % (EPOCHS//10) == 0:\n",
    "        print(\"epoch = {:02d}, train_loss = {:.3e}, test_loss = {:.3e}\".format(epoch, train_loss_acc, test_loss_acc))"
   ]
  },
  {
   "cell_type": "code",
   "execution_count": 29,
   "metadata": {},
   "outputs": [
    {
     "data": {
      "image/png": "[encoded data removed]",
      "text/plain": [
       "<Figure size 432x288 with 1 Axes>"
      ]
     },
     "metadata": {
      "needs_background": "light"
     },
     "output_type": "display_data"
    },
    {
     "data": {
      "image/png": "[encoded data removed]",
      "text/plain": [
       "<Figure size 432x288 with 1 Axes>"
      ]
     },
     "metadata": {
      "needs_background": "light"
     },
     "output_type": "display_data"
    }
   ],
   "source": [
    "plt.figure()\n",
    "plt.plot(np.arange(EPOCHS), train_loss)\n",
    "plt.plot(np.arange(EPOCHS), test_loss)\n",
    "plt.ylabel('loss')\n",
    "plt.xlabel('epoch')\n",
    "plt.legend(['train', 'test'])\n",
    "plt.grid()\n",
    "\n",
    "model.eval()\n",
    "y_pred = model(x_test_tensor)\n",
    "y_pred = y_pred.detach().numpy().squeeze()\n",
    "\n",
    "plt.figure()\n",
    "plt.plot(x_test, y_test)\n",
    "plt.plot(x_test, y_pred, color='orange')\n",
    "plt.scatter(x_train, y_train, color='red')\n",
    "plt.ylabel('$\\sin(2 \\pi x)$')\n",
    "plt.xlabel('$x$')\n",
    "plt.grid()"
   ]
  },
  {
   "cell_type": "markdown",
   "metadata": {},
   "source": [
    "# Trabajo Práctico 2\n",
    "\n",
    "Actividades:\n",
    "\n",
    "1. Familiarizarse con los modelos, híper-parámetros y bloques constructivos (no es necesario elaborar informe sobre ellos para la entrega del TP).\n",
    "1. Evaluar el uso de regularización. Evaluar el uso de función de costo L1. Hacer una búsqueda en grilla de los híper-parámetros (``learning_rate``, ``weight_decay``, ``epochs``)\n",
    "1. Implementar y entrenar un modelo de red feedforward de dos capas como la segunda de la figura. Experimentar con distintos números de nodos en la capa oculta. Repetir la búsqueda de tasa de aprendizaje (learning rate) del punto anterior.\n",
    "1. Con esta red neuronal, experimentar distintas funciones de activación, como la tangente hiperbólica (Tanh) o ReLU (buscar las mismas, por ejemplo, en la documentación de Pytorch).\n",
    "1. Evaluar cómo cambia la convergencia de esta red neuronal con distintos valores de batch size y learning rate.\n",
    "1. A partir de la versión con mini-batches, modificar el bucle de entrenamiento para que, sin modificar la iteración sobre el DataLoader, implemente descenso de gradiente estándar (actualización utilizando el gradiente sobre la función de costo acumulada, tras recorrer todo el dataset).\n",
    "1. (Opcional) Buscar alguna forma de mejorar la tasa de aciertos para todas las clases del CIFAR-10 (ver notebook siguiente).\n",
    "1. (Opcional) Usar una red preentrenada y hacer transfer learning (ver notebook siguiente).\n",
    "\n",
    "Fecha de entrega: **18/06/20 23:55**"
   ]
  },
  {
   "cell_type": "code",
   "execution_count": null,
   "metadata": {},
   "outputs": [],
   "source": []
  }
 ],
 "metadata": {
  "kernelspec": {
   "display_name": "Python 3",
   "language": "python",
   "name": "python3"
  },
  "language_info": {
   "codemirror_mode": {
    "name": "ipython",
    "version": 3
   },
   "file_extension": ".py",
   "mimetype": "text/x-python",
   "name": "python",
   "nbconvert_exporter": "python",
   "pygments_lexer": "ipython3",
   "version": "3.7.7"
  }
 },
 "nbformat": 4,
 "nbformat_minor": 4
}
