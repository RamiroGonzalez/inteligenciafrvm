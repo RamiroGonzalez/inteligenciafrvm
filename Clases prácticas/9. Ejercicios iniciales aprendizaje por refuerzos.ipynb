{
 "cells": [
  {
   "cell_type": "markdown",
   "metadata": {},
   "source": [
    "# Ejercicios iniciales de aprendizaje por refuerzos\n",
    "\n",
    "5to año - Ingeniería en Sistemas de Información\n"
   ]
  },
  {
   "cell_type": "markdown",
   "metadata": {},
   "source": [
    "Entorno de ejemplo y preguntas basadas en curso de Aprendizaje Profundo por Refuerzos, dictado por Juan Gómez Romero en la Escuela de Ciencias Informáticas 2019 - UBA"
   ]
  },
  {
   "cell_type": "markdown",
   "metadata": {},
   "source": [
    "Dado el siguiente entorno,\n",
    "\n",
    "![water_environment](images/9/warmup_environment.png)"
   ]
  },
  {
   "cell_type": "markdown",
   "metadata": {},
   "source": [
    "## Responder:\n",
    "\n",
    "1. ¿Cuál sería la política óptima?\n",
    "\n",
    "2. ¿Cuánto valdría $v(D)$ bajo la Política 1 (asumiendo $\\gamma=1$)?\n",
    "    \n",
    "    Política 1: El agente elige la primera acción posible de la siguiente lista: \\[Derecha, Arriba, Izquierda, Abajo]\n",
    "3. ¿Cuál sería la recompensa acumulada $G_t$ de un agente que, de acuerdo a su política de actuación, realiza el recorrido \n",
    "\n",
    "    \\[D, E, B, C\\] desde $S_t = D$, asumiendo $\\gamma=0.1$?\n",
    "\n",
    "4. ¿Cuál sería el valor de $q(B, \\text{abajo})$ bajo la Política 1, asumiendo $\\gamma=1$? "
   ]
  }
 ],
 "metadata": {
  "kernelspec": {
   "display_name": "Python 3",
   "language": "python",
   "name": "python3"
  },
  "language_info": {
   "codemirror_mode": {
    "name": "ipython",
    "version": 3
   },
   "file_extension": ".py",
   "mimetype": "text/x-python",
   "name": "python",
   "nbconvert_exporter": "python",
   "pygments_lexer": "ipython3",
   "version": "3.7.7"
  }
 },
 "nbformat": 4,
 "nbformat_minor": 4
}
