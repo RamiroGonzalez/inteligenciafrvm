{
 "cells": [
  {
   "cell_type": "markdown",
   "metadata": {},
   "source": [
    "<a href=\"https://colab.research.google.com/github/inteligenciafrvm/inteligenciafrvm/blob/master/Clases%20pr%C3%A1cticas/7.%20Intro%20a%20redes%20neuronales%20I.ipynb\" target=\"_parent\"><img src=\"https://colab.research.google.com/assets/colab-badge.svg\" alt=\"Open In Colab\"/></a>"
   ]
  },
  {
   "cell_type": "markdown",
   "metadata": {},
   "source": [
    "# Introducción a las Redes Neuronales con Pytorch (Parte II)\n",
    "\n",
    "* Introducción a Redes neuronales convolucionales (CNN) en Pytorch\n",
    "* CNNs en CIFAR-10\n",
    "* Transfer learning con CNNs\n",
    " * Uso de redes pre-entrenadas como extractores de features.\n",
    " * Fine-tuning para adaptarse a nuestro problema.\n",
    "\n",
    "\n",
    "5to año - Ingeniería en Sistemas de Información\n",
    "\n",
    "UTN - Facultad Regional Villa María"
   ]
  },
  {
   "cell_type": "markdown",
   "metadata": {},
   "source": [
    "Parte de este notebook está basado en material del curso de Aprendizaje Automático y Visión por Computadoras dictado en FaMAF, UNC por Jorge A. Sánchez, en material del curso CS231 de Stanford como https://cs231n.github.io/convolutional-networks/, y en tutoriales de pytorch https://pytorch.org/tutorials/beginner/blitz/cifar10_tutorial.html y https://pytorch.org/tutorials/beginner/transfer_learning_tutorial.html."
   ]
  },
  {
   "cell_type": "markdown",
   "metadata": {},
   "source": [
    "\n",
    "### 1. Introducción a Redes neuronales convolucionales (CNN) en Pytorch\n",
    "\n",
    "Vemos a continuación cómo podemos implementar redes neuronales convolucionales en Pytorch. Las redes convolucionales, a diferencia de las NNs que vimos en el pasado notebook, *asumen que la entrada es una imagen*, extendiendo las redes multicapa (MLP) con un conjunto de capas que buscan extraer automáticamente features de dichas imágenes. Esta extracción automática de features es lo que le confiere la potencia a las redes neuronales en dominios como visión, texto y voz.\n",
    "\n",
    "* Las neuronas de las capas convolucionales tienen 3 dimensiones: ancho, alto y profundidad. Cada capa tiene pesos que la conectan con una pequeña sección del ancho y alto de la capa precedente (aunque con toda su profundidad, pero normalmente tales pesos están compartidos), en lugar de conectarse con todas las neuronas como pasa con MLP. Esto reduce considerablemente la cantidad de conexiones.\n",
    "\n",
    "* Las NNs por tanto comúnmente presentan su arquitectura dividida en dos partes: \"parte deep\" conformada por capas convolucionales, y la parte \"fully-connected\" que es lo que vimos en el notebook pasado. Para conectar ambas, se \"aplana\" la salida de la última capa convolucional a un vector de 1D."
   ]
  },
  {
   "cell_type": "markdown",
   "metadata": {},
   "source": [
    "\n",
    "Repaso rápido:\n",
    "\n",
    "\n",
    "* Redes neuronales convolucionales (CNN): muy simplificadamente, la operación de convolución en una imagen le aplica un filtro de convolución a la misma en cada posición de sus pixels, para cada uno de sus canales (ejemplo: Red-Green-Blue, RGB). El objetivo de las redes convolucionales es aprender los pesos de tales filtros que mejor extraen los features de imágenes, por ejemplo aprendiendo a detectar sus bordes.\n",
    "  \n",
    "  Híper-parámetros (de cada capa convolucional):\n",
    "   * Número de filtros $C_{out}$: el número de filtros de salida es un híper-parámetro, \n",
    "   * Tamaño del filtro (filter size/receptive field) $F$: \n",
    "   * Stride $S$: determina el \"salto\" entre ...\n",
    "   * Padding $P$: el padding define la magnitud del área fuera de ...\n",
    "       \n",
    "  Entrada: Imagen $W_{in} \\times H_{in} \\times C_{in}$\n",
    "  \n",
    "  Salida: Imagen $$W_{out} = (W_{in}-F+2P)/S+1 $$ $$ H_{out} = (H_{out}-F+2P)/S+1 $$  $$C_{out}$$\n",
    "\n"
   ]
  },
  {
   "cell_type": "markdown",
   "metadata": {},
   "source": [
    "* Pooling: la operación de pooling realiza una reducción (*downsampling*) del ancho y largo de la imagen, reduciendo así la cantidad de parámetros de la arquitectura en sucesivos cálculos.\n",
    "\n",
    "    Híper-parámetros:\n",
    "    * Tamaño del filtro $F$\n",
    "    * Stride $S$\n",
    "    * Criterio de pooling: normalmente se suele usar el criterio de *max pooling* (es decir tomar el valor máximo del filtro de pooling de $F \\times F$), pero también puede usarse algún otro como *average pooling*.\n",
    "    \n",
    "    Entrada: Imagen $W_{in} \\times H_{in} \\times C$\n",
    "    \n",
    "    Salida: Imagen $$W_{out} = (W_{in}-F)/S+1 $$ $$ H_{out} = (H_{out}-F)/S+1 $$  $$C$$"
   ]
  },
  {
   "cell_type": "markdown",
   "metadata": {},
   "source": [
    "* Cross-entropy loss: la función de costo de entropía cruzada para cada imagen dado el índice de su respectiva correcta $i$, está dada por $$L_i = -log \\left(\\frac{e^{f_i}}{\\sum_j e^{f_j}} \\right) = -f_{i} + log\\left(\\sum_j e^{f_j}\\right)$$ donde $$\\frac{e^{x_i}}{\\sum_j e^{x_j}}$$ es la función *Softmax*, que convierte un array, en este caso las salidas lineales de la red definida varias celdas debajo, en probabilidades. La pérdida total por minibatch es el promedio de todas las pérdidas del mismo.\n",
    "\n",
    "    Veamos un ejemplo...\n",
    "\n",
    " "
   ]
  },
  {
   "cell_type": "code",
   "execution_count": 1,
   "metadata": {},
   "outputs": [
    {
     "name": "stdout",
     "output_type": "stream",
     "text": [
      "[0.71340928 0.46463645 1.75347582 2.4514998  1.12490659 1.27762131\n",
      " 7.3720808  0.28430718 0.39887787 0.29393401]\n"
     ]
    }
   ],
   "source": [
    "import numpy as np\n",
    "\n",
    "f_10_clases = np.array([-0.3377, \n",
    "                        -0.7665,  \n",
    "                         0.5616,  \n",
    "                         0.8967,  \n",
    "                         0.1177,  \n",
    "                         0.2450,  \n",
    "                         1.9977, \n",
    "                        -1.2577, \n",
    "                        -0.9191, \n",
    "                        -1.2244])\n",
    "\n",
    "# aplicamos la función e a cada una\n",
    "f_10_clases_exp = np.exp(f_10_clases)\n",
    "print(f_10_clases_exp)"
   ]
  },
  {
   "cell_type": "code",
   "execution_count": 2,
   "metadata": {},
   "outputs": [
    {
     "name": "stdout",
     "output_type": "stream",
     "text": [
      "[0.0442157  0.02879725 0.10867698 0.15193913 0.0697195  0.07918445\n",
      " 0.45690706 0.0176208  0.02472167 0.01821745]\n",
      "1.0\n"
     ]
    }
   ],
   "source": [
    "# transformamos estas clases en probabilidades...\n",
    "f_10_clases_prob = f_10_clases_exp / np.sum(f_10_clases_exp)\n",
    "print(f_10_clases_prob)\n",
    "print(np.sum(f_10_clases_prob))"
   ]
  },
  {
   "cell_type": "code",
   "execution_count": 3,
   "metadata": {},
   "outputs": [
    {
     "name": "stdout",
     "output_type": "stream",
     "text": [
      "2.2193752758952074\n"
     ]
    }
   ],
   "source": [
    "# supongamos que la clase correcta era i=2, la pérdida por entropía cruzada sería:\n",
    "print(-np.log(f_10_clases_prob[2]))"
   ]
  },
  {
   "cell_type": "markdown",
   "metadata": {},
   "source": [
    "Minimizar esta función equivale a maximizar la probabilidad de la clase correcta (y por lo tanto, minimizando la probabilidad de las demás)."
   ]
  },
  {
   "cell_type": "markdown",
   "metadata": {},
   "source": [
    "Muy buena forma de visualizar las NNs https://poloclub.github.io/cnn-explainer/"
   ]
  },
  {
   "cell_type": "markdown",
   "metadata": {},
   "source": [
    "### 2. CNNs en CIFAR-10\n",
    "\n",
    "Para el siguiente ejemplo vamos a utilizar el dataset de imágenes [CIFAR-10](https://www.cs.toronto.edu/~kriz/cifar.html). El mismo consiste en 60000 imágenes de 32x32 (x3 canales RGB), con 10 clases (6000 imágenes por clase), de las cuales 50000 son de entrenamiento y 10000 de test.\n",
    "\n",
    "Las imágenes de este ejemplo están normalizadas entre $[0,1]$, en donde 0 para un canal R, G o B se corresponde con un valor 0 de intensidad en el pixel, y 1 se corresponde con el valor 255 de intensidad."
   ]
  },
  {
   "cell_type": "markdown",
   "metadata": {},
   "source": [
    "![CIFAR10](images/8/cifar10.png)\n",
    "\n",
    "Fuente: Alex Krizhevsky en https://www.cs.toronto.edu/~kriz/cifar.html"
   ]
  },
  {
   "cell_type": "markdown",
   "metadata": {},
   "source": [
    "**IMPORTANTE!** Para correr este notebook localmente se necesita instalar los paquetes de Pytorch para su uso en CPU (es decir sin Cuda) o bien tener una placa de video Nvidia con CUDA $\\geq$ 9. De lo contrario al importar torchvision va a arrojar un error de importación de *libcudart.so.9.0*.\n",
    "\n",
    "También se puede correr este notebook con la GPU compartida de Google Colab desde el link de la primera celda, y habilitando la GPU en Colab desde *Edit -> Notebook settings -> Hardware accelerator -> cambiando None por GPU*."
   ]
  },
  {
   "cell_type": "code",
   "execution_count": 4,
   "metadata": {},
   "outputs": [],
   "source": [
    "# importamos\n",
    "\n",
    "import numpy as np\n",
    "import torch\n",
    "import torch.nn as nn\n",
    "import torch.nn.functional as F\n",
    "import torchvision\n",
    "import torchvision.transforms as transforms\n",
    "import matplotlib.pyplot as plt\n",
    "%matplotlib inline"
   ]
  },
  {
   "cell_type": "markdown",
   "metadata": {},
   "source": [
    "A continuación mediante las transformaciones de torchvision realizamos una serie de operaciones a las imágenes de todo el dataset. Las transformaciones pueden verse en https://pytorch.org/docs/stable/torchvision/transforms.html. En este caso se realiza una normalización de media y desviación estándar a 0.5 en cada canal, un tipo de normalización común para pre-procesar las imágenes de modo que los valores de entrada de las mismas caigan siempre en un rango determinado.\n",
    "\n",
    "En este caso, normalizar con medias y desviaciones estándar en $(0.5, 0.5, 0.5)$ hará que los valores de entrada establecidos en $[0,1]$ caigan en rangos $[-1,1]$, lo que resulta mejor para trabajarlos con redes neuronales."
   ]
  },
  {
   "cell_type": "code",
   "execution_count": 5,
   "metadata": {},
   "outputs": [
    {
     "name": "stdout",
     "output_type": "stream",
     "text": [
      "Files already downloaded and verified\n",
      "Files already downloaded and verified\n"
     ]
    }
   ],
   "source": [
    "transform = transforms.Compose(\n",
    "    [transforms.ToTensor(),\n",
    "     transforms.Normalize((0.5, 0.5, 0.5), (0.5, 0.5, 0.5))])\n",
    "\n",
    "# descargamos CIFAR10 (train)\n",
    "trainset = torchvision.datasets.CIFAR10(root='./data', train=True,\n",
    "                                        download=True, transform=transform) \n",
    "# creamos un dataloader para recorrerlo\n",
    "trainloader = torch.utils.data.DataLoader(trainset, batch_size=4,\n",
    "                                          shuffle=True, num_workers=2)\n",
    "\n",
    "testset = torchvision.datasets.CIFAR10(root='./data', train=False,\n",
    "                                       download=True, transform=transform)\n",
    "testloader = torch.utils.data.DataLoader(testset, batch_size=4,\n",
    "                                         shuffle=False, num_workers=2)\n",
    "\n",
    "classes = ('plane', 'car', 'bird', 'cat',\n",
    "           'deer', 'dog', 'frog', 'horse', 'ship', 'truck')"
   ]
  },
  {
   "cell_type": "markdown",
   "metadata": {},
   "source": [
    "Veamos algunas de las imágenes de entrenamiento"
   ]
  },
  {
   "cell_type": "code",
   "execution_count": 6,
   "metadata": {},
   "outputs": [
    {
     "data": {
      "image/png": "[encoded data removed]",
      "text/plain": [
       "<Figure size 432x288 with 1 Axes>"
      ]
     },
     "metadata": {
      "needs_background": "light"
     },
     "output_type": "display_data"
    },
    {
     "name": "stdout",
     "output_type": "stream",
     "text": [
      "  car  deer   dog horse\n",
      "Primera imagen como tensor: \n",
      " tensor([[[-0.6627, -0.6235, -0.5686,  ..., -0.0510,  0.0353,  0.0588],\n",
      "         [-0.6000, -0.5765, -0.4902,  ..., -0.1608, -0.1137, -0.1922],\n",
      "         [-0.5373, -0.6784, -0.6941,  ..., -0.2784, -0.0118, -0.2706],\n",
      "         ...,\n",
      "         [-0.1608,  0.0118,  0.0196,  ...,  0.2314,  0.2392,  0.2235],\n",
      "         [-0.0431,  0.0196,  0.0039,  ...,  0.2078,  0.2314,  0.2314],\n",
      "         [ 0.0118,  0.0431,  0.0353,  ...,  0.1922,  0.2235,  0.2471]],\n",
      "\n",
      "        [[-0.5451, -0.5059, -0.4431,  ...,  0.0275,  0.1137,  0.1529],\n",
      "         [-0.4824, -0.4588, -0.3725,  ..., -0.0824, -0.0275, -0.0980],\n",
      "         [-0.4118, -0.5608, -0.5765,  ..., -0.1922,  0.0745, -0.1765],\n",
      "         ...,\n",
      "         [-0.1608,  0.0118,  0.0196,  ...,  0.2392,  0.2471,  0.2314],\n",
      "         [-0.0510,  0.0039, -0.0196,  ...,  0.2157,  0.2392,  0.2314],\n",
      "         [-0.0039,  0.0196,  0.0039,  ...,  0.1843,  0.2157,  0.2314]],\n",
      "\n",
      "        [[-0.6078, -0.5686, -0.5216,  ...,  0.0353,  0.0980,  0.0824],\n",
      "         [-0.5373, -0.5059, -0.4275,  ..., -0.0824, -0.0588, -0.1765],\n",
      "         [-0.4667, -0.6000, -0.5922,  ..., -0.2078,  0.0275, -0.2627],\n",
      "         ...,\n",
      "         [-0.2941, -0.0588, -0.0588,  ...,  0.1843,  0.2000,  0.1765],\n",
      "         [-0.1922, -0.0824, -0.0980,  ...,  0.1529,  0.1686,  0.1686],\n",
      "         [-0.1529, -0.0745, -0.0824,  ...,  0.1137,  0.1373,  0.1608]]])\n"
     ]
    }
   ],
   "source": [
    "from utils import imshow\n",
    "\n",
    "# obtenemos aleatoriamente algunas imágenes de entrenamiento\n",
    "dataiter = iter(trainloader)\n",
    "images, labels = dataiter.next()\n",
    "\n",
    "# mostramos dichas imágenes y sus categorías\n",
    "imshow(torchvision.utils.make_grid(images))\n",
    "print(' '.join('%5s' % classes[labels[j]] for j in range(4)))\n",
    "\n",
    "print('Primera imagen como tensor: \\n {}'.format(images[0]))"
   ]
  },
  {
   "cell_type": "markdown",
   "metadata": {},
   "source": [
    "Definimos ahora nuestra red convolucional. La misma va a tener la siguiente arquitectura:\n",
    "\n",
    "* Entrada: imagen 32x32x3\n",
    "* Capa conv1 con kernel=5, stride=1, c_out=6, activación ReLU. Entrada: imagen 32x32x3 -> salida: volumen 28x28x6\n",
    "* Pooling con k=2, s=2. Entrada: 28x28x6 -> salida : volumen 14x14x6\n",
    "* Capa conv2 con k=5, s=1, c=16, activación ReLU. Entrada 14x14x6 -> salida: volumen 10x10x16\n",
    "* Pooling con k=2, s=2. Entrada 10x10x16 -> salida: volumen 5x5x16\n",
    "* Aplanada a vector de 16\\*5\\*5 = 400 features de entrada.\n",
    "* Capa lineal1. Entrada: 400, salida 120. Sin activación.\n",
    "* Capa lineal2. Entrada: 120, salida 84. Sin activación.\n",
    "* Capa lineal3. Entrada: 84, salida 10 (una por cada clase de imagen). Sin activación."
   ]
  },
  {
   "cell_type": "code",
   "execution_count": 7,
   "metadata": {},
   "outputs": [
    {
     "name": "stdout",
     "output_type": "stream",
     "text": [
      "Net(\n",
      "  (conv1): Conv2d(3, 6, kernel_size=(5, 5), stride=(1, 1))\n",
      "  (pool): MaxPool2d(kernel_size=2, stride=2, padding=0, dilation=1, ceil_mode=False)\n",
      "  (conv2): Conv2d(6, 16, kernel_size=(5, 5), stride=(1, 1))\n",
      "  (fc1): Linear(in_features=400, out_features=120, bias=True)\n",
      "  (fc2): Linear(in_features=120, out_features=84, bias=True)\n",
      "  (fc3): Linear(in_features=84, out_features=10, bias=True)\n",
      ")\n"
     ]
    }
   ],
   "source": [
    "\n",
    "class Net(nn.Module):\n",
    "    def __init__(self):\n",
    "        super(Net, self).__init__()\n",
    "    \n",
    "        # interfaz de nn.Conv2d:\n",
    "        # nn.Conv2d(in_channels, out_channels, kernel_size, stride=1, padding=0) \n",
    "        self.conv1 = nn.Conv2d(3, 6, 5)\n",
    "        # nn.MaxPool2d(kernel_size, stride=None, padding=0)\n",
    "        self.pool = nn.MaxPool2d(2, 2) \n",
    "        self.conv2 = nn.Conv2d(6, 16, 5)\n",
    "        \n",
    "        # 16 canales de salida * 5 alto de la imagen * 5 ancho de la imagen\n",
    "        self.fc1 = nn.Linear(16 * 5 * 5, 120)  \n",
    "        self.fc2 = nn.Linear(120, 84)\n",
    "        self.fc3 = nn.Linear(84, 10)\n",
    "\n",
    "    def forward(self, x):\n",
    "        x = self.pool(F.relu(self.conv1(x)))\n",
    "        x = self.pool(F.relu(self.conv2(x)))\n",
    "        x = x.view(-1, 16 * 5 * 5)\n",
    "        x = F.relu(self.fc1(x))\n",
    "        x = F.relu(self.fc2(x))\n",
    "        x = self.fc3(x)\n",
    "        return x\n",
    "\n",
    "\n",
    "net = Net()\n",
    "print(net)"
   ]
  },
  {
   "cell_type": "markdown",
   "metadata": {},
   "source": [
    "Definimos una función de loss (cross entropy) y un optimizador (SGD) con momentum (al actualizar el gradiente se incluye una porción de la actualización del gradiente anterior)"
   ]
  },
  {
   "cell_type": "code",
   "execution_count": 8,
   "metadata": {},
   "outputs": [],
   "source": [
    "import torch.optim as optim\n",
    "\n",
    "criterion = nn.CrossEntropyLoss()\n",
    "optimizer = optim.SGD(net.parameters(), lr=0.001, momentum=0.9)"
   ]
  },
  {
   "cell_type": "markdown",
   "metadata": {},
   "source": [
    "Entrenamos nuestra red convolucional como lo veníamos haciendo"
   ]
  },
  {
   "cell_type": "code",
   "execution_count": 9,
   "metadata": {},
   "outputs": [
    {
     "name": "stdout",
     "output_type": "stream",
     "text": [
      "[1,  2000] training loss: 2.282\n",
      "[1,  4000] training loss: 1.919\n",
      "[1,  6000] training loss: 1.709\n",
      "[1,  8000] training loss: 1.590\n",
      "[1, 10000] training loss: 1.523\n",
      "[1, 12000] training loss: 1.481\n",
      "[2,  2000] training loss: 1.412\n",
      "[2,  4000] training loss: 1.383\n",
      "[2,  6000] training loss: 1.352\n",
      "[2,  8000] training loss: 1.320\n",
      "[2, 10000] training loss: 1.293\n",
      "[2, 12000] training loss: 1.281\n",
      "Finished Training\n"
     ]
    }
   ],
   "source": [
    "for epoch in range(2):  # loop over the dataset multiple times\n",
    "\n",
    "    running_loss = 0.0\n",
    "    for i, data in enumerate(trainloader, 0):\n",
    "        # get the inputs\n",
    "        inputs, labels = data\n",
    "\n",
    "        # zero the parameter gradients\n",
    "        optimizer.zero_grad()\n",
    "\n",
    "        # forward + backward + optimize\n",
    "        outputs = net(inputs)\n",
    "        loss = criterion(outputs, labels)\n",
    "        loss.backward()\n",
    "        optimizer.step()\n",
    "\n",
    "        # print statistics\n",
    "        running_loss += loss.item()\n",
    "        if i % 2000 == 1999:    # print every 2000 mini-batches\n",
    "            print('[%d, %5d] training loss: %.3f' %\n",
    "                  (epoch + 1, i + 1, running_loss / 2000))\n",
    "            running_loss = 0.0\n",
    "\n",
    "print('Finished Training')"
   ]
  },
  {
   "cell_type": "markdown",
   "metadata": {},
   "source": [
    "Vemos algunas predicciones del conjunto de test para ver cómo está aprendiendo a generalizar. Primero, tomamos un puñado de imágenes del mismo"
   ]
  },
  {
   "cell_type": "code",
   "execution_count": 10,
   "metadata": {},
   "outputs": [
    {
     "data": {
      "image/png": "[encoded data removed]",
      "text/plain": [
       "<Figure size 432x288 with 1 Axes>"
      ]
     },
     "metadata": {
      "needs_background": "light"
     },
     "output_type": "display_data"
    },
    {
     "name": "stdout",
     "output_type": "stream",
     "text": [
      "GroundTruth:    cat  ship  ship plane\n"
     ]
    }
   ],
   "source": [
    "dataiter = iter(testloader)\n",
    "images, labels = dataiter.next()\n",
    "\n",
    "# mostramos las imágenes\n",
    "imshow(torchvision.utils.make_grid(images))\n",
    "print('GroundTruth: ', ' '.join('%5s' % classes[labels[j]] for j in range(4)))"
   ]
  },
  {
   "cell_type": "markdown",
   "metadata": {},
   "source": [
    "Veamos cuál es la \"energía\" que nuestro clasificador le asigna a cada una de las imágenes. A mayor energía, más la red \"piensa\" que la imagen pertenece a una clase determinada."
   ]
  },
  {
   "cell_type": "code",
   "execution_count": 11,
   "metadata": {},
   "outputs": [
    {
     "name": "stdout",
     "output_type": "stream",
     "text": [
      "tensor([[-0.3229, -1.9930,  1.0982,  1.7300,  0.6306,  1.3387,  1.5421, -0.4904,\n",
      "         -0.4110, -1.7201],\n",
      "        [ 6.1616,  4.5686, -0.7302, -2.8087, -3.3344, -5.4527, -5.1427, -5.4635,\n",
      "          8.7139,  3.6736],\n",
      "        [ 1.8540,  2.7258,  0.1136, -0.6361, -1.6136, -1.5616, -2.2053, -2.4937,\n",
      "          3.0700,  1.4126],\n",
      "        [ 3.8726,  0.5186,  0.6926, -1.3361, -0.3106, -2.8862, -2.2204, -3.1107,\n",
      "          4.6032,  0.5537]])\n"
     ]
    }
   ],
   "source": [
    "with torch.no_grad():\n",
    "    outputs = net(images)\n",
    "    print(outputs)"
   ]
  },
  {
   "cell_type": "markdown",
   "metadata": {},
   "source": [
    "Veamos los índices para las mayores energías de cada clase..."
   ]
  },
  {
   "cell_type": "code",
   "execution_count": 12,
   "metadata": {},
   "outputs": [
    {
     "name": "stdout",
     "output_type": "stream",
     "text": [
      "Predicted:    cat  ship  ship  ship\n"
     ]
    }
   ],
   "source": [
    "with torch.no_grad():\n",
    "    _, predicted = torch.max(outputs, 1)\n",
    "\n",
    "    print('Predicted: ', ' '.join('%5s' % classes[predicted[j]]\n",
    "                                  for j in range(4)))"
   ]
  },
  {
   "cell_type": "markdown",
   "metadata": {},
   "source": [
    "Veamos cómo rindió nuestra red para todo el conjunto de test"
   ]
  },
  {
   "cell_type": "code",
   "execution_count": 13,
   "metadata": {},
   "outputs": [
    {
     "name": "stdout",
     "output_type": "stream",
     "text": [
      "Tasa de acierdos de la red para las 10000 imágenes de test: 55 %\n"
     ]
    }
   ],
   "source": [
    "correct = 0\n",
    "total = 0\n",
    "with torch.no_grad():\n",
    "    for data in testloader:\n",
    "        images, labels = data\n",
    "        outputs = net(images)\n",
    "        _, predicted = torch.max(outputs.data, 1)\n",
    "        total += labels.size(0)\n",
    "        correct += (predicted == labels).sum().item()\n",
    "\n",
    "print('Tasa de acierdos de la red para las 10000 imágenes de test: %d %%' % (\n",
    "    100 * correct / total))"
   ]
  },
  {
   "cell_type": "markdown",
   "metadata": {},
   "source": [
    "Teniendo en cuenta que la tasa de aciertos para un clasificador aleatorio es del 10%, el porcentaje obtenido está muy bien para empezar. A modo de comparación, ~94% es la tasa de aciertos de un humano para CIFAR-10.\n",
    "\n",
    "Veamos la tasa de aciertos por cada clase..."
   ]
  },
  {
   "cell_type": "code",
   "execution_count": 14,
   "metadata": {},
   "outputs": [
    {
     "name": "stdout",
     "output_type": "stream",
     "text": [
      "Tasa de aciertos para la clase plane : 52 %\n",
      "Tasa de aciertos para la clase   car : 65 %\n",
      "Tasa de aciertos para la clase  bird : 23 %\n",
      "Tasa de aciertos para la clase   cat : 40 %\n",
      "Tasa de aciertos para la clase  deer : 53 %\n",
      "Tasa de aciertos para la clase   dog : 55 %\n",
      "Tasa de aciertos para la clase  frog : 66 %\n",
      "Tasa de aciertos para la clase horse : 61 %\n",
      "Tasa de aciertos para la clase  ship : 69 %\n",
      "Tasa de aciertos para la clase truck : 68 %\n"
     ]
    }
   ],
   "source": [
    "class_correct = list(0. for i in range(10))\n",
    "class_total = list(0. for i in range(10))\n",
    "with torch.no_grad():\n",
    "    for data in testloader:\n",
    "        images, labels = data\n",
    "        outputs = net(images)\n",
    "        _, predicted = torch.max(outputs, 1)\n",
    "        c = (predicted == labels).squeeze()\n",
    "        for i in range(4):\n",
    "            label = labels[i]\n",
    "            class_correct[label] += c[i].item()\n",
    "            class_total[label] += 1\n",
    "\n",
    "\n",
    "for i in range(10):\n",
    "    print('Tasa de aciertos para la clase %5s : %2d %%' % (\n",
    "        classes[i], 100 * class_correct[i] / class_total[i]))"
   ]
  },
  {
   "cell_type": "markdown",
   "metadata": {},
   "source": [
    "¿Se te ocurre cómo mejorar el desempeño de la red? Inténtalo!"
   ]
  },
  {
   "cell_type": "markdown",
   "metadata": {},
   "source": [
    "### 3. Transfer learning con CNNs\n",
    "\n",
    "\n",
    "* Hasta aquí hemos visto el entrenamiento de una muy pequeña NN para un dataset de imágenes pequeñas.\n",
    "* No obstante, en el estado del arte hay datasets mucho más grandes. Por ejemplo, [ImageNet](http://image-net.org/about-stats)...\n",
    "  * Tiene más de 14 millones de imágenes anotadas a mano (~150 Gb de tamaño total del dataset) con una resolución promedio de 469x387 pixels.\n",
    "  * Cada imagen pertenece a una de las 27 categorías de alto nivel (ej: \"animal\") que a su vez tienen más de 20.000 subcategorías específicas de acuerdo a la clasificación de WordNet (ej: \"invertebrate\" tiene subcategoría \"arthropod\" que a su vez tiene a \"arachnid\").\n",
    "\n"
   ]
  },
  {
   "cell_type": "markdown",
   "metadata": {},
   "source": [
    "* Para entrenar una NN de buen tamaño sobre un dataset de esa magnitud, se requiere una buena cantidad de recursos. Es por eso que en la práctica normalmente no se entrena una CNN sobre un gran dataset desde 0 (excepto que se cuente con recursos de hardware o cómputo en la nube suficientes), sino que se realiza *transfer-learning*: usar una arquitectura con sus pesos pre-entrenados y adaptarla a nuestro problema.\n",
    "* Pytorch cuenta con modelos de clasificación pre-entrenados (todos sobre ImageNet), que pueden verse [aquí](https://pytorch.org/docs/stable/torchvision/models.html#classification), en donde se referencia el paper de cada modelo. Los modelos pre-entrenados tienen que normalizarse (según el canal RGB) con valores mean = [0.485, 0.456, 0.406] y std = [0.229, 0.224, 0.225], que son las medias y desviaciones estandar de todo ImageNet (también se suelen rescalar todas las imágenes en 256x256)."
   ]
  },
  {
   "cell_type": "markdown",
   "metadata": {},
   "source": [
    "En esta parte, vamos a ver dos alternativas de transfer-learning:\n",
    "\n",
    "1. Uso de redes pre-entrenadas como extractores de features, y usar esos features sobre un modelo tradicional como KNN o SVM.\n",
    "1. Fine-tuning: consiste en importar una red con pesos pre-entrenados para un dominio parecido y congelar (es decir dejar fijos sus parámetros, cesando su optimización) la mayoría de las capas excepto una o dos del final, que serán con las que se reanude su aprendizaje para adaptarse a nuestro problema."
   ]
  },
  {
   "cell_type": "markdown",
   "metadata": {},
   "source": [
    "Como ejemplo ilustrativo, vamos a realizar fine-tuning para entrenar a nuestro clasificador de abejas y hormigas. Las imágenes se pueden descargar manualmente desde [aquí](https://download.pytorch.org/tutorial/hymenoptera_data.zip) (eso se realiza automáticamente en la celda siguiente, si no funciona, descargar desde el link y extraer el zip en ./data/hymenoptera_data)."
   ]
  },
  {
   "cell_type": "markdown",
   "metadata": {},
   "source": [
    "#### Alternativa 1: uso de redes pre-entrenadas como extractores de features"
   ]
  },
  {
   "cell_type": "code",
   "execution_count": 15,
   "metadata": {},
   "outputs": [
    {
     "name": "stdout",
     "output_type": "stream",
     "text": [
      "Using downloaded and verified file: ./data/hymenoptera_data.zip\n",
      "Extracting ./data/hymenoptera_data.zip to ./data/\n",
      "Archivos descargados y extraidos con éxito\n"
     ]
    }
   ],
   "source": [
    "# descargamos y extraemos los archivos (fuente: https://discuss.pytorch.org/t/how-does-one-download-a-data-set-from-a-file-automatically-with-pytorch/74262)\n",
    "# (requiere ipywidgets, que se instala mediante conda install -c conda-forge ipywidgets o pip3 install ipywidgets --user sin conda)\n",
    "\n",
    "from torchvision.datasets.utils import download_and_extract_archive\n",
    "import os\n",
    "\n",
    "if os.path.exists(\"./data/hymenoptera_data\"):\n",
    "\n",
    "    url = \"https://download.pytorch.org/tutorial/hymenoptera_data.zip\"\n",
    "    root = './data/'\n",
    "\n",
    "    download_and_extract_archive(url, root)\n",
    "    print(\"Archivos descargados y extraidos con éxito\")\n",
    "    \n",
    "else:\n",
    "    print(\"La carpeta ya existe\")"
   ]
  },
  {
   "cell_type": "markdown",
   "metadata": {},
   "source": [
    "Definimos importaciones, variables iniciales y transformaciones que aplicaremos a cada imagen"
   ]
  },
  {
   "cell_type": "code",
   "execution_count": 16,
   "metadata": {},
   "outputs": [],
   "source": [
    "import numpy as np\n",
    "import matplotlib.pyplot as plt\n",
    "import os\n",
    "\n",
    "from torchvision.datasets import ImageFolder\n",
    "from torchvision.utils import make_grid\n",
    "from torchvision import transforms\n",
    "from torch.utils.data import DataLoader\n",
    "from utils import imshow_tensor\n",
    "\n",
    "path = './data/hymenoptera_data/'\n",
    "\n",
    "batch_size = 4\n",
    "num_workers = 2\n",
    "\n",
    "# transformaciones que se aplicarán sobre cada imagen:\n",
    "#   1. el lado más chico de la imagen a 256 pixels manteniendo relación de aspecto (PIL -> PIL)\n",
    "#   2. crop de la región central de 224x224 pixels (PIL -> PIL)\n",
    "#   1. transformar la imagen PIL a un tensor de pytorch (PIL -> Tensor)\n",
    "#   2. aplicar la normalización (estandarización) con la que fueron entrenados los modelos en torchvision  (Tensor -> Tensor)\n",
    "transform = transforms.Compose([    \n",
    "    transforms.Resize(256),    \n",
    "    transforms.CenterCrop(224),   \n",
    "    transforms.ToTensor(),\n",
    "    transforms.Normalize([0.485, 0.456, 0.406], [0.229, 0.224, 0.225])\n",
    "])"
   ]
  },
  {
   "cell_type": "markdown",
   "metadata": {},
   "source": [
    "Definimos el dataset y visualizamos algunas imágenes"
   ]
  },
  {
   "cell_type": "code",
   "execution_count": 17,
   "metadata": {},
   "outputs": [
    {
     "name": "stdout",
     "output_type": "stream",
     "text": [
      "torch.Size([4, 3, 224, 224])\n",
      "tensor([1, 0, 0, 1])\n",
      "['bees', 'ants', 'ants', 'bees']\n"
     ]
    },
    {
     "data": {
      "image/png": "[encoded data removed]",
      "text/plain": [
       "<Figure size 432x288 with 1 Axes>"
      ]
     },
     "metadata": {
      "needs_background": "light"
     },
     "output_type": "display_data"
    }
   ],
   "source": [
    "# dataset\n",
    "data = ImageFolder(os.path.join(path, 'train'), transform)\n",
    "\n",
    "# data loader\n",
    "loader = DataLoader(data, batch_size=batch_size, shuffle=True, num_workers=num_workers)\n",
    "\n",
    "image_batch, labels = next(iter(loader))\n",
    "print(image_batch.size())\n",
    "print(labels)\n",
    "print([data.classes[lbl] for lbl in labels])\n",
    "grid = make_grid(image_batch)\n",
    "imshow_tensor(grid)\n",
    "  "
   ]
  },
  {
   "cell_type": "markdown",
   "metadata": {},
   "source": [
    "Para utilizar una red pre entrenada para la extracción de features, debemos limitarla a lo que nos interesa. En nuestro caso emplearemos la red ResNet, donde utilizaremos la salida de la penúltima capa como representación de la imágen."
   ]
  },
  {
   "cell_type": "code",
   "execution_count": 18,
   "metadata": {},
   "outputs": [],
   "source": [
    "import torch\n",
    "from torch import nn\n",
    "from torchvision import models\n",
    "\n",
    "class FeatureExtractor(nn.Module):\n",
    "    def __init__(self):        \n",
    "        super().__init__()\n",
    "        # leer red pre-entrenada\n",
    "        model = models.resnet18(pretrained=True)\n",
    "        \n",
    "        # congelamos los parámetros\n",
    "        for p in model.parameters():\n",
    "            p.requires_grad_(False)\n",
    "            \n",
    "        # TODO mostrar qué es lo que sucede ahí en layers    \n",
    "        # armamos modelo secuencial que incluya todas las capas salvo la última (fc)\n",
    "        layers = list(model.children())[:-1]\n",
    "        self.net = nn.Sequential(*layers) \n",
    "        \n",
    "    def forward(self, x):        \n",
    "        N = x.size(0)  # batch size\n",
    "        x = self.net(x)\n",
    "        return x.view(N, -1)"
   ]
  },
  {
   "cell_type": "markdown",
   "metadata": {},
   "source": [
    "Creamos nuestra función de extracción de features"
   ]
  },
  {
   "cell_type": "code",
   "execution_count": 19,
   "metadata": {},
   "outputs": [],
   "source": [
    "from tqdm import tqdm_notebook as progressbar\n",
    "\n",
    "\n",
    "def features_and_labels(set_):\n",
    "    if set_ not in ('train', 'val'):\n",
    "        raise ValueError('not a valid data set')\n",
    "        \n",
    "    transform = transforms.Compose([    \n",
    "        transforms.Resize(256),\n",
    "        transforms.ToTensor(),\n",
    "        transforms.Normalize([0.485, 0.456, 0.406], [0.229, 0.224, 0.225])\n",
    "    ])\n",
    "    \n",
    "    data = ImageFolder(os.path.join(path, set_), transform)\n",
    "    \n",
    "    loader = DataLoader(data, batch_size=1, shuffle=False, num_workers=0)\n",
    "    \n",
    "    extractor = FeatureExtractor()\n",
    "    # extractor = extractor.to(device)\n",
    "    extractor.eval()\n",
    "    \n",
    "    features, labels = [], []\n",
    "    \n",
    "    for img, lbl in progressbar(loader):\n",
    "        # img = img.to(device)\n",
    "        feat = extractor(img)    \n",
    "        # feat = feat.cpu()\n",
    "        features.append(feat)\n",
    "        labels.append(lbl)\n",
    "\n",
    "    features = torch.cat(features, dim=0)\n",
    "    labels = torch.cat(labels, dim=0)\n",
    "    \n",
    "    return features, labels\n"
   ]
  },
  {
   "cell_type": "markdown",
   "metadata": {},
   "source": [
    "Extraemos los features de la salida"
   ]
  },
  {
   "cell_type": "code",
   "execution_count": 20,
   "metadata": {},
   "outputs": [
    {
     "name": "stderr",
     "output_type": "stream",
     "text": [
      "Downloading: \"https://download.pytorch.org/models/resnet18-5c106cde.pth\" to /home/juan/.cache/torch/checkpoints/resnet18-5c106cde.pth\n"
     ]
    },
    {
     "data": {
      "application/vnd.jupyter.widget-view+json": {
       "model_id": "ed596c21bcb74d10b0c0ee36781ae228",
       "version_major": 2,
       "version_minor": 0
      },
      "text/plain": [
       "HBox(children=(IntProgress(value=0, max=46827520), HTML(value='')))"
      ]
     },
     "metadata": {},
     "output_type": "display_data"
    },
    {
     "name": "stdout",
     "output_type": "stream",
     "text": [
      "\n"
     ]
    },
    {
     "data": {
      "application/vnd.jupyter.widget-view+json": {
       "model_id": "c58ff959ae39400ca11dac9ec0984d39",
       "version_major": 2,
       "version_minor": 0
      },
      "text/plain": [
       "HBox(children=(IntProgress(value=0, max=244), HTML(value='')))"
      ]
     },
     "metadata": {},
     "output_type": "display_data"
    },
    {
     "name": "stdout",
     "output_type": "stream",
     "text": [
      "\n"
     ]
    },
    {
     "data": {
      "application/vnd.jupyter.widget-view+json": {
       "model_id": "7a47ba1aee1a4d3e84f80ee4d24aba3f",
       "version_major": 2,
       "version_minor": 0
      },
      "text/plain": [
       "HBox(children=(IntProgress(value=0, max=153), HTML(value='')))"
      ]
     },
     "metadata": {},
     "output_type": "display_data"
    },
    {
     "name": "stdout",
     "output_type": "stream",
     "text": [
      "\n",
      "torch.Size([244, 512]) torch.Size([153, 512])\n"
     ]
    }
   ],
   "source": [
    "train_features, train_labels = features_and_labels('train')\n",
    "val_features, val_labels = features_and_labels('val')\n",
    "print(train_features.size(), val_features.size())"
   ]
  },
  {
   "cell_type": "markdown",
   "metadata": {},
   "source": [
    "Dividimos los features en entrenamiento y test, para usarlo como entrada de un modelo de scikit learn"
   ]
  },
  {
   "cell_type": "code",
   "execution_count": 21,
   "metadata": {},
   "outputs": [
    {
     "name": "stdout",
     "output_type": "stream",
     "text": [
      "(244, 512) (244, 1)\n",
      "(153, 512) (153, 1)\n"
     ]
    }
   ],
   "source": [
    "x_train, y_train = train_features.cpu().numpy(), train_labels.cpu().numpy().reshape(-1, 1)\n",
    "x_test, y_test = val_features.cpu().numpy(), val_labels.cpu().numpy().reshape(-1, 1)\n",
    "\n",
    "# # para evitar recomputar los features cada vez, se pueden almacenar a disco \n",
    "# np.save(\"resnet18.npy\", {'x_train': x_train, 'y_train': y_train, 'x_test': x_test, 'y_test': y_test}, allow_pickle=True)\n",
    "# mydata = np.load(\"resnet18.npy\", allow_pickle=True)\n",
    "# x_train = mydata.item().get('x_train')\n",
    "# y_train = mydata.item().get('y_train')\n",
    "# x_test = mydata.item().get('x_test')\n",
    "# y_test = mydata.item().get('y_test')\n",
    "\n",
    "print(x_train.shape, y_train.shape)\n",
    "print(x_test.shape, y_test.shape)\n",
    "\n",
    "# agrega tu código aquí"
   ]
  },
  {
   "cell_type": "markdown",
   "metadata": {},
   "source": [
    "#### Alternativa 2: ajuste fino (fine-tuning)\n",
    "\n",
    "En esta parte adaptaremos un modelo pre-entrenado para resolver un problema particular (p.ej. clasificación sobre ImageNet) a otro de nuestro interés. La idea es la siguiente: tomamos un modelo preentrenado y reemplazamos la última capa (la que define el número de salidas de la red, p.ej, 1000 categorías de ImageNet) con una que se adapte a nuestro problema.\n",
    "\n",
    "Si el número de datos de entrenamiento disponibles para el nuevo problema es chico, adaptaremos únicamente ésta última capa de la red. Si éste número es mayor, podemos adaptar más capas (en general, desde la salida hacia la entrada). La forma de seleccionar que parámetros (capas) adaptaremos y cuáles no, es seteando el atributo ```requieres_grad``` de cada nodo al valor deseado. \n",
    "\n",
    "Únicamente aquellos nodos que tengan éste atributo en ```True``` serán adaptados durante el proceso de optimización. A continuación exploraremos esta idea mediante la definición de un modelo adaptado al problema de abejas y hormigas (2 clases)."
   ]
  },
  {
   "cell_type": "code",
   "execution_count": 22,
   "metadata": {},
   "outputs": [],
   "source": [
    "# se carga modelo preentrenado\n",
    "model = models.resnet18(pretrained=True)\n",
    "\n",
    "# se congelan todos los parámetros\n",
    "for p in model.parameters():\n",
    "    p.requires_grad_(False)\n",
    "\n",
    "# reemplazamos la última capa lineal por una nueva adaptada a nuestro problema. \n",
    "# En el caso de los modelos resnet en pytorch, la última capa lineal corresponde al miembro .fc \n",
    "# (para ver la red en detalle hacer print(model))\n",
    "in_features = model.fc.in_features  # se toma la cantidad de features de salida de la capa fc de resnet\n",
    "num_classes = 2\n",
    "model.fc = nn.Linear(in_features, num_classes)  # y se reemplaza la capa por una nueva capa lineal nuestra\n",
    "\n",
    "# se guardan la lista de parámetros a actualizar que pasaremos al optimizador\n",
    "parameters_to_update = [p for p in model.parameters() if p.requires_grad]"
   ]
  },
  {
   "cell_type": "markdown",
   "metadata": {},
   "source": [
    "Con el modelo definido, resta armar el resto de la estructura de entrenamiento (data loaders, funciones de costo y optimización)"
   ]
  },
  {
   "cell_type": "code",
   "execution_count": 23,
   "metadata": {},
   "outputs": [],
   "source": [
    "batch_size = 32\n",
    "num_workers = 4\n",
    "\n",
    "# data transforms \n",
    "data_transform = {\n",
    "    'train': transforms.Compose([\n",
    "        transforms.Resize(256),\n",
    "        transforms.RandomCrop(224),\n",
    "        transforms.RandomHorizontalFlip(),  # data augmentation!\n",
    "        transforms.ToTensor(),\n",
    "        transforms.Normalize([0.485, 0.456, 0.406], [0.229, 0.224, 0.225])\n",
    "    ]),\n",
    "    'val': transforms.Compose([\n",
    "        transforms.Resize(224),\n",
    "        transforms.CenterCrop(224),\n",
    "        transforms.ToTensor(),\n",
    "        transforms.Normalize([0.485, 0.456, 0.406], [0.229, 0.224, 0.225])\n",
    "    ]),\n",
    "}\n",
    "\n",
    "# dataset splits\n",
    "data = {\n",
    "    'train': ImageFolder(os.path.join(path, 'train'), data_transform['train']),\n",
    "    'val': ImageFolder(os.path.join(path, 'val'), data_transform['val'])\n",
    "}    \n",
    "\n",
    "# dataloaders\n",
    "data_loader = {\n",
    "    'train': DataLoader(data['train'], batch_size=batch_size, shuffle=True, num_workers=num_workers),\n",
    "    'val': DataLoader(data['val'], batch_size=batch_size, shuffle=False, num_workers=num_workers)\n",
    "}\n",
    "\n",
    "# criterio de optimización\n",
    "criterion = nn.CrossEntropyLoss()\n",
    "\n",
    "# Optimizador\n",
    "optimizer = torch.optim.Adam(parameters_to_update, lr=1.0)"
   ]
  },
  {
   "cell_type": "markdown",
   "metadata": {},
   "source": [
    "Definimos funciones de entrenamiento y validación de nuestro modelo"
   ]
  },
  {
   "cell_type": "code",
   "execution_count": 24,
   "metadata": {},
   "outputs": [],
   "source": [
    "def train(model, data_loader, criterion, optimizer, device):            \n",
    "    model.train()\n",
    "    running_loss = 0.\n",
    "    running_acc = 0.\n",
    "       \n",
    "    for inputs, labels in data_loader:\n",
    "        inputs = inputs.to(device)\n",
    "        labels = labels.to(device)\n",
    "                \n",
    "        optimizer.zero_grad()\n",
    "        outputs = model(inputs)\n",
    "        loss = criterion(outputs, labels)\n",
    "        loss.backward()\n",
    "        optimizer.step()\n",
    "           \n",
    "        _, preds = torch.max(outputs, 1)\n",
    "        \n",
    "        running_loss += loss.item() * inputs.size(0)\n",
    "        running_acc += torch.sum(preds == labels.data)\n",
    "                \n",
    "    running_loss /= len(data_loader.dataset)\n",
    "    running_acc /= len(data_loader.dataset)\n",
    "                \n",
    "    return running_loss, running_acc                \n",
    "\n",
    "def validate(model, data_loader, criterion, device):          \n",
    "    model.eval()\n",
    "    running_loss = 0.\n",
    "    running_acc = 0.\n",
    "    with torch.no_grad():\n",
    "        for inputs, labels in data_loader:\n",
    "            inputs = inputs.to(device)\n",
    "            labels = labels.to(device)\n",
    "                        \n",
    "            outputs = model(inputs)\n",
    "            loss = criterion(outputs, labels)\n",
    "           \n",
    "            _, preds = torch.max(outputs, 1)\n",
    "        \n",
    "            running_loss += loss.item() * inputs.size(0)\n",
    "            running_acc += torch.sum(preds == labels.data)\n",
    "                \n",
    "        running_loss /= len(data_loader.dataset)\n",
    "        running_acc /= len(data_loader.dataset)\n",
    "                \n",
    "    return running_loss, running_acc  "
   ]
  },
  {
   "cell_type": "markdown",
   "metadata": {},
   "source": [
    "Realizamos el entrenamiento"
   ]
  },
  {
   "cell_type": "code",
   "execution_count": 25,
   "metadata": {},
   "outputs": [
    {
     "data": {
      "application/vnd.jupyter.widget-view+json": {
       "model_id": "4aa0d2043dd641f187df882eaf7015d5",
       "version_major": 2,
       "version_minor": 0
      },
      "text/plain": [
       "HBox(children=(IntProgress(value=0, max=10), HTML(value='')))"
      ]
     },
     "metadata": {},
     "output_type": "display_data"
    },
    {
     "name": "stdout",
     "output_type": "stream",
     "text": [
      "[1] loss: train=36.517, val=8.738 -- accuracy: train=0.754, val=0.922\n",
      "[2] loss: train=28.658, val=24.075 -- accuracy: train=0.820, val=0.876\n",
      "[3] loss: train=9.175, val=7.487 -- accuracy: train=0.939, val=0.954\n",
      "[4] loss: train=8.083, val=10.669 -- accuracy: train=0.922, val=0.935\n",
      "[5] loss: train=8.925, val=18.614 -- accuracy: train=0.910, val=0.908\n",
      "[6] loss: train=14.492, val=10.349 -- accuracy: train=0.893, val=0.948\n",
      "[7] loss: train=6.701, val=11.120 -- accuracy: train=0.951, val=0.928\n",
      "[8] loss: train=3.979, val=18.787 -- accuracy: train=0.943, val=0.908\n",
      "[9] loss: train=6.212, val=10.856 -- accuracy: train=0.947, val=0.941\n",
      "[10] loss: train=2.112, val=15.336 -- accuracy: train=0.975, val=0.935\n",
      "\n"
     ]
    }
   ],
   "source": [
    "from tqdm import tqdm_notebook as progressbar\n",
    "\n",
    "device = torch.device('cuda' if torch.cuda.is_available() else 'cpu')\n",
    "\n",
    "model.to(device)\n",
    "\n",
    "num_epochs = 10\n",
    "\n",
    "for epoch in progressbar(range(1, num_epochs+1)):\n",
    "        train_loss, train_acc = train(model, data_loader['train'], criterion, optimizer, device)\n",
    "        \n",
    "        val_loss, val_acc = validate(model, data_loader['val'], criterion, device)\n",
    "        \n",
    "        print('[{}] loss: train={:.3f}, val={:.3f} -- accuracy: train={:.3f}, val={:.3f}'.format(epoch, train_loss, val_loss, train_acc, val_acc))"
   ]
  },
  {
   "cell_type": "markdown",
   "metadata": {},
   "source": [
    "Algunas actividades opcionales que pueden intentar con transfer-learning...\n",
    "\n",
    "Transfer a modelos de scikit-learn\n",
    "\n",
    "1. Evaluar clasificadores que vimos anteriormente, como KNN o SVC. Buscar combinaciones de híper-parámetros que mejoren la performance del modelo.\n",
    "\n",
    "Fine-tuning\n",
    "\n",
    "1. Con las capas freezadas, encontrar rangos de valores razonables para el learning_rate. Observar evolución de la función de costo (\"train\" y \"val\") para guiar la búsqueda y selección.\n",
    "\n",
    "1. En lugar de dejar capas congeladas, configurar la red para adaptar todos sus parámetros y reentrenar la misma para el nuevo dataset. Evaluar cómo resulta tal entrenamiento.\n",
    "\n",
    "1. De contar con disponibilidad de GPUs (o desde Google Colab), probar cambiando la arquitectura a una más compleja (ej. resnet50, vgg16).\n",
    "\n",
    "General\n",
    "\n",
    "1. Buscar algún otro dominio de imágenes para hacer transfer-learning. Tener en cuenta que según el formato de pytorch, se deben dividir las imágenes en carpetas train y val, y a su vez cada una de ellas en una subcarpeta por clase.\n",
    "\n",
    "1. Implementar esquemas de data augmentation más agresivos durante el entrenamiento (p.ej. rotaciones o crops aleatorios, etc.) y evaluar cómo mejora el modelo con ellos. Ver transformaciones disponibles [acá](https://pytorch.org/docs/stable/torchvision/transforms.html).\n"
   ]
  },
  {
   "cell_type": "code",
   "execution_count": null,
   "metadata": {},
   "outputs": [],
   "source": []
  }
 ],
 "metadata": {
  "kernelspec": {
   "display_name": "Python 3",
   "language": "python",
   "name": "python3"
  },
  "language_info": {
   "codemirror_mode": {
    "name": "ipython",
    "version": 3
   },
   "file_extension": ".py",
   "mimetype": "text/x-python",
   "name": "python",
   "nbconvert_exporter": "python",
   "pygments_lexer": "ipython3",
   "version": "3.7.7"
  }
 },
 "nbformat": 4,
 "nbformat_minor": 4
}
