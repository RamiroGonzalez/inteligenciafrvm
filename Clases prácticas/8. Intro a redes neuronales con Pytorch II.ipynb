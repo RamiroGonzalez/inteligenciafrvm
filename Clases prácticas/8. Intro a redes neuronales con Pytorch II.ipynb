{
 "cells": [
  {
   "cell_type": "markdown",
   "metadata": {},
   "source": [
    "<a href=\"https://colab.research.google.com/github/inteligenciafrvm/inteligenciafrvm/blob/master/Clases%20pr%C3%A1cticas/8.%20Intro%20a%20redes%20neuronales%20con%20Pytorch%20II.ipynb\" target=\"_parent\"><img src=\"https://colab.research.google.com/assets/colab-badge.svg\" alt=\"Open In Colab\"/></a>"
   ]
  },
  {
   "cell_type": "markdown",
   "metadata": {},
   "source": [
    "# Introducción a las Redes Neuronales con Pytorch (Parte II)\n",
    "\n",
    "* Introducción a Redes neuronales convolucionales (CNN) en Pytorch\n",
    "* CNNs en CIFAR-10\n",
    "* Transfer learning con CNNs\n",
    " * Uso de redes pre-entrenadas como extractores de features.\n",
    " * Fine-tuning para adaptarse a nuestro problema.\n",
    "\n",
    "\n",
    "5to año - Ingeniería en Sistemas de Información\n",
    "\n",
    "UTN - Facultad Regional Villa María"
   ]
  },
  {
   "cell_type": "markdown",
   "metadata": {},
   "source": [
    "Parte de este notebook está basado en material del curso de Aprendizaje Automático y Visión por Computadoras dictado en FaMAF, UNC por Jorge A. Sánchez, en material del curso CS231 de Stanford como https://cs231n.github.io/convolutional-networks/, y en tutoriales de pytorch https://pytorch.org/tutorials/beginner/blitz/cifar10_tutorial.html y https://pytorch.org/tutorials/beginner/transfer_learning_tutorial.html."
   ]
  },
  {
   "cell_type": "markdown",
   "metadata": {},
   "source": [
    "\n",
    "### 1. Introducción a Redes neuronales convolucionales (CNN) en Pytorch\n",
    "\n",
    "Vemos a continuación cómo podemos implementar redes neuronales convolucionales en Pytorch. Las redes convolucionales, a diferencia de las NNs que vimos en el pasado notebook, *asumen que la entrada es una imagen*, extendiendo las redes multicapa (MLP) con un conjunto de capas que buscan extraer automáticamente features de dichas imágenes. Esta extracción automática de features es lo que le confiere la potencia a las redes neuronales en dominios como visión, texto y voz.\n",
    "\n",
    "* Las neuronas de las capas convolucionales tienen 3 dimensiones: ancho, alto y profundidad. Cada capa convolucional consiste en un filtro que la conectan con una pequeña sección del ancho y alto de la imagen de entrada, en lugar de conectarse con todas las neuronas como pasa con MLP. Esto reduce considerablemente la cantidad de conexiones, y lo hace todavía más si los pesos de cada nivel de profundidad del filtro se comparte para todo el alto y ancho de la imagen.\n",
    "\n",
    "* Las NNs por tanto comúnmente presentan su arquitectura dividida en dos partes: parte \"*deep*\" conformada por capas convolucionales, y la parte \"*fully-connected*\" (FC) que es lo que vimos en el notebook pasado. Para conectar ambas, se \"aplana\" la salida de la última capa convolucional a un vector de 1D."
   ]
  },
  {
   "cell_type": "markdown",
   "metadata": {},
   "source": [
    "\n",
    "Repaso rápido:\n",
    "\n",
    "\n",
    "* Redes neuronales convolucionales (CNN): muy simplificadamente, la operación de convolución en una imagen le aplica un filtro de convolución a la misma en cada posición de sus pixels, para cada uno de sus canales (ejemplo: Red-Green-Blue, RGB). El objetivo de las redes convolucionales es aprender los pesos de tales filtros que mejor extraen los features de imágenes, por ejemplo aprendiendo a detectar sus bordes.\n",
    "  \n",
    "  Híper-parámetros (de cada capa convolucional):\n",
    "   * Número de filtros $C_{out}$: el número de filtros de salida es un híper-parámetro, que determina la cantidad de \n",
    "   * Tamaño del filtro (filter size/receptive field) $F$: tamaño del filtro que aplica la convolución a los pixels de la imagen.\n",
    "   * Stride $S$: determina el deslizamiento del filtro. $S=1$ significa que el filtro se mueve de a un pixel a la vez, de a dos pixels a la vez con $S=2$, etc.\n",
    "   * Padding $P$: el padding define la magnitud del área fuera de la imagen por donde puede pasar el filtro. \n",
    "       \n",
    "       \n",
    "  Entrada: Imagen $W_{in} \\times H_{in} \\times C_{in}$\n",
    "  \n",
    "  Salida: Imagen $W_{out} \\times H_{out} \\times C_{out}$ donde $$W_{out} = (W_{in}-F+2P)/S+1 $$ $$ H_{out} = (H_{out}-F+2P)/S+1 $$  $$C_{out}$$\n"
   ]
  },
  {
   "cell_type": "markdown",
   "metadata": {},
   "source": [
    "Importante: al definir nuestras arquitecturas, recordar que esta operación así como el pooling, requieren que en todo momento que los híper-parámetros $F, S, P$ así como el volumen de las imágenes $W, H, C$ tanto de entrada como de salida sean en todo momento números enteros. De no ser así arroja error ."
   ]
  },
  {
   "cell_type": "markdown",
   "metadata": {},
   "source": [
    "* Pooling: la operación de pooling realiza una reducción (*downsampling*) del ancho y largo de la imagen, reduciendo así la cantidad de parámetros de la arquitectura y sucesivos cálculos (que es la principal razón por la que se la utiliza).\n",
    "\n",
    "    Híper-parámetros:\n",
    "    * Tamaño del filtro $F$\n",
    "    * Stride $S$\n",
    "    * Criterio de pooling: normalmente se suele usar el criterio de *max pooling* (es decir tomar el valor máximo del filtro de pooling de $F \\times F$), pero también puede usarse otro como *average pooling*.\n",
    "    \n",
    "    Entrada: Imagen $W_{in} \\times H_{in} \\times C$\n",
    "    \n",
    "    Salida: Imagen $W_{out} \\times H_{out} \\times C$ donde $$W_{out} = (W_{in}-F)/S+1 $$ $$ H_{out} = (H_{out}-F)/S+1 $$  $$C$$"
   ]
  },
  {
   "cell_type": "markdown",
   "metadata": {},
   "source": [
    "* Cross-entropy loss: la función de costo de entropía cruzada para cada imagen dado el índice de la salida correcta $i$, está dada por $$L_i = -log \\left(\\frac{e^{f_i}}{\\sum_j e^{f_j}} \\right) = -f_{i} + log\\left(\\sum_j e^{f_j}\\right)$$ donde $$\\frac{e^{x_i}}{\\sum_j e^{x_j}}$$ es la función *Softmax*, que convierte un array, en este caso las salidas lineales de la red definida varias celdas debajo, en probabilidades. La pérdida total por cada minibatch es el promedio de todas las pérdidas de todas las imágenes del mismo.\n",
    "\n",
    "    Veamos un ejemplo...\n",
    "\n",
    " "
   ]
  },
  {
   "cell_type": "code",
   "execution_count": 1,
   "metadata": {},
   "outputs": [
    {
     "name": "stdout",
     "output_type": "stream",
     "text": [
      "[0.71340928 0.46463645 1.75347582 2.4514998  1.12490659 1.27762131\n",
      " 7.3720808  0.28430718 0.39887787 0.29393401]\n"
     ]
    }
   ],
   "source": [
    "import numpy as np\n",
    "\n",
    "f_10_clases = np.array([-0.3377, \n",
    "                        -0.7665,  \n",
    "                         0.5616,  \n",
    "                         0.8967,  \n",
    "                         0.1177,  \n",
    "                         0.2450,  \n",
    "                         1.9977, \n",
    "                        -1.2577, \n",
    "                        -0.9191, \n",
    "                        -1.2244])\n",
    "\n",
    "# aplicamos la función e a cada una\n",
    "f_10_clases_exp = np.exp(f_10_clases)\n",
    "print(f_10_clases_exp)"
   ]
  },
  {
   "cell_type": "code",
   "execution_count": 2,
   "metadata": {},
   "outputs": [
    {
     "name": "stdout",
     "output_type": "stream",
     "text": [
      "[0.0442157  0.02879725 0.10867698 0.15193913 0.0697195  0.07918445\n",
      " 0.45690706 0.0176208  0.02472167 0.01821745]\n",
      "1.0\n"
     ]
    }
   ],
   "source": [
    "# transformamos estas clases en probabilidades...\n",
    "f_10_clases_prob = f_10_clases_exp / np.sum(f_10_clases_exp)\n",
    "print(f_10_clases_prob)\n",
    "print(np.sum(f_10_clases_prob))"
   ]
  },
  {
   "cell_type": "code",
   "execution_count": 3,
   "metadata": {},
   "outputs": [
    {
     "name": "stdout",
     "output_type": "stream",
     "text": [
      "2.2193752758952074\n"
     ]
    }
   ],
   "source": [
    "# supongamos que la clase correcta era i=2, la pérdida por entropía cruzada sería:\n",
    "print(-np.log(f_10_clases_prob[2]))"
   ]
  },
  {
   "cell_type": "markdown",
   "metadata": {},
   "source": [
    "Minimizar esta función equivale a maximizar la probabilidad de la clase correcta (y, por lo tanto, a minimizar la probabilidad de las demás)."
   ]
  },
  {
   "cell_type": "markdown",
   "metadata": {},
   "source": [
    "Muy buena forma de visualizar las NNs https://poloclub.github.io/cnn-explainer/"
   ]
  },
  {
   "cell_type": "markdown",
   "metadata": {},
   "source": [
    "### 2. CNNs en CIFAR-10\n",
    "\n",
    "Para el siguiente ejemplo vamos a utilizar el dataset de imágenes [CIFAR-10](https://www.cs.toronto.edu/~kriz/cifar.html). El mismo consiste en 60.000 imágenes de 32x32 (x3 canales RGB), con 10 clases mutuamente excluyentes (6.000 imágenes por clase), de las cuales 50.000 son de entrenamiento y 10.000 de test.\n",
    "\n",
    "Las imágenes de este ejemplo están normalizadas entre $[0,1]$, en donde 0 para un canal R, G o B se corresponde con un valor 0 de intensidad en el pixel, y 1 se corresponde con el valor 255 de intensidad."
   ]
  },
  {
   "cell_type": "markdown",
   "metadata": {},
   "source": [
    "![CIFAR10](images/8/cifar10.png)\n",
    "\n",
    "Fuente: Alex Krizhevsky en https://www.cs.toronto.edu/~kriz/cifar.html"
   ]
  },
  {
   "cell_type": "markdown",
   "metadata": {},
   "source": [
    "**IMPORTANTE!** Para correr localmente el código que sigue se necesita instalar los paquetes de Pytorch para su uso en CPU (es decir sin Cuda) o bien contar con una GPU Nvidia con CUDA $\\geq$ 9. De lo contrario al importar torchvision va a arrojar un error de importación de *libcudart.so.9.0*.\n",
    "\n",
    "También se puede correr este notebook con la GPU compartida de Google Colab desde el link de la primera celda, y habilitando la GPU en Colab desde *Edit -> Notebook settings -> Hardware accelerator -> cambiando None por GPU*."
   ]
  },
  {
   "cell_type": "code",
   "execution_count": 4,
   "metadata": {},
   "outputs": [],
   "source": [
    "# importamos\n",
    "\n",
    "import numpy as np\n",
    "import torch\n",
    "import torch.nn as nn\n",
    "import torch.nn.functional as F\n",
    "import torchvision\n",
    "import torchvision.transforms as transforms\n",
    "import matplotlib.pyplot as plt\n",
    "%matplotlib inline"
   ]
  },
  {
   "cell_type": "markdown",
   "metadata": {},
   "source": [
    "A continuación mediante las transformaciones de torchvision realizamos una serie de operaciones a las imágenes de todo el dataset. Las transformaciones pueden verse en https://pytorch.org/docs/stable/torchvision/transforms.html. En este caso se realiza una normalización de media y desviación estándar a 0.5 en cada canal, un tipo de normalización común para pre-procesar las imágenes de modo que los valores de entrada de las mismas caigan siempre en un rango determinado.\n",
    "\n",
    "En este caso, normalizar con medias y desviaciones estándar en $(0.5, 0.5, 0.5)$ hará que los valores de entrada establecidos en $[0,1]$ caigan en rangos $[-1,1]$, lo que resulta mejor para trabajarlos con redes neuronales."
   ]
  },
  {
   "cell_type": "code",
   "execution_count": 5,
   "metadata": {},
   "outputs": [
    {
     "name": "stdout",
     "output_type": "stream",
     "text": [
      "Files already downloaded and verified\n",
      "Files already downloaded and verified\n"
     ]
    }
   ],
   "source": [
    "transform = transforms.Compose(\n",
    "    [transforms.ToTensor(),\n",
    "     transforms.Normalize((0.5, 0.5, 0.5), (0.5, 0.5, 0.5))])\n",
    "\n",
    "# descargamos CIFAR10 (train)\n",
    "trainset = torchvision.datasets.CIFAR10(root='./data', train=True,\n",
    "                                        download=True, transform=transform) \n",
    "# creamos un dataloader para recorrerlo\n",
    "trainloader = torch.utils.data.DataLoader(trainset, batch_size=4,\n",
    "                                          shuffle=True, num_workers=2)\n",
    "\n",
    "# hacemos lo mismo con el conjunto de test\n",
    "testset = torchvision.datasets.CIFAR10(root='./data', train=False,\n",
    "                                       download=True, transform=transform)\n",
    "testloader = torch.utils.data.DataLoader(testset, batch_size=4,\n",
    "                                         shuffle=False, num_workers=2)\n",
    "\n",
    "classes = ('plane', 'car', 'bird', 'cat',\n",
    "           'deer', 'dog', 'frog', 'horse', 'ship', 'truck')"
   ]
  },
  {
   "cell_type": "markdown",
   "metadata": {},
   "source": [
    "Veamos algunas de las imágenes de entrenamiento"
   ]
  },
  {
   "cell_type": "code",
   "execution_count": 6,
   "metadata": {},
   "outputs": [
    {
     "data": {
      "image/png": "[encoded data removed]",
      "text/plain": [
       "<Figure size 432x288 with 1 Axes>"
      ]
     },
     "metadata": {
      "needs_background": "light"
     },
     "output_type": "display_data"
    },
    {
     "name": "stdout",
     "output_type": "stream",
     "text": [
      "  car   dog  deer truck\n",
      "Primera imagen como tensor normalizado: \n",
      " tensor([[[-0.3725, -0.4039, -0.3725,  ..., -0.3255, -0.0118,  0.3255],\n",
      "         [-0.2314, -0.3490, -0.2706,  ..., -0.3882, -0.3490, -0.0824],\n",
      "         [-0.3098, -0.3098, -0.2314,  ..., -0.3882, -0.4667, -0.3255],\n",
      "         ...,\n",
      "         [-0.5294, -0.5373, -0.5294,  ...,  0.3255, -0.1686, -0.5529],\n",
      "         [-0.5216, -0.5216, -0.5137,  ...,  0.2863, -0.3882, -0.5608],\n",
      "         [-0.5294, -0.5137, -0.5059,  ...,  0.0510, -0.5216, -0.5451]],\n",
      "\n",
      "        [[-0.5922, -0.7412, -0.7412,  ..., -0.2471,  0.0353,  0.3333],\n",
      "         [-0.4980, -0.7804, -0.7804,  ..., -0.3098, -0.2863, -0.0510],\n",
      "         [-0.6000, -0.7804, -0.8039,  ..., -0.3176, -0.4039, -0.3098],\n",
      "         ...,\n",
      "         [-0.4588, -0.4353, -0.4039,  ...,  0.4588,  0.0196, -0.3412],\n",
      "         [-0.4431, -0.4275, -0.3961,  ...,  0.4431, -0.1843, -0.3255],\n",
      "         [-0.4275, -0.4039, -0.3804,  ...,  0.2235, -0.3255, -0.3333]],\n",
      "\n",
      "        [[-0.6078, -0.7098, -0.7020,  ..., -0.2549,  0.0039,  0.2549],\n",
      "         [-0.5059, -0.7333, -0.7098,  ..., -0.2941, -0.2706, -0.0667],\n",
      "         [-0.6078, -0.7333, -0.7176,  ..., -0.2784, -0.3490, -0.2706],\n",
      "         ...,\n",
      "         [-0.3412, -0.3255, -0.3020,  ...,  0.4118, -0.0039, -0.2706],\n",
      "         [-0.3255, -0.3176, -0.2941,  ...,  0.3961, -0.1686, -0.2392],\n",
      "         [-0.3255, -0.3020, -0.2784,  ...,  0.1608, -0.2784, -0.2314]]])\n"
     ]
    }
   ],
   "source": [
    "from utils import imshow\n",
    "\n",
    "# obtenemos aleatoriamente algunas imágenes de entrenamiento\n",
    "dataiter = iter(trainloader)\n",
    "images, labels = dataiter.next()\n",
    "\n",
    "# mostramos dichas imágenes y sus categorías\n",
    "imshow(torchvision.utils.make_grid(images))\n",
    "print(' '.join('%5s' % classes[labels[j]] for j in range(4)))\n",
    "\n",
    "print('Primera imagen como tensor normalizado: \\n {}'.format(images[0]))"
   ]
  },
  {
   "cell_type": "markdown",
   "metadata": {},
   "source": [
    "Definimos ahora nuestra red convolucional. La misma va a tener la siguiente arquitectura:\n",
    "\n",
    "* Entrada: imagen 32x32x3\n",
    "* Capa conv1 con kernel=5 (es decir 5x5), stride=1, c_out=6, activación ReLU. Entrada: imagen 32x32x3 -> salida: volumen 28x28x6\n",
    "* Pooling con k=2, s=2. Entrada: 28x28x6 -> salida : volumen 14x14x6\n",
    "* Capa conv2 con k=5, s=1, c=16, activación ReLU. Entrada 14x14x6 -> salida: volumen 10x10x16\n",
    "* Pooling con k=2, s=2. Entrada 10x10x16 -> salida: volumen 5x5x16\n",
    "* Aplanada a vector de 16\\*5\\*5 = 400 features de entrada.\n",
    "* Capa lineal1. Entrada: 400, salida 120. Sin activación.\n",
    "* Capa lineal2. Entrada: 120, salida 84. Sin activación.\n",
    "* Capa lineal3. Entrada: 84, salida 10 (una por cada clase de imagen). Sin activación."
   ]
  },
  {
   "cell_type": "code",
   "execution_count": 7,
   "metadata": {},
   "outputs": [
    {
     "name": "stdout",
     "output_type": "stream",
     "text": [
      "Net(\n",
      "  (conv1): Conv2d(3, 6, kernel_size=(5, 5), stride=(1, 1))\n",
      "  (pool): MaxPool2d(kernel_size=2, stride=2, padding=0, dilation=1, ceil_mode=False)\n",
      "  (conv2): Conv2d(6, 16, kernel_size=(5, 5), stride=(1, 1))\n",
      "  (fc1): Linear(in_features=400, out_features=120, bias=True)\n",
      "  (fc2): Linear(in_features=120, out_features=84, bias=True)\n",
      "  (fc3): Linear(in_features=84, out_features=10, bias=True)\n",
      ")\n"
     ]
    }
   ],
   "source": [
    "\n",
    "class Net(nn.Module):\n",
    "    def __init__(self):\n",
    "        super(Net, self).__init__()\n",
    "    \n",
    "        # interfaz de nn.Conv2d:\n",
    "        # nn.Conv2d(in_channels, out_channels, kernel_size, stride=1, padding=0) \n",
    "        self.conv1 = nn.Conv2d(3, 6, 5)\n",
    "        # nn.MaxPool2d(kernel_size, stride=None, padding=0)\n",
    "        self.pool = nn.MaxPool2d(2, 2) \n",
    "        self.conv2 = nn.Conv2d(6, 16, 5)\n",
    "        \n",
    "        # 16 canales de salida * 5 alto de la imagen * 5 ancho de la imagen\n",
    "        self.fc1 = nn.Linear(16 * 5 * 5, 120)  \n",
    "        self.fc2 = nn.Linear(120, 84)\n",
    "        self.fc3 = nn.Linear(84, 10)\n",
    "\n",
    "    def forward(self, x):\n",
    "        x = self.pool(F.relu(self.conv1(x)))\n",
    "        x = self.pool(F.relu(self.conv2(x)))\n",
    "        x = x.view(-1, 16 * 5 * 5)\n",
    "        x = F.relu(self.fc1(x))\n",
    "        x = F.relu(self.fc2(x))\n",
    "        x = self.fc3(x)\n",
    "        return x\n",
    "\n",
    "\n",
    "net = Net()\n",
    "print(net)"
   ]
  },
  {
   "cell_type": "markdown",
   "metadata": {},
   "source": [
    "Definimos una función de loss (cross entropy) y un optimizador (SGD) con momentum (al actualizar el gradiente se incluye una porción de la actualización del gradiente anterior)"
   ]
  },
  {
   "cell_type": "code",
   "execution_count": 8,
   "metadata": {},
   "outputs": [],
   "source": [
    "import torch.optim as optim\n",
    "\n",
    "criterion = nn.CrossEntropyLoss()\n",
    "optimizer = optim.SGD(net.parameters(), lr=0.001, momentum=0.9)"
   ]
  },
  {
   "cell_type": "markdown",
   "metadata": {},
   "source": [
    "Entrenamos nuestra red convolucional como lo veníamos haciendo"
   ]
  },
  {
   "cell_type": "code",
   "execution_count": 9,
   "metadata": {},
   "outputs": [
    {
     "name": "stdout",
     "output_type": "stream",
     "text": [
      "[1,  2000] training loss: 2.179\n",
      "[1,  4000] training loss: 1.822\n",
      "[1,  6000] training loss: 1.649\n",
      "[1,  8000] training loss: 1.536\n",
      "[1, 10000] training loss: 1.508\n",
      "[1, 12000] training loss: 1.455\n",
      "[2,  2000] training loss: 1.405\n",
      "[2,  4000] training loss: 1.360\n",
      "[2,  6000] training loss: 1.334\n",
      "[2,  8000] training loss: 1.322\n",
      "[2, 10000] training loss: 1.274\n",
      "[2, 12000] training loss: 1.272\n",
      "Finished Training\n"
     ]
    }
   ],
   "source": [
    "for epoch in range(2):\n",
    "\n",
    "    running_loss = 0.0\n",
    "    for i, data in enumerate(trainloader, 0):\n",
    "        # obtiene las entradas\n",
    "        inputs, labels = data\n",
    "\n",
    "        # limpia los gradientes\n",
    "        optimizer.zero_grad()\n",
    "\n",
    "        # forward + backward + optimización\n",
    "        outputs = net(inputs)\n",
    "        loss = criterion(outputs, labels)\n",
    "        loss.backward()\n",
    "        optimizer.step()\n",
    "\n",
    "        # muestra estadísticas\n",
    "        running_loss += loss.item()\n",
    "        if i % 2000 == 1999:    # print every 2000 mini-batches\n",
    "            print('[%d, %5d] training loss: %.3f' %\n",
    "                  (epoch + 1, i + 1, running_loss / 2000))\n",
    "            running_loss = 0.0\n",
    "\n",
    "print('Finished Training')"
   ]
  },
  {
   "cell_type": "markdown",
   "metadata": {},
   "source": [
    "Vemos algunas predicciones del conjunto de test para ver cómo está aprendiendo a generalizar. Primero, tomamos una pequeña muestra de imágenes del mismo"
   ]
  },
  {
   "cell_type": "code",
   "execution_count": 10,
   "metadata": {},
   "outputs": [
    {
     "data": {
      "image/png": "[encoded data removed]",
      "text/plain": [
       "<Figure size 432x288 with 1 Axes>"
      ]
     },
     "metadata": {
      "needs_background": "light"
     },
     "output_type": "display_data"
    },
    {
     "name": "stdout",
     "output_type": "stream",
     "text": [
      "Clases verdaderas:    cat  ship  ship plane\n"
     ]
    }
   ],
   "source": [
    "dataiter = iter(testloader)\n",
    "images, labels = dataiter.next()\n",
    "\n",
    "# mostramos las imágenes\n",
    "imshow(torchvision.utils.make_grid(images))\n",
    "print('Clases verdaderas: ', ' '.join('%5s' % classes[labels[j]] for j in range(4)))"
   ]
  },
  {
   "cell_type": "markdown",
   "metadata": {},
   "source": [
    "Veamos cuál es la \"energía\" que nuestro clasificador le asigna a cada una de las imágenes de nuestra muestra. A mayor energía, más la red \"piensa\" que la imagen pertenece a una clase determinada."
   ]
  },
  {
   "cell_type": "code",
   "execution_count": 11,
   "metadata": {},
   "outputs": [
    {
     "name": "stdout",
     "output_type": "stream",
     "text": [
      "tensor([[-0.9864, -1.8086,  0.1888,  2.1274, -0.3862,  1.5898,  1.1028, -0.2759,\n",
      "         -0.7025, -1.2971],\n",
      "        [ 4.5099,  4.3268, -1.9146, -3.8116, -2.5309, -5.6470, -3.8035, -4.1495,\n",
      "          6.7060,  3.1773],\n",
      "        [ 2.8146,  2.7154, -0.8876, -1.7717, -1.8032, -2.7103, -3.0152, -1.4495,\n",
      "          2.9465,  2.4285],\n",
      "        [ 5.0630,  0.1246,  1.4679, -2.4712,  1.4514, -3.8610, -2.6994, -2.5765,\n",
      "          3.5381, -0.6493]])\n"
     ]
    }
   ],
   "source": [
    "with torch.no_grad():\n",
    "    outputs = net(images)\n",
    "    print(outputs)"
   ]
  },
  {
   "cell_type": "markdown",
   "metadata": {},
   "source": [
    "Veamos los índices para las mayores energías de cada clase..."
   ]
  },
  {
   "cell_type": "code",
   "execution_count": 12,
   "metadata": {},
   "outputs": [
    {
     "name": "stdout",
     "output_type": "stream",
     "text": [
      "Clases estimadas:    cat  ship  ship plane\n"
     ]
    }
   ],
   "source": [
    "with torch.no_grad():\n",
    "    _, predicted = torch.max(outputs, 1)\n",
    "\n",
    "    print('Clases estimadas: ', ' '.join('%5s' % classes[predicted[j]]\n",
    "                                  for j in range(4)))"
   ]
  },
  {
   "cell_type": "markdown",
   "metadata": {},
   "source": [
    "Veamos cómo rindió nuestra red para todo el conjunto de test"
   ]
  },
  {
   "cell_type": "code",
   "execution_count": 13,
   "metadata": {},
   "outputs": [
    {
     "name": "stdout",
     "output_type": "stream",
     "text": [
      "Tasa de acierdos de la red para las 10000 imágenes de test: 55 %\n"
     ]
    }
   ],
   "source": [
    "correct = 0\n",
    "total = 0\n",
    "with torch.no_grad():\n",
    "    for data in testloader:\n",
    "        images, labels = data\n",
    "        outputs = net(images)\n",
    "        _, predicted = torch.max(outputs.data, 1)\n",
    "        total += labels.size(0)\n",
    "        correct += (predicted == labels).sum().item()\n",
    "\n",
    "print('Tasa de acierdos de la red para las 10000 imágenes de test: %d %%' % (\n",
    "    100 * correct / total))"
   ]
  },
  {
   "cell_type": "markdown",
   "metadata": {},
   "source": [
    "Teniendo en cuenta que la tasa de aciertos para un clasificador aleatorio es del 10%, el porcentaje obtenido está muy bien para empezar. A modo de comparación, ~94% es la tasa de aciertos de un humano para CIFAR-10.\n",
    "\n",
    "Veamos la tasa de aciertos por cada clase..."
   ]
  },
  {
   "cell_type": "code",
   "execution_count": 14,
   "metadata": {},
   "outputs": [
    {
     "name": "stdout",
     "output_type": "stream",
     "text": [
      "Tasa de aciertos para la clase plane : 64 %\n",
      "Tasa de aciertos para la clase   car : 66 %\n",
      "Tasa de aciertos para la clase  bird : 29 %\n",
      "Tasa de aciertos para la clase   cat : 20 %\n",
      "Tasa de aciertos para la clase  deer : 40 %\n",
      "Tasa de aciertos para la clase   dog : 46 %\n",
      "Tasa de aciertos para la clase  frog : 82 %\n",
      "Tasa de aciertos para la clase horse : 63 %\n",
      "Tasa de aciertos para la clase  ship : 79 %\n",
      "Tasa de aciertos para la clase truck : 58 %\n"
     ]
    }
   ],
   "source": [
    "class_correct = list(0. for i in range(10))\n",
    "class_total = list(0. for i in range(10))\n",
    "with torch.no_grad():\n",
    "    for data in testloader:\n",
    "        images, labels = data\n",
    "        outputs = net(images)\n",
    "        _, predicted = torch.max(outputs, 1)\n",
    "        c = (predicted == labels).squeeze()\n",
    "        for i in range(4):\n",
    "            label = labels[i]\n",
    "            class_correct[label] += c[i].item()\n",
    "            class_total[label] += 1\n",
    "\n",
    "\n",
    "for i in range(10):\n",
    "    print('Tasa de aciertos para la clase %5s : %2d %%' % (\n",
    "        classes[i], 100 * class_correct[i] / class_total[i]))"
   ]
  },
  {
   "cell_type": "markdown",
   "metadata": {},
   "source": [
    "¿Se te ocurre cómo mejorar el desempeño de la red? Inténtalo!"
   ]
  },
  {
   "cell_type": "markdown",
   "metadata": {},
   "source": [
    "### 3. Transfer learning con CNNs\n",
    "\n",
    "\n",
    "* Hasta aquí hemos visto el entrenamiento de una muy pequeña NN para un dataset de imágenes pequeñas.\n",
    "* No obstante, en el estado del arte hay datasets mucho más grandes. Por ejemplo, [ImageNet](http://image-net.org/about-stats)...\n",
    "  * ... tiene más de 14 millones de imágenes anotadas a mano (~150 Gb de tamaño total del dataset) con una resolución promedio de 469x387 pixels.\n",
    "  * Cada imagen pertenece a una de las 27 categorías de alto nivel (ej: \"animal\") que a su vez tienen más de 20.000 subcategorías específicas de acuerdo a la clasificación de WordNet (ej: \"invertebrate\" tiene subcategoría \"arthropod\" que a su vez tiene a \"arachnid\").\n",
    "\n"
   ]
  },
  {
   "cell_type": "markdown",
   "metadata": {},
   "source": [
    "* Para entrenar una NN de buen tamaño sobre un dataset de esa magnitud, se requiere una buena cantidad de recursos. Es por eso que en la práctica normalmente no se entrena una CNN sobre un gran dataset desde 0 (excepto que se cuente con recursos de hardware o cómputo en la nube suficientes), sino que se realiza *transfer-learning*: usar una arquitectura con sus pesos pre-entrenados y adaptarla a nuestro problema.\n",
    "* Pytorch cuenta con modelos de clasificación pre-entrenados (todos sobre ImageNet), que pueden verse [aquí](https://pytorch.org/docs/stable/torchvision/models.html#classification), en donde se referencia el paper de cada modelo. Los modelos pre-entrenados tienen que normalizarse (según el canal RGB) con valores mean = [0.485, 0.456, 0.406] y std = [0.229, 0.224, 0.225], que son las medias y desviaciones estandar de todo ImageNet (también se suelen rescalar todas las imágenes en 256x256 para tratarlas de forma homogénea)."
   ]
  },
  {
   "cell_type": "markdown",
   "metadata": {},
   "source": [
    "En esta parte, vamos a ver dos alternativas de transfer-learning. Usaremos una red con pesos pre-entrenados para un dominio (ImageNet) parecido a uno de nuestro interés (distinguir hormigas de abejas), congelando sus parámetros (es decir dejarlos fijos, cesando su optimización), y descartando la última capa FC que estaba asociada a las salidas de ImageNet. Abordaremos dos formas de transferencia de aprendizaje:\n",
    "\n",
    "1. Extracción de features: Se usará la red pre-entrenada para la extracción de features, usando esos features como entrada para entrenar un modelo tradicional como KNN o SVM.\n",
    "1. Fine-tuning: Se dejarán descongeladas una o dos capas del final de la red, con las que reanudaremos su optimización para adaptarse a nuestro problema."
   ]
  },
  {
   "cell_type": "markdown",
   "metadata": {},
   "source": [
    "Como ejemplo ilustrativo, vamos a realizar fine-tuning para entrenar a nuestro clasificador de insectos hymenópteros (en nuestro caso dos clases: abejas y hormigas). Las imágenes se pueden descargar manualmente desde [aquí](https://download.pytorch.org/tutorial/hymenoptera_data.zip) (eso se realiza automáticamente en la celda siguiente, si no funciona, descargar desde el link y extraer el zip en ./data/hymenoptera_data)."
   ]
  },
  {
   "cell_type": "markdown",
   "metadata": {},
   "source": [
    "#### Alternativa 1: uso de redes pre-entrenadas como extractores de features"
   ]
  },
  {
   "cell_type": "code",
   "execution_count": 15,
   "metadata": {},
   "outputs": [
    {
     "name": "stdout",
     "output_type": "stream",
     "text": [
      "La carpeta ya existe\n"
     ]
    }
   ],
   "source": [
    "# descargamos y extraemos los archivos (fuente: https://discuss.pytorch.org/t/how-does-one-download-a-data-set-from-a-file-automatically-with-pytorch/74262)\n",
    "# (requiere ipywidgets, que se instala mediante conda install -c conda-forge ipywidgets o pip3 install ipywidgets --user sin conda)\n",
    "\n",
    "from torchvision.datasets.utils import download_and_extract_archive\n",
    "import os\n",
    "\n",
    "if not os.path.exists(\"./data/hymenoptera_data\"):\n",
    "\n",
    "    url = \"https://download.pytorch.org/tutorial/hymenoptera_data.zip\"\n",
    "    root = './data/'\n",
    "\n",
    "    download_and_extract_archive(url, root)\n",
    "    print(\"Archivos descargados y extraidos con éxito\")\n",
    "    \n",
    "else:\n",
    "    print(\"La carpeta ya existe\")"
   ]
  },
  {
   "cell_type": "markdown",
   "metadata": {},
   "source": [
    "Definimos importaciones, variables iniciales y transformaciones que aplicaremos a cada imagen"
   ]
  },
  {
   "cell_type": "code",
   "execution_count": 16,
   "metadata": {},
   "outputs": [],
   "source": [
    "import numpy as np\n",
    "import matplotlib.pyplot as plt\n",
    "import os\n",
    "\n",
    "from torchvision.datasets import ImageFolder\n",
    "from torchvision.utils import make_grid\n",
    "from torchvision import transforms\n",
    "from torch.utils.data import DataLoader\n",
    "from utils import imshow_tensor\n",
    "\n",
    "path = './data/hymenoptera_data/'\n",
    "\n",
    "batch_size = 4\n",
    "num_workers = 2\n",
    "\n",
    "# transformaciones que se aplicarán sobre cada imagen:\n",
    "#   1. el lado más chico de la imagen a 256 pixels manteniendo relación de aspecto (PIL -> PIL)\n",
    "#   2. crop de la región central de 224x224 pixels (PIL -> PIL)\n",
    "#   1. transformar la imagen PIL a un tensor de pytorch (PIL -> Tensor)\n",
    "#   2. aplicar la normalización (estandarización) con la que fueron entrenados los modelos en torchvision  (Tensor -> Tensor)\n",
    "transform = transforms.Compose([    \n",
    "    transforms.Resize(256),    \n",
    "    transforms.CenterCrop(224),   \n",
    "    transforms.ToTensor(),\n",
    "    transforms.Normalize([0.485, 0.456, 0.406], [0.229, 0.224, 0.225])\n",
    "])"
   ]
  },
  {
   "cell_type": "markdown",
   "metadata": {},
   "source": [
    "Definimos el dataset y visualizamos algunas imágenes"
   ]
  },
  {
   "cell_type": "code",
   "execution_count": 17,
   "metadata": {},
   "outputs": [
    {
     "name": "stdout",
     "output_type": "stream",
     "text": [
      "torch.Size([4, 3, 224, 224])\n",
      "tensor([1, 1, 1, 1])\n",
      "['bees', 'bees', 'bees', 'bees']\n"
     ]
    },
    {
     "data": {
      "image/png": "[encoded data removed]",
      "text/plain": [
       "<Figure size 432x288 with 1 Axes>"
      ]
     },
     "metadata": {
      "needs_background": "light"
     },
     "output_type": "display_data"
    }
   ],
   "source": [
    "# dataset\n",
    "data = ImageFolder(os.path.join(path, 'train'), transform)\n",
    "\n",
    "# data loader\n",
    "loader = DataLoader(data, batch_size=batch_size, shuffle=True, num_workers=num_workers)\n",
    "\n",
    "image_batch, labels = next(iter(loader))\n",
    "print(image_batch.size())\n",
    "print(labels)\n",
    "print([data.classes[lbl] for lbl in labels])\n",
    "grid = make_grid(image_batch)\n",
    "imshow_tensor(grid)\n",
    "  "
   ]
  },
  {
   "cell_type": "markdown",
   "metadata": {},
   "source": [
    "Para utilizar una red pre-entrenada para la extracción de features, debemos limitarla a lo que nos interesa. En nuestro caso emplearemos la red ResNet, donde utilizaremos la salida de la penúltima capa como representación de la imagen."
   ]
  },
  {
   "cell_type": "code",
   "execution_count": 18,
   "metadata": {},
   "outputs": [],
   "source": [
    "import torch\n",
    "from torch import nn\n",
    "from torchvision import models\n",
    "from tqdm import tqdm_notebook as progressbar\n",
    "\n",
    "class FeatureExtractor(nn.Module):\n",
    "    def __init__(self):        \n",
    "        super().__init__()\n",
    "        # leer red pre-entrenada\n",
    "        model = models.resnet18(pretrained=True)\n",
    "        \n",
    "        # congelamos los parámetros\n",
    "        for p in model.parameters():\n",
    "            p.requires_grad_(False)\n",
    "            \n",
    "        # armamos modelo secuencial que incluya todas las capas salvo la última (fc)\n",
    "        layers = list(model.children())[:-1] # quitamos la última capa\n",
    "        self.net = nn.Sequential(*layers) \n",
    "        \n",
    "    def forward(self, x):        \n",
    "        N = x.size(0)  # batch size\n",
    "        x = self.net(x)\n",
    "        return x.view(N, -1) # redimensionamos la salida para adaptarla a nuestro modelo"
   ]
  },
  {
   "cell_type": "markdown",
   "metadata": {},
   "source": [
    "Creamos nuestra función de extracción de features. La misma toma como entrada el nombre del subconjunto (train o val), carga y transforma el dataset, y devuelve los features X extraídos con el método anterior y sus respectivas etiquetas."
   ]
  },
  {
   "cell_type": "code",
   "execution_count": 19,
   "metadata": {},
   "outputs": [],
   "source": [
    "def features_and_labels(set_):\n",
    "    if set_ not in ('train', 'val'):\n",
    "        raise ValueError('not a valid data set')\n",
    "        \n",
    "    transform = transforms.Compose([    \n",
    "        transforms.Resize(256),\n",
    "        transforms.ToTensor(),\n",
    "        transforms.Normalize([0.485, 0.456, 0.406], [0.229, 0.224, 0.225])\n",
    "    ])\n",
    "    \n",
    "    data = ImageFolder(os.path.join(path, set_), transform)\n",
    "    \n",
    "    loader = DataLoader(data, batch_size=1, shuffle=False, num_workers=0)\n",
    "    \n",
    "    extractor = FeatureExtractor()\n",
    "    # extractor = extractor.to(device)\n",
    "    extractor.eval()\n",
    "    \n",
    "    features, labels = [], []\n",
    "    \n",
    "    for img, lbl in progressbar(loader):\n",
    "        # img = img.to(device)\n",
    "        feat = extractor(img)    \n",
    "        # feat = feat.cpu()\n",
    "        features.append(feat)\n",
    "        labels.append(lbl)\n",
    "\n",
    "    features = torch.cat(features, dim=0)\n",
    "    labels = torch.cat(labels, dim=0)\n",
    "    \n",
    "    return features, labels\n"
   ]
  },
  {
   "cell_type": "markdown",
   "metadata": {},
   "source": [
    "Extraemos los features de la salida"
   ]
  },
  {
   "cell_type": "code",
   "execution_count": 20,
   "metadata": {},
   "outputs": [
    {
     "data": {
      "application/vnd.jupyter.widget-view+json": {
       "model_id": "509e0ca79270431c961a018fa958b81e",
       "version_major": 2,
       "version_minor": 0
      },
      "text/plain": [
       "HBox(children=(IntProgress(value=0, max=244), HTML(value='')))"
      ]
     },
     "metadata": {},
     "output_type": "display_data"
    },
    {
     "name": "stdout",
     "output_type": "stream",
     "text": [
      "\n"
     ]
    },
    {
     "data": {
      "application/vnd.jupyter.widget-view+json": {
       "model_id": "31f5810ecafb48e49258df85ae90eb1a",
       "version_major": 2,
       "version_minor": 0
      },
      "text/plain": [
       "HBox(children=(IntProgress(value=0, max=153), HTML(value='')))"
      ]
     },
     "metadata": {},
     "output_type": "display_data"
    },
    {
     "name": "stdout",
     "output_type": "stream",
     "text": [
      "\n",
      "torch.Size([244, 512]) torch.Size([153, 512])\n"
     ]
    }
   ],
   "source": [
    "train_features, train_labels = features_and_labels('train')\n",
    "val_features, val_labels = features_and_labels('val')\n",
    "print(train_features.size(), val_features.size())"
   ]
  },
  {
   "cell_type": "markdown",
   "metadata": {},
   "source": [
    "Dividimos los features en entrenamiento y test, para usarlos como entrada de un modelo de scikit learn"
   ]
  },
  {
   "cell_type": "code",
   "execution_count": 21,
   "metadata": {},
   "outputs": [
    {
     "name": "stdout",
     "output_type": "stream",
     "text": [
      "(244, 512) (244, 1)\n",
      "(153, 512) (153, 1)\n"
     ]
    }
   ],
   "source": [
    "x_train, y_train = train_features.cpu().numpy(), train_labels.cpu().numpy().reshape(-1, 1)\n",
    "x_test, y_test = val_features.cpu().numpy(), val_labels.cpu().numpy().reshape(-1, 1)\n",
    "\n",
    "# # para evitar recomputar los features cada vez, se pueden almacenar a disco \n",
    "# np.save(\"resnet18.npy\", {'x_train': x_train, 'y_train': y_train, 'x_test': x_test, 'y_test': y_test}, allow_pickle=True)\n",
    "# mydata = np.load(\"resnet18.npy\", allow_pickle=True)\n",
    "# x_train = mydata.item().get('x_train')\n",
    "# y_train = mydata.item().get('y_train')\n",
    "# x_test = mydata.item().get('x_test')\n",
    "# y_test = mydata.item().get('y_test')\n",
    "\n",
    "print(x_train.shape, y_train.shape)\n",
    "print(x_test.shape, y_test.shape)\n",
    "\n",
    "# agrega tu código aquí para realizar una clasificación con modelos de sklearn"
   ]
  },
  {
   "cell_type": "markdown",
   "metadata": {},
   "source": [
    "#### Alternativa 2: ajuste fino (fine-tuning)\n",
    "\n",
    "En esta parte adaptaremos un modelo pre-entrenado para clasificar sobre ImageNet a nuestro problema de clasificación de hormigas y abejas. La idea es la siguiente: tomamos un modelo preentrenado y reemplazamos la última capa (la que define el número de salidas de la red, p.ej, 1000 categorías de ImageNet) con una que se adapte a nuestro problema.\n",
    "\n",
    "Si el número de datos de entrenamiento disponibles para el nuevo problema es chico, adaptaremos únicamente ésta última capa de la red. Si éste número es mayor, podemos adaptar más capas (en general, desde la salida hacia la entrada). La forma de seleccionar que parámetros (capas) adaptaremos y cuáles no, es seteando el atributo ```requieres_grad``` de cada nodo al valor deseado. \n",
    "\n",
    "Únicamente aquellos nodos que tengan éste atributo en ```True``` serán adaptados durante el proceso de optimización. A continuación exploraremos esta idea mediante la definición de un modelo adaptado al problema de abejas y hormigas (2 clases)."
   ]
  },
  {
   "cell_type": "code",
   "execution_count": 22,
   "metadata": {},
   "outputs": [],
   "source": [
    "# se carga modelo preentrenado\n",
    "model = models.resnet18(pretrained=True)\n",
    "\n",
    "# se congelan todos los parámetros\n",
    "for p in model.parameters():\n",
    "    p.requires_grad_(False)\n",
    "\n",
    "# reemplazamos la última capa lineal por una nueva adaptada a nuestro problema. \n",
    "# En el caso de los modelos resnet en pytorch, la última capa lineal corresponde al miembro .fc \n",
    "# (para ver la red en detalle hacer print(model))\n",
    "in_features = model.fc.in_features  # se toma la cantidad de features de salida de la capa fc de resnet\n",
    "num_classes = 2\n",
    "model.fc = nn.Linear(in_features, num_classes)  # y se reemplaza la capa por una nueva capa lineal nuestra\n",
    "\n",
    "# se guardan la lista de parámetros a actualizar que pasaremos al optimizador\n",
    "parameters_to_update = [p for p in model.parameters() if p.requires_grad]"
   ]
  },
  {
   "cell_type": "markdown",
   "metadata": {},
   "source": [
    "Con el modelo definido, resta armar el resto de la estructura de entrenamiento (data loaders, funciones de costo y optimización)"
   ]
  },
  {
   "cell_type": "code",
   "execution_count": 23,
   "metadata": {},
   "outputs": [],
   "source": [
    "batch_size = 32\n",
    "num_workers = 4\n",
    "\n",
    "# data transforms \n",
    "data_transform = {\n",
    "    'train': transforms.Compose([\n",
    "        transforms.Resize(256),\n",
    "        transforms.RandomCrop(224),\n",
    "        transforms.RandomHorizontalFlip(),  # data augmentation!\n",
    "        transforms.ToTensor(),\n",
    "        transforms.Normalize([0.485, 0.456, 0.406], [0.229, 0.224, 0.225])\n",
    "    ]),\n",
    "    'val': transforms.Compose([\n",
    "        transforms.Resize(224),\n",
    "        transforms.CenterCrop(224),\n",
    "        transforms.ToTensor(),\n",
    "        transforms.Normalize([0.485, 0.456, 0.406], [0.229, 0.224, 0.225])\n",
    "    ]),\n",
    "}"
   ]
  },
  {
   "cell_type": "code",
   "execution_count": 24,
   "metadata": {},
   "outputs": [],
   "source": [
    "# dataset splits\n",
    "data = {\n",
    "    'train': ImageFolder(os.path.join(path, 'train'), data_transform['train']),\n",
    "    'val': ImageFolder(os.path.join(path, 'val'), data_transform['val'])\n",
    "}    \n",
    "\n",
    "# dataloaders\n",
    "data_loader = {\n",
    "    'train': DataLoader(data['train'], batch_size=batch_size, shuffle=True, num_workers=num_workers),\n",
    "    'val': DataLoader(data['val'], batch_size=batch_size, shuffle=False, num_workers=num_workers)\n",
    "}\n",
    "\n",
    "# criterio de optimización\n",
    "criterion = nn.CrossEntropyLoss()\n",
    "\n",
    "# Optimizador\n",
    "optimizer = torch.optim.Adam(parameters_to_update, lr=1.0)"
   ]
  },
  {
   "cell_type": "markdown",
   "metadata": {},
   "source": [
    "Definimos funciones de entrenamiento y validación de nuestro modelo"
   ]
  },
  {
   "cell_type": "code",
   "execution_count": 25,
   "metadata": {},
   "outputs": [],
   "source": [
    "def train(model, data_loader, criterion, optimizer, device):            \n",
    "    model.train()\n",
    "    running_loss = 0.\n",
    "    running_acc = 0.\n",
    "       \n",
    "    for inputs, labels in data_loader:\n",
    "        inputs = inputs.to(device)\n",
    "        labels = labels.to(device)\n",
    "                \n",
    "        optimizer.zero_grad()\n",
    "        outputs = model(inputs)\n",
    "        loss = criterion(outputs, labels)\n",
    "        loss.backward()\n",
    "        optimizer.step()\n",
    "           \n",
    "        _, preds = torch.max(outputs, 1)\n",
    "        \n",
    "        running_loss += loss.item() * inputs.size(0)\n",
    "        running_acc += torch.sum(preds == labels.data)\n",
    "                \n",
    "    running_loss /= len(data_loader.dataset)\n",
    "    running_acc /= len(data_loader.dataset)\n",
    "                \n",
    "    return running_loss, running_acc                "
   ]
  },
  {
   "cell_type": "code",
   "execution_count": 26,
   "metadata": {},
   "outputs": [],
   "source": [
    "def validate(model, data_loader, criterion, device):          \n",
    "    model.eval()\n",
    "    running_loss = 0.\n",
    "    running_acc = 0.\n",
    "    with torch.no_grad():\n",
    "        for inputs, labels in data_loader:\n",
    "            inputs = inputs.to(device)\n",
    "            labels = labels.to(device)\n",
    "                        \n",
    "            outputs = model(inputs)\n",
    "            loss = criterion(outputs, labels)\n",
    "           \n",
    "            _, preds = torch.max(outputs, 1)\n",
    "        \n",
    "            running_loss += loss.item() * inputs.size(0)\n",
    "            running_acc += torch.sum(preds == labels.data)\n",
    "                \n",
    "        running_loss /= len(data_loader.dataset)\n",
    "        running_acc /= len(data_loader.dataset)\n",
    "                \n",
    "    return running_loss, running_acc  "
   ]
  },
  {
   "cell_type": "markdown",
   "metadata": {},
   "source": [
    "Realizamos el entrenamiento"
   ]
  },
  {
   "cell_type": "code",
   "execution_count": 27,
   "metadata": {},
   "outputs": [
    {
     "data": {
      "application/vnd.jupyter.widget-view+json": {
       "model_id": "1ad32030d1fa4404b05607e33ce5c913",
       "version_major": 2,
       "version_minor": 0
      },
      "text/plain": [
       "HBox(children=(IntProgress(value=0, max=10), HTML(value='')))"
      ]
     },
     "metadata": {},
     "output_type": "display_data"
    },
    {
     "name": "stdout",
     "output_type": "stream",
     "text": [
      "[1] loss: train=92.572, val=45.289 -- accuracy: train=0.607, val=0.712\n",
      "[2] loss: train=39.446, val=9.286 -- accuracy: train=0.758, val=0.922\n",
      "[3] loss: train=23.598, val=23.703 -- accuracy: train=0.848, val=0.895\n",
      "[4] loss: train=17.978, val=13.124 -- accuracy: train=0.873, val=0.941\n",
      "[5] loss: train=13.648, val=20.861 -- accuracy: train=0.898, val=0.902\n",
      "[6] loss: train=10.217, val=10.664 -- accuracy: train=0.939, val=0.948\n",
      "[7] loss: train=4.687, val=13.433 -- accuracy: train=0.963, val=0.935\n",
      "[8] loss: train=2.635, val=12.032 -- accuracy: train=0.980, val=0.948\n",
      "[9] loss: train=3.815, val=11.514 -- accuracy: train=0.963, val=0.961\n",
      "[10] loss: train=8.241, val=14.905 -- accuracy: train=0.943, val=0.922\n",
      "\n"
     ]
    }
   ],
   "source": [
    "from tqdm import tqdm_notebook as progressbar\n",
    "\n",
    "device = torch.device('cuda' if torch.cuda.is_available() else 'cpu')\n",
    "\n",
    "model.to(device)\n",
    "\n",
    "num_epochs = 10\n",
    "\n",
    "for epoch in progressbar(range(1, num_epochs+1)):\n",
    "        train_loss, train_acc = train(model, data_loader['train'], criterion, optimizer, device)\n",
    "        \n",
    "        val_loss, val_acc = validate(model, data_loader['val'], criterion, device)\n",
    "        \n",
    "        print('[{}] loss: train={:.3f}, val={:.3f} -- accuracy: train={:.3f}, val={:.3f}'.format(epoch, train_loss, val_loss, train_acc, val_acc))"
   ]
  },
  {
   "cell_type": "markdown",
   "metadata": {},
   "source": [
    "Algunas actividades opcionales para intentar con transfer-learning...\n",
    "\n",
    "Transfer a modelos de scikit-learn\n",
    "\n",
    "1. Evaluar clasificadores que vimos anteriormente, como KNN o SVC. Buscar combinaciones de híper-parámetros que mejoren la performance del modelo.\n",
    "\n",
    "Fine-tuning\n",
    "\n",
    "1. Con las capas freezadas, encontrar rangos de valores razonables para el learning_rate. Observar evolución de la función de costo (\"train\" y \"val\") para guiar la búsqueda y selección.\n",
    "\n",
    "1. En lugar de dejar capas congeladas, configurar la red para adaptar todos sus parámetros y reentrenar la misma para el nuevo dataset. Evaluar cómo resulta tal entrenamiento.\n",
    "\n",
    "1. De contar con disponibilidad de GPUs (o desde Google Colab), probar cambiando la arquitectura a una más compleja (ej. resnet50).\n",
    "\n",
    "General\n",
    "\n",
    "1. Buscar algún otro dominio de imágenes para hacer transfer-learning. Tener en cuenta que según el formato de pytorch, se deben dividir las imágenes en carpetas train y val, y a su vez cada una de ellas en una subcarpeta por clase.\n",
    "\n",
    "1. Implementar esquemas de data augmentation más agresivos durante el entrenamiento (p.ej. rotaciones o crops aleatorios, etc.) y evaluar cómo mejora el modelo con ellos. Ver transformaciones disponibles [acá](https://pytorch.org/docs/stable/torchvision/transforms.html).\n"
   ]
  },
  {
   "cell_type": "code",
   "execution_count": null,
   "metadata": {},
   "outputs": [],
   "source": []
  }
 ],
 "metadata": {
  "kernelspec": {
   "display_name": "Python 3",
   "language": "python",
   "name": "python3"
  },
  "language_info": {
   "codemirror_mode": {
    "name": "ipython",
    "version": 3
   },
   "file_extension": ".py",
   "mimetype": "text/x-python",
   "name": "python",
   "nbconvert_exporter": "python",
   "pygments_lexer": "ipython3",
   "version": "3.7.7"
  }
 },
 "nbformat": 4,
 "nbformat_minor": 4
}
