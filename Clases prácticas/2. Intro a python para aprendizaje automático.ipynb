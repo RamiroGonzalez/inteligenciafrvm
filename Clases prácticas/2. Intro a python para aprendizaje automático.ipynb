{
 "cells": [
  {
   "cell_type": "markdown",
   "metadata": {
    "colab_type": "text",
    "id": "view-in-github",
    "slideshow": {
     "slide_type": "slide"
    }
   },
   "source": [
    "<a href=\"https://colab.research.google.com/github/inteligenciafrvm/inteligenciafrvm/blob/master/Clases%20pr%C3%A1cticas/2.%20Intro%20a%20python%20para%20aprendizaje%20autom%C3%A1tico.ipynb\" target=\"_parent\"><img src=\"https://colab.research.google.com/assets/colab-badge.svg\" alt=\"Open In Colab\"/></a>"
   ]
  },
  {
   "cell_type": "markdown",
   "metadata": {
    "colab_type": "text",
    "id": "zoC9igdoLqbX",
    "slideshow": {
     "slide_type": "-"
    }
   },
   "source": [
    "# Introducción a Python para aprendizaje automático\n",
    "\n",
    "5to año - Ingeniería en Sistemas de Información\n",
    "\n",
    "Facultad Regional Villa María"
   ]
  },
  {
   "cell_type": "markdown",
   "metadata": {
    "colab_type": "text",
    "id": "Yz4FWlrkLqbg",
    "slideshow": {
     "slide_type": "slide"
    }
   },
   "source": [
    "## Introducción\n",
    "\n",
    "Python 🐍\n",
    "\n",
    "Lenguaje de software libre, no tipado, interpretado y orientado a objetos. Se presenta como principal elección entre los lenguajes utilizados para aplicaciones de inteligencia artificial, particularmente de machine learning, junto con R, Matlab y Octave (dependiendo la comunidad que lo use).\n",
    "\n",
    "Posee un enorme ecosistema de librerías de machine learning. Esto sumado a su flexibilidad y su simpleza de uso hacen que sea uno de los lenguajes más populares para la computación científica.\n",
    "\n",
    "Algunos IDEs: Jupyter (web), Pycharm, Google Colaboratory.\n"
   ]
  },
  {
   "cell_type": "markdown",
   "metadata": {
    "colab_type": "text",
    "id": "eOA8S6kYLqbm",
    "slideshow": {
     "slide_type": "slide"
    }
   },
   "source": [
    "### jupyter notebook / jupyter lab\n",
    "\n",
    "Aplicación web de código abierto que permite crear y compartir documentos (notebooks) mostrando iterativamente el flujo de código en lenguajes como python y R, permitiendo incluir gráficos, explicaciones en Markdown y fórmulas en LaTeX.\n",
    "\n",
    "Resulta una gran opción para presentaciones o aplicaciones pequeñas de machine learning ya que permite utilizar el código de a fragmentos. Cada fragmento puede ser de texto o de código (dependiendo la selección del combo box superior: si está \"Markdown\" seleccionado tomará a la celda como texto - de estar \"Code\" tomará el fragmento como código)."
   ]
  },
  {
   "cell_type": "markdown",
   "metadata": {
    "slideshow": {
     "slide_type": "subslide"
    }
   },
   "source": [
    "¿Cómo instalarlo?\n",
    "\n",
    "- Descargar la plataforma para DataScience \"Anaconda\" desde\n",
    "\n",
    "\thttps://docs.anaconda.com/anaconda/install/\n",
    "\n",
    "\n",
    "- Seguir las intrucciones de instalación de Anaconda según el sistema operativo."
   ]
  },
  {
   "cell_type": "markdown",
   "metadata": {
    "slideshow": {
     "slide_type": "subslide"
    }
   },
   "source": [
    "¿Cómo usarlo?\n",
    "\n",
    "Se recomienda crear un entorno virtual. Desde la consola de Windows o Linux, ejecutar\n",
    "\n",
    "        conda create -n iafrvm python=3.7\n",
    "        \n",
    "Se activa mediante\n",
    "\n",
    "        conda activate iafrvm"
   ]
  },
  {
   "cell_type": "markdown",
   "metadata": {
    "slideshow": {
     "slide_type": "fragment"
    }
   },
   "source": [
    "Para instalar un paquete, ejemplo numpy (tras haber activado el entorno virtual)\n",
    "\n",
    "    conda install numpy\n",
    "    \n",
    "o bien, mediante pip,\n",
    "\n",
    "    pip install numpy"
   ]
  },
  {
   "cell_type": "markdown",
   "metadata": {
    "colab_type": "text",
    "id": "8KGwy3gOLqbs",
    "slideshow": {
     "slide_type": "subslide"
    }
   },
   "source": [
    "Luego, con el entorno virtual activado, ejecutar\n",
    "\n",
    "        jupyter notebook \n",
    "    \n",
    "y abrir el notebook desde la interfaz web (también pueden usar el comando jupyter lab, que tiene vista de archivos)\n",
    "\n",
    "Prueben ejecutar y mirar el código del notebook de esta clase!"
   ]
  },
  {
   "cell_type": "markdown",
   "metadata": {
    "colab_type": "text",
    "id": "F_UlokHsLqbx",
    "slideshow": {
     "slide_type": "subslide"
    }
   },
   "source": [
    "Info adicional:\n",
    "\n",
    "* [Markdown](https://daringfireball.net/projects/markdown/) es un conversor de texto plano a HTML. En los notebooks funciona como suerte de versión \"liviana\" de LaTex. Se usa en sitios como Slack, github (para los README), reddit.\n"
   ]
  },
  {
   "cell_type": "markdown",
   "metadata": {
    "slideshow": {
     "slide_type": "fragment"
    }
   },
   "source": [
    "* [LaTex](http://www.latex-project.org/) es un sistema de tipografía de alta calidad, que permite armar documentos con una sintaxis predefinida. Su sintaxis es mucho más verborrágica comparado con las herramientas típicas de ofimática, pero es mucho más flexible. A LaTex en los notebooks se lo utiliza principalmente para fórmulas."
   ]
  },
  {
   "cell_type": "markdown",
   "metadata": {
    "slideshow": {
     "slide_type": "skip"
    },
    "tags": []
   },
   "source": [
    "Info adicional sobre LaTex, para aquellos interesados:\n",
    "\n",
    "* Para armar documentos completos en LaTex de forma sencilla una buena alternativa es [Overleaf](https://www.overleaf.com/) (editor LaTex Web colaborativo). Por su parte, la alternativa que recomendamos es descargarlo mediante TexLive (en Ubuntu, a través de *sudo apt-get install texlive-full* (pesa 4Gb)) y editar los documentos mediante [TexStudio](https://www.texstudio.org/#download)"
   ]
  },
  {
   "cell_type": "markdown",
   "metadata": {
    "colab_type": "text",
    "id": "WrwFOXyeLqb5",
    "slideshow": {
     "slide_type": "skip"
    }
   },
   "source": [
    "Para sus explicaciones en texto, jupyter por defecto utiliza Markdown. Para utilizar LaTex en un notebook, debe encerrarse la sentencia en \\\\$ ecuación \\\\$ para ecuaciones en la misma línea o bien entre \\\\$\\\\$ ecuación \\\\$\\\\$ para ecuaciones en una nueva línea.\n",
    "\n",
    "Ejemplo $$\\lim_{h \\to 0} \\frac{f(a+h)-f(a)}{h}$$"
   ]
  },
  {
   "cell_type": "markdown",
   "metadata": {
    "colab_type": "text",
    "id": "FRNLxEXVLqb9",
    "slideshow": {
     "slide_type": "slide"
    }
   },
   "source": [
    "Veamos algo de código al ver una de las estructuras principales de Python..."
   ]
  },
  {
   "cell_type": "code",
   "execution_count": 1,
   "metadata": {
    "slideshow": {
     "slide_type": "skip"
    }
   },
   "outputs": [],
   "source": [
    "# esta línea hace que los gráficos se vean \n",
    "%matplotlib inline"
   ]
  },
  {
   "cell_type": "code",
   "execution_count": 2,
   "metadata": {
    "colab": {},
    "colab_type": "code",
    "id": "ZQQXnV7NLqcD",
    "outputId": "4fbb188f-7dc4-485c-ad84-5f20f2265b4e",
    "slideshow": {
     "slide_type": "subslide"
    }
   },
   "outputs": [
    {
     "name": "stdout",
     "output_type": "stream",
     "text": [
      "[1, 2, 3, 6]\n"
     ]
    }
   ],
   "source": [
    "# estructura fundamental de python: listas\n",
    "\n",
    "lista = [1,2,3,6]  # encerrar la estructura con [] es lo que denota que es una lista\n",
    "print(lista)"
   ]
  },
  {
   "cell_type": "code",
   "execution_count": 3,
   "metadata": {
    "colab": {},
    "colab_type": "code",
    "id": "yWcAaknELqcU",
    "outputId": "3897ce3f-5654-41de-c3f7-65bbfee1a164",
    "slideshow": {
     "slide_type": "fragment"
    }
   },
   "outputs": [
    {
     "name": "stdout",
     "output_type": "stream",
     "text": [
      "[1, 2, 3, 6]\n"
     ]
    }
   ],
   "source": [
    "# listas completamente flexibles\n",
    "lista2 = [1,2] + [3,6]  \n",
    "print(lista2)"
   ]
  },
  {
   "cell_type": "code",
   "execution_count": 4,
   "metadata": {
    "colab": {},
    "colab_type": "code",
    "id": "6RttT4IWLqcg",
    "outputId": "328c48dc-bb81-49ff-d22e-1693d73f930a",
    "scrolled": true,
    "slideshow": {
     "slide_type": "fragment"
    }
   },
   "outputs": [
    {
     "name": "stdout",
     "output_type": "stream",
     "text": [
      "4\n"
     ]
    }
   ],
   "source": [
    "# con len() podemos ver las dimensiones de la lista\n",
    "print(len(lista2))"
   ]
  },
  {
   "cell_type": "code",
   "execution_count": 5,
   "metadata": {
    "colab": {},
    "colab_type": "code",
    "id": "lrk3WDoiLqcu",
    "outputId": "2ca81876-7827-40bc-a63b-cfaf39dfbafe",
    "slideshow": {
     "slide_type": "fragment"
    }
   },
   "outputs": [
    {
     "name": "stdout",
     "output_type": "stream",
     "text": [
      "2\n"
     ]
    }
   ],
   "source": [
    "# cuál es el elemento con índice 1 de la lista?\n",
    "# notar que Python y numpy indexan desde el 0\n",
    "print(lista[1])  "
   ]
  },
  {
   "cell_type": "code",
   "execution_count": 6,
   "metadata": {
    "colab": {},
    "colab_type": "code",
    "id": "UlCKqTcsLqc6",
    "outputId": "56238235-c7e4-4810-d906-6f00b009f771",
    "slideshow": {
     "slide_type": "subslide"
    }
   },
   "outputs": [
    {
     "name": "stdout",
     "output_type": "stream",
     "text": [
      "[2, 3, 6]\n"
     ]
    }
   ],
   "source": [
    "# \"1:\" significa \"el elemento de índice 1 y todos los elementos siguientes\"\n",
    "print(lista[1:])  "
   ]
  },
  {
   "cell_type": "code",
   "execution_count": 7,
   "metadata": {
    "colab": {},
    "colab_type": "code",
    "id": "OwNnjlZkLqdF",
    "outputId": "8d3ad927-bd65-4596-c32a-4c0d4f1b0a12",
    "scrolled": true,
    "slideshow": {
     "slide_type": "fragment"
    }
   },
   "outputs": [
    {
     "name": "stdout",
     "output_type": "stream",
     "text": [
      "[1, 2, 3, 6]\n"
     ]
    }
   ],
   "source": [
    "# de manera similar...\n",
    "#todos los elementos de la lista hasta aquel de índice 4, sin incluírlo, sería\n",
    "print(lista[:4])"
   ]
  },
  {
   "cell_type": "code",
   "execution_count": 8,
   "metadata": {
    "colab": {},
    "colab_type": "code",
    "id": "soYmP8qKLqdR",
    "outputId": "eb3c7d46-5d9c-45e8-aa88-ad96aeab5dd9",
    "slideshow": {
     "slide_type": "fragment"
    }
   },
   "outputs": [
    {
     "name": "stdout",
     "output_type": "stream",
     "text": [
      "[1, 2, 3, 6]\n"
     ]
    }
   ],
   "source": [
    "# o también...\n",
    "\n",
    "print(lista[:])  # todos los elementos de la lista"
   ]
  },
  {
   "cell_type": "code",
   "execution_count": 9,
   "metadata": {
    "colab": {},
    "colab_type": "code",
    "id": "S7n3e6H2Lqdc",
    "outputId": "8930a7ac-dc94-42a0-9d42-d4a96e50d030",
    "slideshow": {
     "slide_type": "skip"
    },
    "tags": []
   },
   "outputs": [
    {
     "name": "stdout",
     "output_type": "stream",
     "text": [
      "[1, 2, 3, 6, 5, 'a']\n"
     ]
    }
   ],
   "source": [
    "# las listas nativas de python no se establecen para un tipo de dato en concreto\n",
    "lista.append(5) \n",
    "lista.append('a')  \n",
    "print(lista)"
   ]
  },
  {
   "cell_type": "markdown",
   "metadata": {
    "slideshow": {
     "slide_type": "subslide"
    }
   },
   "source": [
    "Matrices: una matriz es una lista de listas"
   ]
  },
  {
   "cell_type": "code",
   "execution_count": 10,
   "metadata": {
    "colab": {},
    "colab_type": "code",
    "id": "_TL2sQ9FLqdn",
    "outputId": "5f9d1039-120a-4fd3-fc2a-06f3bbd54ca1",
    "slideshow": {
     "slide_type": "fragment"
    }
   },
   "outputs": [
    {
     "name": "stdout",
     "output_type": "stream",
     "text": [
      "[[1, 2], [3, 4], [5, 6]]\n"
     ]
    }
   ],
   "source": [
    "# Matriz de 3x2\n",
    "matriz_1 = [[1,2], [3,4], [5,6]]  \n",
    "print(matriz_1)"
   ]
  },
  {
   "cell_type": "code",
   "execution_count": 11,
   "metadata": {
    "colab": {},
    "colab_type": "code",
    "id": "JNrRWcFXLqd0",
    "outputId": "61cbe349-4e64-400f-c88e-b5347cf1e015",
    "slideshow": {
     "slide_type": "fragment"
    }
   },
   "outputs": [
    {
     "name": "stdout",
     "output_type": "stream",
     "text": [
      "4\n"
     ]
    }
   ],
   "source": [
    "# elemento de la fila 1, columna 1:\n",
    "print(matriz_1[1][1])"
   ]
  },
  {
   "cell_type": "markdown",
   "metadata": {
    "slideshow": {
     "slide_type": "subslide"
    }
   },
   "source": [
    "## Algunos bloques y estructuras básicas\n",
    "\n"
   ]
  },
  {
   "cell_type": "markdown",
   "metadata": {
    "slideshow": {
     "slide_type": "fragment"
    }
   },
   "source": [
    "### if"
   ]
  },
  {
   "cell_type": "code",
   "execution_count": 12,
   "metadata": {
    "slideshow": {
     "slide_type": "fragment"
    }
   },
   "outputs": [
    {
     "name": "stdout",
     "output_type": "stream",
     "text": [
      "x > 0\n"
     ]
    }
   ],
   "source": [
    "x = 1\n",
    "\n",
    "if x > 0:\n",
    "    print('x > 0')\n",
    "elif x == 0:\n",
    "    print('x es 0')\n",
    "else:\n",
    "    print('x < 0')\n",
    "        "
   ]
  },
  {
   "cell_type": "markdown",
   "metadata": {
    "slideshow": {
     "slide_type": "subslide"
    }
   },
   "source": [
    "### for"
   ]
  },
  {
   "cell_type": "code",
   "execution_count": 13,
   "metadata": {
    "slideshow": {
     "slide_type": "fragment"
    }
   },
   "outputs": [
    {
     "name": "stdout",
     "output_type": "stream",
     "text": [
      "0\n",
      "1\n"
     ]
    }
   ],
   "source": [
    "# for opera normalmente sobre rangos, listas u otro tipo de iterables\n",
    "\n",
    "for i in range(2):\n",
    "    print(i)"
   ]
  },
  {
   "cell_type": "code",
   "execution_count": 14,
   "metadata": {
    "slideshow": {
     "slide_type": "fragment"
    }
   },
   "outputs": [
    {
     "name": "stdout",
     "output_type": "stream",
     "text": [
      "0\n",
      "3\n"
     ]
    }
   ],
   "source": [
    "for i in range(0,6,3):  # start=0, stop=6, step=3\n",
    "    print(i)"
   ]
  },
  {
   "cell_type": "code",
   "execution_count": 15,
   "metadata": {
    "slideshow": {
     "slide_type": "fragment"
    }
   },
   "outputs": [
    {
     "name": "stdout",
     "output_type": "stream",
     "text": [
      "a\n",
      "b\n",
      "3\n"
     ]
    }
   ],
   "source": [
    "for i in ['a', 'b', 3]:\n",
    "    print(i)"
   ]
  },
  {
   "cell_type": "markdown",
   "metadata": {
    "slideshow": {
     "slide_type": "subslide"
    }
   },
   "source": [
    "### dict"
   ]
  },
  {
   "cell_type": "code",
   "execution_count": 16,
   "metadata": {
    "slideshow": {
     "slide_type": "fragment"
    }
   },
   "outputs": [
    {
     "name": "stdout",
     "output_type": "stream",
     "text": [
      "{'clave_1': 1, 'clave_2': 'elemento_2', 'clave_3': 'tres'}\n"
     ]
    }
   ],
   "source": [
    "a = {'clave_1':1, 'clave_2':'elemento_2', 'clave_3':'tres'}\n",
    "print(a)"
   ]
  },
  {
   "cell_type": "code",
   "execution_count": 17,
   "metadata": {
    "slideshow": {
     "slide_type": "fragment"
    }
   },
   "outputs": [
    {
     "name": "stdout",
     "output_type": "stream",
     "text": [
      "elemento_2\n"
     ]
    }
   ],
   "source": [
    "print(a['clave_2'])"
   ]
  },
  {
   "cell_type": "code",
   "execution_count": 18,
   "metadata": {
    "slideshow": {
     "slide_type": "fragment"
    }
   },
   "outputs": [
    {
     "name": "stdout",
     "output_type": "stream",
     "text": [
      "{'clave_1': 1, 'clave_2': 2, 'clave_3': 'tres'}\n"
     ]
    }
   ],
   "source": [
    "a['clave_2'] = 2\n",
    "print(a)"
   ]
  },
  {
   "cell_type": "markdown",
   "metadata": {
    "slideshow": {
     "slide_type": "subslide"
    }
   },
   "source": [
    "### tuple\n",
    "\n",
    "Representan estructuras inmutables"
   ]
  },
  {
   "cell_type": "code",
   "execution_count": 19,
   "metadata": {
    "slideshow": {
     "slide_type": "fragment"
    }
   },
   "outputs": [
    {
     "name": "stdout",
     "output_type": "stream",
     "text": [
      "(2, 3)\n",
      "2\n"
     ]
    }
   ],
   "source": [
    "tupla = (2,3)\n",
    "print(tupla)\n",
    "print(tupla[0])"
   ]
  },
  {
   "cell_type": "code",
   "execution_count": 20,
   "metadata": {
    "slideshow": {
     "slide_type": "fragment"
    }
   },
   "outputs": [
    {
     "name": "stdout",
     "output_type": "stream",
     "text": [
      "Modificaciones no permitidas, la tupla original es (2, 3)\n"
     ]
    }
   ],
   "source": [
    "try:\n",
    "    tupla[0] = 3  # no permite modificaciones\n",
    "except TypeError:\n",
    "    print(\"Modificaciones no permitidas, la tupla original es \" + str(tupla))"
   ]
  },
  {
   "cell_type": "markdown",
   "metadata": {
    "colab_type": "text",
    "id": "gBKwazoCLqd_",
    "slideshow": {
     "slide_type": "slide"
    }
   },
   "source": [
    "## Algunas librerías importantes\n",
    "\n",
    "### numpy\n",
    "\n",
    "Librería open-source que dota a Python de manejo de vectores y matrices, junto con un conjunto de librerías para procesarlas, asemejando a python al manejo estilo Matlab.\n",
    "\n",
    "El bloque básico de numpy es el **ndarray**, un array multidimensional de elementos homogéneos y de tamaño fijo. A estos objetos no los creamos directamente, sino por un método destinado a tal efecto.\n"
   ]
  },
  {
   "cell_type": "code",
   "execution_count": 21,
   "metadata": {
    "colab": {},
    "colab_type": "code",
    "id": "MUkBU6-sLqeD",
    "outputId": "45488559-9a93-49ac-c17c-f578a4e9852c",
    "slideshow": {
     "slide_type": "subslide"
    }
   },
   "outputs": [
    {
     "name": "stdout",
     "output_type": "stream",
     "text": [
      "[1 2 3 4 5]\n"
     ]
    }
   ],
   "source": [
    "import numpy as np\n",
    "\n",
    "# una forma fácil de crear un array de numpy es hacer una lista estándar de python\n",
    "# y usarla como parámetro para ejecutar np.array sobre ella.\n",
    "array = np.array([1,2,3,4,5])\n",
    "print(array)"
   ]
  },
  {
   "cell_type": "code",
   "execution_count": 22,
   "metadata": {
    "colab": {},
    "colab_type": "code",
    "id": "kM3B6nJHLqeL",
    "outputId": "064cc010-fbe2-4a5e-9f37-40124af7649a",
    "slideshow": {
     "slide_type": "fragment"
    }
   },
   "outputs": [
    {
     "name": "stdout",
     "output_type": "stream",
     "text": [
      "<class 'list'> <class 'numpy.ndarray'>\n"
     ]
    }
   ],
   "source": [
    "# cuidado con la diferencia entre una lista \"estándar\" de python y un array de numpy!\n",
    "print(type([1,2,3,4,5]), type(array))"
   ]
  },
  {
   "cell_type": "code",
   "execution_count": 23,
   "metadata": {
    "colab": {},
    "colab_type": "code",
    "id": "TxrMd-2eLqeW",
    "outputId": "2d01ec5a-3e15-4c54-abe2-402d7f30f654",
    "slideshow": {
     "slide_type": "skip"
    }
   },
   "outputs": [
    {
     "name": "stdout",
     "output_type": "stream",
     "text": [
      "1\n"
     ]
    }
   ],
   "source": [
    "print(array[0])"
   ]
  },
  {
   "cell_type": "code",
   "execution_count": 24,
   "metadata": {
    "colab": {},
    "colab_type": "code",
    "id": "UzUMY4lkLqeh",
    "outputId": "bb63f524-36b2-42d9-c660-21e7c0538830",
    "slideshow": {
     "slide_type": "subslide"
    }
   },
   "outputs": [
    {
     "name": "stdout",
     "output_type": "stream",
     "text": [
      "[[1 2]\n",
      " [3 4]\n",
      " [5 6]\n",
      " [7 8]]\n"
     ]
    }
   ],
   "source": [
    "# para numpy, una matriz también es una lista de listas\n",
    "matriz = np.array([[1,2],[3,4],[5,6],[7,8]]) \n",
    "print(matriz)"
   ]
  },
  {
   "cell_type": "code",
   "execution_count": 25,
   "metadata": {
    "colab": {},
    "colab_type": "code",
    "id": "ePwWYNdgLqes",
    "outputId": "8bcc3726-d826-4628-97c4-ab84d60a05a2",
    "scrolled": true,
    "slideshow": {
     "slide_type": "fragment"
    }
   },
   "outputs": [
    {
     "name": "stdout",
     "output_type": "stream",
     "text": [
      "[[1 2]\n",
      " [3 4]\n",
      " [5 6]]\n"
     ]
    }
   ],
   "source": [
    "matriz_2 = np.array([[1,2], [3,4], [5,6]])\n",
    "print(matriz_2)"
   ]
  },
  {
   "cell_type": "markdown",
   "metadata": {
    "slideshow": {
     "slide_type": "subslide"
    }
   },
   "source": [
    "Similarmente, no confundir la matriz que generamos con la lista de listas de python!\n",
    "Son de dos tipos distintos"
   ]
  },
  {
   "cell_type": "code",
   "execution_count": 26,
   "metadata": {
    "colab": {},
    "colab_type": "code",
    "id": "k5XbhyIXLqe1",
    "outputId": "8cab1364-caee-4b2d-eb8c-0b2aee4f9a90",
    "slideshow": {
     "slide_type": "fragment"
    }
   },
   "outputs": [
    {
     "name": "stdout",
     "output_type": "stream",
     "text": [
      "<class 'list'> <class 'numpy.ndarray'>\n"
     ]
    }
   ],
   "source": [
    "print(type([[1,2], [3,4], [5,6]]), type(np.array([[1,2], [3,4], [5,6]])))"
   ]
  },
  {
   "cell_type": "code",
   "execution_count": 27,
   "metadata": {
    "colab": {},
    "colab_type": "code",
    "id": "-zqZrf8pLqe-",
    "outputId": "9a6ae39c-986e-4221-e06a-58e64ab9065f",
    "slideshow": {
     "slide_type": "subslide"
    }
   },
   "outputs": [
    {
     "name": "stdout",
     "output_type": "stream",
     "text": [
      "[[ 3  6]\n",
      " [ 9 12]\n",
      " [15 18]\n",
      " [21 24]]\n"
     ]
    }
   ],
   "source": [
    "# Principal ventaja de numpy: nos permite realizar fácil y eficientemente operaciones a nivel de lista\n",
    "\n",
    "matriz_2 = 3 * matriz # una de las muchas operaciones que podemos hacer con la lista como un todo\n",
    "print(matriz_2)"
   ]
  },
  {
   "cell_type": "code",
   "execution_count": 28,
   "metadata": {
    "colab": {},
    "colab_type": "code",
    "id": "emTjCD0wLqfH",
    "outputId": "e63e6b2f-20f1-46ac-f3f2-d445bccdb810",
    "scrolled": true,
    "slideshow": {
     "slide_type": "fragment"
    }
   },
   "outputs": [
    {
     "name": "stdout",
     "output_type": "stream",
     "text": [
      "[[ 1  4]\n",
      " [ 9 16]\n",
      " [25 36]\n",
      " [49 64]]\n"
     ]
    }
   ],
   "source": [
    "matriz_3 = matriz ** 2  # elevamos al cuadrado todos los elementos de matriz\n",
    "print(matriz_3)"
   ]
  },
  {
   "cell_type": "code",
   "execution_count": 29,
   "metadata": {
    "slideshow": {
     "slide_type": "subslide"
    }
   },
   "outputs": [
    {
     "name": "stdout",
     "output_type": "stream",
     "text": [
      "[[1 2]\n",
      " [3 4]\n",
      " [5 6]\n",
      " [7 8]]\n"
     ]
    }
   ],
   "source": [
    "# vemos los elementos de la matriz\n",
    "print(matriz)"
   ]
  },
  {
   "cell_type": "code",
   "execution_count": 30,
   "metadata": {
    "colab": {},
    "colab_type": "code",
    "id": "RscCAfirLqfP",
    "outputId": "ed3654f2-4dad-4a6d-c5c3-f7543f5abac0",
    "slideshow": {
     "slide_type": "fragment"
    }
   },
   "outputs": [
    {
     "name": "stdout",
     "output_type": "stream",
     "text": [
      "4\n"
     ]
    }
   ],
   "source": [
    "# vemos los elementos de la posición 1,1\n",
    "print(matriz[1,1])"
   ]
  },
  {
   "cell_type": "code",
   "execution_count": 31,
   "metadata": {
    "colab": {},
    "colab_type": "code",
    "id": "_eh4l9ZnLqfm",
    "outputId": "a73c209c-c439-40f8-8d13-d28423c92303",
    "slideshow": {
     "slide_type": "fragment"
    }
   },
   "outputs": [
    {
     "name": "stdout",
     "output_type": "stream",
     "text": [
      "[3 4]\n"
     ]
    }
   ],
   "source": [
    "# pedimos todos los elementos de la segunda fila\n",
    "print(matriz[1,:]) # en [1, :], \":\" significa \"todas las columnas\""
   ]
  },
  {
   "cell_type": "code",
   "execution_count": 32,
   "metadata": {
    "colab": {},
    "colab_type": "code",
    "id": "Tba3z8R2Lqfs",
    "outputId": "e0a9138b-af37-4f94-e5c0-96aeeb1f11ca",
    "slideshow": {
     "slide_type": "fragment"
    }
   },
   "outputs": [
    {
     "name": "stdout",
     "output_type": "stream",
     "text": [
      "[6 8]\n"
     ]
    }
   ],
   "source": [
    "# pedimos los elementos de índice 2 y 3 de la segunda columna\n",
    "# (Notar que 2:4 equivale al intervalo [2,4), es decir que el elemento de índice 4 está excluído)\n",
    "print(matriz[2:4, 1])"
   ]
  },
  {
   "cell_type": "code",
   "execution_count": 33,
   "metadata": {
    "colab": {},
    "colab_type": "code",
    "id": "4S7LdZQqLqf3",
    "outputId": "10f5cc43-f2ac-4f49-9419-528c4f15e801",
    "slideshow": {
     "slide_type": "subslide"
    }
   },
   "outputs": [
    {
     "name": "stdout",
     "output_type": "stream",
     "text": [
      "(4, 2)\n"
     ]
    }
   ],
   "source": [
    "print(np.shape(matriz)) # función muy útil, nos permite ver el orden de la estructura con la que trabajamos"
   ]
  },
  {
   "cell_type": "markdown",
   "metadata": {
    "colab_type": "text",
    "id": "ScKF035ULqf8",
    "slideshow": {
     "slide_type": "fragment"
    }
   },
   "source": [
    "(4, 2) es una **tupla**"
   ]
  },
  {
   "cell_type": "markdown",
   "metadata": {
    "slideshow": {
     "slide_type": "subslide"
    }
   },
   "source": [
    "Linspace\n",
    "\n",
    "Método muy útil para crear arrays de una dimensión"
   ]
  },
  {
   "cell_type": "code",
   "execution_count": 34,
   "metadata": {
    "colab": {},
    "colab_type": "code",
    "id": "-nF9InKELqf-",
    "outputId": "fae21912-e88d-491b-d2a0-0521763eab19",
    "scrolled": true,
    "slideshow": {
     "slide_type": "fragment"
    }
   },
   "outputs": [
    {
     "name": "stdout",
     "output_type": "stream",
     "text": [
      "[1.   1.25 1.5  1.75 2.  ]\n"
     ]
    }
   ],
   "source": [
    "print(np.linspace(1,2,5)) #start=1, stop=2, número ocurrencias=5"
   ]
  },
  {
   "cell_type": "markdown",
   "metadata": {
    "slideshow": {
     "slide_type": "fragment"
    }
   },
   "source": [
    "Otro método muy útil para crear arrays con valores en secuencia es **arange**"
   ]
  },
  {
   "cell_type": "code",
   "execution_count": 35,
   "metadata": {
    "scrolled": true,
    "slideshow": {
     "slide_type": "fragment"
    }
   },
   "outputs": [
    {
     "name": "stdout",
     "output_type": "stream",
     "text": [
      "[0 1 2 3 4]\n"
     ]
    }
   ],
   "source": [
    "print(np.arange(5)) # "
   ]
  },
  {
   "cell_type": "markdown",
   "metadata": {
    "slideshow": {
     "slide_type": "subslide"
    }
   },
   "source": [
    "Otra operación comúnmente usada para construir o cambiar matrices es **reshape**"
   ]
  },
  {
   "cell_type": "code",
   "execution_count": 36,
   "metadata": {
    "slideshow": {
     "slide_type": "fragment"
    }
   },
   "outputs": [
    {
     "data": {
      "text/plain": [
       "array([1, 2, 3, 4, 5, 6])"
      ]
     },
     "execution_count": 36,
     "metadata": {},
     "output_type": "execute_result"
    }
   ],
   "source": [
    "# creamos un vector\n",
    "vector_a = np.array([1,2,3,4,5,6])\n",
    "vector_a"
   ]
  },
  {
   "cell_type": "code",
   "execution_count": 37,
   "metadata": {
    "scrolled": true,
    "slideshow": {
     "slide_type": "fragment"
    }
   },
   "outputs": [
    {
     "name": "stdout",
     "output_type": "stream",
     "text": [
      "[[1 2 3]\n",
      " [4 5 6]]\n"
     ]
    }
   ],
   "source": [
    "# lo convertimos en (2,3)\n",
    "matriz_a = np.reshape(vector_a, (2,3))\n",
    "print(matriz_a)"
   ]
  },
  {
   "cell_type": "code",
   "execution_count": 38,
   "metadata": {
    "slideshow": {
     "slide_type": "fragment"
    }
   },
   "outputs": [
    {
     "name": "stdout",
     "output_type": "stream",
     "text": [
      "[[1 2]\n",
      " [3 4]\n",
      " [5 6]]\n"
     ]
    }
   ],
   "source": [
    "# o a (3,2)\n",
    "matriz_b = np.reshape(matriz_a, (3,2))\n",
    "print(matriz_b)"
   ]
  },
  {
   "cell_type": "code",
   "execution_count": 39,
   "metadata": {
    "slideshow": {
     "slide_type": "subslide"
    }
   },
   "outputs": [
    {
     "data": {
      "text/plain": [
       "\u001b[0;31mDocstring:\u001b[0m\n",
       "array(object, dtype=None, *, copy=True, order='K', subok=False, ndmin=0,\n",
       "      like=None)\n",
       "\n",
       "Create an array.\n",
       "\n",
       "Parameters\n",
       "----------\n",
       "object : array_like\n",
       "    An array, any object exposing the array interface, an object whose\n",
       "    __array__ method returns an array, or any (nested) sequence.\n",
       "dtype : data-type, optional\n",
       "    The desired data-type for the array.  If not given, then the type will\n",
       "    be determined as the minimum type required to hold the objects in the\n",
       "    sequence.\n",
       "copy : bool, optional\n",
       "    If true (default), then the object is copied.  Otherwise, a copy will\n",
       "    only be made if __array__ returns a copy, if obj is a nested sequence,\n",
       "    or if a copy is needed to satisfy any of the other requirements\n",
       "    (`dtype`, `order`, etc.).\n",
       "order : {'K', 'A', 'C', 'F'}, optional\n",
       "    Specify the memory layout of the array. If object is not an array, the\n",
       "    newly created array will be in C order (row major) unless 'F' is\n",
       "    specified, in which case it will be in Fortran order (column major).\n",
       "    If object is an array the following holds.\n",
       "\n",
       "    ===== ========= ===================================================\n",
       "    order  no copy                     copy=True\n",
       "    ===== ========= ===================================================\n",
       "    'K'   unchanged F & C order preserved, otherwise most similar order\n",
       "    'A'   unchanged F order if input is F and not C, otherwise C order\n",
       "    'C'   C order   C order\n",
       "    'F'   F order   F order\n",
       "    ===== ========= ===================================================\n",
       "\n",
       "    When ``copy=False`` and a copy is made for other reasons, the result is\n",
       "    the same as if ``copy=True``, with some exceptions for `A`, see the\n",
       "    Notes section. The default order is 'K'.\n",
       "subok : bool, optional\n",
       "    If True, then sub-classes will be passed-through, otherwise\n",
       "    the returned array will be forced to be a base-class array (default).\n",
       "ndmin : int, optional\n",
       "    Specifies the minimum number of dimensions that the resulting\n",
       "    array should have.  Ones will be pre-pended to the shape as\n",
       "    needed to meet this requirement.\n",
       "like : array_like\n",
       "    Reference object to allow the creation of arrays which are not\n",
       "    NumPy arrays. If an array-like passed in as ``like`` supports\n",
       "    the ``__array_function__`` protocol, the result will be defined\n",
       "    by it. In this case, it ensures the creation of an array object\n",
       "    compatible with that passed in via this argument.\n",
       "\n",
       "    .. note::\n",
       "        The ``like`` keyword is an experimental feature pending on\n",
       "        acceptance of :ref:`NEP 35 <NEP35>`.\n",
       "\n",
       "    .. versionadded:: 1.20.0\n",
       "\n",
       "Returns\n",
       "-------\n",
       "out : ndarray\n",
       "    An array object satisfying the specified requirements.\n",
       "\n",
       "See Also\n",
       "--------\n",
       "empty_like : Return an empty array with shape and type of input.\n",
       "ones_like : Return an array of ones with shape and type of input.\n",
       "zeros_like : Return an array of zeros with shape and type of input.\n",
       "full_like : Return a new array with shape of input filled with value.\n",
       "empty : Return a new uninitialized array.\n",
       "ones : Return a new array setting values to one.\n",
       "zeros : Return a new array setting values to zero.\n",
       "full : Return a new array of given shape filled with value.\n",
       "\n",
       "\n",
       "Notes\n",
       "-----\n",
       "When order is 'A' and `object` is an array in neither 'C' nor 'F' order,\n",
       "and a copy is forced by a change in dtype, then the order of the result is\n",
       "not necessarily 'C' as expected. This is likely a bug.\n",
       "\n",
       "Examples\n",
       "--------\n",
       ">>> np.array([1, 2, 3])\n",
       "array([1, 2, 3])\n",
       "\n",
       "Upcasting:\n",
       "\n",
       ">>> np.array([1, 2, 3.0])\n",
       "array([ 1.,  2.,  3.])\n",
       "\n",
       "More than one dimension:\n",
       "\n",
       ">>> np.array([[1, 2], [3, 4]])\n",
       "array([[1, 2],\n",
       "       [3, 4]])\n",
       "\n",
       "Minimum dimensions 2:\n",
       "\n",
       ">>> np.array([1, 2, 3], ndmin=2)\n",
       "array([[1, 2, 3]])\n",
       "\n",
       "Type provided:\n",
       "\n",
       ">>> np.array([1, 2, 3], dtype=complex)\n",
       "array([ 1.+0.j,  2.+0.j,  3.+0.j])\n",
       "\n",
       "Data-type consisting of more than one element:\n",
       "\n",
       ">>> x = np.array([(1,2),(3,4)],dtype=[('a','<i4'),('b','<i4')])\n",
       ">>> x['a']\n",
       "array([1, 3])\n",
       "\n",
       "Creating an array from sub-classes:\n",
       "\n",
       ">>> np.array(np.mat('1 2; 3 4'))\n",
       "array([[1, 2],\n",
       "       [3, 4]])\n",
       "\n",
       ">>> np.array(np.mat('1 2; 3 4'), subok=True)\n",
       "matrix([[1, 2],\n",
       "        [3, 4]])\n",
       "\u001b[0;31mType:\u001b[0m      builtin_function_or_method\n"
      ]
     },
     "metadata": {},
     "output_type": "display_data"
    }
   ],
   "source": [
    "# comando muy útil para obtener ayuda sobre paquetes, métodos y demás\n",
    "\n",
    "np.array?"
   ]
  },
  {
   "cell_type": "markdown",
   "metadata": {
    "colab_type": "text",
    "id": "oCN_o0o_LqgK",
    "slideshow": {
     "slide_type": "slide"
    }
   },
   "source": [
    "### matplotlib\n",
    "\n",
    "Librería estándar para la visualización de datos, algo que resulta fundamental para machine learning. Es muy flexible y simple de usar. Se integra con jupyter, lo cual permite ver gráficos en un notebook.\n",
    "\n",
    "La función principal de la misma es plot(), la cual toma un número variable de argumentos y grafica de forma tan simple como escribiendo plot(x,y)\n",
    "\n",
    "Una librería que usa matplotlib y que ofrece muy buenos gráficos es **seaborn**"
   ]
  },
  {
   "cell_type": "code",
   "execution_count": 40,
   "metadata": {
    "colab": {},
    "colab_type": "code",
    "id": "8QTV_mMPLqgM",
    "outputId": "e5824ea8-d8b8-4a1b-e722-1f695673f704",
    "slideshow": {
     "slide_type": "fragment"
    }
   },
   "outputs": [
    {
     "data": {
      "image/png": "[encoded data removed]",
      "text/plain": [
       "<Figure size 432x288 with 1 Axes>"
      ]
     },
     "metadata": {
      "needs_background": "light"
     },
     "output_type": "display_data"
    }
   ],
   "source": [
    "import matplotlib.pyplot as plt\n",
    "\n",
    "x = np.linspace(0, 10, 100) # x= 0.0, 0.101, 0.202,..., 10.0\n",
    "plt.plot(x, np.sin(x))\n",
    "plt.show()"
   ]
  },
  {
   "cell_type": "code",
   "execution_count": 41,
   "metadata": {
    "colab": {},
    "colab_type": "code",
    "id": "jGT2zP2sLqgU",
    "outputId": "4fc9c830-6628-4944-f4df-e99de27144e3",
    "slideshow": {
     "slide_type": "subslide"
    }
   },
   "outputs": [
    {
     "data": {
      "image/png": "[encoded data removed]",
      "text/plain": [
       "<Figure size 432x288 with 1 Axes>"
      ]
     },
     "metadata": {
      "needs_background": "light"
     },
     "output_type": "display_data"
    }
   ],
   "source": [
    "# plot de puntos\n",
    "x = np.random.normal(size=500)\n",
    "y = np.random.normal(size=500)\n",
    "plt.scatter(x, y); \n",
    "plt.show()"
   ]
  },
  {
   "cell_type": "markdown",
   "metadata": {
    "slideshow": {
     "slide_type": "slide"
    }
   },
   "source": [
    "### pandas\n",
    "\n",
    "*pandas* es una librería de manipulación de datos, que incluye manejo desde bases de datos, archivos csv, hojas de cálculo, operaciones y sumarizaciones con los mismos."
   ]
  },
  {
   "cell_type": "markdown",
   "metadata": {
    "slideshow": {
     "slide_type": "fragment"
    }
   },
   "source": [
    "![](images/2/pandas-data-structure.svg)\n",
    "\n",
    "Fuente: https://www.w3resource.com/python-exercises/pandas/index.php"
   ]
  },
  {
   "cell_type": "code",
   "execution_count": 42,
   "metadata": {
    "colab": {},
    "colab_type": "code",
    "id": "yZ6o8ZsTLqhZ",
    "slideshow": {
     "slide_type": "subslide"
    }
   },
   "outputs": [
    {
     "name": "stdout",
     "output_type": "stream",
     "text": [
      "          a         b         c         d\n",
      "0  0.407687  0.055366  0.788535  0.287305\n",
      "1  0.450351  0.303912  0.526400  0.623812\n",
      "2  0.776775  0.686242  0.980939  0.600816\n",
      "3  0.813969  0.708645  0.027535  0.904267\n"
     ]
    }
   ],
   "source": [
    "import pandas as pd\n",
    "\n",
    "np.random.seed(40)\n",
    "df = pd.DataFrame(np.random.rand(4,4), columns = list('abcd'))\n",
    "print(df)"
   ]
  },
  {
   "cell_type": "code",
   "execution_count": 43,
   "metadata": {
    "slideshow": {
     "slide_type": "fragment"
    }
   },
   "outputs": [
    {
     "name": "stdout",
     "output_type": "stream",
     "text": [
      "0    0.407687\n",
      "1    0.450351\n",
      "2    0.776775\n",
      "3    0.813969\n",
      "Name: a, dtype: float64\n"
     ]
    }
   ],
   "source": [
    "# seleccionar columna 'a'\n",
    "print(df['a'])"
   ]
  },
  {
   "cell_type": "code",
   "execution_count": 44,
   "metadata": {
    "slideshow": {
     "slide_type": "fragment"
    }
   },
   "outputs": [
    {
     "data": {
      "text/plain": [
       "a    0.776775\n",
       "b    0.686242\n",
       "c    0.980939\n",
       "d    0.600816\n",
       "Name: 2, dtype: float64"
      ]
     },
     "execution_count": 44,
     "metadata": {},
     "output_type": "execute_result"
    }
   ],
   "source": [
    "# seleccionar fila 2, todas las columnas\n",
    "df.loc[2, :]"
   ]
  },
  {
   "cell_type": "code",
   "execution_count": 45,
   "metadata": {
    "slideshow": {
     "slide_type": "skip"
    }
   },
   "outputs": [
    {
     "data": {
      "text/plain": [
       "0.9809388631878051"
      ]
     },
     "execution_count": 45,
     "metadata": {},
     "output_type": "execute_result"
    }
   ],
   "source": [
    "# seleccionar fila 2, solo columna c\n",
    "df.loc[2, 'c']"
   ]
  },
  {
   "cell_type": "code",
   "execution_count": 46,
   "metadata": {
    "slideshow": {
     "slide_type": "subslide"
    }
   },
   "outputs": [
    {
     "name": "stdout",
     "output_type": "stream",
     "text": [
      "          a         b         c         d\n",
      "0  0.407687  0.055366  0.788535  0.287305\n",
      "1  0.450351  0.303912  0.526400  3.623812\n",
      "2  0.776775  0.686242  0.980939  3.600816\n",
      "3  0.813969  0.708645  0.027535  0.904267\n"
     ]
    }
   ],
   "source": [
    "# sumarle el valor 3 a las filas 2 y 3 de la columna d\n",
    "df.loc[1:2, 'd'] += 3\n",
    "print(df)"
   ]
  },
  {
   "cell_type": "code",
   "execution_count": 47,
   "metadata": {
    "slideshow": {
     "slide_type": "fragment"
    }
   },
   "outputs": [
    {
     "name": "stdout",
     "output_type": "stream",
     "text": [
      "       a      b      c      d\n",
      "0  False  False  False  False\n",
      "1  False  False  False   True\n",
      "2  False  False  False   True\n",
      "3  False  False  False  False\n"
     ]
    }
   ],
   "source": [
    "# crear una mascara para aplicar en valores que cumplan una \n",
    "# cierta condicion, por ejemplo a aquellos valores mayores \n",
    "# a 1 de todas las columnas (se podria filtrar tambien por\n",
    "# cada columna)\n",
    "\n",
    "mask = df > 1\n",
    "print(mask)"
   ]
  },
  {
   "cell_type": "code",
   "execution_count": 48,
   "metadata": {
    "slideshow": {
     "slide_type": "subslide"
    }
   },
   "outputs": [
    {
     "name": "stdout",
     "output_type": "stream",
     "text": [
      "          a         b         c         d\n",
      "0  0.407687  0.055366  0.788535  0.287305\n",
      "1  0.450351  0.303912  0.526400  4.623812\n",
      "2  0.776775  0.686242  0.980939  4.600816\n",
      "3  0.813969  0.708645  0.027535  0.904267\n"
     ]
    }
   ],
   "source": [
    "# con esta mascara, vamos a aplicar una una operación solamente a \n",
    "# aquellos datos que cumplen con su condicion\n",
    "\n",
    "df[mask] = df[mask] + 1\n",
    "print(df)"
   ]
  },
  {
   "cell_type": "code",
   "execution_count": 49,
   "metadata": {
    "slideshow": {
     "slide_type": "fragment"
    }
   },
   "outputs": [
    {
     "name": "stdout",
     "output_type": "stream",
     "text": [
      "       a      b      c      d\n",
      "0  False   True  False   True\n",
      "1  False  False  False   True\n",
      "2  False  False  False   True\n",
      "3  False  False   True  False\n"
     ]
    }
   ],
   "source": [
    "# si quisieramos hacer una máscara para más de una condicion...\n",
    "\n",
    "# aplicamos la mascara a los datos mayores a 1 o menores a 0.3\n",
    "mask = (df > 1) | (df < 0.3)\n",
    "print(mask)"
   ]
  },
  {
   "cell_type": "code",
   "execution_count": 50,
   "metadata": {
    "slideshow": {
     "slide_type": "subslide"
    }
   },
   "outputs": [
    {
     "name": "stdout",
     "output_type": "stream",
     "text": [
      "          a         b         c         d    e\n",
      "0  0.407687  0.055366  0.788535  0.287305  0.0\n",
      "1  0.450351  0.303912  0.526400  4.623812  0.0\n",
      "2  0.776775  0.686242  0.980939  4.600816  0.0\n",
      "3  0.813969  0.708645  0.027535  0.904267  0.0\n"
     ]
    }
   ],
   "source": [
    "# crear una nueva columna con todos sus valores en 0\n",
    "df['e'] = pd.Series(np.zeros(4))\n",
    "print(df)"
   ]
  },
  {
   "cell_type": "code",
   "execution_count": 51,
   "metadata": {
    "slideshow": {
     "slide_type": "fragment"
    }
   },
   "outputs": [
    {
     "name": "stdout",
     "output_type": "stream",
     "text": [
      "          a         b         d    e\n",
      "0  0.407687  0.055366  0.287305  0.0\n",
      "1  0.450351  0.303912  4.623812  0.0\n",
      "2  0.776775  0.686242  4.600816  0.0\n",
      "3  0.813969  0.708645  0.904267  0.0\n"
     ]
    }
   ],
   "source": [
    "# eliminar una columna\n",
    "df = df.drop(columns=['c'])\n",
    "print(df)"
   ]
  },
  {
   "cell_type": "code",
   "execution_count": 52,
   "metadata": {
    "slideshow": {
     "slide_type": "skip"
    },
    "tags": []
   },
   "outputs": [
    {
     "name": "stdout",
     "output_type": "stream",
     "text": [
      "          a         b         d    e         f\n",
      "0  0.407687  0.055366  0.287305  0.0  0.015907\n",
      "1  0.450351  0.303912  4.623812  0.0  1.405233\n",
      "2  0.776775  0.686242  4.600816  0.0  3.157272\n",
      "3  0.813969  0.708645  0.904267  0.0  0.640805\n"
     ]
    }
   ],
   "source": [
    "# crear una nueva columna producto de multiplicar columnas b y d\n",
    "df['f'] = df['b'] * df['d']\n",
    "print(df)"
   ]
  },
  {
   "cell_type": "code",
   "execution_count": 53,
   "metadata": {
    "slideshow": {
     "slide_type": "subslide"
    }
   },
   "outputs": [
    {
     "name": "stdout",
     "output_type": "stream",
     "text": [
      "          a         b         d    e         f\n",
      "0  0.407687  0.055366  0.287305  0.0  0.015907\n",
      "1       NaN  0.303912  4.623812  0.0  1.405233\n",
      "2  0.776775  0.686242  4.600816  0.0  3.157272\n",
      "3  0.813969  0.708645  0.904267  0.0  0.640805\n"
     ]
    }
   ],
   "source": [
    "# alguien perdio un dato en la columna a!\n",
    "df.loc[1, 'a'] = np.nan  # NaN = \"Not a Number\"\n",
    "print(df)"
   ]
  },
  {
   "cell_type": "code",
   "execution_count": 54,
   "metadata": {
    "slideshow": {
     "slide_type": "fragment"
    }
   },
   "outputs": [
    {
     "name": "stdout",
     "output_type": "stream",
     "text": [
      "          a         b         d    e         f\n",
      "0  0.407687  0.055366  0.287305  0.0  0.015907\n",
      "1  0.666144  0.303912  4.623812  0.0  1.405233\n",
      "2  0.776775  0.686242  4.600816  0.0  3.157272\n",
      "3  0.813969  0.708645  0.904267  0.0  0.640805\n"
     ]
    }
   ],
   "source": [
    "# podemos completar este dato con el promedio de la columna\n",
    "df = df.fillna(df['a'].mean())\n",
    "print(df)"
   ]
  },
  {
   "cell_type": "code",
   "execution_count": 55,
   "metadata": {
    "slideshow": {
     "slide_type": "skip"
    },
    "tags": []
   },
   "outputs": [
    {
     "name": "stdout",
     "output_type": "stream",
     "text": [
      "          a         b         d    e         f      g\n",
      "0  0.407687  0.055366  0.287305  0.0  0.015907   rojo\n",
      "1  0.666144  0.303912  4.623812  0.0  1.405233   rojo\n",
      "2  0.776775  0.686242  4.600816  0.0  3.157272    NaN\n",
      "3  0.813969  0.708645  0.904267  0.0  0.640805  verde\n"
     ]
    }
   ],
   "source": [
    "# para valores categóricos podemos completar los datos faltantes usando la moda...\n",
    "df['g'] = ['rojo', 'rojo', np.nan, 'verde']\n",
    "print(df)"
   ]
  },
  {
   "cell_type": "code",
   "execution_count": 56,
   "metadata": {
    "slideshow": {
     "slide_type": "skip"
    }
   },
   "outputs": [
    {
     "name": "stdout",
     "output_type": "stream",
     "text": [
      "          a         b         d    e         f      g\n",
      "0  0.407687  0.055366  0.287305  0.0  0.015907   rojo\n",
      "1  0.666144  0.303912  4.623812  0.0  1.405233   rojo\n",
      "2  0.776775  0.686242  4.600816  0.0  3.157272   rojo\n",
      "3  0.813969  0.708645  0.904267  0.0  0.640805  verde\n"
     ]
    }
   ],
   "source": [
    "df = df.fillna(df['g'].mode()[0])  \n",
    "# notar que se usa el subindice 0 porque el objeto resultante es de tipo Series con un elemento\n",
    "print(df)"
   ]
  },
  {
   "cell_type": "code",
   "execution_count": 57,
   "metadata": {
    "slideshow": {
     "slide_type": "skip"
    }
   },
   "outputs": [
    {
     "name": "stdout",
     "output_type": "stream",
     "text": [
      "<class 'pandas.core.series.Series'>\n"
     ]
    }
   ],
   "source": [
    "print(type(df['g'].mode()))"
   ]
  },
  {
   "cell_type": "code",
   "execution_count": 58,
   "metadata": {
    "slideshow": {
     "slide_type": "subslide"
    }
   },
   "outputs": [
    {
     "name": "stdout",
     "output_type": "stream",
     "text": [
      "              a         b         d    e         f\n",
      "count  4.000000  4.000000  4.000000  4.0  4.000000\n",
      "mean   0.666144  0.438541  2.604050  0.0  1.304804\n",
      "std    0.183386  0.315837  2.332601  0.0  1.359396\n",
      "min    0.407687  0.055366  0.287305  0.0  0.015907\n",
      "25%    0.601530  0.241776  0.750027  0.0  0.484580\n",
      "50%    0.721460  0.495077  2.752542  0.0  1.023019\n",
      "75%    0.786074  0.691843  4.606565  0.0  1.843243\n",
      "max    0.813969  0.708645  4.623812  0.0  3.157272\n"
     ]
    }
   ],
   "source": [
    "# método básico de descripción de un dataframe\n",
    "\n",
    "print(df.describe())"
   ]
  },
  {
   "cell_type": "markdown",
   "metadata": {
    "slideshow": {
     "slide_type": "fragment"
    }
   },
   "source": [
    "Link con más ejemplos y comandos básicos:\n",
    "\n",
    "https://www.w3resource.com/python-exercises/pandas/index.php"
   ]
  },
  {
   "cell_type": "markdown",
   "metadata": {
    "slideshow": {
     "slide_type": "slide"
    }
   },
   "source": [
    "# Ejercicios de práctica:\n",
    "\n",
    "Vamos a trabajar con dos datasets: COVID-19 y con la encuesta de sueldos 2021 del Sector IT, por SysArmy\n",
    "\n"
   ]
  },
  {
   "cell_type": "markdown",
   "metadata": {
    "slideshow": {
     "slide_type": "fragment"
    },
    "tags": []
   },
   "source": [
    "## COVID-19\n",
    "\n",
    "Dataset global: https://github.com/CSSEGISandData/COVID-19\n",
    "\n",
    "Dataset Argentina: https://github.com/SistemasMapache/Covid19arData. Spreadsheets: https://docs.google.com/spreadsheets/d/16-bnsDdmmgtSxdWbVMboIHo5FRuz76DBxsz_BbsEVWA/edit#gid=0"
   ]
  },
  {
   "cell_type": "code",
   "execution_count": 59,
   "metadata": {
    "slideshow": {
     "slide_type": "skip"
    }
   },
   "outputs": [],
   "source": [
    "# imports otra vez, para poder empezar a ejecutar desde aquí si se desea\n",
    "import numpy as np\n",
    "import pandas as pd\n",
    "import matplotlib.pyplot as plt\n",
    "import datetime"
   ]
  },
  {
   "cell_type": "code",
   "execution_count": 60,
   "metadata": {
    "slideshow": {
     "slide_type": "skip"
    }
   },
   "outputs": [],
   "source": [
    "# leemos el dataset de argentina\n",
    "\n",
    "data_url= 'https://docs.google.com/spreadsheets/d/16-bnsDdmmgtSxdWbVMboIHo5FRuz76DBxsz_BbsEVWA/export?format=csv&id=16-bnsDdmmgtSxdWbVMboIHo5FRuz76DBxsz_BbsEVWA&gid=0'\n",
    "covid_df = pd.read_csv(data_url)"
   ]
  },
  {
   "cell_type": "code",
   "execution_count": 61,
   "metadata": {
    "slideshow": {
     "slide_type": "subslide"
    }
   },
   "outputs": [
    {
     "data": {
      "text/html": [
       "<div>\n",
       "<style scoped>\n",
       "    .dataframe tbody tr th:only-of-type {\n",
       "        vertical-align: middle;\n",
       "    }\n",
       "\n",
       "    .dataframe tbody tr th {\n",
       "        vertical-align: top;\n",
       "    }\n",
       "\n",
       "    .dataframe thead th {\n",
       "        text-align: right;\n",
       "    }\n",
       "</style>\n",
       "<table border=\"1\" class=\"dataframe\">\n",
       "  <thead>\n",
       "    <tr style=\"text-align: right;\">\n",
       "      <th></th>\n",
       "      <th>fecha</th>\n",
       "      <th>dia_inicio</th>\n",
       "      <th>dia_cuarentena_dnu260</th>\n",
       "      <th>osm_admin_level_2</th>\n",
       "      <th>osm_admin_level_4</th>\n",
       "      <th>osm_admin_level_8</th>\n",
       "      <th>tot_casosconf</th>\n",
       "      <th>nue_casosconf_diff</th>\n",
       "      <th>tot_fallecidos</th>\n",
       "      <th>nue_fallecidos_diff</th>\n",
       "      <th>tot_recuperados</th>\n",
       "      <th>tot_terapia</th>\n",
       "      <th>test_RT-PCR_negativos</th>\n",
       "      <th>test_RT-PCR_total</th>\n",
       "      <th>transmision_tipo</th>\n",
       "      <th>informe_tipo</th>\n",
       "      <th>informe_link</th>\n",
       "      <th>observacion</th>\n",
       "      <th>covid19argentina_admin_level_4</th>\n",
       "    </tr>\n",
       "  </thead>\n",
       "  <tbody>\n",
       "    <tr>\n",
       "      <th>0</th>\n",
       "      <td>2/03/2020</td>\n",
       "      <td>1</td>\n",
       "      <td>NaN</td>\n",
       "      <td>Argentina</td>\n",
       "      <td>CABA</td>\n",
       "      <td>NaN</td>\n",
       "      <td>1</td>\n",
       "      <td>1.0</td>\n",
       "      <td>0</td>\n",
       "      <td>0.0</td>\n",
       "      <td>NaN</td>\n",
       "      <td>NaN</td>\n",
       "      <td>NaN</td>\n",
       "      <td>NaN</td>\n",
       "      <td>importado</td>\n",
       "      <td>NaN</td>\n",
       "      <td>https://www.infobae.com/coronavirus/2020/03/03...</td>\n",
       "      <td>no hay informe</td>\n",
       "      <td>capital-federal</td>\n",
       "    </tr>\n",
       "    <tr>\n",
       "      <th>1</th>\n",
       "      <td>3/03/2020</td>\n",
       "      <td>2</td>\n",
       "      <td>NaN</td>\n",
       "      <td>Argentina</td>\n",
       "      <td>Indeterminado</td>\n",
       "      <td>NaN</td>\n",
       "      <td>1</td>\n",
       "      <td>0.0</td>\n",
       "      <td>0</td>\n",
       "      <td>0.0</td>\n",
       "      <td>NaN</td>\n",
       "      <td>NaN</td>\n",
       "      <td>NaN</td>\n",
       "      <td>NaN</td>\n",
       "      <td>importado</td>\n",
       "      <td>NaN</td>\n",
       "      <td>NaN</td>\n",
       "      <td>no hay informe</td>\n",
       "      <td>no-data</td>\n",
       "    </tr>\n",
       "    <tr>\n",
       "      <th>2</th>\n",
       "      <td>4/03/2020</td>\n",
       "      <td>3</td>\n",
       "      <td>NaN</td>\n",
       "      <td>Argentina</td>\n",
       "      <td>Indeterminado</td>\n",
       "      <td>NaN</td>\n",
       "      <td>1</td>\n",
       "      <td>0.0</td>\n",
       "      <td>0</td>\n",
       "      <td>0.0</td>\n",
       "      <td>NaN</td>\n",
       "      <td>NaN</td>\n",
       "      <td>NaN</td>\n",
       "      <td>NaN</td>\n",
       "      <td>importado</td>\n",
       "      <td>NaN</td>\n",
       "      <td>NaN</td>\n",
       "      <td>no hay informe</td>\n",
       "      <td>no-data</td>\n",
       "    </tr>\n",
       "    <tr>\n",
       "      <th>3</th>\n",
       "      <td>5/03/2020</td>\n",
       "      <td>4</td>\n",
       "      <td>NaN</td>\n",
       "      <td>Argentina</td>\n",
       "      <td>Buenos Aires</td>\n",
       "      <td>NaN</td>\n",
       "      <td>2</td>\n",
       "      <td>1.0</td>\n",
       "      <td>2</td>\n",
       "      <td>2.0</td>\n",
       "      <td>NaN</td>\n",
       "      <td>NaN</td>\n",
       "      <td>NaN</td>\n",
       "      <td>NaN</td>\n",
       "      <td>importado</td>\n",
       "      <td>informe nacional</td>\n",
       "      <td>https://www.argentina.gob.ar/sites/default/fil...</td>\n",
       "      <td>NaN</td>\n",
       "      <td>buenos-aires</td>\n",
       "    </tr>\n",
       "    <tr>\n",
       "      <th>4</th>\n",
       "      <td>6/03/2020</td>\n",
       "      <td>5</td>\n",
       "      <td>NaN</td>\n",
       "      <td>Argentina</td>\n",
       "      <td>Indeterminado</td>\n",
       "      <td>NaN</td>\n",
       "      <td>2</td>\n",
       "      <td>0.0</td>\n",
       "      <td>2</td>\n",
       "      <td>0.0</td>\n",
       "      <td>NaN</td>\n",
       "      <td>NaN</td>\n",
       "      <td>NaN</td>\n",
       "      <td>NaN</td>\n",
       "      <td>importado</td>\n",
       "      <td>informe nacional</td>\n",
       "      <td>https://www.argentina.gob.ar/sites/default/fil...</td>\n",
       "      <td>NaN</td>\n",
       "      <td>no-data</td>\n",
       "    </tr>\n",
       "  </tbody>\n",
       "</table>\n",
       "</div>"
      ],
      "text/plain": [
       "       fecha  dia_inicio  dia_cuarentena_dnu260 osm_admin_level_2  \\\n",
       "0  2/03/2020           1                    NaN         Argentina   \n",
       "1  3/03/2020           2                    NaN         Argentina   \n",
       "2  4/03/2020           3                    NaN         Argentina   \n",
       "3  5/03/2020           4                    NaN         Argentina   \n",
       "4  6/03/2020           5                    NaN         Argentina   \n",
       "\n",
       "  osm_admin_level_4 osm_admin_level_8  tot_casosconf  nue_casosconf_diff  \\\n",
       "0              CABA               NaN              1                 1.0   \n",
       "1     Indeterminado               NaN              1                 0.0   \n",
       "2     Indeterminado               NaN              1                 0.0   \n",
       "3      Buenos Aires               NaN              2                 1.0   \n",
       "4     Indeterminado               NaN              2                 0.0   \n",
       "\n",
       "   tot_fallecidos  nue_fallecidos_diff tot_recuperados tot_terapia  \\\n",
       "0               0                  0.0             NaN         NaN   \n",
       "1               0                  0.0             NaN         NaN   \n",
       "2               0                  0.0             NaN         NaN   \n",
       "3               2                  2.0             NaN         NaN   \n",
       "4               2                  0.0             NaN         NaN   \n",
       "\n",
       "   test_RT-PCR_negativos  test_RT-PCR_total transmision_tipo  \\\n",
       "0                    NaN                NaN        importado   \n",
       "1                    NaN                NaN        importado   \n",
       "2                    NaN                NaN        importado   \n",
       "3                    NaN                NaN        importado   \n",
       "4                    NaN                NaN        importado   \n",
       "\n",
       "       informe_tipo                                       informe_link  \\\n",
       "0               NaN  https://www.infobae.com/coronavirus/2020/03/03...   \n",
       "1               NaN                                                NaN   \n",
       "2               NaN                                                NaN   \n",
       "3  informe nacional  https://www.argentina.gob.ar/sites/default/fil...   \n",
       "4  informe nacional  https://www.argentina.gob.ar/sites/default/fil...   \n",
       "\n",
       "      observacion covid19argentina_admin_level_4  \n",
       "0  no hay informe                capital-federal  \n",
       "1  no hay informe                        no-data  \n",
       "2  no hay informe                        no-data  \n",
       "3             NaN                   buenos-aires  \n",
       "4             NaN                        no-data  "
      ]
     },
     "execution_count": 61,
     "metadata": {},
     "output_type": "execute_result"
    }
   ],
   "source": [
    "# vemos las primeras filas del dataset\n",
    "covid_df.head()"
   ]
  },
  {
   "cell_type": "code",
   "execution_count": 62,
   "metadata": {
    "slideshow": {
     "slide_type": "skip"
    }
   },
   "outputs": [
    {
     "data": {
      "text/html": [
       "<div>\n",
       "<style scoped>\n",
       "    .dataframe tbody tr th:only-of-type {\n",
       "        vertical-align: middle;\n",
       "    }\n",
       "\n",
       "    .dataframe tbody tr th {\n",
       "        vertical-align: top;\n",
       "    }\n",
       "\n",
       "    .dataframe thead th {\n",
       "        text-align: right;\n",
       "    }\n",
       "</style>\n",
       "<table border=\"1\" class=\"dataframe\">\n",
       "  <thead>\n",
       "    <tr style=\"text-align: right;\">\n",
       "      <th></th>\n",
       "      <th>dia_inicio</th>\n",
       "      <th>dia_cuarentena_dnu260</th>\n",
       "      <th>tot_casosconf</th>\n",
       "      <th>nue_casosconf_diff</th>\n",
       "      <th>tot_fallecidos</th>\n",
       "      <th>nue_fallecidos_diff</th>\n",
       "      <th>test_RT-PCR_negativos</th>\n",
       "      <th>test_RT-PCR_total</th>\n",
       "    </tr>\n",
       "  </thead>\n",
       "  <tbody>\n",
       "    <tr>\n",
       "      <th>count</th>\n",
       "      <td>8767.000000</td>\n",
       "      <td>4530.000000</td>\n",
       "      <td>8.767000e+03</td>\n",
       "      <td>8765.000000</td>\n",
       "      <td>8767.00000</td>\n",
       "      <td>8160.000000</td>\n",
       "      <td>186.000000</td>\n",
       "      <td>115.000000</td>\n",
       "    </tr>\n",
       "    <tr>\n",
       "      <th>mean</th>\n",
       "      <td>220.854340</td>\n",
       "      <td>120.948124</td>\n",
       "      <td>9.770160e+05</td>\n",
       "      <td>277.014147</td>\n",
       "      <td>24567.04574</td>\n",
       "      <td>6.940441</td>\n",
       "      <td>56227.983871</td>\n",
       "      <td>108845.713043</td>\n",
       "    </tr>\n",
       "    <tr>\n",
       "      <th>std</th>\n",
       "      <td>105.052291</td>\n",
       "      <td>58.369879</td>\n",
       "      <td>8.119639e+05</td>\n",
       "      <td>725.711934</td>\n",
       "      <td>20659.95354</td>\n",
       "      <td>41.058138</td>\n",
       "      <td>77508.220611</td>\n",
       "      <td>103088.929146</td>\n",
       "    </tr>\n",
       "    <tr>\n",
       "      <th>min</th>\n",
       "      <td>1.000000</td>\n",
       "      <td>1.000000</td>\n",
       "      <td>1.000000e+00</td>\n",
       "      <td>-53.000000</td>\n",
       "      <td>0.00000</td>\n",
       "      <td>-23.000000</td>\n",
       "      <td>0.000000</td>\n",
       "      <td>208.000000</td>\n",
       "    </tr>\n",
       "    <tr>\n",
       "      <th>25%</th>\n",
       "      <td>135.500000</td>\n",
       "      <td>78.000000</td>\n",
       "      <td>1.202095e+05</td>\n",
       "      <td>3.000000</td>\n",
       "      <td>2188.50000</td>\n",
       "      <td>0.000000</td>\n",
       "      <td>136.000000</td>\n",
       "      <td>20170.000000</td>\n",
       "    </tr>\n",
       "    <tr>\n",
       "      <th>50%</th>\n",
       "      <td>223.000000</td>\n",
       "      <td>125.000000</td>\n",
       "      <td>9.129260e+05</td>\n",
       "      <td>58.000000</td>\n",
       "      <td>24503.00000</td>\n",
       "      <td>1.000000</td>\n",
       "      <td>8416.000000</td>\n",
       "      <td>74800.000000</td>\n",
       "    </tr>\n",
       "    <tr>\n",
       "      <th>75%</th>\n",
       "      <td>311.000000</td>\n",
       "      <td>170.000000</td>\n",
       "      <td>1.711166e+06</td>\n",
       "      <td>202.000000</td>\n",
       "      <td>44349.00000</td>\n",
       "      <td>4.000000</td>\n",
       "      <td>95276.250000</td>\n",
       "      <td>174340.500000</td>\n",
       "    </tr>\n",
       "    <tr>\n",
       "      <th>max</th>\n",
       "      <td>398.000000</td>\n",
       "      <td>215.000000</td>\n",
       "      <td>2.428029e+06</td>\n",
       "      <td>10402.000000</td>\n",
       "      <td>56634.00000</td>\n",
       "      <td>3199.000000</td>\n",
       "      <td>272349.000000</td>\n",
       "      <td>359379.000000</td>\n",
       "    </tr>\n",
       "  </tbody>\n",
       "</table>\n",
       "</div>"
      ],
      "text/plain": [
       "        dia_inicio  dia_cuarentena_dnu260  tot_casosconf  nue_casosconf_diff  \\\n",
       "count  8767.000000            4530.000000   8.767000e+03         8765.000000   \n",
       "mean    220.854340             120.948124   9.770160e+05          277.014147   \n",
       "std     105.052291              58.369879   8.119639e+05          725.711934   \n",
       "min       1.000000               1.000000   1.000000e+00          -53.000000   \n",
       "25%     135.500000              78.000000   1.202095e+05            3.000000   \n",
       "50%     223.000000             125.000000   9.129260e+05           58.000000   \n",
       "75%     311.000000             170.000000   1.711166e+06          202.000000   \n",
       "max     398.000000             215.000000   2.428029e+06        10402.000000   \n",
       "\n",
       "       tot_fallecidos  nue_fallecidos_diff  test_RT-PCR_negativos  \\\n",
       "count      8767.00000          8160.000000             186.000000   \n",
       "mean      24567.04574             6.940441           56227.983871   \n",
       "std       20659.95354            41.058138           77508.220611   \n",
       "min           0.00000           -23.000000               0.000000   \n",
       "25%        2188.50000             0.000000             136.000000   \n",
       "50%       24503.00000             1.000000            8416.000000   \n",
       "75%       44349.00000             4.000000           95276.250000   \n",
       "max       56634.00000          3199.000000          272349.000000   \n",
       "\n",
       "       test_RT-PCR_total  \n",
       "count         115.000000  \n",
       "mean       108845.713043  \n",
       "std        103088.929146  \n",
       "min           208.000000  \n",
       "25%         20170.000000  \n",
       "50%         74800.000000  \n",
       "75%        174340.500000  \n",
       "max        359379.000000  "
      ]
     },
     "execution_count": 62,
     "metadata": {},
     "output_type": "execute_result"
    }
   ],
   "source": [
    "# describimos el dataset\n",
    "covid_df.describe()"
   ]
  },
  {
   "cell_type": "code",
   "execution_count": 63,
   "metadata": {
    "slideshow": {
     "slide_type": "subslide"
    }
   },
   "outputs": [],
   "source": [
    "# para graficar, tomamos al día de inicio como valores crudos\n",
    "x_dia_inicio = covid_df['dia_inicio'].values"
   ]
  },
  {
   "cell_type": "code",
   "execution_count": 64,
   "metadata": {
    "slideshow": {
     "slide_type": "skip"
    }
   },
   "outputs": [
    {
     "name": "stdout",
     "output_type": "stream",
     "text": [
      "[ 1  2  3  4  5  6  7  8  8  8  8  9  9 10 10  8  9  9 10 10 11 11 11 11\n",
      " 12 12 12 12 13 13 13 13 13 13 13 13 13 13 14 14 14 14 14 14 15 15 15 15\n",
      " 15 15]\n"
     ]
    }
   ],
   "source": [
    "print(x_dia_inicio[:50])"
   ]
  },
  {
   "cell_type": "code",
   "execution_count": 65,
   "metadata": {
    "slideshow": {
     "slide_type": "-"
    }
   },
   "outputs": [
    {
     "name": "stdout",
     "output_type": "stream",
     "text": [
      "[  1   1   1   2   2   2  10  11  13  18  19  20  21  22  23  33  34  36\n",
      "  47  48  54  58  59  60  65  68  69  69  70  74  76  77  78  79  80  81\n",
      "  82  82  92  93  99 100 101 101 115 123 125 127 128 129]\n"
     ]
    }
   ],
   "source": [
    "# tomamos también así a los casos confirmados\n",
    "y = covid_df['tot_casosconf'].values\n",
    "print(y[:50])"
   ]
  },
  {
   "cell_type": "code",
   "execution_count": 66,
   "metadata": {
    "slideshow": {
     "slide_type": "skip"
    }
   },
   "outputs": [],
   "source": [
    "y_contagios = covid_df['tot_casosconf'].values\n",
    "y_fallecidos = covid_df['tot_fallecidos'].values"
   ]
  },
  {
   "cell_type": "markdown",
   "metadata": {
    "slideshow": {
     "slide_type": "fragment"
    }
   },
   "source": [
    "Gráfico de curva de COVID-19 en Argentina"
   ]
  },
  {
   "cell_type": "code",
   "execution_count": 67,
   "metadata": {
    "slideshow": {
     "slide_type": "subslide"
    },
    "tags": []
   },
   "outputs": [
    {
     "data": {
      "image/png": "[encoded data removed]",
      "text/plain": [
       "<Figure size 432x288 with 1 Axes>"
      ]
     },
     "metadata": {
      "needs_background": "light"
     },
     "output_type": "display_data"
    }
   ],
   "source": [
    "plt.plot(x_dia_inicio,y_contagios, label='n contagios')\n",
    "plt.plot(x_dia_inicio, y_fallecidos, label='n decesos')\n",
    "plt.legend(loc='best', numpoints=1) \n",
    "plt.title(\"Curva de contagios en Argentina\")\n",
    "plt.xlabel(\"Días desde el primer contagio\")\n",
    "plt.show()"
   ]
  },
  {
   "cell_type": "markdown",
   "metadata": {
    "slideshow": {
     "slide_type": "subslide"
    },
    "tags": []
   },
   "source": [
    "## Encuesta de Sueldos\n",
    "\n",
    "Resultados de la encuesta: [blog](https://sysarmy.com/blog/posts/resultados-de-la-encuesta-de-sueldos-2021-1/), [datos crudos (Argentina)](https://docs.google.com/spreadsheets/d/1_AqgZkzEY9hED2CT8bXet4dket8MO6g1nxw0dKHv2R0), [análisis de openqube](https://sueldos.openqube.io/encuesta-sueldos-2021.01/)\n",
    "\n",
    "**Antes de empezar**: descargar el dataset desde [acá](https://docs.google.com/spreadsheets/d/1_AqgZkzEY9hED2CT8bXet4dket8MO6g1nxw0dKHv2R0/export?format=csv&gid=563335506), colocarlo en una carpeta *data* ubicada en la dirección del notebook y renombrarlo a *encuesta_sueldos.csv*"
   ]
  },
  {
   "cell_type": "code",
   "execution_count": 68,
   "metadata": {
    "slideshow": {
     "slide_type": "skip"
    },
    "tags": []
   },
   "outputs": [],
   "source": [
    "# colocar el archivo descargado en una carpeta data en donde se encuentra el notebook, \n",
    "# renombrarlo a encuesta_sueldos.csv y ejecutar\n",
    "df_sueldos = pd.read_csv('data/encuesta_sueldos.csv',\n",
    "                        header=10)"
   ]
  },
  {
   "cell_type": "code",
   "execution_count": 69,
   "metadata": {
    "slideshow": {
     "slide_type": "fragment"
    },
    "tags": []
   },
   "outputs": [
    {
     "data": {
      "text/html": [
       "<div>\n",
       "<style scoped>\n",
       "    .dataframe tbody tr th:only-of-type {\n",
       "        vertical-align: middle;\n",
       "    }\n",
       "\n",
       "    .dataframe tbody tr th {\n",
       "        vertical-align: top;\n",
       "    }\n",
       "\n",
       "    .dataframe thead th {\n",
       "        text-align: right;\n",
       "    }\n",
       "</style>\n",
       "<table border=\"1\" class=\"dataframe\">\n",
       "  <thead>\n",
       "    <tr style=\"text-align: right;\">\n",
       "      <th></th>\n",
       "      <th>Dónde estás trabajando</th>\n",
       "      <th>Tipo de contrato</th>\n",
       "      <th>Salario mensual o retiro BRUTO (en tu moneda local)</th>\n",
       "      <th>Salario mensual o retiro NETO (en tu moneda local)</th>\n",
       "      <th>Pagos en dólares</th>\n",
       "      <th>¿Cuál fue el último valor de dólar que tomaron?</th>\n",
       "      <th>¿Qué tan conforme estás con tu sueldo?</th>\n",
       "      <th>Cómo creés que está tu sueldo con respecto al último semestre</th>\n",
       "      <th>Recibís algún tipo de bono</th>\n",
       "      <th>A qué está atado el bono</th>\n",
       "      <th>...</th>\n",
       "      <th>¿Con quiénes convivís?</th>\n",
       "      <th>¿Tenés un espacio dedicado para el trabajo?</th>\n",
       "      <th>¿Tenés que compartir tu equipo de trabajo con alguien?</th>\n",
       "      <th>¿Qué tipo de cuarentena hiciste / estás haciendo?</th>\n",
       "      <th>¿Cambió tu situación laboral a raíz de la pandemia?</th>\n",
       "      <th>¿Qué tanto sentís que te está apoyando tu empresa/organización en esta situación?</th>\n",
       "      <th>¿Cómo se vio afectada tu empresa/organización?</th>\n",
       "      <th>¿Instauraron algún beneficio nuevo?</th>\n",
       "      <th>Tengo</th>\n",
       "      <th>Me identifico</th>\n",
       "    </tr>\n",
       "  </thead>\n",
       "  <tbody>\n",
       "    <tr>\n",
       "      <th>0</th>\n",
       "      <td>Córdoba</td>\n",
       "      <td>Full-Time</td>\n",
       "      <td>115000</td>\n",
       "      <td>90000.0</td>\n",
       "      <td>NaN</td>\n",
       "      <td>NaN</td>\n",
       "      <td>3</td>\n",
       "      <td>2</td>\n",
       "      <td>No</td>\n",
       "      <td>No recibo bono</td>\n",
       "      <td>...</td>\n",
       "      <td>Pareja</td>\n",
       "      <td>Sí</td>\n",
       "      <td>No</td>\n",
       "      <td>4.0</td>\n",
       "      <td>No</td>\n",
       "      <td>8.0</td>\n",
       "      <td>No la afectó, Se vio beneficiada</td>\n",
       "      <td>Ninguna de las anteriores</td>\n",
       "      <td>36</td>\n",
       "      <td>Varón Cis</td>\n",
       "    </tr>\n",
       "    <tr>\n",
       "      <th>1</th>\n",
       "      <td>Córdoba</td>\n",
       "      <td>Remoto (empresa de otro país)</td>\n",
       "      <td>512000</td>\n",
       "      <td>512000.0</td>\n",
       "      <td>Mi sueldo está dolarizado (pero cobro en moned...</td>\n",
       "      <td>80</td>\n",
       "      <td>4</td>\n",
       "      <td>4</td>\n",
       "      <td>No</td>\n",
       "      <td>No recibo bono</td>\n",
       "      <td>...</td>\n",
       "      <td>NaN</td>\n",
       "      <td>NaN</td>\n",
       "      <td>NaN</td>\n",
       "      <td>NaN</td>\n",
       "      <td>NaN</td>\n",
       "      <td>NaN</td>\n",
       "      <td>NaN</td>\n",
       "      <td>NaN</td>\n",
       "      <td>29</td>\n",
       "      <td>Varón Cis</td>\n",
       "    </tr>\n",
       "    <tr>\n",
       "      <th>2</th>\n",
       "      <td>Ciudad Autónoma de Buenos Aires</td>\n",
       "      <td>Full-Time</td>\n",
       "      <td>148000</td>\n",
       "      <td>109000.0</td>\n",
       "      <td>NaN</td>\n",
       "      <td>NaN</td>\n",
       "      <td>3</td>\n",
       "      <td>3</td>\n",
       "      <td>No</td>\n",
       "      <td>No recibo bono</td>\n",
       "      <td>...</td>\n",
       "      <td>NaN</td>\n",
       "      <td>NaN</td>\n",
       "      <td>NaN</td>\n",
       "      <td>NaN</td>\n",
       "      <td>NaN</td>\n",
       "      <td>NaN</td>\n",
       "      <td>NaN</td>\n",
       "      <td>NaN</td>\n",
       "      <td>40</td>\n",
       "      <td>Varón Cis</td>\n",
       "    </tr>\n",
       "    <tr>\n",
       "      <th>3</th>\n",
       "      <td>Ciudad Autónoma de Buenos Aires</td>\n",
       "      <td>Full-Time</td>\n",
       "      <td>115620</td>\n",
       "      <td>NaN</td>\n",
       "      <td>NaN</td>\n",
       "      <td>NaN</td>\n",
       "      <td>4</td>\n",
       "      <td>3</td>\n",
       "      <td>No</td>\n",
       "      <td>No recibo bono</td>\n",
       "      <td>...</td>\n",
       "      <td>NaN</td>\n",
       "      <td>NaN</td>\n",
       "      <td>NaN</td>\n",
       "      <td>NaN</td>\n",
       "      <td>NaN</td>\n",
       "      <td>NaN</td>\n",
       "      <td>NaN</td>\n",
       "      <td>NaN</td>\n",
       "      <td>29</td>\n",
       "      <td>Varón Cis</td>\n",
       "    </tr>\n",
       "    <tr>\n",
       "      <th>4</th>\n",
       "      <td>Ciudad Autónoma de Buenos Aires</td>\n",
       "      <td>Full-Time</td>\n",
       "      <td>47300</td>\n",
       "      <td>39259.0</td>\n",
       "      <td>NaN</td>\n",
       "      <td>NaN</td>\n",
       "      <td>3</td>\n",
       "      <td>3</td>\n",
       "      <td>No</td>\n",
       "      <td>No recibo bono</td>\n",
       "      <td>...</td>\n",
       "      <td>Vivo solo/a</td>\n",
       "      <td>Sí</td>\n",
       "      <td>No</td>\n",
       "      <td>3.0</td>\n",
       "      <td>Cambié de trabajo, pero no por la pandemia</td>\n",
       "      <td>8.0</td>\n",
       "      <td>Se vio beneficiada</td>\n",
       "      <td>Ninguna de las anteriores</td>\n",
       "      <td>24</td>\n",
       "      <td>Varón Cis</td>\n",
       "    </tr>\n",
       "  </tbody>\n",
       "</table>\n",
       "<p>5 rows × 59 columns</p>\n",
       "</div>"
      ],
      "text/plain": [
       "            Dónde estás trabajando               Tipo de contrato  \\\n",
       "0                          Córdoba                      Full-Time   \n",
       "1                          Córdoba  Remoto (empresa de otro país)   \n",
       "2  Ciudad Autónoma de Buenos Aires                      Full-Time   \n",
       "3  Ciudad Autónoma de Buenos Aires                      Full-Time   \n",
       "4  Ciudad Autónoma de Buenos Aires                      Full-Time   \n",
       "\n",
       "  Salario mensual o retiro BRUTO (en tu moneda local)  \\\n",
       "0                                             115000    \n",
       "1                                             512000    \n",
       "2                                             148000    \n",
       "3                                             115620    \n",
       "4                                              47300    \n",
       "\n",
       "   Salario mensual o retiro NETO (en tu moneda local)  \\\n",
       "0                                            90000.0    \n",
       "1                                           512000.0    \n",
       "2                                           109000.0    \n",
       "3                                                NaN    \n",
       "4                                            39259.0    \n",
       "\n",
       "                                    Pagos en dólares  \\\n",
       "0                                                NaN   \n",
       "1  Mi sueldo está dolarizado (pero cobro en moned...   \n",
       "2                                                NaN   \n",
       "3                                                NaN   \n",
       "4                                                NaN   \n",
       "\n",
       "  ¿Cuál fue el último valor de dólar que tomaron?  \\\n",
       "0                                             NaN   \n",
       "1                                              80   \n",
       "2                                             NaN   \n",
       "3                                             NaN   \n",
       "4                                             NaN   \n",
       "\n",
       "   ¿Qué tan conforme estás con tu sueldo?  \\\n",
       "0                                       3   \n",
       "1                                       4   \n",
       "2                                       3   \n",
       "3                                       4   \n",
       "4                                       3   \n",
       "\n",
       "   Cómo creés que está tu sueldo con respecto al último semestre  \\\n",
       "0                                                  2               \n",
       "1                                                  4               \n",
       "2                                                  3               \n",
       "3                                                  3               \n",
       "4                                                  3               \n",
       "\n",
       "  Recibís algún tipo de bono A qué está atado el bono  ...  \\\n",
       "0                         No           No recibo bono  ...   \n",
       "1                         No           No recibo bono  ...   \n",
       "2                         No           No recibo bono  ...   \n",
       "3                         No           No recibo bono  ...   \n",
       "4                         No           No recibo bono  ...   \n",
       "\n",
       "  ¿Con quiénes convivís?  ¿Tenés un espacio dedicado para el trabajo?  \\\n",
       "0                 Pareja                                           Sí   \n",
       "1                    NaN                                          NaN   \n",
       "2                    NaN                                          NaN   \n",
       "3                    NaN                                          NaN   \n",
       "4            Vivo solo/a                                           Sí   \n",
       "\n",
       "   ¿Tenés que compartir tu equipo de trabajo con alguien?  \\\n",
       "0                                                 No        \n",
       "1                                                NaN        \n",
       "2                                                NaN        \n",
       "3                                                NaN        \n",
       "4                                                 No        \n",
       "\n",
       "  ¿Qué tipo de cuarentena hiciste / estás haciendo?  \\\n",
       "0                                               4.0   \n",
       "1                                               NaN   \n",
       "2                                               NaN   \n",
       "3                                               NaN   \n",
       "4                                               3.0   \n",
       "\n",
       "   ¿Cambió tu situación laboral a raíz de la pandemia?  \\\n",
       "0                                                 No     \n",
       "1                                                NaN     \n",
       "2                                                NaN     \n",
       "3                                                NaN     \n",
       "4         Cambié de trabajo, pero no por la pandemia     \n",
       "\n",
       "   ¿Qué tanto sentís que te está apoyando tu empresa/organización en esta situación?  \\\n",
       "0                                                8.0                                   \n",
       "1                                                NaN                                   \n",
       "2                                                NaN                                   \n",
       "3                                                NaN                                   \n",
       "4                                                8.0                                   \n",
       "\n",
       "   ¿Cómo se vio afectada tu empresa/organización?  \\\n",
       "0                No la afectó, Se vio beneficiada   \n",
       "1                                             NaN   \n",
       "2                                             NaN   \n",
       "3                                             NaN   \n",
       "4                              Se vio beneficiada   \n",
       "\n",
       "   ¿Instauraron algún beneficio nuevo? Tengo Me identifico  \n",
       "0            Ninguna de las anteriores    36     Varón Cis  \n",
       "1                                  NaN    29     Varón Cis  \n",
       "2                                  NaN    40     Varón Cis  \n",
       "3                                  NaN    29     Varón Cis  \n",
       "4            Ninguna de las anteriores    24     Varón Cis  \n",
       "\n",
       "[5 rows x 59 columns]"
      ]
     },
     "execution_count": 69,
     "metadata": {},
     "output_type": "execute_result"
    }
   ],
   "source": [
    "df_sueldos[:2]"
   ]
  },
  {
   "cell_type": "markdown",
   "metadata": {
    "slideshow": {
     "slide_type": "skip"
    },
    "tags": []
   },
   "source": [
    "Nota: la lista total de los nombres de las columnas puede verse en\n",
    "\n",
    "    list(df_sueldos.columns.values)"
   ]
  },
  {
   "cell_type": "code",
   "execution_count": 70,
   "metadata": {
    "slideshow": {
     "slide_type": "skip"
    },
    "tags": []
   },
   "outputs": [
    {
     "data": {
      "text/plain": [
       "Dónde estás trabajando\n",
       "Catamarca                           87500.0\n",
       "Chaco                               69500.0\n",
       "Chubut                              72000.0\n",
       "Ciudad Autónoma de Buenos Aires     93000.0\n",
       "Corrientes                          84300.0\n",
       "Córdoba                             85000.0\n",
       "Entre Ríos                          60000.0\n",
       "Formosa                             43500.0\n",
       "GBA                                 84000.0\n",
       "Jujuy                               79000.0\n",
       "La Pampa                            74000.0\n",
       "La Rioja                            56025.0\n",
       "Mendoza                             83000.0\n",
       "Misiones                            55500.0\n",
       "Neuquén                             88000.0\n",
       "Provincia de Buenos Aires           75995.0\n",
       "Río Negro                           75500.0\n",
       "Salta                               74000.0\n",
       "San Juan                            42000.0\n",
       "San Luis                            72000.0\n",
       "Santa Cruz                         109328.0\n",
       "Santa Fe                            83790.0\n",
       "Santiago del Estero                 93800.0\n",
       "Tierra del Fuego                    96500.0\n",
       "Tucumán                             67000.0\n",
       "Name: Salario mensual o retiro NETO (en tu moneda local), dtype: float64"
      ]
     },
     "execution_count": 70,
     "metadata": {},
     "output_type": "execute_result"
    }
   ],
   "source": [
    "# agrupamos los datos de sueldo por provincia, vemos la mediana\n",
    "df_sueldos.groupby(['Dónde estás trabajando'])['Salario mensual o retiro NETO (en tu moneda local)'].median()"
   ]
  },
  {
   "cell_type": "code",
   "execution_count": 71,
   "metadata": {
    "slideshow": {
     "slide_type": "skip"
    },
    "tags": []
   },
   "outputs": [
    {
     "data": {
      "text/plain": [
       "count    76.000000\n",
       "mean      2.868421\n",
       "std       0.884566\n",
       "min       1.000000\n",
       "25%       2.000000\n",
       "50%       3.000000\n",
       "75%       3.250000\n",
       "max       4.000000\n",
       "Name: ¿Qué tan conforme estás con tu sueldo?, dtype: float64"
      ]
     },
     "execution_count": 71,
     "metadata": {},
     "output_type": "execute_result"
    }
   ],
   "source": [
    "# exploramos un poco. \n",
    "# Por ejemplo, qué tan conforme con su sueldo están las personas de 20 años o menos?\n",
    "# (escala de 1-4)\n",
    "df_sueldos[df_sueldos['Tengo'] <= 20]['¿Qué tan conforme estás con tu sueldo?'].describe()"
   ]
  },
  {
   "cell_type": "code",
   "execution_count": 72,
   "metadata": {
    "slideshow": {
     "slide_type": "subslide"
    },
    "tags": []
   },
   "outputs": [
    {
     "data": {
      "text/plain": [
       "array([[<AxesSubplot:title={'center':'Salario mensual o retiro NETO (en tu moneda local)'}>]],\n",
       "      dtype=object)"
      ]
     },
     "execution_count": 72,
     "metadata": {},
     "output_type": "execute_result"
    },
    {
     "data": {
      "image/png": "[encoded data removed]",
      "text/plain": [
       "<Figure size 432x288 with 1 Axes>"
      ]
     },
     "metadata": {
      "needs_background": "light"
     },
     "output_type": "display_data"
    }
   ],
   "source": [
    "# veamos un histograma de la distribución de sueldos, para sueldos < a 300 mil\n",
    "df_sueldos[df_sueldos['Salario mensual o retiro NETO (en tu moneda local)'] <= 300000].hist(\n",
    "    column=['Salario mensual o retiro NETO (en tu moneda local)'])"
   ]
  },
  {
   "cell_type": "markdown",
   "metadata": {
    "slideshow": {
     "slide_type": "subslide"
    }
   },
   "source": [
    "## Ejercicios de práctica:\n",
    "\n",
    "Los siguientes son ejercicios para empezar a practicar lo que vamos a ver en la materia. La idea es que sirvan de práctica para explorar los conjuntos de datos y obteniendo una idea de las librerías que vamos a ir usando en el TP1.\n",
    "\n",
    "### General\n",
    "\n",
    "1. Familiarizarse con el notebook. Instalar anaconda y correr el notebook en un entorno virtual. [Alternativa en Google Colab](https://colab.research.google.com/github/inteligenciafrvm/inteligenciafrvm/blob/master/Clases%20pr%C3%A1cticas/2.%20Intro%20a%20python%20para%20aprendizaje%20autom%C3%A1tico.ipynb).\n",
    "\n",
    "### Numpy\n",
    "\n",
    "1. Crear un vector con valores de 10 a 49.\n",
    "2. Elevar al cuadrado a aquellos números divisibles por 3.\n",
    "3. Redimensionar ese vector en una matriz de 20x2.\n",
    "4. Crear una nueva matriz de 2x10 y multiplicarla a la matriz anterior.\n",
    "5. Obtener la transpuesta de la matriz resultante."
   ]
  },
  {
   "cell_type": "markdown",
   "metadata": {
    "slideshow": {
     "slide_type": "subslide"
    }
   },
   "source": [
    "### Pandas + matplotlib\n",
    "\n",
    "#### COVID-19\n",
    "\n",
    "Con el Dataset de sistemas mapache:\n",
    "\n",
    "1. Elaborar una curva que tome como eje X desde el primer día de la cuarentena, en lugar del primer día del contagio.\n",
    "\n",
    "1. Elaborar curva que contenga la cantidad de contagios por día, en lugar de los contagios acumulados.\n",
    "\n",
    "1. Elaborar curvas desde el contagio nro 200.\n",
    "\n",
    "1. Usar escala log10 en lugar de escala decimal para los contagios.\n",
    "\n",
    "1. Hacer una curva para Córdoba.\n",
    "\n"
   ]
  },
  {
   "cell_type": "markdown",
   "metadata": {
    "slideshow": {
     "slide_type": "subslide"
    },
    "tags": []
   },
   "source": [
    "Con el dataset mundial:\n",
    "\n",
    "1. Comparar Argentina con otros países del mundo.\n",
    "\n",
    "1. Compararnos con otro país de sudamérica y de los demás continentes."
   ]
  },
  {
   "cell_type": "markdown",
   "metadata": {
    "slideshow": {
     "slide_type": "subslide"
    },
    "tags": []
   },
   "source": [
    "#### Sueldos IT 2021\n",
    "\n",
    "1. Explorar otras dimensiones, por ejemplo de género, provincia, situación frente a la pandemia, etc. ¿Cuánto difieren los sueldos/satisfacción/etc. según estos indicadores?\n",
    "\n",
    "2. Si quieren profundizar más: explorar estas dimensiones con los plots de [seaborn](http://seaborn.pydata.org/). Por ejemplo el histplot, barplot, distplot, countplot, o cualquier otro.\n",
    "\n",
    "Nota: el dataset no se encuentra curado, por lo cuál hay que tener cuidado con los outliers/datos mal cargados que pueden alterar considerablemente los gráficos/estadísticos obtenidos (ej: la persona que dijo tener 20 mil años de edad o el que gana 1.000 millones de pesos)."
   ]
  },
  {
   "cell_type": "markdown",
   "metadata": {
    "slideshow": {
     "slide_type": "subslide"
    }
   },
   "source": [
    "Aceptar la tarea [acá](https://classroom.github.com/a/k8VuXhad) y subir lo que vayan haciendo al GitHub Classroom de la materia! Esta actividad es sin nota, entrega ni corrección, es más que nada para comenzar la práctica y familiarizarse con las herramientas.\n",
    "\n",
    "Pueden subirlo al Classroom mediante control de versiones, clonando el repo que se les va a crear al aceptar la tarea, y haciendo commits en el mismo, o bien utilizando el botón \"Add File -> Upload files\" (sobreescribe el último archivo con dicho nombre si ya lo habían subido)"
   ]
  },
  {
   "cell_type": "markdown",
   "metadata": {
    "slideshow": {
     "slide_type": "fragment"
    }
   },
   "source": [
    "Tutoriales de Git:\n",
    "\n",
    "* https://missing.csail.mit.edu/2020/version-control/ (de missing semester)\n",
    "* https://git-scm.com/docs/gittutorial (de la documentación oficial de Git)\n",
    "* https://rogerdudler.github.io/git-guide/index.es.html (paso a paso en Español)"
   ]
  },
  {
   "cell_type": "markdown",
   "metadata": {
    "slideshow": {
     "slide_type": "skip"
    }
   },
   "source": [
    "De la [ayuda de Atlassian](https://www.atlassian.com/git) (agregados términos en inglés para hacerlos consistentes con la notación)\n",
    "\n",
    "\"Básicamente, Git funciona del siguiente modo\":\n",
    "\n",
    "1. Crea un “repositorio” (proyecto) con una herramienta de alojamiento de git (como Bitbucket o GitHub).\n",
    "1. Copia (*clone*) el repositorio en tu equipo local.\n",
    "1. Añade un archivo en tu repositorio local y “confirma” (*commit*) los cambios.\n",
    "1. “Envía” (*push*) tus cambios a la rama maestra.\n",
    "1. Realiza un cambio en tu archivo con una herramienta de alojamiento de git y confírmalo (*commit*).\n",
    "1. “Incorpora” (*pull*) los cambios en tu equipo local.\n",
    "1. Crea una “rama” (versión, *branch*), haz un cambio y confírmalo.\n",
    "1. Abre una “solicitud de incorporación de cambios” (*pull request*) (propón cambios en la rama maestra).\n",
    "1. “Fusiona” (*merge*) tu rama con la rama maestra.\n"
   ]
  },
  {
   "cell_type": "markdown",
   "metadata": {
    "slideshow": {
     "slide_type": "skip"
    }
   },
   "source": [
    "FIN"
   ]
  }
 ],
 "metadata": {
  "anaconda-cloud": {},
  "celltoolbar": "Slideshow",
  "colab": {
   "include_colab_link": true,
   "name": "2. Intro a Python para Inteligencia Artificial.ipynb",
   "provenance": []
  },
  "kernelspec": {
   "display_name": "Python 3",
   "language": "python",
   "name": "python3"
  },
  "language_info": {
   "codemirror_mode": {
    "name": "ipython",
    "version": 3
   },
   "file_extension": ".py",
   "mimetype": "text/x-python",
   "name": "python",
   "nbconvert_exporter": "python",
   "pygments_lexer": "ipython3",
   "version": "3.7.7"
  }
 },
 "nbformat": 4,
 "nbformat_minor": 4
}
