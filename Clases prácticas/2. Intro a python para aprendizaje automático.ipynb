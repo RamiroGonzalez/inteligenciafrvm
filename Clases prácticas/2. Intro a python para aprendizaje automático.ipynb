{
 "cells": [
  {
   "cell_type": "markdown",
   "metadata": {
    "colab_type": "text",
    "id": "view-in-github"
   },
   "source": [
    "<a href=\"https://colab.research.google.com/github/inteligenciafrvm/inteligenciafrvm/blob/master/Clases%20pr%C3%A1cticas/2.%20Intro%20a%20python%20para%20aprendizaje%20autom%C3%A1tico.ipynb\" target=\"_parent\"><img src=\"https://colab.research.google.com/assets/colab-badge.svg\" alt=\"Open In Colab\"/></a>"
   ]
  },
  {
   "cell_type": "markdown",
   "metadata": {
    "colab_type": "text",
    "id": "zoC9igdoLqbX"
   },
   "source": [
    "# Introducción a Python para aprendizaje automático\n",
    "\n",
    "5to año - Ingeniería en Sistemas de Información\n",
    "\n",
    "Facultad Regional Villa María"
   ]
  },
  {
   "cell_type": "markdown",
   "metadata": {
    "colab_type": "text",
    "id": "Yz4FWlrkLqbg"
   },
   "source": [
    "## Introducción\n",
    "\n",
    "Python es un lenguaje de software libre, no tipado, interpretado y orientado a objetos. Se presenta como principal elección entre los lenguajes utilizados para aplicaciones de inteligencia artificial, particularmente de machine learning, junto con R, Matlab y Octave (dependiendo la comunidad que lo use).\n",
    "\n",
    "Posee un enorme ecosistema de librerías de machine learning. Esto sumado a su flexibilidad y su simpleza de uso hacen que sea uno de los lenguajes más populares para la computación científica.\n",
    "\n",
    "Algunos IDEs: Jupyter (web), Pycharm, Rodeo.\n"
   ]
  },
  {
   "cell_type": "markdown",
   "metadata": {
    "colab_type": "text",
    "id": "eOA8S6kYLqbm"
   },
   "source": [
    "### jupyter notebook / jupyter lab\n",
    "\n",
    "Aplicación web de código abierto que permite crear y compartir documentos (notebooks) mostrando iterativamente el flujo de código en lenguajes como python y R, permitiendo incluir gráficos, explicaciones en Markdown y fórmulas en LaTeX.\n",
    "\n",
    "Resulta una gran opción para presentaciones o aplicaciones pequeñas de machine learning ya que permite utilizar el código de a fragmentos. Cada fragmento puede ser de texto o de código (dependiendo la selección del combo box superior: si está \"Markdown\" seleccionado tomará a la celda como texto - de estar \"Code\" tomará el fragmento como código)."
   ]
  },
  {
   "cell_type": "markdown",
   "metadata": {
    "colab_type": "text",
    "id": "8KGwy3gOLqbs"
   },
   "source": [
    "¿Cómo instalarlo?\n",
    "\n",
    "- Descargar la plataforma para DataScience \"Anaconda\" desde\n",
    "\n",
    "\thttps://docs.anaconda.com/anaconda/install/\n",
    "\n",
    "\n",
    "- Seguir las intrucciones de instalación de Anaconda según el sistema operativo.\n",
    "\n",
    "¿Cómo usarlo?\n",
    "\n",
    "* En Linux: abrir la terminal, situarse en el directorio donde está el notebook, ejecutar \n",
    "        jupyter notebook \n",
    "    y abrir el notebook desde la interfaz web.\n",
    "\n",
    "\n",
    "* En Windows: abrir la consola de windows (cmd), ejecutar \n",
    "        jupyter notebook \n",
    "    y abrir el notebook desde la interfaz web.\n",
    "    \n",
    "    (también pueden probar usar el comando jupyter lab)\n",
    "\n",
    "Prueben ejecutar y mirar el código del notebook de esta clase! Más notebooks de prueba: [https://try.jupyter.org/](https://try.jupyter.org/).\n",
    "    \n",
    "Algunas extensiones interesantes para notebook (incluídas variables de entorno): https://ndres.me/post/best-jupyter-notebook-extensions/. "
   ]
  },
  {
   "cell_type": "markdown",
   "metadata": {
    "colab_type": "text",
    "id": "F_UlokHsLqbx"
   },
   "source": [
    "Info adicional:\n",
    "\n",
    "* [Markdown](https://daringfireball.net/projects/markdown/) es un conversor de texto plano a HTML. En los notebooks funciona como suerte de versión \"liviana\" de LaTex. Se usa en sitios como Slack, github (para los README), reddit.\n",
    "* [LaTex](http://www.latex-project.org/) es un sistema de tipografía de alta calidad, que permite armar documentos con una sintaxis predefinida. Su sintaxis es mucho más verborrágica comparado con las herramientas típicas de ofimática, pero es mucho más flexible. A LaTex en los notebooks se lo utiliza principalmente para fórmulas.\n",
    "\n",
    "Info adicional sobre LaTex, para aquellos interesados:\n",
    "* Para armar documentos completos en LaTex de forma sencilla una buena alternativa es [Overleaf](https://www.overleaf.com/) (editor LaTex Web colaborativo). Por su parte, la alternativa que recomendamos es descargarlo mediante TexLive (en Debian/Ubuntu/Mint lo descargan con *sudo apt-get install texlive-full* (pesa 4Gb)) y editar los documentos mediante [Atom](http://atom.io/) y sus paquetes *latex* y *language-latex*"
   ]
  },
  {
   "cell_type": "markdown",
   "metadata": {
    "colab_type": "text",
    "id": "WrwFOXyeLqb5"
   },
   "source": [
    "Para sus explicaciones en texto, jupyter por defecto utiliza Markdown. Para utilizar LaTex en un notebook, debe encerrarse la sentencia en \\\\$ ecuación \\\\$ para ecuaciones en la misma línea o bien entre \\\\$\\\\$ ecuación \\\\$\\\\$ para ecuaciones en una nueva línea.\n",
    "\n",
    "Ejemplo $$\\lim_{h \\to 0} \\frac{f(a+h)-f(a)}{h}$$"
   ]
  },
  {
   "cell_type": "markdown",
   "metadata": {
    "colab_type": "text",
    "id": "FRNLxEXVLqb9"
   },
   "source": [
    "Veamos algo de código al ver una de las estructuras principales de Python..."
   ]
  },
  {
   "cell_type": "code",
   "execution_count": 1,
   "metadata": {},
   "outputs": [],
   "source": [
    "%matplotlib inline"
   ]
  },
  {
   "cell_type": "code",
   "execution_count": 2,
   "metadata": {
    "colab": {},
    "colab_type": "code",
    "id": "ZQQXnV7NLqcD",
    "outputId": "4fbb188f-7dc4-485c-ad84-5f20f2265b4e"
   },
   "outputs": [
    {
     "name": "stdout",
     "output_type": "stream",
     "text": [
      "[1, 2, 3, 6]\n"
     ]
    }
   ],
   "source": [
    "# estructura fundamental de python: listas\n",
    "\n",
    "lista = [1,2,3,6]  # encerrar la estructura con [] es lo que denota que es una lista\n",
    "print(lista)"
   ]
  },
  {
   "cell_type": "code",
   "execution_count": 3,
   "metadata": {
    "colab": {},
    "colab_type": "code",
    "id": "yWcAaknELqcU",
    "outputId": "3897ce3f-5654-41de-c3f7-65bbfee1a164"
   },
   "outputs": [
    {
     "name": "stdout",
     "output_type": "stream",
     "text": [
      "[1, 2, 3, 6]\n"
     ]
    }
   ],
   "source": [
    "lista2 = [1,2] + [3,6]  # principal característica: listas completamente flexibles\n",
    "print(lista2)"
   ]
  },
  {
   "cell_type": "code",
   "execution_count": 4,
   "metadata": {
    "colab": {},
    "colab_type": "code",
    "id": "6RttT4IWLqcg",
    "outputId": "328c48dc-bb81-49ff-d22e-1693d73f930a"
   },
   "outputs": [
    {
     "name": "stdout",
     "output_type": "stream",
     "text": [
      "4\n"
     ]
    }
   ],
   "source": [
    "# con len() podemos ver las dimensiones de la lista\n",
    "print(len(lista2))"
   ]
  },
  {
   "cell_type": "code",
   "execution_count": 5,
   "metadata": {
    "colab": {},
    "colab_type": "code",
    "id": "lrk3WDoiLqcu",
    "outputId": "2ca81876-7827-40bc-a63b-cfaf39dfbafe"
   },
   "outputs": [
    {
     "name": "stdout",
     "output_type": "stream",
     "text": [
      "2\n"
     ]
    }
   ],
   "source": [
    "# cuál es el elemento con índice 1 de la lista?\n",
    "print(lista[1])  # notar que Python y numpy indexan desde el 0"
   ]
  },
  {
   "cell_type": "code",
   "execution_count": 6,
   "metadata": {
    "colab": {},
    "colab_type": "code",
    "id": "UlCKqTcsLqc6",
    "outputId": "56238235-c7e4-4810-d906-6f00b009f771"
   },
   "outputs": [
    {
     "name": "stdout",
     "output_type": "stream",
     "text": [
      "[2, 3, 6]\n"
     ]
    }
   ],
   "source": [
    "print(lista[1:])  # \"1:\" significa \"el elemento de índice 1 y todos los elementos siguientes\""
   ]
  },
  {
   "cell_type": "code",
   "execution_count": 7,
   "metadata": {
    "colab": {},
    "colab_type": "code",
    "id": "OwNnjlZkLqdF",
    "outputId": "8d3ad927-bd65-4596-c32a-4c0d4f1b0a12"
   },
   "outputs": [
    {
     "name": "stdout",
     "output_type": "stream",
     "text": [
      "[1, 2, 3, 6]\n"
     ]
    }
   ],
   "source": [
    "# de manera similar...\n",
    "\n",
    "print(lista[:4])  #(todos los elementos de la lista hasta aquel de índice 4, sin incluírlo)"
   ]
  },
  {
   "cell_type": "code",
   "execution_count": 8,
   "metadata": {
    "colab": {},
    "colab_type": "code",
    "id": "soYmP8qKLqdR",
    "outputId": "eb3c7d46-5d9c-45e8-aa88-ad96aeab5dd9"
   },
   "outputs": [
    {
     "name": "stdout",
     "output_type": "stream",
     "text": [
      "[1, 2, 3, 6]\n"
     ]
    }
   ],
   "source": [
    "# o también...\n",
    "\n",
    "print(lista[:])  # todos los elementos de la lista"
   ]
  },
  {
   "cell_type": "code",
   "execution_count": 9,
   "metadata": {
    "colab": {},
    "colab_type": "code",
    "id": "S7n3e6H2Lqdc",
    "outputId": "8930a7ac-dc94-42a0-9d42-d4a96e50d030"
   },
   "outputs": [
    {
     "name": "stdout",
     "output_type": "stream",
     "text": [
      "[1, 2, 3, 6, 5, 'a']\n"
     ]
    }
   ],
   "source": [
    "lista.append(5) \n",
    "lista.append('a')  # las listas nativas de python no se establecen para un tipo de dato en concreto\n",
    "print(lista)"
   ]
  },
  {
   "cell_type": "code",
   "execution_count": 10,
   "metadata": {
    "colab": {},
    "colab_type": "code",
    "id": "_TL2sQ9FLqdn",
    "outputId": "5f9d1039-120a-4fd3-fc2a-06f3bbd54ca1"
   },
   "outputs": [
    {
     "name": "stdout",
     "output_type": "stream",
     "text": [
      "[[1, 2], [3, 4], [5, 6]]\n"
     ]
    }
   ],
   "source": [
    "matriz_1 = [[1,2], [3,4], [5,6]]  # una matriz es una lista de listas. Matriz de 3x2\n",
    "print(matriz_1)"
   ]
  },
  {
   "cell_type": "code",
   "execution_count": 11,
   "metadata": {
    "colab": {},
    "colab_type": "code",
    "id": "JNrRWcFXLqd0",
    "outputId": "61cbe349-4e64-400f-c88e-b5347cf1e015"
   },
   "outputs": [
    {
     "name": "stdout",
     "output_type": "stream",
     "text": [
      "4\n"
     ]
    }
   ],
   "source": [
    "# elemento de la fila 1, columna 1:\n",
    "print(matriz_1[1][1])"
   ]
  },
  {
   "cell_type": "markdown",
   "metadata": {},
   "source": [
    "## Algunos bloques y estructuras básicas\n",
    "\n",
    "### if"
   ]
  },
  {
   "cell_type": "code",
   "execution_count": 12,
   "metadata": {},
   "outputs": [
    {
     "name": "stdout",
     "output_type": "stream",
     "text": [
      "x > 0\n"
     ]
    }
   ],
   "source": [
    "x = 1\n",
    "\n",
    "if x > 0:\n",
    "    print('x > 0')\n",
    "elif x == 0:\n",
    "    print('x es 0')\n",
    "else:\n",
    "    print('x < 0')\n",
    "        "
   ]
  },
  {
   "cell_type": "markdown",
   "metadata": {},
   "source": [
    "### for"
   ]
  },
  {
   "cell_type": "code",
   "execution_count": 13,
   "metadata": {},
   "outputs": [
    {
     "name": "stdout",
     "output_type": "stream",
     "text": [
      "0\n",
      "1\n"
     ]
    }
   ],
   "source": [
    "# for opera normalmente sobre rangos, listas u otro tipo de iterables\n",
    "\n",
    "for i in range(2):\n",
    "    print(i)"
   ]
  },
  {
   "cell_type": "code",
   "execution_count": 14,
   "metadata": {},
   "outputs": [
    {
     "name": "stdout",
     "output_type": "stream",
     "text": [
      "0\n",
      "3\n"
     ]
    }
   ],
   "source": [
    "for i in range(0,6,3):  # start=0, stop=6, step=3\n",
    "    print(i)"
   ]
  },
  {
   "cell_type": "code",
   "execution_count": 15,
   "metadata": {},
   "outputs": [
    {
     "name": "stdout",
     "output_type": "stream",
     "text": [
      "a\n",
      "b\n",
      "3\n"
     ]
    }
   ],
   "source": [
    "for i in ['a', 'b', 3]:\n",
    "    print(i)"
   ]
  },
  {
   "cell_type": "markdown",
   "metadata": {},
   "source": [
    "### dict"
   ]
  },
  {
   "cell_type": "code",
   "execution_count": 16,
   "metadata": {},
   "outputs": [
    {
     "name": "stdout",
     "output_type": "stream",
     "text": [
      "{'clave_1': 1, 'clave_2': 'elemento_2', 'clave_3': 'tres'}\n"
     ]
    }
   ],
   "source": [
    "a = {'clave_1':1, 'clave_2':'elemento_2', 'clave_3':'tres'}\n",
    "print(a)"
   ]
  },
  {
   "cell_type": "code",
   "execution_count": 17,
   "metadata": {},
   "outputs": [
    {
     "name": "stdout",
     "output_type": "stream",
     "text": [
      "elemento_2\n"
     ]
    }
   ],
   "source": [
    "print(a['clave_2'])"
   ]
  },
  {
   "cell_type": "code",
   "execution_count": 18,
   "metadata": {},
   "outputs": [
    {
     "name": "stdout",
     "output_type": "stream",
     "text": [
      "{'clave_1': 1, 'clave_2': 2, 'clave_3': 'tres'}\n"
     ]
    }
   ],
   "source": [
    "a['clave_2'] = 2\n",
    "print(a)"
   ]
  },
  {
   "cell_type": "markdown",
   "metadata": {},
   "source": [
    "### tuple\n",
    "\n",
    "Representan estructuras inmutables"
   ]
  },
  {
   "cell_type": "code",
   "execution_count": 19,
   "metadata": {},
   "outputs": [
    {
     "name": "stdout",
     "output_type": "stream",
     "text": [
      "(2, 3)\n",
      "2\n"
     ]
    }
   ],
   "source": [
    "tupla = (2,3)\n",
    "print(tupla)\n",
    "print(tupla[0])"
   ]
  },
  {
   "cell_type": "code",
   "execution_count": 20,
   "metadata": {},
   "outputs": [
    {
     "name": "stdout",
     "output_type": "stream",
     "text": [
      "(2, 3)\n"
     ]
    }
   ],
   "source": [
    "try:\n",
    "    tupla[0] = 3  # no permite modificaciones\n",
    "except TypeError:\n",
    "    print(tupla)"
   ]
  },
  {
   "cell_type": "markdown",
   "metadata": {
    "colab_type": "text",
    "id": "gBKwazoCLqd_"
   },
   "source": [
    "## Algunas librerías importantes\n",
    "\n",
    "### numpy\n",
    "\n",
    "Librería open-source que dota a Python de manejo de vectores y matrices, junto con un conjunto de librerías para procesarlas, asemejando a python al manejo estilo Matlab.\n",
    "\n",
    "El bloque básico de numpy es el **ndarray**, un array multidimensional de elementos homogéneos y de tamaño fijo. A estos objetos no los creamos directamente, sino por un método destinado a tal efecto.\n"
   ]
  },
  {
   "cell_type": "code",
   "execution_count": 21,
   "metadata": {
    "colab": {},
    "colab_type": "code",
    "id": "MUkBU6-sLqeD",
    "outputId": "45488559-9a93-49ac-c17c-f578a4e9852c"
   },
   "outputs": [
    {
     "name": "stdout",
     "output_type": "stream",
     "text": [
      "[1 2 3 4 5]\n"
     ]
    }
   ],
   "source": [
    "import numpy as np\n",
    "\n",
    "# una forma fácil de crear un array de numpy es hacer una lista estándar de python\n",
    "# y usarla como parámetro para ejecutar np.array sobre ella.\n",
    "array = np.array([1,2,3,4,5])\n",
    "print(array)"
   ]
  },
  {
   "cell_type": "code",
   "execution_count": 22,
   "metadata": {
    "colab": {},
    "colab_type": "code",
    "id": "kM3B6nJHLqeL",
    "outputId": "064cc010-fbe2-4a5e-9f37-40124af7649a"
   },
   "outputs": [
    {
     "name": "stdout",
     "output_type": "stream",
     "text": [
      "<class 'list'> <class 'numpy.ndarray'>\n"
     ]
    }
   ],
   "source": [
    "# cuidado con la diferencia entre una lista \"estándar\" de python y un array de numpy!\n",
    "print(type([1,2,3,4,5]), type(array))"
   ]
  },
  {
   "cell_type": "code",
   "execution_count": 23,
   "metadata": {
    "colab": {},
    "colab_type": "code",
    "id": "TxrMd-2eLqeW",
    "outputId": "2d01ec5a-3e15-4c54-abe2-402d7f30f654"
   },
   "outputs": [
    {
     "name": "stdout",
     "output_type": "stream",
     "text": [
      "1\n"
     ]
    }
   ],
   "source": [
    "print(array[0])"
   ]
  },
  {
   "cell_type": "code",
   "execution_count": 24,
   "metadata": {
    "colab": {},
    "colab_type": "code",
    "id": "UzUMY4lkLqeh",
    "outputId": "bb63f524-36b2-42d9-c660-21e7c0538830"
   },
   "outputs": [
    {
     "name": "stdout",
     "output_type": "stream",
     "text": [
      "[[1 2]\n",
      " [3 4]\n",
      " [5 6]\n",
      " [7 8]]\n"
     ]
    }
   ],
   "source": [
    "matriz = np.array([[1,2],[3,4],[5,6],[7,8]]) # para numpy, una matriz también es una lista de listas\n",
    "print(matriz)"
   ]
  },
  {
   "cell_type": "code",
   "execution_count": 25,
   "metadata": {
    "colab": {},
    "colab_type": "code",
    "id": "ePwWYNdgLqes",
    "outputId": "8bcc3726-d826-4628-97c4-ab84d60a05a2"
   },
   "outputs": [
    {
     "name": "stdout",
     "output_type": "stream",
     "text": [
      "[[1 2]\n",
      " [3 4]\n",
      " [5 6]]\n"
     ]
    }
   ],
   "source": [
    "matriz_2 = np.array([[1,2], [3,4], [5,6]])\n",
    "print(matriz_2)"
   ]
  },
  {
   "cell_type": "code",
   "execution_count": 26,
   "metadata": {
    "colab": {},
    "colab_type": "code",
    "id": "k5XbhyIXLqe1",
    "outputId": "8cab1364-caee-4b2d-eb8c-0b2aee4f9a90"
   },
   "outputs": [
    {
     "name": "stdout",
     "output_type": "stream",
     "text": [
      "<class 'list'> <class 'numpy.ndarray'>\n"
     ]
    }
   ],
   "source": [
    "# similarmente, no confundir la matriz que generamos con la lista de listas de python!!!\n",
    "# son de dos tipos distintos\n",
    "print(type([[1,2], [3,4], [5,6]]), type(np.array([[1,2], [3,4], [5,6]])))"
   ]
  },
  {
   "cell_type": "code",
   "execution_count": 27,
   "metadata": {
    "colab": {},
    "colab_type": "code",
    "id": "-zqZrf8pLqe-",
    "outputId": "9a6ae39c-986e-4221-e06a-58e64ab9065f"
   },
   "outputs": [
    {
     "name": "stdout",
     "output_type": "stream",
     "text": [
      "[[ 3  6]\n",
      " [ 9 12]\n",
      " [15 18]\n",
      " [21 24]]\n"
     ]
    }
   ],
   "source": [
    "# Principal ventaja de numpy: nos permite realizar fácil y eficientemente operaciones a nivel de lista\n",
    "\n",
    "matriz_2 = 3 * matriz # una de las muchas operaciones que podemos hacer con la lista como un todo\n",
    "print(matriz_2)"
   ]
  },
  {
   "cell_type": "code",
   "execution_count": 28,
   "metadata": {
    "colab": {},
    "colab_type": "code",
    "id": "emTjCD0wLqfH",
    "outputId": "e63e6b2f-20f1-46ac-f3f2-d445bccdb810"
   },
   "outputs": [
    {
     "name": "stdout",
     "output_type": "stream",
     "text": [
      "[[ 1  4]\n",
      " [ 9 16]\n",
      " [25 36]\n",
      " [49 64]]\n"
     ]
    }
   ],
   "source": [
    "matriz_3 = matriz ** 2  # elevamos al cuadrado todos los elementos de matriz\n",
    "print(matriz_3)"
   ]
  },
  {
   "cell_type": "code",
   "execution_count": null,
   "metadata": {},
   "outputs": [],
   "source": [
    "print(matriz)"
   ]
  },
  {
   "cell_type": "code",
   "execution_count": 29,
   "metadata": {
    "colab": {},
    "colab_type": "code",
    "id": "RscCAfirLqfP",
    "outputId": "ed3654f2-4dad-4a6d-c5c3-f7543f5abac0"
   },
   "outputs": [
    {
     "name": "stdout",
     "output_type": "stream",
     "text": [
      "4\n"
     ]
    }
   ],
   "source": [
    "print(matriz[1,1])"
   ]
  },
  {
   "cell_type": "code",
   "execution_count": 30,
   "metadata": {
    "colab": {},
    "colab_type": "code",
    "id": "_eh4l9ZnLqfm",
    "outputId": "a73c209c-c439-40f8-8d13-d28423c92303"
   },
   "outputs": [
    {
     "name": "stdout",
     "output_type": "stream",
     "text": [
      "[3 4]\n"
     ]
    }
   ],
   "source": [
    "print(matriz[1,:]) # pedimos todos los elementos de la segunda fila"
   ]
  },
  {
   "cell_type": "code",
   "execution_count": 31,
   "metadata": {
    "colab": {},
    "colab_type": "code",
    "id": "Tba3z8R2Lqfs",
    "outputId": "e0a9138b-af37-4f94-e5c0-96aeeb1f11ca"
   },
   "outputs": [
    {
     "name": "stdout",
     "output_type": "stream",
     "text": [
      "[6 8]\n"
     ]
    }
   ],
   "source": [
    "# pedimos los elementos de índice 2 y 3 de la segunda columna\n",
    "# (Notar que 2:4 equivale al intervalo [2,4), es decir que el elemento de índice 4 está excluído)\n",
    "print(matriz[2:4, 1])"
   ]
  },
  {
   "cell_type": "code",
   "execution_count": 32,
   "metadata": {
    "colab": {},
    "colab_type": "code",
    "id": "4S7LdZQqLqf3",
    "outputId": "10f5cc43-f2ac-4f49-9419-528c4f15e801"
   },
   "outputs": [
    {
     "name": "stdout",
     "output_type": "stream",
     "text": [
      "(4, 2)\n"
     ]
    }
   ],
   "source": [
    "print(np.shape(matriz)) # función muy útil, nos permite ver el orden de la estructura con la que trabajamos"
   ]
  },
  {
   "cell_type": "markdown",
   "metadata": {
    "colab_type": "text",
    "id": "ScKF035ULqf8"
   },
   "source": [
    "(4, 2) es una **tupla**"
   ]
  },
  {
   "cell_type": "code",
   "execution_count": 33,
   "metadata": {
    "colab": {},
    "colab_type": "code",
    "id": "-nF9InKELqf-",
    "outputId": "fae21912-e88d-491b-d2a0-0521763eab19"
   },
   "outputs": [
    {
     "name": "stdout",
     "output_type": "stream",
     "text": [
      "[1.   1.25 1.5  1.75 2.  ]\n"
     ]
    }
   ],
   "source": [
    "print(np.linspace(1,2,5)) #start=1, stop=2, número ocurrencias=5 # método muy útil para crear arrays de una dimensión"
   ]
  },
  {
   "cell_type": "code",
   "execution_count": 72,
   "metadata": {},
   "outputs": [
    {
     "name": "stdout",
     "output_type": "stream",
     "text": [
      "[0 1 2 3 4]\n"
     ]
    }
   ],
   "source": [
    "print(np.arange(5)) # otro método muy útil para crear arrays con valores en secuencia"
   ]
  },
  {
   "cell_type": "code",
   "execution_count": 34,
   "metadata": {},
   "outputs": [
    {
     "data": {
      "text/plain": [
       "array([1, 2, 3, 4, 5, 6])"
      ]
     },
     "execution_count": 34,
     "metadata": {},
     "output_type": "execute_result"
    }
   ],
   "source": [
    "# otra operación comúnmente usada para construir o cambiar matrices:\n",
    "# np.reshape\n",
    "\n",
    "vector_a = np.array([1,2,3,4,5,6])\n",
    "vector_a"
   ]
  },
  {
   "cell_type": "code",
   "execution_count": 35,
   "metadata": {},
   "outputs": [
    {
     "name": "stdout",
     "output_type": "stream",
     "text": [
      "[[1 2 3]\n",
      " [4 5 6]]\n"
     ]
    }
   ],
   "source": [
    "matriz_a = np.reshape(vector_a, (2,3))\n",
    "print(matriz_a)"
   ]
  },
  {
   "cell_type": "code",
   "execution_count": 36,
   "metadata": {},
   "outputs": [
    {
     "name": "stdout",
     "output_type": "stream",
     "text": [
      "[[1 2]\n",
      " [3 4]\n",
      " [5 6]]\n"
     ]
    }
   ],
   "source": [
    "matriz_b = np.reshape(matriz_a, (3,2))\n",
    "print(matriz_b)"
   ]
  },
  {
   "cell_type": "code",
   "execution_count": 37,
   "metadata": {},
   "outputs": [
    {
     "data": {
      "text/plain": [
       "\u001b[0;31mDocstring:\u001b[0m\n",
       "array(object, dtype=None, copy=True, order='K', subok=False, ndmin=0)\n",
       "\n",
       "Create an array.\n",
       "\n",
       "Parameters\n",
       "----------\n",
       "object : array_like\n",
       "    An array, any object exposing the array interface, an object whose\n",
       "    __array__ method returns an array, or any (nested) sequence.\n",
       "dtype : data-type, optional\n",
       "    The desired data-type for the array.  If not given, then the type will\n",
       "    be determined as the minimum type required to hold the objects in the\n",
       "    sequence.  This argument can only be used to 'upcast' the array.  For\n",
       "    downcasting, use the .astype(t) method.\n",
       "copy : bool, optional\n",
       "    If true (default), then the object is copied.  Otherwise, a copy will\n",
       "    only be made if __array__ returns a copy, if obj is a nested sequence,\n",
       "    or if a copy is needed to satisfy any of the other requirements\n",
       "    (`dtype`, `order`, etc.).\n",
       "order : {'K', 'A', 'C', 'F'}, optional\n",
       "    Specify the memory layout of the array. If object is not an array, the\n",
       "    newly created array will be in C order (row major) unless 'F' is\n",
       "    specified, in which case it will be in Fortran order (column major).\n",
       "    If object is an array the following holds.\n",
       "\n",
       "    ===== ========= ===================================================\n",
       "    order  no copy                     copy=True\n",
       "    ===== ========= ===================================================\n",
       "    'K'   unchanged F & C order preserved, otherwise most similar order\n",
       "    'A'   unchanged F order if input is F and not C, otherwise C order\n",
       "    'C'   C order   C order\n",
       "    'F'   F order   F order\n",
       "    ===== ========= ===================================================\n",
       "\n",
       "    When ``copy=False`` and a copy is made for other reasons, the result is\n",
       "    the same as if ``copy=True``, with some exceptions for `A`, see the\n",
       "    Notes section. The default order is 'K'.\n",
       "subok : bool, optional\n",
       "    If True, then sub-classes will be passed-through, otherwise\n",
       "    the returned array will be forced to be a base-class array (default).\n",
       "ndmin : int, optional\n",
       "    Specifies the minimum number of dimensions that the resulting\n",
       "    array should have.  Ones will be pre-pended to the shape as\n",
       "    needed to meet this requirement.\n",
       "\n",
       "Returns\n",
       "-------\n",
       "out : ndarray\n",
       "    An array object satisfying the specified requirements.\n",
       "\n",
       "See Also\n",
       "--------\n",
       "empty_like : Return an empty array with shape and type of input.\n",
       "ones_like : Return an array of ones with shape and type of input.\n",
       "zeros_like : Return an array of zeros with shape and type of input.\n",
       "full_like : Return a new array with shape of input filled with value.\n",
       "empty : Return a new uninitialized array.\n",
       "ones : Return a new array setting values to one.\n",
       "zeros : Return a new array setting values to zero.\n",
       "full : Return a new array of given shape filled with value.\n",
       "\n",
       "\n",
       "Notes\n",
       "-----\n",
       "When order is 'A' and `object` is an array in neither 'C' nor 'F' order,\n",
       "and a copy is forced by a change in dtype, then the order of the result is\n",
       "not necessarily 'C' as expected. This is likely a bug.\n",
       "\n",
       "Examples\n",
       "--------\n",
       ">>> np.array([1, 2, 3])\n",
       "array([1, 2, 3])\n",
       "\n",
       "Upcasting:\n",
       "\n",
       ">>> np.array([1, 2, 3.0])\n",
       "array([ 1.,  2.,  3.])\n",
       "\n",
       "More than one dimension:\n",
       "\n",
       ">>> np.array([[1, 2], [3, 4]])\n",
       "array([[1, 2],\n",
       "       [3, 4]])\n",
       "\n",
       "Minimum dimensions 2:\n",
       "\n",
       ">>> np.array([1, 2, 3], ndmin=2)\n",
       "array([[1, 2, 3]])\n",
       "\n",
       "Type provided:\n",
       "\n",
       ">>> np.array([1, 2, 3], dtype=complex)\n",
       "array([ 1.+0.j,  2.+0.j,  3.+0.j])\n",
       "\n",
       "Data-type consisting of more than one element:\n",
       "\n",
       ">>> x = np.array([(1,2),(3,4)],dtype=[('a','<i4'),('b','<i4')])\n",
       ">>> x['a']\n",
       "array([1, 3])\n",
       "\n",
       "Creating an array from sub-classes:\n",
       "\n",
       ">>> np.array(np.mat('1 2; 3 4'))\n",
       "array([[1, 2],\n",
       "       [3, 4]])\n",
       "\n",
       ">>> np.array(np.mat('1 2; 3 4'), subok=True)\n",
       "matrix([[1, 2],\n",
       "        [3, 4]])\n",
       "\u001b[0;31mType:\u001b[0m      builtin_function_or_method\n"
      ]
     },
     "metadata": {},
     "output_type": "display_data"
    }
   ],
   "source": [
    "# comando muy útil para obtener ayuda sobre paquetes, métodos y demás\n",
    "\n",
    "np.array?"
   ]
  },
  {
   "cell_type": "markdown",
   "metadata": {
    "colab_type": "text",
    "id": "oCN_o0o_LqgK"
   },
   "source": [
    "### matplotlib\n",
    "\n",
    "matplotlib es la librería estándar para la visualización de datos, algo que resulta fundamental para machine learning. Es muy flexible y simple de usar. Se integra con jupyter, lo cual permite ver gráficos en un notebook.\n",
    "\n",
    "La función principal de la misma es plot(), la cual toma un número variable de argumentos y grafica de forma tan simple como escribiendo plot(x,y)"
   ]
  },
  {
   "cell_type": "code",
   "execution_count": 38,
   "metadata": {
    "colab": {},
    "colab_type": "code",
    "id": "8QTV_mMPLqgM",
    "outputId": "e5824ea8-d8b8-4a1b-e722-1f695673f704"
   },
   "outputs": [
    {
     "data": {
      "image/png": "[encoded data removed]",
      "text/plain": [
       "<Figure size 432x288 with 1 Axes>"
      ]
     },
     "metadata": {
      "needs_background": "light"
     },
     "output_type": "display_data"
    }
   ],
   "source": [
    "import matplotlib.pyplot as plt\n",
    "\n",
    "x = np.linspace(0, 10, 100) # x= 0.0, 0.101, 0.202,..., 10.0\n",
    "plt.plot(x, np.sin(x))\n",
    "plt.show()"
   ]
  },
  {
   "cell_type": "code",
   "execution_count": 39,
   "metadata": {
    "colab": {},
    "colab_type": "code",
    "id": "jGT2zP2sLqgU",
    "outputId": "4fc9c830-6628-4944-f4df-e99de27144e3"
   },
   "outputs": [
    {
     "data": {
      "image/png": "[encoded data removed]",
      "text/plain": [
       "<Figure size 432x288 with 1 Axes>"
      ]
     },
     "metadata": {
      "needs_background": "light"
     },
     "output_type": "display_data"
    }
   ],
   "source": [
    "x = np.random.normal(size=500)\n",
    "y = np.random.normal(size=500)\n",
    "plt.scatter(x, y); # plot de puntos\n",
    "plt.show()"
   ]
  },
  {
   "cell_type": "markdown",
   "metadata": {},
   "source": [
    "### pandas\n",
    "\n",
    "*pandas* es una librería de manipulación de datos, que incluye manejo desde bases de datos, archivos csv, hojas de cálculo, operaciones y sumarizaciones con los mismos."
   ]
  },
  {
   "cell_type": "markdown",
   "metadata": {},
   "source": [
    "![](images/2/pandas-data-structure.svg)\n",
    "\n",
    "Fuente: https://www.w3resource.com/python-exercises/pandas/index.php"
   ]
  },
  {
   "cell_type": "code",
   "execution_count": 40,
   "metadata": {
    "colab": {},
    "colab_type": "code",
    "collapsed": true,
    "id": "yZ6o8ZsTLqhZ",
    "jupyter": {
     "outputs_hidden": true
    }
   },
   "outputs": [
    {
     "name": "stdout",
     "output_type": "stream",
     "text": [
      "          a         b         c         d\n",
      "0  0.407687  0.055366  0.788535  0.287305\n",
      "1  0.450351  0.303912  0.526400  0.623812\n",
      "2  0.776775  0.686242  0.980939  0.600816\n",
      "3  0.813969  0.708645  0.027535  0.904267\n"
     ]
    }
   ],
   "source": [
    "import pandas as pd\n",
    "\n",
    "np.random.seed(40)\n",
    "df = pd.DataFrame(np.random.rand(4,4), columns = list('abcd'))\n",
    "print(df)"
   ]
  },
  {
   "cell_type": "code",
   "execution_count": 41,
   "metadata": {},
   "outputs": [
    {
     "name": "stdout",
     "output_type": "stream",
     "text": [
      "0    0.407687\n",
      "1    0.450351\n",
      "2    0.776775\n",
      "3    0.813969\n",
      "Name: a, dtype: float64\n"
     ]
    }
   ],
   "source": [
    "# seleccionar columna 'a'\n",
    "print(df['a'])"
   ]
  },
  {
   "cell_type": "code",
   "execution_count": 42,
   "metadata": {},
   "outputs": [
    {
     "data": {
      "text/plain": [
       "a    0.776775\n",
       "b    0.686242\n",
       "c    0.980939\n",
       "d    0.600816\n",
       "Name: 2, dtype: float64"
      ]
     },
     "execution_count": 42,
     "metadata": {},
     "output_type": "execute_result"
    }
   ],
   "source": [
    "# seleccionar fila 2, todas las columnas\n",
    "df.loc[2, :]"
   ]
  },
  {
   "cell_type": "code",
   "execution_count": 43,
   "metadata": {},
   "outputs": [
    {
     "data": {
      "text/plain": [
       "0.9809388631878051"
      ]
     },
     "execution_count": 43,
     "metadata": {},
     "output_type": "execute_result"
    }
   ],
   "source": [
    "# seleccionar fila 2, solo columna c\n",
    "df.loc[2, 'c']"
   ]
  },
  {
   "cell_type": "code",
   "execution_count": 44,
   "metadata": {},
   "outputs": [
    {
     "name": "stdout",
     "output_type": "stream",
     "text": [
      "          a         b         c         d\n",
      "0  0.407687  0.055366  0.788535  0.287305\n",
      "1  0.450351  0.303912  0.526400  3.623812\n",
      "2  0.776775  0.686242  0.980939  3.600816\n",
      "3  0.813969  0.708645  0.027535  0.904267\n"
     ]
    }
   ],
   "source": [
    "# sumarle el valor 3 a las filas 2 y 3 de la columna d\n",
    "df.loc[1:2, 'd'] += 3\n",
    "print(df)"
   ]
  },
  {
   "cell_type": "code",
   "execution_count": 45,
   "metadata": {},
   "outputs": [
    {
     "name": "stdout",
     "output_type": "stream",
     "text": [
      "       a      b      c      d\n",
      "0  False  False  False  False\n",
      "1  False  False  False   True\n",
      "2  False  False  False   True\n",
      "3  False  False  False  False\n"
     ]
    }
   ],
   "source": [
    "# crear una mascara para aplicar en valores que cumplan una \n",
    "# cierta condicion, por ejemplo a aquellos valores mayores \n",
    "# a 1 de todas las columnas (se podria filtrar tambien por\n",
    "# cada columna)\n",
    "\n",
    "mask = df > 1\n",
    "print(mask)"
   ]
  },
  {
   "cell_type": "code",
   "execution_count": 46,
   "metadata": {},
   "outputs": [
    {
     "name": "stdout",
     "output_type": "stream",
     "text": [
      "          a         b         c         d\n",
      "0  0.407687  0.055366  0.788535  0.287305\n",
      "1  0.450351  0.303912  0.526400  4.623812\n",
      "2  0.776775  0.686242  0.980939  4.600816\n",
      "3  0.813969  0.708645  0.027535  0.904267\n"
     ]
    }
   ],
   "source": [
    "# con esta mascara, vamos a aplicar una una operación solamente a \n",
    "# aquellos datos que cumplen con su condicion\n",
    "\n",
    "df[mask] = df[mask] + 1\n",
    "print(df)"
   ]
  },
  {
   "cell_type": "code",
   "execution_count": 47,
   "metadata": {},
   "outputs": [
    {
     "name": "stdout",
     "output_type": "stream",
     "text": [
      "       a      b      c      d\n",
      "0  False   True  False   True\n",
      "1  False  False  False   True\n",
      "2  False  False  False   True\n",
      "3  False  False   True  False\n"
     ]
    }
   ],
   "source": [
    "# si quisieramos hacer una máscara para más de una condicion...\n",
    "\n",
    "# aplicamos la mascara a los datos mayores a 1 o menores a 0.3\n",
    "mask = (df > 1) | (df < 0.3)\n",
    "print(mask)"
   ]
  },
  {
   "cell_type": "code",
   "execution_count": 48,
   "metadata": {},
   "outputs": [
    {
     "name": "stdout",
     "output_type": "stream",
     "text": [
      "          a         b         c         d    e\n",
      "0  0.407687  0.055366  0.788535  0.287305  0.0\n",
      "1  0.450351  0.303912  0.526400  4.623812  0.0\n",
      "2  0.776775  0.686242  0.980939  4.600816  0.0\n",
      "3  0.813969  0.708645  0.027535  0.904267  0.0\n"
     ]
    }
   ],
   "source": [
    "# crear una nueva columna con todos sus valores en 0\n",
    "df['e'] = pd.Series(np.zeros(4))\n",
    "print(df)"
   ]
  },
  {
   "cell_type": "code",
   "execution_count": 49,
   "metadata": {},
   "outputs": [
    {
     "name": "stdout",
     "output_type": "stream",
     "text": [
      "          a         b         d    e\n",
      "0  0.407687  0.055366  0.287305  0.0\n",
      "1  0.450351  0.303912  4.623812  0.0\n",
      "2  0.776775  0.686242  4.600816  0.0\n",
      "3  0.813969  0.708645  0.904267  0.0\n"
     ]
    }
   ],
   "source": [
    "# eliminar una columna\n",
    "df = df.drop(columns=['c'])\n",
    "print(df)"
   ]
  },
  {
   "cell_type": "code",
   "execution_count": 50,
   "metadata": {},
   "outputs": [
    {
     "name": "stdout",
     "output_type": "stream",
     "text": [
      "          a         b         d    e         f\n",
      "0  0.407687  0.055366  0.287305  0.0  0.015907\n",
      "1  0.450351  0.303912  4.623812  0.0  1.405233\n",
      "2  0.776775  0.686242  4.600816  0.0  3.157272\n",
      "3  0.813969  0.708645  0.904267  0.0  0.640805\n"
     ]
    }
   ],
   "source": [
    "# crear una nueva columna producto de multiplicar columnas b y d\n",
    "df['f'] = df['b'] * df['d']\n",
    "print(df)"
   ]
  },
  {
   "cell_type": "code",
   "execution_count": 51,
   "metadata": {},
   "outputs": [
    {
     "name": "stdout",
     "output_type": "stream",
     "text": [
      "          a         b         d    e         f\n",
      "0  0.407687  0.055366  0.287305  0.0  0.015907\n",
      "1       NaN  0.303912  4.623812  0.0  1.405233\n",
      "2  0.776775  0.686242  4.600816  0.0  3.157272\n",
      "3  0.813969  0.708645  0.904267  0.0  0.640805\n"
     ]
    }
   ],
   "source": [
    "# alguien perdio un dato en la columna a!\n",
    "df.loc[1, 'a'] = np.nan\n",
    "print(df)"
   ]
  },
  {
   "cell_type": "code",
   "execution_count": 52,
   "metadata": {},
   "outputs": [
    {
     "name": "stdout",
     "output_type": "stream",
     "text": [
      "          a         b         d    e         f\n",
      "0  0.407687  0.055366  0.287305  0.0  0.015907\n",
      "1  0.666144  0.303912  4.623812  0.0  1.405233\n",
      "2  0.776775  0.686242  4.600816  0.0  3.157272\n",
      "3  0.813969  0.708645  0.904267  0.0  0.640805\n"
     ]
    }
   ],
   "source": [
    "# podemos completar este dato con el promedio de la columna\n",
    "df = df.fillna(df['a'].mean())\n",
    "print(df)"
   ]
  },
  {
   "cell_type": "code",
   "execution_count": 53,
   "metadata": {},
   "outputs": [
    {
     "name": "stdout",
     "output_type": "stream",
     "text": [
      "          a         b         d    e         f      g\n",
      "0  0.407687  0.055366  0.287305  0.0  0.015907   rojo\n",
      "1  0.666144  0.303912  4.623812  0.0  1.405233   rojo\n",
      "2  0.776775  0.686242  4.600816  0.0  3.157272    NaN\n",
      "3  0.813969  0.708645  0.904267  0.0  0.640805  verde\n"
     ]
    }
   ],
   "source": [
    "# para valores categóricos podemos completar los datos faltantes usando la moda...\n",
    "df['g'] = ['rojo', 'rojo', np.nan, 'verde']\n",
    "print(df)"
   ]
  },
  {
   "cell_type": "code",
   "execution_count": 54,
   "metadata": {},
   "outputs": [
    {
     "name": "stdout",
     "output_type": "stream",
     "text": [
      "          a         b         d    e         f      g\n",
      "0  0.407687  0.055366  0.287305  0.0  0.015907   rojo\n",
      "1  0.666144  0.303912  4.623812  0.0  1.405233   rojo\n",
      "2  0.776775  0.686242  4.600816  0.0  3.157272   rojo\n",
      "3  0.813969  0.708645  0.904267  0.0  0.640805  verde\n"
     ]
    }
   ],
   "source": [
    "df = df.fillna(df['g'].mode()[0])  \n",
    "# notar que se usa el subindice 0 porque el objeto resultante es de tipo Series con un elemento\n",
    "print(df)"
   ]
  },
  {
   "cell_type": "code",
   "execution_count": 55,
   "metadata": {},
   "outputs": [
    {
     "name": "stdout",
     "output_type": "stream",
     "text": [
      "<class 'pandas.core.series.Series'>\n"
     ]
    }
   ],
   "source": [
    "print(type(df['g'].mode()))"
   ]
  },
  {
   "cell_type": "code",
   "execution_count": 56,
   "metadata": {},
   "outputs": [
    {
     "name": "stdout",
     "output_type": "stream",
     "text": [
      "              a         b         d    e         f\n",
      "count  4.000000  4.000000  4.000000  4.0  4.000000\n",
      "mean   0.666144  0.438541  2.604050  0.0  1.304804\n",
      "std    0.183386  0.315837  2.332601  0.0  1.359396\n",
      "min    0.407687  0.055366  0.287305  0.0  0.015907\n",
      "25%    0.601530  0.241776  0.750027  0.0  0.484580\n",
      "50%    0.721460  0.495077  2.752542  0.0  1.023019\n",
      "75%    0.786074  0.691843  4.606565  0.0  1.843243\n",
      "max    0.813969  0.708645  4.623812  0.0  3.157272\n"
     ]
    }
   ],
   "source": [
    "# método básico de descripción de un dataframe\n",
    "\n",
    "print(df.describe())"
   ]
  },
  {
   "cell_type": "markdown",
   "metadata": {},
   "source": [
    "Link con más ejemplos y comandos básicos:\n",
    "\n",
    "https://www.w3resource.com/python-exercises/pandas/index.php"
   ]
  },
  {
   "cell_type": "markdown",
   "metadata": {},
   "source": [
    "# Ejercicios de práctica:\n",
    "\n",
    "Vamos a trabajar con dataset del COVID-19\n",
    "\n",
    "Dataset global: https://github.com/CSSEGISandData/COVID-19\n",
    "\n",
    "Dataset Argentina: https://github.com/SistemasMapache/Covid19arData. Spreadsheets: https://docs.google.com/spreadsheets/d/16-bnsDdmmgtSxdWbVMboIHo5FRuz76DBxsz_BbsEVWA/edit#gid=0\n",
    "\n"
   ]
  },
  {
   "cell_type": "code",
   "execution_count": 57,
   "metadata": {},
   "outputs": [],
   "source": [
    "# imports otra vez, para poder empezar a ejecutar desde aquí si se desea\n",
    "import numpy as np\n",
    "import pandas as pd\n",
    "import matplotlib.pyplot as plt\n",
    "import datetime"
   ]
  },
  {
   "cell_type": "code",
   "execution_count": 58,
   "metadata": {},
   "outputs": [],
   "source": [
    "# leemos el dataset de argentina\n",
    "\n",
    "data_url= 'https://docs.google.com/spreadsheets/d/16-bnsDdmmgtSxdWbVMboIHo5FRuz76DBxsz_BbsEVWA/export?format=csv&id=16-bnsDdmmgtSxdWbVMboIHo5FRuz76DBxsz_BbsEVWA&gid=0'\n",
    "covid_df = pd.read_csv(data_url)"
   ]
  },
  {
   "cell_type": "code",
   "execution_count": 59,
   "metadata": {},
   "outputs": [
    {
     "data": {
      "text/html": [
       "<div>\n",
       "<style scoped>\n",
       "    .dataframe tbody tr th:only-of-type {\n",
       "        vertical-align: middle;\n",
       "    }\n",
       "\n",
       "    .dataframe tbody tr th {\n",
       "        vertical-align: top;\n",
       "    }\n",
       "\n",
       "    .dataframe thead th {\n",
       "        text-align: right;\n",
       "    }\n",
       "</style>\n",
       "<table border=\"1\" class=\"dataframe\">\n",
       "  <thead>\n",
       "    <tr style=\"text-align: right;\">\n",
       "      <th></th>\n",
       "      <th>fecha</th>\n",
       "      <th>dia_inicio</th>\n",
       "      <th>dia_cuarentena_dnu260</th>\n",
       "      <th>osm_admin_level_2</th>\n",
       "      <th>osm_admin_level_4</th>\n",
       "      <th>osm_admin_level_8</th>\n",
       "      <th>tot_casosconf</th>\n",
       "      <th>nue_casosconf_diff</th>\n",
       "      <th>tot_fallecidos</th>\n",
       "      <th>nue_fallecidos_diff</th>\n",
       "      <th>tot_recuperados</th>\n",
       "      <th>test_RT-PCR_negativos</th>\n",
       "      <th>test_RT-PCR_total</th>\n",
       "      <th>transmision_tipo</th>\n",
       "      <th>informe_tipo</th>\n",
       "      <th>informe_link</th>\n",
       "      <th>observacion</th>\n",
       "      <th>covid19argentina_admin_level_4</th>\n",
       "    </tr>\n",
       "  </thead>\n",
       "  <tbody>\n",
       "    <tr>\n",
       "      <th>432</th>\n",
       "      <td>15/04/2020</td>\n",
       "      <td>40</td>\n",
       "      <td>24.0</td>\n",
       "      <td>Argentina</td>\n",
       "      <td>Salta</td>\n",
       "      <td>NaN</td>\n",
       "      <td>2566</td>\n",
       "      <td>1</td>\n",
       "      <td>112</td>\n",
       "      <td>0</td>\n",
       "      <td>NaN</td>\n",
       "      <td>NaN</td>\n",
       "      <td>NaN</td>\n",
       "      <td>NaN</td>\n",
       "      <td>NaN</td>\n",
       "      <td>https://www.argentina.gob.ar/sites/default/fil...</td>\n",
       "      <td>NaN</td>\n",
       "      <td>salta</td>\n",
       "    </tr>\n",
       "    <tr>\n",
       "      <th>433</th>\n",
       "      <td>15/04/2020</td>\n",
       "      <td>40</td>\n",
       "      <td>24.0</td>\n",
       "      <td>Argentina</td>\n",
       "      <td>Santa Fe</td>\n",
       "      <td>Rosario</td>\n",
       "      <td>2567</td>\n",
       "      <td>1</td>\n",
       "      <td>112</td>\n",
       "      <td>0</td>\n",
       "      <td>NaN</td>\n",
       "      <td>NaN</td>\n",
       "      <td>NaN</td>\n",
       "      <td>NaN</td>\n",
       "      <td>NaN</td>\n",
       "      <td>https://www.santafe.gob.ar/index.php/web/conte...</td>\n",
       "      <td>NaN</td>\n",
       "      <td>santa-fe</td>\n",
       "    </tr>\n",
       "    <tr>\n",
       "      <th>434</th>\n",
       "      <td>15/04/2020</td>\n",
       "      <td>40</td>\n",
       "      <td>24.0</td>\n",
       "      <td>Argentina</td>\n",
       "      <td>Santa Fe</td>\n",
       "      <td>Cayastá</td>\n",
       "      <td>2568</td>\n",
       "      <td>1</td>\n",
       "      <td>112</td>\n",
       "      <td>0</td>\n",
       "      <td>NaN</td>\n",
       "      <td>NaN</td>\n",
       "      <td>NaN</td>\n",
       "      <td>NaN</td>\n",
       "      <td>NaN</td>\n",
       "      <td>https://www.santafe.gob.ar/index.php/web/conte...</td>\n",
       "      <td>NaN</td>\n",
       "      <td>santa-fe</td>\n",
       "    </tr>\n",
       "    <tr>\n",
       "      <th>435</th>\n",
       "      <td>15/04/2020</td>\n",
       "      <td>40</td>\n",
       "      <td>24.0</td>\n",
       "      <td>Argentina</td>\n",
       "      <td>Tierra del Fuego</td>\n",
       "      <td>Ushuaia</td>\n",
       "      <td>2571</td>\n",
       "      <td>3</td>\n",
       "      <td>112</td>\n",
       "      <td>0</td>\n",
       "      <td>NaN</td>\n",
       "      <td>NaN</td>\n",
       "      <td>NaN</td>\n",
       "      <td>NaN</td>\n",
       "      <td>NaN</td>\n",
       "      <td>https://www.facebook.com/saludtdf</td>\n",
       "      <td>NaN</td>\n",
       "      <td>tierra-del-fuego</td>\n",
       "    </tr>\n",
       "    <tr>\n",
       "      <th>436</th>\n",
       "      <td>15/04/2020</td>\n",
       "      <td>42</td>\n",
       "      <td>26.0</td>\n",
       "      <td>Argentina</td>\n",
       "      <td>Indeterminado</td>\n",
       "      <td>NaN</td>\n",
       "      <td>2571</td>\n",
       "      <td>0</td>\n",
       "      <td>112</td>\n",
       "      <td>0</td>\n",
       "      <td>631.0</td>\n",
       "      <td>20172.0</td>\n",
       "      <td>22743.0</td>\n",
       "      <td>transmision comunitaria</td>\n",
       "      <td>NaN</td>\n",
       "      <td>NaN</td>\n",
       "      <td>NaN</td>\n",
       "      <td>no-data</td>\n",
       "    </tr>\n",
       "  </tbody>\n",
       "</table>\n",
       "</div>"
      ],
      "text/plain": [
       "          fecha  dia_inicio  dia_cuarentena_dnu260 osm_admin_level_2  \\\n",
       "432  15/04/2020          40                   24.0         Argentina   \n",
       "433  15/04/2020          40                   24.0         Argentina   \n",
       "434  15/04/2020          40                   24.0         Argentina   \n",
       "435  15/04/2020          40                   24.0         Argentina   \n",
       "436  15/04/2020          42                   26.0         Argentina   \n",
       "\n",
       "    osm_admin_level_4 osm_admin_level_8  tot_casosconf  nue_casosconf_diff  \\\n",
       "432             Salta               NaN           2566                   1   \n",
       "433          Santa Fe           Rosario           2567                   1   \n",
       "434          Santa Fe           Cayastá           2568                   1   \n",
       "435  Tierra del Fuego           Ushuaia           2571                   3   \n",
       "436     Indeterminado               NaN           2571                   0   \n",
       "\n",
       "     tot_fallecidos  nue_fallecidos_diff  tot_recuperados  \\\n",
       "432             112                    0              NaN   \n",
       "433             112                    0              NaN   \n",
       "434             112                    0              NaN   \n",
       "435             112                    0              NaN   \n",
       "436             112                    0            631.0   \n",
       "\n",
       "     test_RT-PCR_negativos  test_RT-PCR_total         transmision_tipo  \\\n",
       "432                    NaN                NaN                      NaN   \n",
       "433                    NaN                NaN                      NaN   \n",
       "434                    NaN                NaN                      NaN   \n",
       "435                    NaN                NaN                      NaN   \n",
       "436                20172.0            22743.0  transmision comunitaria   \n",
       "\n",
       "    informe_tipo                                       informe_link  \\\n",
       "432          NaN  https://www.argentina.gob.ar/sites/default/fil...   \n",
       "433          NaN  https://www.santafe.gob.ar/index.php/web/conte...   \n",
       "434          NaN  https://www.santafe.gob.ar/index.php/web/conte...   \n",
       "435          NaN                  https://www.facebook.com/saludtdf   \n",
       "436          NaN                                                NaN   \n",
       "\n",
       "    observacion covid19argentina_admin_level_4  \n",
       "432         NaN                          salta  \n",
       "433         NaN                       santa-fe  \n",
       "434         NaN                       santa-fe  \n",
       "435         NaN               tierra-del-fuego  \n",
       "436         NaN                        no-data  "
      ]
     },
     "execution_count": 59,
     "metadata": {},
     "output_type": "execute_result"
    }
   ],
   "source": [
    "# vemos las últimas filas del dataset\n",
    "covid_df.tail()"
   ]
  },
  {
   "cell_type": "code",
   "execution_count": 60,
   "metadata": {},
   "outputs": [
    {
     "data": {
      "text/html": [
       "<div>\n",
       "<style scoped>\n",
       "    .dataframe tbody tr th:only-of-type {\n",
       "        vertical-align: middle;\n",
       "    }\n",
       "\n",
       "    .dataframe tbody tr th {\n",
       "        vertical-align: top;\n",
       "    }\n",
       "\n",
       "    .dataframe thead th {\n",
       "        text-align: right;\n",
       "    }\n",
       "</style>\n",
       "<table border=\"1\" class=\"dataframe\">\n",
       "  <thead>\n",
       "    <tr style=\"text-align: right;\">\n",
       "      <th></th>\n",
       "      <th>dia_inicio</th>\n",
       "      <th>dia_cuarentena_dnu260</th>\n",
       "      <th>tot_casosconf</th>\n",
       "      <th>nue_casosconf_diff</th>\n",
       "      <th>tot_fallecidos</th>\n",
       "      <th>nue_fallecidos_diff</th>\n",
       "      <th>tot_recuperados</th>\n",
       "      <th>test_RT-PCR_negativos</th>\n",
       "      <th>test_RT-PCR_total</th>\n",
       "    </tr>\n",
       "  </thead>\n",
       "  <tbody>\n",
       "    <tr>\n",
       "      <th>count</th>\n",
       "      <td>437.000000</td>\n",
       "      <td>376.000000</td>\n",
       "      <td>437.000000</td>\n",
       "      <td>437.000000</td>\n",
       "      <td>437.000000</td>\n",
       "      <td>437.000000</td>\n",
       "      <td>29.000000</td>\n",
       "      <td>30.00000</td>\n",
       "      <td>30.000000</td>\n",
       "    </tr>\n",
       "    <tr>\n",
       "      <th>mean</th>\n",
       "      <td>27.212815</td>\n",
       "      <td>13.712766</td>\n",
       "      <td>1139.382151</td>\n",
       "      <td>5.883295</td>\n",
       "      <td>39.210526</td>\n",
       "      <td>0.256293</td>\n",
       "      <td>253.448276</td>\n",
       "      <td>6507.60000</td>\n",
       "      <td>7593.566667</td>\n",
       "    </tr>\n",
       "    <tr>\n",
       "      <th>std</th>\n",
       "      <td>8.966708</td>\n",
       "      <td>6.801760</td>\n",
       "      <td>748.589032</td>\n",
       "      <td>8.989934</td>\n",
       "      <td>34.005080</td>\n",
       "      <td>0.731492</td>\n",
       "      <td>189.329001</td>\n",
       "      <td>6058.81495</td>\n",
       "      <td>6840.676871</td>\n",
       "    </tr>\n",
       "    <tr>\n",
       "      <th>min</th>\n",
       "      <td>1.000000</td>\n",
       "      <td>1.000000</td>\n",
       "      <td>1.000000</td>\n",
       "      <td>0.000000</td>\n",
       "      <td>0.000000</td>\n",
       "      <td>0.000000</td>\n",
       "      <td>18.000000</td>\n",
       "      <td>464.00000</td>\n",
       "      <td>529.000000</td>\n",
       "    </tr>\n",
       "    <tr>\n",
       "      <th>25%</th>\n",
       "      <td>21.000000</td>\n",
       "      <td>8.000000</td>\n",
       "      <td>479.000000</td>\n",
       "      <td>1.000000</td>\n",
       "      <td>8.000000</td>\n",
       "      <td>0.000000</td>\n",
       "      <td>72.000000</td>\n",
       "      <td>1453.00000</td>\n",
       "      <td>1775.000000</td>\n",
       "    </tr>\n",
       "    <tr>\n",
       "      <th>50%</th>\n",
       "      <td>28.000000</td>\n",
       "      <td>13.000000</td>\n",
       "      <td>1104.000000</td>\n",
       "      <td>2.000000</td>\n",
       "      <td>30.000000</td>\n",
       "      <td>0.000000</td>\n",
       "      <td>256.000000</td>\n",
       "      <td>4331.00000</td>\n",
       "      <td>5341.000000</td>\n",
       "    </tr>\n",
       "    <tr>\n",
       "      <th>75%</th>\n",
       "      <td>34.000000</td>\n",
       "      <td>20.000000</td>\n",
       "      <td>1715.000000</td>\n",
       "      <td>6.000000</td>\n",
       "      <td>60.000000</td>\n",
       "      <td>0.000000</td>\n",
       "      <td>365.000000</td>\n",
       "      <td>9691.75000</td>\n",
       "      <td>11385.000000</td>\n",
       "    </tr>\n",
       "    <tr>\n",
       "      <th>max</th>\n",
       "      <td>42.000000</td>\n",
       "      <td>26.000000</td>\n",
       "      <td>2571.000000</td>\n",
       "      <td>66.000000</td>\n",
       "      <td>112.000000</td>\n",
       "      <td>6.000000</td>\n",
       "      <td>631.000000</td>\n",
       "      <td>20172.00000</td>\n",
       "      <td>22743.000000</td>\n",
       "    </tr>\n",
       "  </tbody>\n",
       "</table>\n",
       "</div>"
      ],
      "text/plain": [
       "       dia_inicio  dia_cuarentena_dnu260  tot_casosconf  nue_casosconf_diff  \\\n",
       "count  437.000000             376.000000     437.000000          437.000000   \n",
       "mean    27.212815              13.712766    1139.382151            5.883295   \n",
       "std      8.966708               6.801760     748.589032            8.989934   \n",
       "min      1.000000               1.000000       1.000000            0.000000   \n",
       "25%     21.000000               8.000000     479.000000            1.000000   \n",
       "50%     28.000000              13.000000    1104.000000            2.000000   \n",
       "75%     34.000000              20.000000    1715.000000            6.000000   \n",
       "max     42.000000              26.000000    2571.000000           66.000000   \n",
       "\n",
       "       tot_fallecidos  nue_fallecidos_diff  tot_recuperados  \\\n",
       "count      437.000000           437.000000        29.000000   \n",
       "mean        39.210526             0.256293       253.448276   \n",
       "std         34.005080             0.731492       189.329001   \n",
       "min          0.000000             0.000000        18.000000   \n",
       "25%          8.000000             0.000000        72.000000   \n",
       "50%         30.000000             0.000000       256.000000   \n",
       "75%         60.000000             0.000000       365.000000   \n",
       "max        112.000000             6.000000       631.000000   \n",
       "\n",
       "       test_RT-PCR_negativos  test_RT-PCR_total  \n",
       "count               30.00000          30.000000  \n",
       "mean              6507.60000        7593.566667  \n",
       "std               6058.81495        6840.676871  \n",
       "min                464.00000         529.000000  \n",
       "25%               1453.00000        1775.000000  \n",
       "50%               4331.00000        5341.000000  \n",
       "75%               9691.75000       11385.000000  \n",
       "max              20172.00000       22743.000000  "
      ]
     },
     "execution_count": 60,
     "metadata": {},
     "output_type": "execute_result"
    }
   ],
   "source": [
    "# describimos el dataset\n",
    "covid_df.describe()"
   ]
  },
  {
   "cell_type": "code",
   "execution_count": 61,
   "metadata": {},
   "outputs": [],
   "source": [
    "x_dia_inicio = covid_df['dia_inicio'].values"
   ]
  },
  {
   "cell_type": "code",
   "execution_count": 62,
   "metadata": {},
   "outputs": [
    {
     "name": "stdout",
     "output_type": "stream",
     "text": [
      "[ 1  2  3  4  5  6  7  8  8  8  8  9  9 10 10  8  9  9 10 11 11 11 11 12\n",
      " 12 12 12 13 13 13 13 13 13 13 13 13 13 14 14 14 14 14 14 15 15 15 15 15\n",
      " 15 15]\n"
     ]
    }
   ],
   "source": [
    "print(x_dia_inicio[:50])"
   ]
  },
  {
   "cell_type": "code",
   "execution_count": 63,
   "metadata": {},
   "outputs": [
    {
     "name": "stdout",
     "output_type": "stream",
     "text": [
      "[  1   1   1   2   2   2  10  11  13  18  19  20  21  22  23  33  34  36\n",
      "  47  53  57  58  59  64  67  68  68  69  73  75  76  77  78  79  80  81\n",
      "  81  91  92  98  99 100 100 114 122 124 126 127 128 130]\n"
     ]
    }
   ],
   "source": [
    "y = covid_df['tot_casosconf'].values\n",
    "print(y[:50])"
   ]
  },
  {
   "cell_type": "code",
   "execution_count": 64,
   "metadata": {},
   "outputs": [],
   "source": [
    "y_contagios = covid_df['tot_casosconf'].values\n",
    "y_fallecidos = covid_df['tot_fallecidos'].values"
   ]
  },
  {
   "cell_type": "code",
   "execution_count": 65,
   "metadata": {},
   "outputs": [
    {
     "data": {
      "image/png": "[encoded data removed]",
      "text/plain": [
       "<Figure size 432x288 with 1 Axes>"
      ]
     },
     "metadata": {
      "needs_background": "light"
     },
     "output_type": "display_data"
    }
   ],
   "source": [
    "plt.plot(x_dia_inicio,y_contagios, label='n contagios')\n",
    "plt.plot(x_dia_inicio, y_fallecidos, label='n decesos')\n",
    "plt.legend(loc='best', numpoints=1) \n",
    "plt.title(\"Curva de contagios en Argentina\")\n",
    "plt.xlabel(\"Días desde el primer contagio\")\n",
    "plt.show()"
   ]
  },
  {
   "cell_type": "code",
   "execution_count": 66,
   "metadata": {},
   "outputs": [],
   "source": [
    "# podemos agrupar los casos de mismo día y distintas provincias \n",
    "# de forma muy similar a como lo haríamos con SQL\n",
    "\n",
    "covid_df_g1 = covid_df.groupby('dia_inicio')['tot_casosconf', 'tot_fallecidos'].max().reset_index()"
   ]
  },
  {
   "cell_type": "code",
   "execution_count": 67,
   "metadata": {},
   "outputs": [
    {
     "name": "stdout",
     "output_type": "stream",
     "text": [
      "    dia_inicio  tot_casosconf  tot_fallecidos\n",
      "0            1              1               0\n",
      "1            2              1               0\n",
      "2            3              1               0\n",
      "3            4              2               0\n",
      "4            5              2               0\n",
      "5            6              2               0\n",
      "6            7             10               0\n",
      "7            8             33               1\n",
      "8            9             36               2\n",
      "9           10             47               2\n",
      "10          11             59               2\n",
      "11          12             68               2\n",
      "12          13             81               2\n",
      "13          14            100               2\n",
      "14          15            130               3\n",
      "15          16            159               3\n",
      "16          17            226               4\n",
      "17          18            265               4\n",
      "18          19            302               4\n",
      "19          20            386               6\n",
      "20          21            503               8\n",
      "21          22            589              12\n",
      "22          23            691              17\n",
      "23          24            745              19\n",
      "24          25            820              20\n",
      "25          26            966              24\n",
      "26          27           1054              27\n",
      "27          28           1133              32\n",
      "28          29           1265              36\n",
      "29          30           1353              42\n",
      "30          31           1451              44\n",
      "31          32           1554              46\n",
      "32          33           1627              53\n",
      "33          34           1715              60\n",
      "34          35           1795              65\n",
      "35          36           1893              79\n",
      "36          37           1974              82\n",
      "37          38           2141              89\n",
      "38          39           2208              95\n",
      "39          40           2571             112\n",
      "40          41           2442             109\n",
      "41          42           2571             112\n"
     ]
    }
   ],
   "source": [
    "print(covid_df_g1)"
   ]
  },
  {
   "cell_type": "code",
   "execution_count": 68,
   "metadata": {},
   "outputs": [],
   "source": [
    "x_dia_inicio = covid_df_g1['dia_inicio'].values"
   ]
  },
  {
   "cell_type": "code",
   "execution_count": 69,
   "metadata": {},
   "outputs": [],
   "source": [
    "y_contagios_g1 = covid_df_g1['tot_casosconf'].values\n",
    "y_fallecidos_g1 = covid_df_g1['tot_fallecidos'].values"
   ]
  },
  {
   "cell_type": "code",
   "execution_count": 70,
   "metadata": {},
   "outputs": [
    {
     "data": {
      "image/png": "[encoded data removed]",
      "text/plain": [
       "<Figure size 432x288 with 1 Axes>"
      ]
     },
     "metadata": {
      "needs_background": "light"
     },
     "output_type": "display_data"
    }
   ],
   "source": [
    "plt.plot(x_dia_inicio,y_contagios_g1, label='contagios')\n",
    "plt.plot(x_dia_inicio, y_fallecidos_g1, label='decesos')\n",
    "plt.legend(loc='best', numpoints=1) \n",
    "plt.title(\"Curva de contagios en Argentina\")\n",
    "plt.xlabel(\"Días desde el primer contagio\")\n",
    "plt.show()"
   ]
  },
  {
   "cell_type": "markdown",
   "metadata": {},
   "source": [
    "## Ejercicios:\n",
    "\n",
    "1. Familiarizarse con el notebook. Instalar anaconda y correr el notebook en un entorno virtual. [Alternativa 1](https://colab.research.google.com/github/inteligenciafrvm/inteligenciafrvm/blob/master/Clases%20pr%C3%A1cticas/2.%20Intro%20a%20python%20para%20aprendizaje%20autom%C3%A1tico.ipynb). [Alternativa 2](https://mybinder.org/v2/gh/inteligenciafrvm/inteligenciafrvm/387cd473bc45812e581516196b1812deb9d0d0b2?filepath=Clases%20pr%C3%A1cticas%2F2.%20Intro%20a%20python%20para%20aprendizaje%20autom%C3%A1tico.ipynb).\n",
    "\n",
    "### Numpy\n",
    "\n",
    "1. Crear un vector con valores de 10 a 49.\n",
    "2. Elevar al cuadrado a aquellos números divisibles por 3.\n",
    "3. Redimensionar ese vector en una matriz de 20x2.\n",
    "4. Crear una nueva matriz de 2x10 y multiplicarla a la matriz anterior.\n",
    "5. Obtener la transpuesta de la matriz resultante."
   ]
  },
  {
   "cell_type": "markdown",
   "metadata": {},
   "source": [
    "### Pandas + matplotlib\n",
    "\n",
    "Con el Dataset de sistemas mapache:\n",
    "\n",
    "1. Elaborar una curva que tome como eje X desde el primer día de la cuarentena, en lugar del primer día del contagio.\n",
    "\n",
    "1. Elaborar curva que contenga la cantidad de contagios por día, en lugar de los contagios acumulados.\n",
    "\n",
    "1. Elaborar curvas desde el contagio nro 200.\n",
    "\n",
    "1. Usar escala log10 en lugar de escala decimal para los contagios.\n",
    "\n",
    "1. Hacer una curva para Córdoba.\n",
    "\n",
    "Con el dataset mundial:\n",
    "\n",
    "1. Comparar Argentina con otros países del mundo.\n",
    "\n",
    "1. Comparar en otros países cómo difiere según si implementan o no cuarentena.\n",
    "\n",
    "1. Graficar la curva de China."
   ]
  },
  {
   "cell_type": "code",
   "execution_count": null,
   "metadata": {},
   "outputs": [],
   "source": []
  }
 ],
 "metadata": {
  "anaconda-cloud": {},
  "colab": {
   "include_colab_link": true,
   "name": "2. Intro a Python para Inteligencia Artificial.ipynb",
   "provenance": []
  },
  "kernelspec": {
   "display_name": "Python 3",
   "language": "python",
   "name": "python3"
  },
  "language_info": {
   "codemirror_mode": {
    "name": "ipython",
    "version": 3
   },
   "file_extension": ".py",
   "mimetype": "text/x-python",
   "name": "python",
   "nbconvert_exporter": "python",
   "pygments_lexer": "ipython3",
   "version": "3.7.7"
  }
 },
 "nbformat": 4,
 "nbformat_minor": 4
}
