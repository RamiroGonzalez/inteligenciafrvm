{
 "cells": [
  {
   "cell_type": "markdown",
   "metadata": {
    "slideshow": {
     "slide_type": "skip"
    },
    "tags": []
   },
   "source": [
    "<a href=\"https://colab.research.google.com/github/inteligenciafrvm/inteligenciafrvm/blob/master/Clases%20pr%C3%A1cticas/3.%20Intro%20al%20aprendizaje%20supervisado%20(clasificaci%C3%B3n%20I).ipynb\" target=\"_parent\"><img src=\"https://colab.research.google.com/assets/colab-badge.svg\" alt=\"Open In Colab\"/></a>"
   ]
  },
  {
   "cell_type": "markdown",
   "metadata": {
    "slideshow": {
     "slide_type": "slide"
    },
    "tags": []
   },
   "source": [
    "# Introducción al ML: Aprendizaje Supervisado - Clasificación (Parte I)"
   ]
  },
  {
   "cell_type": "markdown",
   "metadata": {
    "slideshow": {
     "slide_type": "skip"
    },
    "tags": []
   },
   "source": [
    "* Vista general del Aprendizaje Supervisado\n",
    "* Problemas de Clasificación\n",
    "* k-Nearest Neighbors\n",
    "* Entrenamiento y test de un modelo\n",
    "* Validación cruzada\n",
    "* Ajuste de Híper-parámetros\n",
    "* Balance entre Sesgo y Varianza"
   ]
  },
  {
   "cell_type": "markdown",
   "metadata": {},
   "source": [
    "5to año - Ingeniería en Sistemas de Información\n",
    "\n",
    "UTN - Facultad Regional Villa María"
   ]
  },
  {
   "cell_type": "markdown",
   "metadata": {},
   "source": [
    "*\"We are drowning in information and starving for knowledge.\"*\n",
    "\n",
    "                                        –Rutherford D. Roger\n"
   ]
  },
  {
   "cell_type": "markdown",
   "metadata": {
    "slideshow": {
     "slide_type": "slide"
    },
    "tags": []
   },
   "source": [
    "## Introducción al Aprendizaje Supervisado\n",
    "\n",
    "Objetivo de máxima: predecir salidas $y$ a partir de una matriz de entrada:\n",
    "\n",
    "    \n",
    "$X = \n",
    " \\begin{pmatrix}\n",
    "  x_{1,1} & x_{1,2} & \\cdots & x_{1,p} \\\\\n",
    "  x_{2,1} & x_{2,2} & \\cdots & x_{2,p} \\\\\n",
    "  \\vdots  & \\vdots  & \\ddots & \\vdots  \\\\\n",
    "  x_{n,1} & x_{n,2} & \\cdots & x_{n,p} \n",
    " \\end{pmatrix}\n",
    "$\n",
    "\n",
    "\n"
   ]
  },
  {
   "cell_type": "markdown",
   "metadata": {
    "slideshow": {
     "slide_type": "skip"
    },
    "tags": []
   },
   "source": [
    "Es una matriz de orden $n \\times p$, donde $n$ es la **cantidad de observaciones** (representando cada fila a una observación individual), mientras que $p$ es la **cantidad de predictores**. En otras palabras, $X$ es una matriz de $n$ entradas donde cada una tiene $p$ predictores. \n",
    "\n"
   ]
  },
  {
   "cell_type": "markdown",
   "metadata": {
    "slideshow": {
     "slide_type": "fragment"
    },
    "tags": []
   },
   "source": [
    "Salidas:\n",
    "\n",
    "$y = \n",
    " \\begin{pmatrix}\n",
    "  y_{1} \\\\\n",
    "  y_{2} \\\\\n",
    "  \\vdots  \\\\\n",
    "  y_{n}  \n",
    " \\end{pmatrix}$\n",
    "\n",
    "\n"
   ]
  },
  {
   "cell_type": "markdown",
   "metadata": {
    "slideshow": {
     "slide_type": "skip"
    },
    "tags": []
   },
   "source": [
    "$y$ es un vector de orden $n \\times 1$ que representa las salidas observadas asociadas a cada fila de entradas. De esta manera, $y_i$ es un escalar de salida observada a partir del vector fila de entrada observada $X_i$, donde"
   ]
  },
  {
   "cell_type": "markdown",
   "metadata": {
    "slideshow": {
     "slide_type": "fragment"
    },
    "tags": []
   },
   "source": [
    "Observación $X_i = \n",
    " \\begin{pmatrix}\n",
    "  x_{i,1} & x_{i,2} & \\cdots & x_{i,p}\n",
    " \\end{pmatrix}$"
   ]
  },
  {
   "cell_type": "markdown",
   "metadata": {
    "slideshow": {
     "slide_type": "skip"
    },
    "tags": []
   },
   "source": [
    "Ejemplo (reducido a partir de https://archive.ics.uci.edu/ml/datasets/Mushroom):\n",
    "\n",
    "En base a nuestro (pequeño) conjunto de datos, tenemos que determinar si un hongo es o no venenoso. Contamos con 2 predictores: el predictor 1 es la forma del sombrero del hongo mientras que el predictor 2 es el color del sombrero. Contamos con tres observaciones\n",
    "\n"
   ]
  },
  {
   "cell_type": "markdown",
   "metadata": {
    "slideshow": {
     "slide_type": "subslide"
    },
    "tags": []
   },
   "source": [
    "$X = \n",
    " \\begin{pmatrix}\n",
    "  \\text{convexa} & \\text{marrón} \\\\\n",
    "  \\text{convexa} & \\text{blanco} \\\\\n",
    "  \\text{campana} & \\text{blanco} \n",
    " \\end{pmatrix}\n",
    "$\n",
    "\n",
    "\n",
    "$y = \n",
    " \\begin{pmatrix}\n",
    "  \\text{venenoso} \\\\\n",
    "  \\text{comestible} \\\\\n",
    "  \\text{comestible}  \n",
    " \\end{pmatrix}$\n",
    " \n",
    "$y_i \\in \\{venenoso, comestible\\}$\n",
    " \n",
    "Objetivo: \n",
    "\n",
    "* Encontrar un modelo que pueda aprender cuándo un hongo es venenoso, para poder **generalizarlo** a hongos no vistos con anterioridad.\n",
    "\n",
    "* Se busca que nuestras predicciones $\\hat{y}$ sean lo más cercanas posible a los valores verdaderos observados $y = f(X) + \\epsilon$, donde $f(X)$ es la desconocida **función objetivo** (el \"sombrero\", $\\hat{}$, denota estimación)."
   ]
  },
  {
   "cell_type": "markdown",
   "metadata": {
    "slideshow": {
     "slide_type": "skip"
    },
    "tags": []
   },
   "source": [
    "Comentario: el criterio utilizado para los nombres es el de mantener los nombres originales (en inglés) en la medida de lo posible. Esto se debe a que no existe amplia bibliografía en español sobre los temas aquí presentados, por lo tanto preferimos no traducir la mayoría de los términos, puesto que entendemos podría dificultar su posterior consulta en la bibliografía. Para aquellos términos que han sido traducidos, se aclara entre paréntesis su correspondiente término en inglés."
   ]
  },
  {
   "cell_type": "markdown",
   "metadata": {
    "slideshow": {
     "slide_type": "skip"
    },
    "tags": []
   },
   "source": [
    "Vista general:\n",
    "    \n",
    "* Dado $X$, existen variables llamadas características, los cuales expresan aspectos de cada observación que pueden ser medidos o calculados (también llamadas features, inputs, predictors o independent variables)."
   ]
  },
  {
   "cell_type": "markdown",
   "metadata": {
    "slideshow": {
     "slide_type": "skip"
    },
    "tags": []
   },
   "source": [
    "* Los mismos influyen sobre otras llamadas variables de respuesta $y$ (también se denominan como response, outputs, dependent, target variables)."
   ]
  },
  {
   "cell_type": "markdown",
   "metadata": {
    "slideshow": {
     "slide_type": "skip"
    },
    "tags": []
   },
   "source": [
    "* En el aprendizaje supervisado, el conjunto que incluye a $X$ e $y$ conforma el **dataset** $D_n = \\{(X_1,y_1), (X_2,y_2),..., (X_n,y_n)\\}$ compuesto por \n",
    "    * $X_i \\in \\mathbb{R}^p$ \n",
    "    * $y_i \\in \\mathbb{R}$ o bien $y_i \\in \\{c_1, c_2, ..., c_n\\}$ dependiendo de si se trata de un problema de **regresión** o de **clasificación**."
   ]
  },
  {
   "cell_type": "markdown",
   "metadata": {
    "slideshow": {
     "slide_type": "fragment"
    },
    "tags": []
   },
   "source": [
    "* El aprendizaje es \"supervisado\" porque el agente que aprende cuenta a priori con ejemplos correctos. Tras **entrenar** con ellos, el agente aprende a generalizar de tal modo de generar buenas predicciones sobre datos no observados."
   ]
  },
  {
   "cell_type": "markdown",
   "metadata": {
    "slideshow": {
     "slide_type": "fragment"
    },
    "tags": []
   },
   "source": [
    "* A partir de $D$, se distinguen el subconjunto de **datos de entrenamiento**, utilizados para adaptar el modelo y el subconjunto de **datos de test**, empleados para testear la capacidad de generalización del modelo para salidas no utilizadas en el entrenamiento."
   ]
  },
  {
   "cell_type": "markdown",
   "metadata": {
    "slideshow": {
     "slide_type": "subslide"
    },
    "tags": []
   },
   "source": [
    "![](images/3/supervised_workflow.svg)"
   ]
  },
  {
   "cell_type": "markdown",
   "metadata": {
    "slideshow": {
     "slide_type": "skip"
    },
    "tags": []
   },
   "source": [
    "Algunos ejemplos:\n",
    "\n",
    "* Predecir el riesgo de una determinada enfermedad.\n",
    "* Identificar una persona en una fotografía.\n",
    "* Predecir si un correo es o no spam.\n",
    "* Predecir el costo de una casa en base a sus características."
   ]
  },
  {
   "cell_type": "markdown",
   "metadata": {
    "slideshow": {
     "slide_type": "subslide"
    },
    "tags": []
   },
   "source": [
    "El aprendizaje supervisado se divide en dos categorías: regresión y clasificación.\n",
    "\n",
    "* En problemas de regresión, **las salidas son variables continuas y ordenadas**. En otras palabras, una predicción $y=14.7$ es mayor que una predicción $y=12.5$ (esto no implica que la primera predicción sea más precisa que la segunda)."
   ]
  },
  {
   "cell_type": "markdown",
   "metadata": {
    "slideshow": {
     "slide_type": "fragment"
    },
    "tags": []
   },
   "source": [
    "\n",
    "* En problemas de clasificación, por su parte, **las salidas son variables nominales discretas y no ordenadas**. Es decir que si las salidas posibles son \"rojo\" y \"naranja\", no es posible asumir un orden entre ellas como \"rojo\" > \"naranja\"."
   ]
  },
  {
   "cell_type": "markdown",
   "metadata": {
    "slideshow": {
     "slide_type": "fragment"
    },
    "tags": []
   },
   "source": [
    "Se describen a continuación dos librerías principales de python para estos problemas"
   ]
  },
  {
   "cell_type": "markdown",
   "metadata": {
    "slideshow": {
     "slide_type": "slide"
    },
    "tags": []
   },
   "source": [
    "#### sci-kit learn\n",
    "\n",
    "* Librería que contiene algoritmos de ML de regresión, clasificación, clustering, etc. así como utilidades como sets de datos de ejemplo."
   ]
  },
  {
   "cell_type": "markdown",
   "metadata": {
    "slideshow": {
     "slide_type": "fragment"
    },
    "tags": []
   },
   "source": [
    "* Define una interfaz común para todos los algoritmos. Método común a todos: `fit()`, adapta los datos de entrenamiento al modelo elegido. Dependiendo de la naturaleza de cada algoritmo, se definen distintos métodos comunes para cada uno de ellos."
   ]
  },
  {
   "cell_type": "markdown",
   "metadata": {
    "slideshow": {
     "slide_type": "fragment"
    },
    "tags": []
   },
   "source": [
    "* Los datos en sci-kit learn, en la gran mayoría de los casos, se asumen como un array de dos dimensiones, de forma X=[n_ejemplos, n_características]. Cada ejemplo es un ítem a ser procesado (ej: clasificado), pudiendo ser algo tan simple como una fila de excel a imágenes o videos."
   ]
  },
  {
   "cell_type": "markdown",
   "metadata": {
    "slideshow": {
     "slide_type": "fragment"
    },
    "tags": []
   },
   "source": [
    "* Por su parte, las características, cuya cantidad se establece a-priori, se usan para describir cada ítem de forma cuantitativa. Normalmente son representadas por valores reales, aunque también puede tratarse de valores booleanos o discretos."
   ]
  },
  {
   "cell_type": "markdown",
   "metadata": {
    "slideshow": {
     "slide_type": "subslide"
    },
    "tags": []
   },
   "source": [
    "Para el aprendizaje supervisado, scikit-learn provee la siguiente interfaz común de métodos\n",
    "\n",
    "* `model.fit(X,y)` $\\to$ modelo entrenado\n",
    "\n",
    "\n",
    "\n"
   ]
  },
  {
   "cell_type": "markdown",
   "metadata": {
    "slideshow": {
     "slide_type": "fragment"
    },
    "tags": []
   },
   "source": [
    "* `model.predict(X)` $\\to$ predicción $\\hat{y}$ de $X$"
   ]
  },
  {
   "cell_type": "markdown",
   "metadata": {
    "slideshow": {
     "slide_type": "fragment"
    },
    "tags": []
   },
   "source": [
    "+ `model.predict_proba(X)` $\\to$ probabilidad de cada clase para cada $X_i \\in X$"
   ]
  },
  {
   "cell_type": "markdown",
   "metadata": {
    "slideshow": {
     "slide_type": "fragment"
    },
    "tags": []
   },
   "source": [
    "+ `model.score(X, y)` $\\to$ tasa de aciertos (clasificación) o $R^2$ (regresión)\n",
    "\n",
    "\n",
    "\n"
   ]
  },
  {
   "cell_type": "markdown",
   "metadata": {
    "slideshow": {
     "slide_type": "fragment"
    },
    "tags": []
   },
   "source": [
    "+ `model.transform(X)` $\\to$ $X'$"
   ]
  },
  {
   "cell_type": "markdown",
   "metadata": {
    "slideshow": {
     "slide_type": "subslide"
    },
    "tags": []
   },
   "source": [
    "### sci-py\n",
    "\n",
    "sci-py es una colección de librerías y algoritmos importante para machine learning. Normalmente el paquete a utilizar debe importarse por separado según necesidad. Algunos ejemplos:\n",
    "\n",
    "     cluster                      : Vector Quantization / Kmeans\n",
    "     fftpack                      : Discrete Fourier Transform algorithms\n",
    "     integrate                    : Integration routines\n",
    "     interpolate                  : Interpolation Tools\n",
    "     io                           : Data input and output\n",
    "     lib                          : Python wrappers to external libraries\n",
    "     lib.blas                     : Wrappers to BLAS library\n",
    "     lib.lapack                   : Wrappers to LAPACK library\n",
    "     linalg                       : Linear algebra routines\n",
    "     misc                         : Various utilities that don't have another home.\n",
    "     ndimage                      : n-dimensional image package\n",
    "     odr                          : Orthogonal Distance Regression\n",
    "     optimize                     : Optimization Tools\n",
    "     signal                       : Signal Processing Tools\n",
    "     sparse                       : Sparse Matrices\n",
    "     sparse.linalg                : Sparse Linear Algebra\n",
    "     sparse.linalg.dsolve         : Linear Solvers\n",
    "     sparse.linalg.dsolve.umfpack : :Interface to the UMFPACK library:\n",
    "     sparse.linalg.eigen          : Sparse Eigenvalue Solvers\n",
    "     sparse.linalg.eigen.arpack   : Eigenvalue solver using iterative methods.\n",
    "     sparse.linalg.eigen.lobpcg   : Locally Optimal Block Preconditioned\n",
    "                                      Conjugate Gradient Method (LOBPCG)     \n",
    "     spatial                      : Spatial data structures and algorithms\n",
    "     special                      : Airy Functions\n",
    "\n",
    "     stats                        : Statistical Functions                     "
   ]
  },
  {
   "cell_type": "code",
   "execution_count": 1,
   "metadata": {
    "slideshow": {
     "slide_type": "skip"
    },
    "tags": []
   },
   "outputs": [
    {
     "name": "stdout",
     "output_type": "stream",
     "text": [
      "[-0.71239066  0.75376638 -0.04450308  0.45181234  1.34510171  0.53233789\n",
      "  1.3501879   0.86121137  1.47868574 -1.04537713]\n",
      "pdf = 0.3989422804014327\n",
      "cdf = 0.5\n"
     ]
    }
   ],
   "source": [
    "# ejemplo: distribucion normal con media=0 y varianza=1\n",
    "import numpy as np\n",
    "from scipy import stats\n",
    "np.random.seed(13) # semilla aleatoria: muy util para replicar experimentos\n",
    "dist = stats.norm(0,1)\n",
    "r = dist.rvs(10) # diez muestras aleatorias\n",
    "p = dist.pdf(0) # pdf en x=0\n",
    "c = dist.cdf(0) # cdf en x=0\n",
    "print(r)\n",
    "print('pdf =',p)\n",
    "print('cdf =',c)"
   ]
  },
  {
   "cell_type": "markdown",
   "metadata": {
    "slideshow": {
     "slide_type": "slide"
    },
    "tags": []
   },
   "source": [
    "## Problemas de Regresión\n",
    "\n",
    "![Problema de regresión](images/3/regression_problem.png)"
   ]
  },
  {
   "cell_type": "markdown",
   "metadata": {},
   "source": [
    "[Fuente](https://ml.berkeley.edu/blog/posts/crash-course/part-5/)"
   ]
  },
  {
   "cell_type": "markdown",
   "metadata": {
    "slideshow": {
     "slide_type": "slide"
    },
    "tags": []
   },
   "source": [
    "## Problemas de Clasificación\n",
    "\n",
    "\n",
    "\n"
   ]
  },
  {
   "cell_type": "markdown",
   "metadata": {
    "slideshow": {
     "slide_type": "skip"
    },
    "tags": []
   },
   "source": [
    "* En los problemas de clasificación, la respuesta es **discreta** y **nominal**, en el sentido de que la misma es una categoria $c_i \\in \\{C_1, C_2, ..., C_n\\}$, en donde no podemos asumir en ningún caso que $c_i > c_j$."
   ]
  },
  {
   "cell_type": "markdown",
   "metadata": {
    "tags": []
   },
   "source": [
    "![Clasificación](images/3/classification_problem.png)\n",
    "\n",
    "[Fuente](https://ml.berkeley.edu/blog/posts/crash-course/part-5/)"
   ]
  },
  {
   "cell_type": "markdown",
   "metadata": {
    "slideshow": {
     "slide_type": "subslide"
    },
    "tags": []
   },
   "source": [
    "* Al no existir un ordenamiento entre las clases, no es posible calcular una distancia entre $y$ e $\\hat{y}$, tal como sí es posible en el caso de la regresión. Entonces, medidas como el error cuadrático medio utilizado en la regresión, $$MSE = \\frac{1}{n} \\sum^{n}_{i=1} (\\hat{y}_i - y_i)^2$$ no resultan una buenas para entrenar o evaluar un clasificador."
   ]
  },
  {
   "cell_type": "markdown",
   "metadata": {
    "slideshow": {
     "slide_type": "fragment"
    },
    "tags": []
   },
   "source": [
    "* La medida más común es el **error rate**, dado por\n",
    "$$ \\ell(y, \\hat{y}) = \\frac{1}{n} \\sum_{i=1}^n I(y_i \\neq \\hat{y}_i)$$\n",
    "donde $I(y_i \\neq \\hat{y}_i) = 1$ si nuestra predicción difiere de la salida real, mientras que $I(y_i \\neq \\hat{y}_i) = 0$ si nuestro modelo predijo correctamente la salida para cada observación $i$."
   ]
  },
  {
   "cell_type": "markdown",
   "metadata": {
    "slideshow": {
     "slide_type": "skip"
    },
    "tags": []
   },
   "source": [
    "### k Nearest-Neighbors Classifier\n",
    "\n",
    "Un método muy simple y sin embargo muy efectivo para realizar clasificaciones es kNN: dadas $n$ observaciones en el conjunto de entrenamiento y un punto de test $X_0$, \n",
    "\n",
    "$$P(y = j \\mid X = X_0) = \\frac{1}{k} \\sum_{i \\in N_0} I(y_i = j)$$\n",
    "\n",
    "donde $N_0$ es un *neighbourhood* (\"vecindario\") de $X_0$ representado por los $k$ puntos más cercanos a dicho punto $X_0$.\n",
    "\n",
    "\n",
    "\n"
   ]
  },
  {
   "cell_type": "markdown",
   "metadata": {
    "slideshow": {
     "slide_type": "skip"
    },
    "tags": []
   },
   "source": [
    "* kNN es un método **no paramétrico**, en el sentido de que no asume que las muestras provengan de una distribución probabilística parametrizada (por ejemplo con parámetros $\\mu$ y $\\sigma^2$)."
   ]
  },
  {
   "cell_type": "markdown",
   "metadata": {
    "slideshow": {
     "slide_type": "skip"
    },
    "tags": []
   },
   "source": [
    "* kNN también puede utilizarse para regresiones, en donde el valor de salida es un promedio entre los valores de las $k$ observaciones más cercanas."
   ]
  },
  {
   "cell_type": "markdown",
   "metadata": {
    "slideshow": {
     "slide_type": "skip"
    },
    "tags": []
   },
   "source": [
    "Si $K=1$, este clasiicador suele llamarse simplemente \"Nearest-Neighbor\"."
   ]
  },
  {
   "cell_type": "markdown",
   "metadata": {
    "slideshow": {
     "slide_type": "slide"
    },
    "tags": []
   },
   "source": [
    "Vamos a inicializar nuestro entorno de trabajo en el Dataset Iris, tras presentarlo:"
   ]
  },
  {
   "cell_type": "markdown",
   "metadata": {
    "slideshow": {
     "slide_type": "subslide"
    },
    "tags": []
   },
   "source": [
    "### Dataset Iris\n",
    "\n",
    "\"Iris\" es un dataset que sirve como \"Hello World\" de ML. Consiste en un conjunto de ejemplos que contiene tres flores de Iris: setosa, virginica y versicolor. Las mismas están distribuídas en 50 ejemplos de cada flor, y sus características indican el largo y ancho tanto de su sépalo como de su pétalo, y también se especifica de qué clase de Iris se trata (setosa, virgínica o versicolor).\n",
    "\n",
    "![](images/3/iris_flowers.jpg)\n",
    "\n",
    "Fuente: David Gerster"
   ]
  },
  {
   "cell_type": "code",
   "execution_count": 2,
   "metadata": {
    "slideshow": {
     "slide_type": "subslide"
    },
    "tags": []
   },
   "outputs": [
    {
     "data": {
      "image/png": "[encoded data removed]",
      "text/plain": [
       "<Figure size 432x288 with 1 Axes>"
      ]
     },
     "metadata": {
      "needs_background": "light"
     },
     "output_type": "display_data"
    }
   ],
   "source": [
    "%matplotlib inline\n",
    "\n",
    "import matplotlib.pyplot as plt\n",
    "from sklearn.datasets import load_iris  # sklearn.datasets contiene varios de los datasets clasicos de ML\n",
    "from sklearn import neighbors\n",
    "\n",
    "iris = load_iris()\n",
    "\n",
    "X, y = iris.data, iris.target\n",
    "\n",
    "# visualizamos como se relacionan el largo y el ancho del sepalo de las distintas flores\n",
    "plt.scatter(X[:,0], X[:,1]) \n",
    "plt.xlabel('Largo del sépalo')  # xlabel le da un nombre al eje de las x\n",
    "plt.ylabel('Ancho del sépalo')  # ylabel le da un nombre al eje de las y\n",
    "plt.show()"
   ]
  },
  {
   "cell_type": "code",
   "execution_count": 3,
   "metadata": {
    "scrolled": true,
    "slideshow": {
     "slide_type": "subslide"
    },
    "tags": []
   },
   "outputs": [],
   "source": [
    "# tomamos los primeros dos features para mostrarlos mejor graficamente (el largo y el ancho del sepalo)\n",
    "# (por eso el iris.data[:, :2])\n",
    "X = iris.data[:, :2]\n",
    "y = iris.target"
   ]
  },
  {
   "cell_type": "markdown",
   "metadata": {
    "tags": []
   },
   "source": [
    "Vamos a usar ambos features para entrenar nuestro modelo y graficar los puntos del dataset para el largo y ancho del sépalo, para cada tipo de flor"
   ]
  },
  {
   "cell_type": "code",
   "execution_count": 4,
   "metadata": {
    "slideshow": {
     "slide_type": "fragment"
    },
    "tags": []
   },
   "outputs": [
    {
     "name": "stdout",
     "output_type": "stream",
     "text": [
      "['setosa' 'versicolor' 'virginica']\n",
      "['sepal length (cm)', 'sepal width (cm)', 'petal length (cm)', 'petal width (cm)']\n"
     ]
    }
   ],
   "source": [
    "# en primer lugar, vamos a ver las tres salidas posibles y los nombres de los features que elegimos\n",
    "\n",
    "print(iris.target_names)\n",
    "print(iris.feature_names)"
   ]
  },
  {
   "cell_type": "code",
   "execution_count": 5,
   "metadata": {
    "slideshow": {
     "slide_type": "subslide"
    },
    "tags": []
   },
   "outputs": [
    {
     "name": "stdout",
     "output_type": "stream",
     "text": [
      "[5.1 4.9 4.7 4.6 5.  5.4 4.6 5.  4.4 4.9 5.4 4.8 4.8 4.3 5.8 5.7 5.4 5.1\n",
      " 5.7 5.1 5.4 5.1 4.6 5.1 4.8 5.  5.  5.2 5.2 4.7 4.8 5.4 5.2 5.5 4.9 5.\n",
      " 5.5 4.9 4.4 5.1 5.  4.5 4.4 5.  5.1 4.8 5.1 4.6 5.3 5. ]\n"
     ]
    }
   ],
   "source": [
    "# tras esto, vamos a seleccionar todos los puntos asociados a cada una de las salidas.\n",
    "# Para ello vamos a restringir la matriz de entradas X a cada una de las entradas y\n",
    "# salidas que nos interesan\n",
    "\n",
    "# y==0 es una máscara que restringe X a aquellas filas asociadas con la salida 0 (setosa, según el \n",
    "#nombre de los features), mientras que el 0 detrás de la \",\" restringe X a la columna 0\n",
    "# (es decir, largo del sepalo)\n",
    "X_setosa_largo_sepalo = X[y==0, 0]\n",
    "print(X_setosa_largo_sepalo)"
   ]
  },
  {
   "cell_type": "code",
   "execution_count": 6,
   "metadata": {
    "slideshow": {
     "slide_type": "subslide"
    },
    "tags": []
   },
   "outputs": [],
   "source": [
    "# hacemos esto mismo para las demas combinaciones\n",
    "X_setosa_ancho_sepalo = X[y==0, 1]\n",
    "X_virginica_largo_sepalo = X[y==1, 0]\n",
    "X_virginica_ancho_sepalo = X[y==1, 1]\n",
    "X_versicolor_largo_sepalo = X[y==2, 0]\n",
    "X_versicolor_ancho_sepalo = X[y==2, 1]"
   ]
  },
  {
   "cell_type": "markdown",
   "metadata": {
    "slideshow": {
     "slide_type": "skip"
    },
    "tags": []
   },
   "source": [
    "Para nuestros fines, el módulo *pyplot* de matplotlib funciona (simplificadamente) de la siguiente manera:\n",
    "\n",
    "1. En las primeras líneas de código se establecen los puntos, líneas o figuras que se desean graficar, como así también pueden establecerse extensiones para el gráfico (por ejemplo, darle un nombre a los ejes). Normalmente sigue el formato (para trazar curvas)\n",
    "\n",
    "        plt.plot(x, y)\n",
    "    \n",
    "    (las variables $x$ e $y$ aquí mencionadas hacen referencia a posiciones en el eje cartesiano, no confundir con $X$ e $y$ del dataset)\n",
    "    o bien, simplemente para graficar puntos,\n",
    "    \n",
    "        plt.scatter(x, y)\n",
    "        \n",
    "    en donde se determina que se realizará un gráfico tomando en cuenta la posición (x, y).\n",
    "\n",
    "    Por ejemplo, el código\n",
    "\n",
    "        plt.scatter(1, 2.5)\n",
    "        \n",
    "    indica que se introduce un punto en la posición $x=1$, $y=2.5$) de los ejes cartesianos.\n",
    "    Lo más práctico es pasar vectores de puntos $X$ e $Y$, de tal forma que grafique cada par $(x_i, y_i)$."
   ]
  },
  {
   "cell_type": "markdown",
   "metadata": {
    "slideshow": {
     "slide_type": "skip"
    },
    "tags": []
   },
   "source": [
    "2. El gráfico deja de recibir entradas tras leer la línea \"plt.show()\", en donde se muestra el gráfico de acuerdo a los puntos, líneas o figuras establecidas anteriormente. "
   ]
  },
  {
   "cell_type": "code",
   "execution_count": 7,
   "metadata": {
    "slideshow": {
     "slide_type": "subslide"
    },
    "tags": []
   },
   "outputs": [
    {
     "data": {
      "image/png": "[encoded data removed]",
      "text/plain": [
       "<Figure size 432x288 with 1 Axes>"
      ]
     },
     "metadata": {
      "needs_background": "light"
     },
     "output_type": "display_data"
    }
   ],
   "source": [
    "# graficamos de acuerdo a la distribucion de los puntos\n",
    "\n",
    "plt.scatter(X_setosa_largo_sepalo, X_setosa_ancho_sepalo, label=iris.target_names[0], color='orange')\n",
    "plt.scatter(X_virginica_largo_sepalo, X_virginica_ancho_sepalo, label=iris.target_names[1], color='blue')\n",
    "plt.scatter(X_versicolor_largo_sepalo, X_versicolor_ancho_sepalo, label=iris.target_names[2], color='green')\n",
    "\n",
    "# legend coloca una caja con las leyendas correspondientes a los puntos del grafico\n",
    "plt.legend(loc='best', numpoints=1) \n",
    "plt.xlabel('Largo del sepalo')\n",
    "plt.ylabel('Ancho del sepalo')\n",
    "\n",
    "plt.show()"
   ]
  },
  {
   "cell_type": "markdown",
   "metadata": {
    "slideshow": {
     "slide_type": "subslide"
    },
    "tags": []
   },
   "source": [
    "Notar que es también posible graficar utilizando directamente las restricciones sobre la matriz de datos $X$:"
   ]
  },
  {
   "cell_type": "code",
   "execution_count": 8,
   "metadata": {
    "slideshow": {
     "slide_type": "fragment"
    },
    "tags": []
   },
   "outputs": [
    {
     "data": {
      "image/png": "[encoded data removed]",
      "text/plain": [
       "<Figure size 432x288 with 1 Axes>"
      ]
     },
     "metadata": {
      "needs_background": "light"
     },
     "output_type": "display_data"
    }
   ],
   "source": [
    "plt.scatter(X[y==0, 0], X[y==0, 1], label=iris.target_names[0], color='orange')\n",
    "plt.scatter(X[y==1, 0], X[y==1, 1], label=iris.target_names[1], color='blue')\n",
    "plt.scatter(X[y==2, 0], X[y==2, 1], label=iris.target_names[2], color='green')\n",
    "\n",
    "plt.legend(loc='best', numpoints=1)\n",
    "plt.xlabel('Largo del sepalo')\n",
    "plt.ylabel('Ancho del sepalo')\n",
    "\n",
    "plt.show()"
   ]
  },
  {
   "cell_type": "markdown",
   "metadata": {
    "slideshow": {
     "slide_type": "skip"
    },
    "tags": []
   },
   "source": [
    "Ejemplo: clasificador NN hecho a mano\n",
    "\n",
    "Veamos cómo se ve un clasificador NN \"artesanal\", es decir un KNN donde K=1 (basado en http://cs231n.github.io/classification/). Para ello tenemos que definir, a priori, qué consideramos como distancia entre dos vectores de observaciones $X_i = (X_{i1} \\dots X_{ip})$ y $X_j = (X_{j1} \\dots X_{jp})$, debido a que los mismos poseen varias columnas (predictores). Para empezar, vamos a utilizar la **distancia L1**, dada por\n",
    "\n",
    "$$d_{L1}(X_i, X_j) = \\sum_p \\big| X_{ip} - X_{jp} \\big|$$"
   ]
  },
  {
   "cell_type": "code",
   "execution_count": 9,
   "metadata": {
    "slideshow": {
     "slide_type": "skip"
    },
    "tags": []
   },
   "outputs": [],
   "source": [
    "class ClasificadorNN(object):  # <object> en [...]_NN(object) indica que hereda de la clase object\n",
    "\n",
    "    # <self> indica referencia a un objeto concreto de la clase\n",
    "    def __init__(self):\n",
    "        # inicializamos ambos atributos X e y arbitrariamente\n",
    "        self.X = []\n",
    "        self.y = []\n",
    "\n",
    "    def fit(self, X_train, y_train):\n",
    "        # para el caso de KNN, nuestro entrenamiento solo consiste en recordar los datos\n",
    "        # (X, y) de entrenamiento. Un entrenamiento de un algoritmo de ML involucra\n",
    "        # normalmente un proceso iterativo, que se detiene cuando alguna condicion de\n",
    "        # convergencia es alcanzada (o tras una cierta cantidad de iteraciones)\n",
    "        self.X = X_train\n",
    "        self.y = y_train\n",
    "\n",
    "    def predict(self, X_test):\n",
    "        # inicializamos nuestra variable de salida, y_hat, con un tamanio igual a la\n",
    "        # cantidad de filas\n",
    "        y_hat = np.zeros(X_test.shape[0])\n",
    "\n",
    "        for i in range(X_test.shape[0]):  # vamos a iterar sobre todas las filas de datos\n",
    "            matriz_distancia = np.abs(self.X - X_test[i, :])\n",
    "            \n",
    "            # axis=1 significa que la suma se realiza entre los elementos de cada fila, \n",
    "            # ej. los elementos X11, X12, X13, X14 (axis=0 haría que la suma se \n",
    "            # realice entre los elementos de cada columna, es decir entre X11, X12, ...). \n",
    "            # axis=None haría que la suma se realize entre todos los elementos, devolviendo \n",
    "            # un escalar. Para mas info ver sección Examples en\n",
    "            # https://docs.scipy.org/doc/numpy/reference/generated/numpy.sum.html\n",
    "            suma_distancias = np.sum(matriz_distancia, axis=1)\n",
    "            # np.argmin() devuelve el indice del menor elemento dada un ndarray\n",
    "            indice_punto_mas_cercano = np.argmin(suma_distancias)\n",
    "            y_hat[i] = self.y[indice_punto_mas_cercano]\n",
    "\n",
    "        return y_hat"
   ]
  },
  {
   "cell_type": "markdown",
   "metadata": {
    "slideshow": {
     "slide_type": "subslide"
    },
    "tags": []
   },
   "source": [
    "Antes de continuar, vamos a dividir nuestro conjunto de datos en entrenamiento y test"
   ]
  },
  {
   "cell_type": "markdown",
   "metadata": {},
   "source": [
    "![](images/3/train_test_split.svg)"
   ]
  },
  {
   "cell_type": "markdown",
   "metadata": {
    "slideshow": {
     "slide_type": "skip"
    },
    "tags": []
   },
   "source": [
    "* Al conjunto de entrenamiento lo utilizaremos para **entrenar el modelo**, haciendo que aprenda patrones o características en los datos para que pueda aprender a **generalizar** a casos no vistos. La diferencia entre las observaciones en el conjunto de entrenamiento y las predicciones de nuestro modelo está expresada por el **error de entrenamiento**, y es una de las medidas que determinan qué tan bien está entrenado nuestro modelo.\n",
    "\n",
    "* Por otra parte, al conjunto de test lo vamos a utilizar para **evaluar la capacidad de generalización del modelo**, observando cómo el mismo predice salidas a partir de entradas que no utilizó para entrenar. Similarmente, la diferencia entre las observaciones en el conjunto de test y las predicciones de nuestro modelo está expresada por el **error de test**, y es una de las medidas que nos dice qué tan bien está generalizando nuestro modelo."
   ]
  },
  {
   "cell_type": "code",
   "execution_count": 10,
   "metadata": {
    "slideshow": {
     "slide_type": "skip"
    },
    "tags": []
   },
   "outputs": [],
   "source": [
    "# Vamos a usar un conjunto de entrenamiento de 70% (105/150) y uno de test de 30% (45/150)\n",
    "\n",
    "X_train = X[0:105]\n",
    "X_test = X[105:150]\n",
    "y_train = y[0:105]\n",
    "y_test = y[105:150]"
   ]
  },
  {
   "cell_type": "code",
   "execution_count": 11,
   "metadata": {
    "scrolled": true,
    "slideshow": {
     "slide_type": "skip"
    },
    "tags": []
   },
   "outputs": [
    {
     "data": {
      "image/png": "[encoded data removed]",
      "text/plain": [
       "<Figure size 432x288 with 1 Axes>"
      ]
     },
     "metadata": {
      "needs_background": "light"
     },
     "output_type": "display_data"
    }
   ],
   "source": [
    "# Instanciamos nuestro clasificador\n",
    "\n",
    "clf = ClasificadorNN()\n",
    "clf.fit(X_train, y_train)\n",
    "y_hat = clf.predict(X_test)\n",
    "\n",
    "\n",
    "# Graficamos los resultados\n",
    "\n",
    "plt.scatter(X_test[y_test==0, 0], X_test[y_test==0, 1], label=iris.target_names[0], color='orange')\n",
    "plt.scatter(X_test[y_test==1, 0], X_test[y_test==1, 1], label=iris.target_names[1], color='blue')\n",
    "plt.scatter(X_test[y_test==2, 0], X_test[y_test==2, 1], label=iris.target_names[2], color='green')\n",
    "plt.scatter(X_test[y_test!=y_hat, 0], X_test[y_test!=y_hat, 1],\n",
    "                   label='clasif. incorrecta', c='black') # Agregamos las malas predicciones\n",
    "\n",
    "plt.legend(loc='best', numpoints=1)\n",
    "plt.xlabel('Largo del sepalo')\n",
    "plt.ylabel('Ancho del sepalo')\n",
    "\n",
    "plt.show()"
   ]
  },
  {
   "cell_type": "code",
   "execution_count": 12,
   "metadata": {
    "slideshow": {
     "slide_type": "skip"
    },
    "tags": []
   },
   "outputs": [
    {
     "name": "stdout",
     "output_type": "stream",
     "text": [
      "Porcentaje de aciertos:  0.24444444444444444\n"
     ]
    }
   ],
   "source": [
    "# ¿tantos incorrectos?\n",
    "\n",
    "print('Porcentaje de aciertos: ', len(y_test[y_test==y_hat])/len(y_test))\n",
    "# estamos obteniendo el porcentaje (o tasa de aciertos) al dividir la cantidad de ocurrencias del\n",
    "# conjunto y_test en donde los elementos coinciden con y_hat sobre la cantidad de ocurrencias de y_test"
   ]
  },
  {
   "cell_type": "markdown",
   "metadata": {
    "slideshow": {
     "slide_type": "skip"
    },
    "tags": []
   },
   "source": [
    "¿Por qué clasifica tan mal?\n",
    "\n",
    "* Porque estamos tomando los datos de entrenamiento y test con **índices arbitrarios**, por ejemplo\n",
    "\n",
    "        y_train = y[0:105]"
   ]
  },
  {
   "cell_type": "code",
   "execution_count": 13,
   "metadata": {
    "slideshow": {
     "slide_type": "skip"
    },
    "tags": []
   },
   "outputs": [
    {
     "name": "stdout",
     "output_type": "stream",
     "text": [
      "[0 0 0 0 0 0 0 0 0 0 0 0 0 0 0 0 0 0 0 0 0 0 0 0 0 0 0 0 0 0 0 0 0 0 0 0 0\n",
      " 0 0 0 0 0 0 0 0 0 0 0 0 0 1 1 1 1 1 1 1 1 1 1 1 1 1 1 1 1 1 1 1 1 1 1 1 1\n",
      " 1 1 1 1 1 1 1 1 1 1 1 1 1 1 1 1 1 1 1 1 1 1 1 1 1 1 2 2 2 2 2]\n"
     ]
    }
   ],
   "source": [
    "# veamos mas detalladamente...\n",
    "\n",
    "print(y_train)"
   ]
  },
  {
   "cell_type": "code",
   "execution_count": 14,
   "metadata": {
    "scrolled": true,
    "slideshow": {
     "slide_type": "skip"
    },
    "tags": []
   },
   "outputs": [
    {
     "name": "stdout",
     "output_type": "stream",
     "text": [
      "[2 2 2 2 2 2 2 2 2 2 2 2 2 2 2 2 2 2 2 2 2 2 2 2 2 2 2 2 2 2 2 2 2 2 2 2 2\n",
      " 2 2 2 2 2 2 2 2]\n"
     ]
    }
   ],
   "source": [
    "print(y_test)"
   ]
  },
  {
   "cell_type": "markdown",
   "metadata": {
    "slideshow": {
     "slide_type": "skip"
    },
    "tags": []
   },
   "source": [
    "* Casi no tiene ejemplos de entrenamiento para la clase \"virginica\", mientras que el conjunto de test abarca toda esa clase...\n",
    "* Este es un **error grave** al preparar los datos para su entrenamiento en un modelo, **porque los datos están previamente ordenados de acuerdo a algún criterio preestablecido**."
   ]
  },
  {
   "cell_type": "markdown",
   "metadata": {
    "slideshow": {
     "slide_type": "skip"
    },
    "tags": []
   },
   "source": [
    "¿Solución?\n",
    "\n",
    "* Mezclar los datos para que su orden sea aleatorio.\n",
    "* Afortunadamente scikit\\_learn nos provee con un método justo para hacer eso..."
   ]
  },
  {
   "cell_type": "code",
   "execution_count": 15,
   "metadata": {
    "slideshow": {
     "slide_type": "subslide"
    },
    "tags": []
   },
   "outputs": [
    {
     "name": "stdout",
     "output_type": "stream",
     "text": [
      "[0 0 0 1 0 1 1 0 0 0 2 1 1 0 2 1 0 1 0 0 0 2 2 1 1 0 2 1 1 2 0 1 0 1 2 1 0\n",
      " 1 1 0 0 0 1 1 1]\n"
     ]
    }
   ],
   "source": [
    "from sklearn.model_selection import train_test_split\n",
    "\n",
    "# Dividimos el conjunto en train, test\n",
    "X_train, X_test, y_train, y_test = train_test_split(X, y, random_state=80, test_size=0.3)\n",
    "\n",
    "# vemos los resultados de la mezcla...\n",
    "print(y_test)"
   ]
  },
  {
   "cell_type": "code",
   "execution_count": 16,
   "metadata": {
    "slideshow": {
     "slide_type": "skip"
    },
    "tags": []
   },
   "outputs": [
    {
     "data": {
      "image/png": "[encoded data removed]",
      "text/plain": [
       "<Figure size 432x288 with 1 Axes>"
      ]
     },
     "metadata": {
      "needs_background": "light"
     },
     "output_type": "display_data"
    }
   ],
   "source": [
    "#Probamos entrenar...\n",
    " \n",
    "clf.fit(X_train, y_train)\n",
    "y_hat = clf.predict(X_test)\n",
    "\n",
    "# Graficamos los resultados\n",
    "\n",
    "plt.scatter(X_test[y_test==0, 0], X_test[y_test==0, 1], label=iris.target_names[0], color='orange')\n",
    "plt.scatter(X_test[y_test==1, 0], X_test[y_test==1, 1], label=iris.target_names[1], color='blue')\n",
    "plt.scatter(X_test[y_test==2, 0], X_test[y_test==2, 1], label=iris.target_names[2], color='green')\n",
    "plt.scatter(X_test[y_test!=y_hat, 0], X_test[y_test!=y_hat, 1],\n",
    "                   label='clasif. incorrecta', c='black') # Agregamos las malas predicciones\n",
    "\n",
    "plt.legend(loc='best', numpoints=1)\n",
    "plt.xlabel('Largo del sepalo')\n",
    "plt.ylabel('Ancho del sepalo')\n",
    "\n",
    "plt.show()"
   ]
  },
  {
   "cell_type": "code",
   "execution_count": 17,
   "metadata": {
    "slideshow": {
     "slide_type": "skip"
    },
    "tags": []
   },
   "outputs": [
    {
     "name": "stdout",
     "output_type": "stream",
     "text": [
      "Porcentaje de aciertos:  0.7333333333333333\n"
     ]
    }
   ],
   "source": [
    "# veamos el resultado...\n",
    "\n",
    "print('Porcentaje de aciertos: ', len(y_test[y_test==y_hat])/len(y_test))"
   ]
  },
  {
   "cell_type": "markdown",
   "metadata": {
    "slideshow": {
     "slide_type": "subslide"
    },
    "tags": []
   },
   "source": [
    "Veamos cómo podemos implementar un clasificador kNN, utilizando la librería a alto nivel de scikit-learn."
   ]
  },
  {
   "cell_type": "code",
   "execution_count": 18,
   "metadata": {
    "scrolled": true,
    "slideshow": {
     "slide_type": "subslide"
    },
    "tags": []
   },
   "outputs": [
    {
     "data": {
      "image/png": "[encoded data removed]",
      "text/plain": [
       "<Figure size 432x288 with 1 Axes>"
      ]
     },
     "metadata": {
      "needs_background": "light"
     },
     "output_type": "display_data"
    }
   ],
   "source": [
    "# Instanciamos nuestro clasificador\n",
    "clf_sk = neighbors.KNeighborsClassifier(n_neighbors=1, p=1)\n",
    "\n",
    "clf_sk.fit(X_train,y_train)\n",
    "y_hat = clf_sk.predict(X_test)\n",
    "\n",
    "plt.scatter(X_test[y_test==0, 0], X_test[y_test==0, 1], label=iris.target_names[0], color='orange')\n",
    "plt.scatter(X_test[y_test==1, 0], X_test[y_test==1, 1], label=iris.target_names[1], color='blue')\n",
    "plt.scatter(X_test[y_test==2, 0], X_test[y_test==2, 1], label=iris.target_names[2], color='green')\n",
    "plt.scatter(X_test[y_test!=y_hat, 0], X_test[y_test!=y_hat, 1],\n",
    "                   label='clasif. incorrecta', c='black') # Agregamos las malas predicciones\n",
    "\n",
    "plt.legend(loc='best', numpoints=1)\n",
    "plt.xlabel('Largo del sepalo')\n",
    "plt.ylabel('Ancho del sepalo')\n",
    "\n",
    "plt.show()"
   ]
  },
  {
   "cell_type": "code",
   "execution_count": 19,
   "metadata": {
    "slideshow": {
     "slide_type": "subslide"
    },
    "tags": []
   },
   "outputs": [
    {
     "name": "stdout",
     "output_type": "stream",
     "text": [
      "Tasa de aciertos:  0.7333333333333333\n"
     ]
    }
   ],
   "source": [
    "print('Tasa de aciertos: ', len(y_test[y_test==y_hat])/len(y_test))"
   ]
  },
  {
   "cell_type": "markdown",
   "metadata": {
    "slideshow": {
     "slide_type": "fragment"
    },
    "tags": []
   },
   "source": [
    "También podemos obtener esta misma tasa a partir de los métodos de scikit-learn, lo cual nos ahorra el tener que hacerlo a mano."
   ]
  },
  {
   "cell_type": "code",
   "execution_count": 20,
   "metadata": {
    "slideshow": {
     "slide_type": "fragment"
    },
    "tags": []
   },
   "outputs": [
    {
     "name": "stdout",
     "output_type": "stream",
     "text": [
      "Tasa de aciertos:  0.7333333333333333\n"
     ]
    }
   ],
   "source": [
    "from sklearn.metrics import accuracy_score\n",
    "\n",
    "print('Tasa de aciertos: ', accuracy_score(y_true=y_test, y_pred=y_hat))"
   ]
  },
  {
   "cell_type": "markdown",
   "metadata": {
    "slideshow": {
     "slide_type": "slide"
    },
    "tags": []
   },
   "source": [
    "## Validación cruzada con k-folds"
   ]
  },
  {
   "cell_type": "markdown",
   "metadata": {
    "slideshow": {
     "slide_type": "skip"
    },
    "tags": []
   },
   "source": [
    "Nuestra mejora en la tasa de aciertos se debió a que reordenamos el conjunto de datos aleatoriamente. Ahora bien, ¿qué sucedería si tenemos realmente muy mala suerte en el ordenamiento de los datos y volviéramos a tener un conjunto parecido al primero? ¿Y si en cambio tenemos muy buena suerte y el porcentaje de aciertos alcanzado es mucho mayor porque las predicciones mas difíciles estaban en el conjunto de entrenamiento?"
   ]
  },
  {
   "cell_type": "markdown",
   "metadata": {
    "tags": []
   },
   "source": [
    "* **Validación cruzada**: los datos son repetidamente separados en pares no superpuestos de entrenamiento y test, donde se ajusta un modelo separado para cada uno de dichos pares y se promedian los resultados."
   ]
  },
  {
   "cell_type": "markdown",
   "metadata": {
    "slideshow": {
     "slide_type": "fragment"
    },
    "tags": []
   },
   "source": [
    "* El método más común de validación cruzada es *k-folds*, donde los datos son separados en *k* pliegues (folds, normalmente son 5 o 10), donde para cada iteración se usa uno de los pliegues como conjunto de test y el resto como conjunto de entrenamiento, siendo la salida el promedio de los errores de todas las iteraciones."
   ]
  },
  {
   "cell_type": "markdown",
   "metadata": {
    "slideshow": {
     "slide_type": "fragment"
    },
    "tags": []
   },
   "source": [
    "* Este método asegura que todos los datos sean incluidos en el conjunto de test al menos una vez."
   ]
  },
  {
   "cell_type": "markdown",
   "metadata": {
    "slideshow": {
     "slide_type": "fragment"
    },
    "tags": []
   },
   "source": [
    "* Desventaja: aumenta muy considerablemente el costo computacional, haciendo que este método sea muy caro para datasets grandes."
   ]
  },
  {
   "cell_type": "markdown",
   "metadata": {
    "slideshow": {
     "slide_type": "subslide"
    },
    "tags": []
   },
   "source": [
    "![Validación cruzada con k-folds](images/3/k-fold_cross_validation.png)"
   ]
  },
  {
   "cell_type": "markdown",
   "metadata": {
    "slideshow": {
     "slide_type": "subslide"
    },
    "tags": []
   },
   "source": [
    "* **Atención con el *data leakage***: al realizar la división, los datos de entrenamiento no deben contener datos que \"filtren\" información de las salidas del conjunto de test. Esto suele depender del dominio del problema, por ejemplo ver la [controversia sobre un artículo en la Nature sobre el uso de Deep Learning para predicción de terremotos](https://www.theregister.co.uk/2019/07/03/nature_study_earthquakes/) y sus correspondientes [posts](https://www.reddit.com/r/MachineLearning/comments/c4ylga/d_misuse_of_deep_learning_in_nature_journals/) de [debate](https://www.reddit.com/r/MachineLearning/comments/c5is9e/r_one_neuron_is_more_informative_than_a_deep/) en [reddit](https://old.reddit.com/r/MachineLearning/comments/c8zf14/d_was_this_quake_ai_a_little_too_artificial/)."
   ]
  },
  {
   "cell_type": "markdown",
   "metadata": {
    "slideshow": {
     "slide_type": "slide"
    },
    "tags": []
   },
   "source": [
    "## Ajuste de Híper-parámetros\n",
    "\n",
    "Ahora que sabemos cómo evaluar un modelo, vamos a ver el que es uno de los temas más complejos en ML: el ajuste de los híper-parámetros.\n",
    "\n",
    "* Quitando el caso de kNN, casi todo modelo internamente relaciona las entradas con las salidas por medio de **parámetros**, denotados comúnmente por $\\theta = (\\theta_1, \\theta_2, \\dots)$..\n",
    "\n",
    "* Es en los parámetros que el modelo \"guarda su aprendizaje\" tras el entrenamiento, el cual suele consistir en ajustar iterativamente tales parámetros hasta que los mismos se estabilicen o permitan alcanzar alguna métrica.\n",
    "\n",
    "* Por ejemplo, en una regresión lineal donde $\\hat{y} = ax + b$, los parámetros son $a$ y $b$."
   ]
  },
  {
   "cell_type": "markdown",
   "metadata": {
    "slideshow": {
     "slide_type": "subslide"
    },
    "tags": []
   },
   "source": [
    "* Ahora bien, existen características que definen al modelo pero no son modificadas en el entrenamiento sino que se ubican en un nivel más alto de abstracción que los parámetros. Tales se conocen como **híper-parámetros**, denotados aquí por $\\phi = (\\phi_1, \\phi_2, \\dots)$.\n",
    "\n",
    "* Los híper-parámetros son cruciales en el aprendizaje de un modelo, porque afectan cómo el mismo se desempeña y entrena. En el ejemplo de la regresión, un híper-parámetro $\\phi_{grado}$ podría establecer el grado del polinomio, determinando a su vez la cantidad de parámetros utilizados en el aprendizaje. Ejemplo, con $\\phi_{grado}=2$, la regresión estaría dada por $\\hat{y} = ax^2 + bx + c$\n",
    "\n",
    "* Pueden ir desde un nivel bajo de abstracción, por ejemplo $\\phi$ puede representar la cantidad $k$ de vecinos en un algoritmo kNN, escalar más en la abstracción y representar la fórmula de distancia entre dos vectores, o bien escalar mucho más y representar qué modelo se utiliza."
   ]
  },
  {
   "cell_type": "markdown",
   "metadata": {
    "slideshow": {
     "slide_type": "subslide"
    },
    "tags": []
   },
   "source": [
    "* Es en el ajuste de híper-parámetros uno de los puntos principales donde ML **es más un arte que una ciencia**.\n",
    "\n",
    "* Muchas veces los $\\phi$ son establecidos por \"decisiones de diseño\" (ejemplo: \"vamos a utilizar el siguiente modelo por su capacidad de explicar sus predicciones\"); otras veces son establecidos a mano por prueba y error, y otras veces son ajustados a partir de algún método.\n",
    "\n",
    "* Vamos a ver una forma de ajustarlos: separar un subconjunto del conjunto de entrenamiento para validación del modelo y utilizar Grid Search."
   ]
  },
  {
   "cell_type": "markdown",
   "metadata": {
    "slideshow": {
     "slide_type": "subslide"
    },
    "tags": []
   },
   "source": [
    "### Búsqueda en grilla (grid search)\n",
    "\n",
    "* Método de optimización exhaustiva\n",
    "* Dividimos el espacio de híper-parámetros en una grilla, y tomamos una muestra por cada casillero\n",
    "\n",
    "![búsqueda en grilla](images/3/grid_search.png)"
   ]
  },
  {
   "cell_type": "markdown",
   "metadata": {},
   "source": [
    "### K-folds"
   ]
  },
  {
   "cell_type": "markdown",
   "metadata": {
    "slideshow": {
     "slide_type": "subslide"
    },
    "tags": []
   },
   "source": [
    "![](images/3/cross-validation_and_hyperparams.jpeg)\n",
    "\n",
    "Fuente: curso Convolutional Neural Networks for Visual Recognition (2016)\n",
    "\n",
    "* Vamos a usar el fold amarillo, denominado **subconjunto de validación** para ajustar los híper-parámetros.\n",
    "* Una vez determinados los mejores híper-parámetros, el conjunto de test debe entonces utilizarse una única vez para ver el resultado final de nuestro predictor.\n"
   ]
  },
  {
   "cell_type": "markdown",
   "metadata": {
    "slideshow": {
     "slide_type": "skip"
    },
    "tags": []
   },
   "source": [
    "Bonus: Algunas librerías de optimización automática de híper-parámetros para Machine Learning:\n",
    "\n",
    "* [Grid Search de Scikit Learn](https://scikit-learn.org/stable/modules/generated/sklearn.model_selection.GridSearchCV.html)\n",
    "* [Optuna](https://github.com/pfnet/optuna)\n",
    "* [BayesianOptimization](https://github.com/fmfn/BayesianOptimization)\n",
    "* [Optunity](https://optunity.readthedocs.io)\n",
    "* [AdaNet (para Tensorflow)](https://github.com/tensorflow/adanet)\n",
    "* [BoTorch (para PyTorch)](https://github.com/pytorch/botorch)"
   ]
  },
  {
   "cell_type": "markdown",
   "metadata": {
    "slideshow": {
     "slide_type": "skip"
    },
    "tags": []
   },
   "source": [
    "### Trabajo Práctico 1\n",
    "\n",
    "Utilizando de tu elección para clasificación (o regresión), realizar la mejora iterativa de un modelo de predicción para dicho dataset. Realizar un informe (estilo bitácora, puede ser un notebook, un pdf/doc o incluso estar junto con el código) en donde se especifiquen las distintas etapas de iteración del mismo, comentando lo que se intentó, lo que funcionó, lo que no, citando las fuentes consultadas.\n",
    "\n",
    "Las consignas son las siguientes:\n",
    "\n",
    "1. Seleccionar un dataset de interés. Puede ser público (ver algunos links de ejemplo debajo) o propio. Cargarlo en un notebook, pre-procesarlo si es necesario y obtener visualizaciones/sumarizaciones del mismo que ayuden a entenderlo. Dadas las técnicas que vimos hasta ahora, se sugiere que el dataset sea estructurado. \n",
    "\n",
    "    **Sugerencia**: empezar con un dataset simple (se adjunta código para comenzar con el dataset *breast cancer*), priorizando entender las librerías y métodos utilizados por sobre la complejidad de los datos. Una vez hecho eso, pasar a conjuntos de datos más complejos, si así se lo desea. Si se empieza por un dataset simple y se pasa a uno complejo, se sugiere incluir ambos análisis en el informe.\n",
    "\n",
    "1. Entrenar en el mismo modelos de clasificación (o regresión, si aplica), probando modelos más flexibles como [random forest](https://scikit-learn.org/stable/modules/generated/sklearn.ensemble.RandomForestClassifier.html) o [support vector machines](https://scikit-learn.org/stable/modules/svm.html) (para repaso: [link a notebook con resumen rápido de algunos modelos](https://github.com/inteligenciafrvm/inteligenciafrvm/blob/master/Archivo%20y%20extras/Material%20Extra/Clasificaci%C3%B3n%20-%20Vista%20general%20de%20algunos%20modelos/Clasificaci%C3%B3n%20-%20Vista%20general%20de%20algunos%20modelos.ipynb)). Si se usa Kaggle y es una competencia abierta: Se alienta a realizar envíos a Kaggle y especificar cuáles fueron los puntajes en la tabla de posiciones tras la(s) submission(s). Si no se usa Kaggle, especificar la métrica alcanzada en las distintas iteraciones del modelo.\n",
    "\n",
    "1. Realizar algún tipo de normalización en los datos. Decidir si la misma es incluída (o no) en el modelo, y justificar brevemente por qué (se lo puede ir viendo en la primera parte del [notebook de Clasificación II](https://github.com/inteligenciafrvm/inteligenciafrvm/blob/master/Clases%20pr%C3%A1cticas/4.%20Intro%20al%20aprendizaje%20supervisado%20(clasificaci%C3%B3n%20II).ipynb)).\n",
    "\n",
    "1. Buscar buenos híper-parámetros haciendo [búsqueda en grilla](https://en.wikipedia.org/wiki/Hyperparameter_optimization#Grid_search) o algún otro método, utilizando un subconjunto de validación. Puede hacerse manualmente, utilizando *k-folds* (ver plantilla debajo), [mediante la librería de Sklearn](https://scikit-learn.org/stable/modules/generated/sklearn.model_selection.GridSearchCV.html), o alguna otra forma.\n",
    "\n",
    "1. Si se realiza clasificación, mostrar métricas de tasa de aciertos, precision, recall y matriz de confusión. Si se usara regresión mostrar métricas como el error cuadrático medio.\n",
    "\n",
    "Fecha de entrega: **28/05/2021 23:59**\n",
    "\n",
    "La resolución de los ejercicios de este TP es **individual**. Está permitida la reutilización del código del notebook (por ejemplo para confeccionar gráficos).\n",
    "\n",
    "Existen muchos kernels online que establecen cómo resolver los datasets de los concursos. Si bien se alienta a ver otras formas de resolver problemas, esto no debe ir en contra del requisito de originalidad."
   ]
  },
  {
   "cell_type": "markdown",
   "metadata": {
    "slideshow": {
     "slide_type": "skip"
    },
    "tags": []
   },
   "source": [
    "Conjuntos de datos de ejemplo de baja complejidad, para comenzar rápidamente \n",
    "\n",
    "* Cáncer de mama (breast cancer, se incluye plantilla inicial debajo). [sklearn](https://scikit-learn.org/stable/datasets/toy_dataset.html#breast-cancer-wisconsin-diagnostic-dataset)\n",
    "\n",
    "* Predicción de precios de las casas. [sklearn](https://scikit-learn.org/stable/datasets/toy_dataset.html#boston-house-prices-dataset) [Kaggle](https://www.kaggle.com/c/house-prices-advanced-regression-techniques)\n",
    "\n",
    "* Predicción de calidad de vino. [sklearn](https://scikit-learn.org/stable/datasets/toy_dataset.html#wine-recognition-dataset) [Kaggle](https://www.kaggle.com/aleixdorca/wine-quality). Opción 2: predecir si el vino es rojo o blanco.\n",
    "\n",
    "* Diabetes. [sklearn](https://scikit-learn.org/stable/datasets/toy_dataset.html#diabetes-dataset).\n",
    "\n",
    "* Predicción de dígitos. [sklearn](https://scikit-learn.org/stable/datasets/toy_dataset.html#optical-recognition-of-handwritten-digits-dataset)\n",
    "\n",
    "* Predicción del animal. [UCI](https://archive.ics.uci.edu/ml/datasets/Zoo)\n",
    "\n",
    "* Predicción de enfermedades del corazón. [Kaggle](https://www.kaggle.com/johnsmith88/heart-disease-dataset)\n",
    "\n",
    "* Predicción del género según la voz. [Kaggle](https://www.kaggle.com/primaryobjects/voicegender)"
   ]
  },
  {
   "cell_type": "markdown",
   "metadata": {
    "slideshow": {
     "slide_type": "skip"
    },
    "tags": []
   },
   "source": [
    "Otras fuentes de datasets:\n",
    "\n",
    "* [Competencias Kaggle](https://www.kaggle.com/competitions), [Datasets Kaggle](https://www.kaggle.com/datasets) y [sobre COVID-19](https://www.kaggle.com/covid19)\n",
    "\n",
    "* [Datos Argentina](http://datar.info/dataset)\n",
    "\n",
    "* [Awesome public datasets (Github)](https://github.com/awesomedata/awesome-public-datasets)\n",
    "\n",
    "* [Portal de datos Argentina](https://datos.gob.ar/) [Github](https://github.com/datosgobar)\n",
    "\n",
    "* [Repositorio UCI](http://archive.ics.uci.edu/ml/datasets.php)"
   ]
  },
  {
   "cell_type": "code",
   "execution_count": 21,
   "metadata": {
    "slideshow": {
     "slide_type": "skip"
    },
    "tags": []
   },
   "outputs": [],
   "source": [
    "# Plantilla inicial para comenzar con ejemplo de breast cancer\n",
    "\n",
    "# este método simplifica la carga del conjunto de datos de forma \n",
    "# está disponible al ser un conjunto de datos muy utilizado\n",
    "from sklearn.datasets import load_breast_cancer\n",
    "\n",
    "X, y = load_breast_cancer(return_X_y=True)\n",
    "\n",
    "# Completar con tu código desde aquí\n",
    "\n",
    "# Empezar por:\n",
    "# 1 visualizar datos, ver sumarizaciones\n",
    "# 2 dividir entre entrenamiento y test\n",
    "# 3 entrenar un modelo simple, ej: kNN\n",
    "# 4 ver métricas de rendimiento\n",
    "\n",
    "# Luego, seguir con:\n",
    "# 4 normalizar características ¿mejora haciendo eso?\n",
    "# 5 optimizar hiperparametros ¿cuánto mejora?\n",
    "# 6 aplicar modelos más complejos ¿mejora con modelos más complejos?\n",
    "# 7 modificar optimización de híper-parámetros y usar kfolds"
   ]
  },
  {
   "cell_type": "markdown",
   "metadata": {},
   "source": [
    "Plantillas adicionales"
   ]
  },
  {
   "cell_type": "code",
   "execution_count": 22,
   "metadata": {
    "slideshow": {
     "slide_type": "skip"
    },
    "tags": []
   },
   "outputs": [],
   "source": [
    "# Plantilla inicial de ejemplo para KFolds\n",
    "\n",
    "from sklearn.model_selection import KFold\n",
    "\n",
    "# n_splits es el numero de divisiones\n",
    "kf = KFold(n_splits=5, shuffle=True,random_state=40)\n",
    "\n",
    "# El siguiente for nos abstrae de tener que manejar explicitamente los subindices de los folds, \n",
    "# al dividir el conjunto de entrenamiento iterativamente. En cada una de sus iteraciones\n",
    "# obtenemos los subindices de todos los folds de entrenamiento y del fold de validacion de una\n",
    "# division en particular, de modo tal que todos los k folds sean al menos una vez usados para \n",
    "# entrenar el modelo\n",
    "for train_index, validation_index in kf.split(X_train):\n",
    "    X_train_kf, X_validation_kf = X_train[train_index], X_train[validation_index]\n",
    "    y_train_kf, y_validation_kf = y_train[train_index], y_train[validation_index]\n",
    "    \n",
    "    # desde aqui estamos trabajando con una division train-validation en particular\n",
    "    # es decir, por ejemplo, que train_index nos da todos los indices que componen a\n",
    "    # los folds que se usaran para entrenar el modelo en esta division. Usamos estos\n",
    "    # indices para obtener los X_train_kf y los y_train_kf. Lo mismo sucede con los\n",
    "    # indices usados para el fold de validación en esta division. Si se desea ver\n",
    "    # como cambian los indices en cada iteracion, hacer un print(validation_index)"
   ]
  },
  {
   "cell_type": "markdown",
   "metadata": {
    "slideshow": {
     "slide_type": "skip"
    },
    "tags": []
   },
   "source": [
    "Ejemplo: trabajando con dataset Titanic"
   ]
  },
  {
   "cell_type": "code",
   "execution_count": 23,
   "metadata": {
    "slideshow": {
     "slide_type": "skip"
    },
    "tags": []
   },
   "outputs": [
    {
     "name": "stdout",
     "output_type": "stream",
     "text": [
      "   PassengerId  Survived  Pclass  \\\n",
      "0            1         0       3   \n",
      "1            2         1       1   \n",
      "2            3         1       3   \n",
      "3            4         1       1   \n",
      "4            5         0       3   \n",
      "\n",
      "                                                Name     Sex   Age  SibSp  \\\n",
      "0                            Braund, Mr. Owen Harris    male  22.0      1   \n",
      "1  Cumings, Mrs. John Bradley (Florence Briggs Th...  female  38.0      1   \n",
      "2                             Heikkinen, Miss. Laina  female  26.0      0   \n",
      "3       Futrelle, Mrs. Jacques Heath (Lily May Peel)  female  35.0      1   \n",
      "4                           Allen, Mr. William Henry    male  35.0      0   \n",
      "\n",
      "   Parch            Ticket     Fare Cabin Embarked  \n",
      "0      0         A/5 21171   7.2500   NaN        S  \n",
      "1      0          PC 17599  71.2833   C85        C  \n",
      "2      0  STON/O2. 3101282   7.9250   NaN        S  \n",
      "3      0            113803  53.1000  C123        S  \n",
      "4      0            373450   8.0500   NaN        S  \n"
     ]
    }
   ],
   "source": [
    "# codigo de ejemplo para leer y hacer transformaciones basicas en un dataset \n",
    "# (mas info en https://www.kaggle.com/c/titanic/data)\n",
    "\n",
    "# pandas es una gran libreria para manejo de sets de datos grandes\n",
    "import pandas as pd  \n",
    "\n",
    "# importamos los datos del csv como dataframe\n",
    "df = pd.read_csv('data/train_titanic.csv')  # dataframe descargado de https://www.kaggle.com/c/titanic/data\n",
    "# (si quisieramos guardar a un csv (por ejemplo para hacer la submission), el procedimiento es similar,\n",
    "# es decir df.to_csv('<path>'))\n",
    "\n",
    "# vemos las primeras 5 columnas\n",
    "print(df.head())"
   ]
  },
  {
   "cell_type": "code",
   "execution_count": 24,
   "metadata": {
    "slideshow": {
     "slide_type": "skip"
    },
    "tags": []
   },
   "outputs": [
    {
     "name": "stdout",
     "output_type": "stream",
     "text": [
      "Index(['PassengerId', 'Survived', 'Pclass', 'Name', 'Sex', 'Age', 'SibSp',\n",
      "       'Parch', 'Ticket', 'Fare', 'Cabin', 'Embarked'],\n",
      "      dtype='object')\n"
     ]
    }
   ],
   "source": [
    "# vemos las columnas del dataset\n",
    "print(df.columns)"
   ]
  },
  {
   "cell_type": "code",
   "execution_count": 25,
   "metadata": {
    "slideshow": {
     "slide_type": "skip"
    },
    "tags": []
   },
   "outputs": [
    {
     "data": {
      "text/html": [
       "<div>\n",
       "<style scoped>\n",
       "    .dataframe tbody tr th:only-of-type {\n",
       "        vertical-align: middle;\n",
       "    }\n",
       "\n",
       "    .dataframe tbody tr th {\n",
       "        vertical-align: top;\n",
       "    }\n",
       "\n",
       "    .dataframe thead th {\n",
       "        text-align: right;\n",
       "    }\n",
       "</style>\n",
       "<table border=\"1\" class=\"dataframe\">\n",
       "  <thead>\n",
       "    <tr style=\"text-align: right;\">\n",
       "      <th></th>\n",
       "      <th>PassengerId</th>\n",
       "      <th>Survived</th>\n",
       "      <th>Pclass</th>\n",
       "      <th>Age</th>\n",
       "      <th>SibSp</th>\n",
       "      <th>Parch</th>\n",
       "      <th>Fare</th>\n",
       "    </tr>\n",
       "  </thead>\n",
       "  <tbody>\n",
       "    <tr>\n",
       "      <th>count</th>\n",
       "      <td>891.000000</td>\n",
       "      <td>891.000000</td>\n",
       "      <td>891.000000</td>\n",
       "      <td>714.000000</td>\n",
       "      <td>891.000000</td>\n",
       "      <td>891.000000</td>\n",
       "      <td>891.000000</td>\n",
       "    </tr>\n",
       "    <tr>\n",
       "      <th>mean</th>\n",
       "      <td>446.000000</td>\n",
       "      <td>0.383838</td>\n",
       "      <td>2.308642</td>\n",
       "      <td>29.699118</td>\n",
       "      <td>0.523008</td>\n",
       "      <td>0.381594</td>\n",
       "      <td>32.204208</td>\n",
       "    </tr>\n",
       "    <tr>\n",
       "      <th>std</th>\n",
       "      <td>257.353842</td>\n",
       "      <td>0.486592</td>\n",
       "      <td>0.836071</td>\n",
       "      <td>14.526497</td>\n",
       "      <td>1.102743</td>\n",
       "      <td>0.806057</td>\n",
       "      <td>49.693429</td>\n",
       "    </tr>\n",
       "    <tr>\n",
       "      <th>min</th>\n",
       "      <td>1.000000</td>\n",
       "      <td>0.000000</td>\n",
       "      <td>1.000000</td>\n",
       "      <td>0.420000</td>\n",
       "      <td>0.000000</td>\n",
       "      <td>0.000000</td>\n",
       "      <td>0.000000</td>\n",
       "    </tr>\n",
       "    <tr>\n",
       "      <th>25%</th>\n",
       "      <td>223.500000</td>\n",
       "      <td>0.000000</td>\n",
       "      <td>2.000000</td>\n",
       "      <td>20.125000</td>\n",
       "      <td>0.000000</td>\n",
       "      <td>0.000000</td>\n",
       "      <td>7.910400</td>\n",
       "    </tr>\n",
       "    <tr>\n",
       "      <th>50%</th>\n",
       "      <td>446.000000</td>\n",
       "      <td>0.000000</td>\n",
       "      <td>3.000000</td>\n",
       "      <td>28.000000</td>\n",
       "      <td>0.000000</td>\n",
       "      <td>0.000000</td>\n",
       "      <td>14.454200</td>\n",
       "    </tr>\n",
       "    <tr>\n",
       "      <th>75%</th>\n",
       "      <td>668.500000</td>\n",
       "      <td>1.000000</td>\n",
       "      <td>3.000000</td>\n",
       "      <td>38.000000</td>\n",
       "      <td>1.000000</td>\n",
       "      <td>0.000000</td>\n",
       "      <td>31.000000</td>\n",
       "    </tr>\n",
       "    <tr>\n",
       "      <th>max</th>\n",
       "      <td>891.000000</td>\n",
       "      <td>1.000000</td>\n",
       "      <td>3.000000</td>\n",
       "      <td>80.000000</td>\n",
       "      <td>8.000000</td>\n",
       "      <td>6.000000</td>\n",
       "      <td>512.329200</td>\n",
       "    </tr>\n",
       "  </tbody>\n",
       "</table>\n",
       "</div>"
      ],
      "text/plain": [
       "       PassengerId    Survived      Pclass         Age       SibSp  \\\n",
       "count   891.000000  891.000000  891.000000  714.000000  891.000000   \n",
       "mean    446.000000    0.383838    2.308642   29.699118    0.523008   \n",
       "std     257.353842    0.486592    0.836071   14.526497    1.102743   \n",
       "min       1.000000    0.000000    1.000000    0.420000    0.000000   \n",
       "25%     223.500000    0.000000    2.000000   20.125000    0.000000   \n",
       "50%     446.000000    0.000000    3.000000   28.000000    0.000000   \n",
       "75%     668.500000    1.000000    3.000000   38.000000    1.000000   \n",
       "max     891.000000    1.000000    3.000000   80.000000    8.000000   \n",
       "\n",
       "            Parch        Fare  \n",
       "count  891.000000  891.000000  \n",
       "mean     0.381594   32.204208  \n",
       "std      0.806057   49.693429  \n",
       "min      0.000000    0.000000  \n",
       "25%      0.000000    7.910400  \n",
       "50%      0.000000   14.454200  \n",
       "75%      0.000000   31.000000  \n",
       "max      6.000000  512.329200  "
      ]
     },
     "execution_count": 25,
     "metadata": {},
     "output_type": "execute_result"
    }
   ],
   "source": [
    "# vemos una descripción general del dataset\n",
    "df.describe()"
   ]
  },
  {
   "cell_type": "code",
   "execution_count": 26,
   "metadata": {
    "slideshow": {
     "slide_type": "skip"
    },
    "tags": []
   },
   "outputs": [
    {
     "data": {
      "text/html": [
       "<div>\n",
       "<style scoped>\n",
       "    .dataframe tbody tr th:only-of-type {\n",
       "        vertical-align: middle;\n",
       "    }\n",
       "\n",
       "    .dataframe tbody tr th {\n",
       "        vertical-align: top;\n",
       "    }\n",
       "\n",
       "    .dataframe thead th {\n",
       "        text-align: right;\n",
       "    }\n",
       "</style>\n",
       "<table border=\"1\" class=\"dataframe\">\n",
       "  <thead>\n",
       "    <tr style=\"text-align: right;\">\n",
       "      <th></th>\n",
       "      <th>PassengerId</th>\n",
       "      <th>Survived</th>\n",
       "      <th>Pclass</th>\n",
       "      <th>Age</th>\n",
       "      <th>SibSp</th>\n",
       "      <th>Parch</th>\n",
       "      <th>Fare</th>\n",
       "    </tr>\n",
       "  </thead>\n",
       "  <tbody>\n",
       "    <tr>\n",
       "      <th>PassengerId</th>\n",
       "      <td>1.000000</td>\n",
       "      <td>-0.005007</td>\n",
       "      <td>-0.035144</td>\n",
       "      <td>0.036847</td>\n",
       "      <td>-0.057527</td>\n",
       "      <td>-0.001652</td>\n",
       "      <td>0.012658</td>\n",
       "    </tr>\n",
       "    <tr>\n",
       "      <th>Survived</th>\n",
       "      <td>-0.005007</td>\n",
       "      <td>1.000000</td>\n",
       "      <td>-0.338481</td>\n",
       "      <td>-0.077221</td>\n",
       "      <td>-0.035322</td>\n",
       "      <td>0.081629</td>\n",
       "      <td>0.257307</td>\n",
       "    </tr>\n",
       "    <tr>\n",
       "      <th>Pclass</th>\n",
       "      <td>-0.035144</td>\n",
       "      <td>-0.338481</td>\n",
       "      <td>1.000000</td>\n",
       "      <td>-0.369226</td>\n",
       "      <td>0.083081</td>\n",
       "      <td>0.018443</td>\n",
       "      <td>-0.549500</td>\n",
       "    </tr>\n",
       "    <tr>\n",
       "      <th>Age</th>\n",
       "      <td>0.036847</td>\n",
       "      <td>-0.077221</td>\n",
       "      <td>-0.369226</td>\n",
       "      <td>1.000000</td>\n",
       "      <td>-0.308247</td>\n",
       "      <td>-0.189119</td>\n",
       "      <td>0.096067</td>\n",
       "    </tr>\n",
       "    <tr>\n",
       "      <th>SibSp</th>\n",
       "      <td>-0.057527</td>\n",
       "      <td>-0.035322</td>\n",
       "      <td>0.083081</td>\n",
       "      <td>-0.308247</td>\n",
       "      <td>1.000000</td>\n",
       "      <td>0.414838</td>\n",
       "      <td>0.159651</td>\n",
       "    </tr>\n",
       "    <tr>\n",
       "      <th>Parch</th>\n",
       "      <td>-0.001652</td>\n",
       "      <td>0.081629</td>\n",
       "      <td>0.018443</td>\n",
       "      <td>-0.189119</td>\n",
       "      <td>0.414838</td>\n",
       "      <td>1.000000</td>\n",
       "      <td>0.216225</td>\n",
       "    </tr>\n",
       "    <tr>\n",
       "      <th>Fare</th>\n",
       "      <td>0.012658</td>\n",
       "      <td>0.257307</td>\n",
       "      <td>-0.549500</td>\n",
       "      <td>0.096067</td>\n",
       "      <td>0.159651</td>\n",
       "      <td>0.216225</td>\n",
       "      <td>1.000000</td>\n",
       "    </tr>\n",
       "  </tbody>\n",
       "</table>\n",
       "</div>"
      ],
      "text/plain": [
       "             PassengerId  Survived    Pclass       Age     SibSp     Parch  \\\n",
       "PassengerId     1.000000 -0.005007 -0.035144  0.036847 -0.057527 -0.001652   \n",
       "Survived       -0.005007  1.000000 -0.338481 -0.077221 -0.035322  0.081629   \n",
       "Pclass         -0.035144 -0.338481  1.000000 -0.369226  0.083081  0.018443   \n",
       "Age             0.036847 -0.077221 -0.369226  1.000000 -0.308247 -0.189119   \n",
       "SibSp          -0.057527 -0.035322  0.083081 -0.308247  1.000000  0.414838   \n",
       "Parch          -0.001652  0.081629  0.018443 -0.189119  0.414838  1.000000   \n",
       "Fare            0.012658  0.257307 -0.549500  0.096067  0.159651  0.216225   \n",
       "\n",
       "                 Fare  \n",
       "PassengerId  0.012658  \n",
       "Survived     0.257307  \n",
       "Pclass      -0.549500  \n",
       "Age          0.096067  \n",
       "SibSp        0.159651  \n",
       "Parch        0.216225  \n",
       "Fare         1.000000  "
      ]
     },
     "execution_count": 26,
     "metadata": {},
     "output_type": "execute_result"
    }
   ],
   "source": [
    "# vemos la correlación lineal de las variables del dataset\n",
    "df.corr()"
   ]
  },
  {
   "cell_type": "code",
   "execution_count": 27,
   "metadata": {
    "slideshow": {
     "slide_type": "skip"
    },
    "tags": []
   },
   "outputs": [
    {
     "data": {
      "text/plain": [
       "[]"
      ]
     },
     "execution_count": 27,
     "metadata": {},
     "output_type": "execute_result"
    },
    {
     "data": {
      "image/png": "[encoded data removed]",
      "text/plain": [
       "<Figure size 432x288 with 2 Axes>"
      ]
     },
     "metadata": {
      "needs_background": "light"
     },
     "output_type": "display_data"
    }
   ],
   "source": [
    "# graficamos esa correlación para visualizarla mejor\n",
    "\n",
    "import seaborn as sns\n",
    "sns.heatmap(round(df.corr(),1), cmap='Blues', annot=True)\n",
    "plt.plot()"
   ]
  },
  {
   "cell_type": "markdown",
   "metadata": {
    "slideshow": {
     "slide_type": "skip"
    },
    "tags": []
   },
   "source": [
    "Este análisis es muy interesante para entender cómo cambian pares de features en tándem. Recordar que **correlación no implica causalidad** ([Ejemplo 1](http://tylervigen.com/spurious-correlations), [2](https://en.wikipedia.org/wiki/Clever_Hans), [3](https://en.wikipedia.org/wiki/Survivorship_bias)). Si bien es un buen indicio para explorar una hipótesis, la misma debería ser validada o refutada por otros medios."
   ]
  },
  {
   "cell_type": "code",
   "execution_count": 28,
   "metadata": {
    "slideshow": {
     "slide_type": "skip"
    },
    "tags": []
   },
   "outputs": [],
   "source": [
    "# transformamos el dataframe en matriz de datos\n",
    "\n",
    "#  'loc' en un dataframe permite obtener datos de forma similar a las listas en\n",
    "# python y numpy, con la diferencia de que las posiciones de las mismas son llamadas\n",
    "# por medio de los nombres de las columnas, y la posición final *sí* es incluida\n",
    "X = df.loc[:, df.columns != 'Survived'].values\n",
    "y = df['Survived'].values"
   ]
  },
  {
   "cell_type": "code",
   "execution_count": 29,
   "metadata": {
    "slideshow": {
     "slide_type": "skip"
    },
    "tags": []
   },
   "outputs": [
    {
     "name": "stdout",
     "output_type": "stream",
     "text": [
      "[[1 3 'Braund, Mr. Owen Harris' ... 7.25 nan 'S']\n",
      " [2 1 'Cumings, Mrs. John Bradley (Florence Briggs Thayer)' ... 71.2833\n",
      "  'C85' 'C']\n",
      " [3 3 'Heikkinen, Miss. Laina' ... 7.925 nan 'S']\n",
      " ...\n",
      " [889 3 'Johnston, Miss. Catherine Helen \"Carrie\"' ... 23.45 nan 'S']\n",
      " [890 1 'Behr, Mr. Karl Howell' ... 30.0 'C148' 'C']\n",
      " [891 3 'Dooley, Mr. Patrick' ... 7.75 nan 'Q']]\n"
     ]
    }
   ],
   "source": [
    "# vemos la matriz de datos X\n",
    "print(X)"
   ]
  },
  {
   "cell_type": "code",
   "execution_count": 30,
   "metadata": {
    "slideshow": {
     "slide_type": "skip"
    },
    "tags": []
   },
   "outputs": [
    {
     "name": "stdout",
     "output_type": "stream",
     "text": [
      "[0 1 1 1 0 0 0 0 1 1 1 1 0 0 0 1 0 1 0 1]\n"
     ]
    }
   ],
   "source": [
    "# vemos el vector *y* de las primeras 20 salidas\n",
    "print(y[:20])"
   ]
  },
  {
   "cell_type": "markdown",
   "metadata": {
    "slideshow": {
     "slide_type": "skip"
    },
    "tags": []
   },
   "source": [
    "Bonus: [excelente pipeline de trabajo con el dataset Titanic](https://www.kaggle.com/masumrumi/a-statistical-analysis-ml-workflow-of-titanic)"
   ]
  }
 ],
 "metadata": {
  "anaconda-cloud": {},
  "kernelspec": {
   "display_name": "Python 3",
   "language": "python",
   "name": "python3"
  },
  "language_info": {
   "codemirror_mode": {
    "name": "ipython",
    "version": 3
   },
   "file_extension": ".py",
   "mimetype": "text/x-python",
   "name": "python",
   "nbconvert_exporter": "python",
   "pygments_lexer": "ipython3",
   "version": "3.7.7"
  }
 },
 "nbformat": 4,
 "nbformat_minor": 4
}
