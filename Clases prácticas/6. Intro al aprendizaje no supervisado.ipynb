{
 "cells": [
  {
   "cell_type": "markdown",
   "metadata": {
    "slideshow": {
     "slide_type": "slide"
    },
    "tags": []
   },
   "source": [
    "<a href=\"https://colab.research.google.com/github/inteligenciafrvm/inteligenciafrvm/blob/master/Clases%20pr%C3%A1cticas/6.%20Intro%20al%20aprendizaje%20no%20supervisado.ipynb\" target=\"_parent\"><img src=\"https://colab.research.google.com/assets/colab-badge.svg\" alt=\"Open In Colab\"/></a>"
   ]
  },
  {
   "cell_type": "markdown",
   "metadata": {},
   "source": [
    "# Introducción al Aprendizaje No Supervisado\n",
    "\n",
    "* Introducción.\n",
    "* Principal Components Analysis.\n",
    "* Clustering.\n",
    "    * KMeans.\n",
    "    * Mixture Models.\n",
    "\n",
    "5to año - Ingeniería en Sistemas de Información\n",
    "\n",
    "Facultad Regional Villa María"
   ]
  },
  {
   "cell_type": "markdown",
   "metadata": {
    "slideshow": {
     "slide_type": "slide"
    },
    "tags": []
   },
   "source": [
    "## Introducción\n",
    "\n",
    "* Los métodos de aprendizaje no supervisado apuntan realizar un análisis _exploratorio_ de los datos, para poder descubrir aspectos de interés sobre los mismos dejando de lado su posible asociación con una respuesta $y$.\n"
   ]
  },
  {
   "cell_type": "markdown",
   "metadata": {
    "slideshow": {
     "slide_type": "fragment"
    },
    "tags": []
   },
   "source": [
    "* El conjunto de datos que se analiza es la matriz $X$, con el fin de extraer modelos o conocimiento sobre los datos de la misma. Debido a que no incluimos un conjunto $y$ de salidas para aprender iterativamente, para esta tarea se utilizan técnicas distintas.\n"
   ]
  },
  {
   "cell_type": "markdown",
   "metadata": {
    "slideshow": {
     "slide_type": "fragment"
    },
    "tags": []
   },
   "source": [
    "* No obstante, para ciertos problemas es posible combinar el conocimiento extraído a partir de este tipo de aprendizaje para mejorar los modelos de aprendizaje supervisado vistos anteriormente.\n"
   ]
  },
  {
   "cell_type": "markdown",
   "metadata": {
    "slideshow": {
     "slide_type": "subslide"
    },
    "tags": []
   },
   "source": [
    "* Algunos ejemplos de tarea de aprendizaje no supervisado:\n",
    "    * Dada una colección de imágenes, agrupar aquellas similares.\n",
    "    * Dadas varias fuentes de sonido en una misma pista de audio, como por ejemplo una persona hablando por teléfono y un parlante emitiendo música, obtener la separación de las distintas fuentes.\n",
    "    * Entender cómo se correlacionan los features de un determinado conjunto de datos.\n"
   ]
  },
  {
   "cell_type": "markdown",
   "metadata": {
    "slideshow": {
     "slide_type": "fragment"
    },
    "tags": []
   },
   "source": [
    "* En la presente clase vamos a ver la implementación de dos técnicas muy utilizadas: clústering y PCA."
   ]
  },
  {
   "cell_type": "markdown",
   "metadata": {
    "slideshow": {
     "slide_type": "slide"
    },
    "tags": []
   },
   "source": [
    "## Análisis de componentes principales (PCA)\n",
    "\n",
    "* En la práctica, los features $X$ de un dataset suelen tener un grado de relación entre sí (ej. pensar en features edad y altura para una muestra de datos de niños y adolescentes)."
   ]
  },
  {
   "cell_type": "markdown",
   "metadata": {
    "slideshow": {
     "slide_type": "fragment"
    },
    "tags": []
   },
   "source": [
    "* Como muchas veces, para estos datasets con datos correlacionados, es baja la cantidad de features que definen al dataset, debería ser posible encontrar la forma de explicar la mayor parte posible del dataset con la menor cantidad de features posible. "
   ]
  },
  {
   "cell_type": "markdown",
   "metadata": {
    "slideshow": {
     "slide_type": "fragment"
    },
    "tags": []
   },
   "source": [
    "* El *análisis de componentes principales (PCA)* realiza esto al calcular features transformados que surgen como combinación lineal de los demás, permitiendo así visualizar esta correlación y reducir la dimensión del dataset y por ende el efecto de la *Curse of Dimensionality*."
   ]
  },
  {
   "cell_type": "markdown",
   "metadata": {
    "slideshow": {
     "slide_type": "subslide"
    },
    "tags": []
   },
   "source": [
    "* En otras palabras, PCA apunta a reducir la dimensionalidad de un dataset al considerar qué features explican mejor la varianza de los datos."
   ]
  },
  {
   "cell_type": "markdown",
   "metadata": {
    "slideshow": {
     "slide_type": "fragment"
    },
    "tags": []
   },
   "source": [
    "* Para ello se crea una proyección linear del dataset. Los datos correlacionados se obtienen mediante un número menor de variables representativas no correlacionadas (ortogonales) que expliquen de forma conjunta la varianza del set original."
   ]
  },
  {
   "cell_type": "markdown",
   "metadata": {
    "slideshow": {
     "slide_type": "subslide"
    },
    "tags": []
   },
   "source": [
    "### Repaso rápido:\n",
    "\n",
    "[Repaso rápido de Álgebra](https://github.com/inteligenciafrvm/inteligenciafrvm/blob/master/Archivo%20y%20extras/Material%20Extra/Fundamentos/%C3%81lgebra.ipynb)\n",
    "\n",
    "Objetivo: encontrar una matriz de vectores de pesos/coeficientes $W(p,p)$ (cuyos vectores columna se conocen como componentes principales) que transforme a los datos $X(n,p)$ (normalizados con media 0 en cada columna) tal que la nueva transformación maximice la varianza de los datos, mediante\n",
    "\n",
    "$T = XW$"
   ]
  },
  {
   "cell_type": "markdown",
   "metadata": {
    "slideshow": {
     "slide_type": "fragment"
    },
    "tags": []
   },
   "source": [
    "Cada fila de $T$ representa el mapeo de la correspondiente fila de $X$ para el primer, segundo y último componente principal considerado (hasta un máximo de $min(n,p)$), mientras que cada columna representa los valores de cada observación para el primer componente principal."
   ]
  },
  {
   "cell_type": "markdown",
   "metadata": {
    "slideshow": {
     "slide_type": "fragment"
    },
    "tags": []
   },
   "source": [
    "En $W$, cada columna/componente tiene los pesos del j-ésimo componente principal (con un máximo de $min(n,p)$)."
   ]
  },
  {
   "cell_type": "markdown",
   "metadata": {
    "slideshow": {
     "slide_type": "fragment"
    },
    "tags": []
   },
   "source": [
    "Veamos un ejemplo de su aplicación para el Iris dataset..."
   ]
  },
  {
   "cell_type": "code",
   "execution_count": 1,
   "metadata": {
    "slideshow": {
     "slide_type": "subslide"
    },
    "tags": []
   },
   "outputs": [
    {
     "data": {
      "image/png": "[encoded data removed]",
      "text/plain": [
       "<Figure size 432x288 with 1 Axes>"
      ]
     },
     "metadata": {
      "needs_background": "light"
     },
     "output_type": "display_data"
    }
   ],
   "source": [
    "# Recordemos el Iris dataset...\n",
    "\n",
    "import numpy as np\n",
    "import matplotlib.pyplot as plt\n",
    "%matplotlib inline\n",
    "from sklearn.datasets import load_iris\n",
    "from sklearn import neighbors\n",
    "from sklearn.preprocessing import scale\n",
    "from sklearn.datasets import load_iris\n",
    "from sklearn.decomposition import PCA\n",
    "\n",
    "iris = load_iris()\n",
    "\n",
    "# tomamos los primeros dos features para mostrarlos mejor graficamente (el largo y el ancho del sepalo)\n",
    "X = iris.data[:, :2]\n",
    "y = iris.target\n",
    "\n",
    "plot = plt.scatter(X[y==0, 0], X[y==0, 1], label=iris.target_names[0], color='orange')\n",
    "plot = plt.scatter(X[y==1, 0], X[y==1, 1], label=iris.target_names[1], color='blue')\n",
    "plot = plt.scatter(X[y==2, 0], X[y==2, 1], label=iris.target_names[2], color='green')\n",
    "\n",
    "plt.xlabel(iris.feature_names[0])\n",
    "plt.ylabel(iris.feature_names[1])\n",
    "plt.legend(loc='best', numpoints=1)\n",
    "plt.show()"
   ]
  },
  {
   "cell_type": "markdown",
   "metadata": {
    "slideshow": {
     "slide_type": "subslide"
    },
    "tags": []
   },
   "source": [
    "Vamos a obtener los componentes principales mediante varios métodos. Primero, centramos los datos en media 0 (con respecto a cada columna)"
   ]
  },
  {
   "cell_type": "code",
   "execution_count": 2,
   "metadata": {
    "slideshow": {
     "slide_type": "fragment"
    },
    "tags": []
   },
   "outputs": [],
   "source": [
    "# Antes de transformar los datos, los mismos deben estar normalizados\n",
    "# estandarizamos los datos con media 0\n",
    "X = iris.data\n",
    "X_mean = np.mean(X.T, axis=1)\n",
    "X_norm = X - X_mean"
   ]
  },
  {
   "cell_type": "markdown",
   "metadata": {
    "slideshow": {
     "slide_type": "slide"
    },
    "tags": []
   },
   "source": [
    "### PCA desde matriz de covarianza\n",
    "\n",
    "La forma más fácil de computar PCA es computando la matriz de covarianza de $X$. Descomponiendo esa matriz en autovectores y autovalores, tenemos que los primeros son $W$, y los segundos se corresponden a la varianza explicada por cada componente."
   ]
  },
  {
   "cell_type": "code",
   "execution_count": 3,
   "metadata": {
    "slideshow": {
     "slide_type": "fragment"
    },
    "tags": []
   },
   "outputs": [],
   "source": [
    "# la covarianza se calcula como el producto de matrices entre X^T y X\n",
    "# dividido el número de muestras-1\n",
    "cov_X = (1/(np.shape(X_norm)[0]-1)) * X_norm.T @ X_norm\n",
    "autoval, autovec = np.linalg.eig(cov_X)  # descomponemos"
   ]
  },
  {
   "cell_type": "code",
   "execution_count": 4,
   "metadata": {
    "slideshow": {
     "slide_type": "fragment"
    },
    "tags": []
   },
   "outputs": [],
   "source": [
    "# nota: también puede obtenerse la cov mediante numpy, usando\n",
    "cov_2_X = np.cov(X_norm.T)"
   ]
  },
  {
   "cell_type": "code",
   "execution_count": 5,
   "metadata": {
    "slideshow": {
     "slide_type": "subslide"
    },
    "tags": []
   },
   "outputs": [
    {
     "name": "stdout",
     "output_type": "stream",
     "text": [
      "[4.22824171 0.24267075 0.0782095  0.02383509]\n"
     ]
    }
   ],
   "source": [
    "print(autoval) # varianza explicada por cada componente"
   ]
  },
  {
   "cell_type": "code",
   "execution_count": 6,
   "metadata": {
    "slideshow": {
     "slide_type": "fragment"
    },
    "tags": []
   },
   "outputs": [
    {
     "name": "stdout",
     "output_type": "stream",
     "text": [
      "[[ 0.36138659 -0.65658877 -0.58202985  0.31548719]\n",
      " [-0.08452251 -0.73016143  0.59791083 -0.3197231 ]\n",
      " [ 0.85667061  0.17337266  0.07623608 -0.47983899]\n",
      " [ 0.3582892   0.07548102  0.54583143  0.75365743]]\n"
     ]
    }
   ],
   "source": [
    "print(autovec) # Componentes de PCA del 1ro al 4to vector"
   ]
  },
  {
   "cell_type": "code",
   "execution_count": 7,
   "metadata": {
    "slideshow": {
     "slide_type": "fragment"
    },
    "tags": []
   },
   "outputs": [
    {
     "name": "stdout",
     "output_type": "stream",
     "text": [
      "Matrix X transformada (primeras 5 filas - covarianza)\n",
      "[[-2.68412563e+00 -3.19397247e-01 -2.79148276e-02  2.26243707e-03]\n",
      " [-2.71414169e+00  1.77001225e-01 -2.10464272e-01  9.90265503e-02]\n",
      " [-2.88899057e+00  1.44949426e-01  1.79002563e-02  1.99683897e-02]\n",
      " [-2.74534286e+00  3.18298979e-01  3.15593736e-02 -7.55758166e-02]\n",
      " [-2.72871654e+00 -3.26754513e-01  9.00792406e-02 -6.12585926e-02]]\n"
     ]
    }
   ],
   "source": [
    "print('Matrix X transformada (primeras 5 filas - covarianza)')\n",
    "print((X_norm @ autovec)[:5,:])"
   ]
  },
  {
   "cell_type": "markdown",
   "metadata": {
    "slideshow": {
     "slide_type": "slide"
    },
    "tags": []
   },
   "source": [
    "### PCA desde SVD\n",
    "\n",
    "Otra forma de realizar el análisis es a partir de la descomposición de valores singulares."
   ]
  },
  {
   "cell_type": "code",
   "execution_count": 8,
   "metadata": {
    "slideshow": {
     "slide_type": "fragment"
    },
    "tags": []
   },
   "outputs": [
    {
     "name": "stdout",
     "output_type": "stream",
     "text": [
      "[[ 0.36138659 -0.65658877  0.58202985  0.31548719]\n",
      " [-0.08452251 -0.73016143 -0.59791083 -0.3197231 ]\n",
      " [ 0.85667061  0.17337266 -0.07623608 -0.47983899]\n",
      " [ 0.3582892   0.07548102 -0.54583143  0.75365743]]\n"
     ]
    }
   ],
   "source": [
    "# descomponemos X_norm en SVD\n",
    "# v equivale a W^T\n",
    "u, s, v = np.linalg.svd(X_norm)\n",
    "print(v.T) # Componentes de PCA del 1ro al 4to vector"
   ]
  },
  {
   "cell_type": "code",
   "execution_count": 9,
   "metadata": {
    "slideshow": {
     "slide_type": "skip"
    },
    "tags": []
   },
   "outputs": [],
   "source": [
    "# nota: s no es la matriz completa, sólo su diagonal.\n",
    "# Para reconstruirla debe hacerse\n",
    "\n",
    "n_columnas = np.shape(X_norm)[1]\n",
    "\n",
    "# se usa n_columnas en este contexto para no tener 0s \n",
    "# debajo de la diagonal principal\n",
    "s_matrix = np.zeros((n_columnas, n_columnas)) \n",
    "s_matrix[:np.shape(X_norm)[1], :np.shape(X_norm)[1]] = np.diag(s)"
   ]
  },
  {
   "cell_type": "code",
   "execution_count": 10,
   "metadata": {
    "slideshow": {
     "slide_type": "fragment"
    },
    "tags": []
   },
   "outputs": [
    {
     "name": "stdout",
     "output_type": "stream",
     "text": [
      "Matrix X transformada (primeras 5 filas - svd)\n",
      "[[-2.68412563e+00 -3.19397247e-01  2.79148276e-02  2.26243707e-03]\n",
      " [-2.71414169e+00  1.77001225e-01  2.10464272e-01  9.90265503e-02]\n",
      " [-2.88899057e+00  1.44949426e-01 -1.79002563e-02  1.99683897e-02]\n",
      " [-2.74534286e+00  3.18298979e-01 -3.15593736e-02 -7.55758166e-02]\n",
      " [-2.72871654e+00 -3.26754513e-01 -9.00792406e-02 -6.12585926e-02]]\n"
     ]
    }
   ],
   "source": [
    "print('Matrix X transformada (primeras 5 filas - svd)')\n",
    "print((X_norm @ v.T)[:5,:])"
   ]
  },
  {
   "cell_type": "markdown",
   "metadata": {
    "slideshow": {
     "slide_type": "slide"
    },
    "tags": []
   },
   "source": [
    "### PCA desde sklearn\n",
    "\n",
    "Sklearn usa SVD para realizar PCA, computándolo bajo su interfaz común."
   ]
  },
  {
   "cell_type": "code",
   "execution_count": 11,
   "metadata": {
    "slideshow": {
     "slide_type": "subslide"
    },
    "tags": []
   },
   "outputs": [
    {
     "name": "stdout",
     "output_type": "stream",
     "text": [
      "Matrix X transformada (primeras 5 filas - interfaz sklearn)\n",
      "[[-2.68412563e+00  3.19397247e-01 -2.79148276e-02 -2.26243707e-03]\n",
      " [-2.71414169e+00 -1.77001225e-01 -2.10464272e-01 -9.90265503e-02]\n",
      " [-2.88899057e+00 -1.44949426e-01  1.79002563e-02 -1.99683897e-02]\n",
      " [-2.74534286e+00 -3.18298979e-01  3.15593736e-02  7.55758166e-02]\n",
      " [-2.72871654e+00  3.26754513e-01  9.00792406e-02  6.12585926e-02]]\n"
     ]
    }
   ],
   "source": [
    "pca = PCA()\n",
    "pca.fit(X_norm)\n",
    "\n",
    "# X_transformed son los datos X transformados linealmente \n",
    "# con respecto a los componentes principales\n",
    "X_transformed = pca.transform(X_norm)\n",
    "print('Matrix X transformada (primeras 5 filas - interfaz sklearn)')\n",
    "print(X_transformed[:5,:])"
   ]
  },
  {
   "cell_type": "code",
   "execution_count": 12,
   "metadata": {
    "slideshow": {
     "slide_type": "subslide"
    },
    "tags": []
   },
   "outputs": [
    {
     "name": "stdout",
     "output_type": "stream",
     "text": [
      "Componentes de PCA (W) (ordenados desc. desde el 1° hasta el 4to vector):       \n",
      "\n",
      " [[ 0.36138659  0.65658877 -0.58202985 -0.31548719]\n",
      " [-0.08452251  0.73016143  0.59791083  0.3197231 ]\n",
      " [ 0.85667061 -0.17337266  0.07623608  0.47983899]\n",
      " [ 0.3582892  -0.07548102  0.54583143 -0.75365743]]\n"
     ]
    }
   ],
   "source": [
    "# Veamos los vectores de componentes de PCA...\n",
    "print('Componentes de PCA (W) (ordenados desc. desde el 1° hasta el 4to vector): \\\n",
    "      \\n\\n', pca.components_.T) "
   ]
  },
  {
   "cell_type": "code",
   "execution_count": 13,
   "metadata": {
    "slideshow": {
     "slide_type": "subslide"
    },
    "tags": []
   },
   "outputs": [
    {
     "name": "stdout",
     "output_type": "stream",
     "text": [
      "Varianza explicada por cada componente: \n",
      "\n",
      " [4.22824171 0.24267075 0.0782095  0.02383509]\n"
     ]
    }
   ],
   "source": [
    "print('Varianza explicada por cada componente: \\n\\n', pca.explained_variance_)"
   ]
  },
  {
   "cell_type": "code",
   "execution_count": 14,
   "metadata": {
    "slideshow": {
     "slide_type": "subslide"
    },
    "tags": []
   },
   "outputs": [
    {
     "name": "stdout",
     "output_type": "stream",
     "text": [
      "Matrix X transformada (primeras 5 filas - multiplicación a mano)\n",
      "[[-2.68412563e+00  3.19397247e-01 -2.79148276e-02 -2.26243707e-03]\n",
      " [-2.71414169e+00 -1.77001225e-01 -2.10464272e-01 -9.90265503e-02]\n",
      " [-2.88899057e+00 -1.44949426e-01  1.79002563e-02 -1.99683897e-02]\n",
      " [-2.74534286e+00 -3.18298979e-01  3.15593736e-02  7.55758166e-02]\n",
      " [-2.72871654e+00  3.26754513e-01  9.00792406e-02  6.12585926e-02]]\n"
     ]
    }
   ],
   "source": [
    "print('Matrix X transformada (primeras 5 filas - multiplicación a mano)')\n",
    "print((X_norm @ pca.components_.T)[:5,:])"
   ]
  },
  {
   "cell_type": "code",
   "execution_count": 15,
   "metadata": {
    "slideshow": {
     "slide_type": "subslide"
    },
    "tags": []
   },
   "outputs": [
    {
     "data": {
      "image/png": "[encoded data removed]",
      "text/plain": [
       "<Figure size 432x288 with 1 Axes>"
      ]
     },
     "metadata": {
      "needs_background": "light"
     },
     "output_type": "display_data"
    }
   ],
   "source": [
    "# Visualizamos ahora cuánto es explicada la varianza\n",
    "# por cada uno de los componentes principales\n",
    "\n",
    "n_components = np.shape(pca.components_)[1]\n",
    "\n",
    "y_pos = np.arange(n_components)\n",
    "# pca.explained_variance_ratio_ es quien nos devuelve el gráfico de la varianza\n",
    "plt.bar(y_pos, np.round(100 * pca.explained_variance_ratio_,\n",
    "                        decimals=1), align='center', alpha=0.5)\n",
    "plt.xticks(y_pos, np.arange(0, n_components))\n",
    "plt.xlabel('N° de Componente Principal')\n",
    "plt.ylabel('Varianza')\n",
    "plt.title('Varianza explicada por cada componente')\n",
    "plt.show()"
   ]
  },
  {
   "cell_type": "markdown",
   "metadata": {
    "slideshow": {
     "slide_type": "subslide"
    },
    "tags": []
   },
   "source": [
    "* ¿Qué significa esto? Significa que el primer componente principal que generamos explica más de un 90% de la varianza de los datos. En otras palabras, **al usar una varible (transformada) para graficar tenemos el 90% de la información acerca de los features que representan las 4 variables originales**."
   ]
  },
  {
   "cell_type": "markdown",
   "metadata": {
    "slideshow": {
     "slide_type": "fragment"
    },
    "tags": []
   },
   "source": [
    "* Notar que un componente principal es una combinación lineal de los valores de los distintos features; **no confundir el número del componente principal con el número de feature, cada feature transformado \"resume info\" de varios features**."
   ]
  },
  {
   "cell_type": "markdown",
   "metadata": {
    "slideshow": {
     "slide_type": "fragment"
    },
    "tags": []
   },
   "source": [
    "* Veamos esto gráficamente..."
   ]
  },
  {
   "cell_type": "code",
   "execution_count": 16,
   "metadata": {
    "slideshow": {
     "slide_type": "fragment"
    },
    "tags": []
   },
   "outputs": [
    {
     "data": {
      "image/png": "[encoded data removed]",
      "text/plain": [
       "<Figure size 432x288 with 1 Axes>"
      ]
     },
     "metadata": {
      "needs_background": "light"
     },
     "output_type": "display_data"
    }
   ],
   "source": [
    "plt.plot(X_transformed[y==0,0], np.zeros(len(X_transformed[y==0,0])), 'o', label=iris.target_names[0], color='orange')\n",
    "plt.plot(X_transformed[y==1,0], np.zeros(len(X_transformed[y==1,0])), 'o', label=iris.target_names[1], color='blue')\n",
    "plt.plot(X_transformed[y==2,0], np.zeros(len(X_transformed[y==2,0])), 'o', label=iris.target_names[2], color='green')\n",
    "plt.xlabel('Valor del Primer Componente Principal')\n",
    "plt.legend(loc='best', numpoints=1)\n",
    "plt.show()\n"
   ]
  },
  {
   "cell_type": "markdown",
   "metadata": {
    "slideshow": {
     "slide_type": "subslide"
    },
    "tags": []
   },
   "source": [
    "Incluimos el segundo componente principal, vemos que no cambia sustancialmente..."
   ]
  },
  {
   "cell_type": "code",
   "execution_count": 17,
   "metadata": {
    "slideshow": {
     "slide_type": "fragment"
    },
    "tags": []
   },
   "outputs": [
    {
     "data": {
      "image/png": "[encoded data removed]",
      "text/plain": [
       "<Figure size 432x288 with 1 Axes>"
      ]
     },
     "metadata": {
      "needs_background": "light"
     },
     "output_type": "display_data"
    }
   ],
   "source": [
    "plot = plt.scatter(X_transformed[y==0, 0], X_transformed[y==0, 1], label=iris.target_names[0], color='orange')\n",
    "plot = plt.scatter(X_transformed[y==1, 0], X_transformed[y==1, 1], label=iris.target_names[1], color='blue')\n",
    "plot = plt.scatter(X_transformed[y==2, 0], X_transformed[y==2, 1], label=iris.target_names[2], color='green')\n",
    "plt.xlabel('Valor del Primer Componente Principal')\n",
    "plt.ylabel('Valor del Segundo Componente Principal')\n",
    "plt.legend(loc='best', numpoints=1)\n",
    "plt.show()"
   ]
  },
  {
   "cell_type": "markdown",
   "metadata": {
    "slideshow": {
     "slide_type": "subslide"
    },
    "tags": []
   },
   "source": [
    "### Visualizar la correlación de cada feature\n",
    "\n",
    "Hasta aquí hemos visto cómo hacer la proyección de los datos en un nuevo espacio transformado, tal que se maximice la varianza explicada de los datos. Ahora bien, una de las características principales de PCA es podemos visualizar cómo las distintas características del conjunto $X$ original se correlacionan con los componentes principales, observando cómo varían entre sí con respecto a ellos."
   ]
  },
  {
   "cell_type": "markdown",
   "metadata": {
    "slideshow": {
     "slide_type": "fragment"
    },
    "tags": []
   },
   "source": [
    "Vemos la matriz de covarianza cruzada entre los componentes principales y las columnas de $X$."
   ]
  },
  {
   "cell_type": "code",
   "execution_count": 18,
   "metadata": {
    "slideshow": {
     "slide_type": "subslide"
    },
    "tags": []
   },
   "outputs": [
    {
     "name": "stdout",
     "output_type": "stream",
     "text": [
      "                        PC1       PC2       PC3       PC4\n",
      "sepal length (cm)  0.743108  0.323446 -0.162770 -0.048707\n",
      "sepal width (cm)  -0.173801  0.359689  0.167212  0.049361\n",
      "petal length (cm)  1.761545 -0.085406  0.021320  0.074081\n",
      "petal width (cm)   0.736739 -0.037183  0.152647 -0.116354\n"
     ]
    }
   ],
   "source": [
    "import pandas as pd\n",
    "\n",
    "loadings = pca.components_.T * np.sqrt(pca.explained_variance_)\n",
    "\n",
    "loading_matrix = pd.DataFrame(loadings, columns=['PC1', 'PC2', 'PC3', 'PC4'], index=iris.feature_names)\n",
    "print(loading_matrix)"
   ]
  },
  {
   "cell_type": "markdown",
   "metadata": {
    "slideshow": {
     "slide_type": "fragment"
    },
    "tags": []
   },
   "source": [
    "Cada columna de esta matriz se conoce como *loading vector*"
   ]
  },
  {
   "cell_type": "code",
   "execution_count": 19,
   "metadata": {
    "slideshow": {
     "slide_type": "skip"
    },
    "tags": []
   },
   "outputs": [
    {
     "name": "stdout",
     "output_type": "stream",
     "text": [
      "                        PC1       PC2       PC3       PC4\n",
      "sepal length (cm)  0.743108 -0.323446  0.162770  0.048707\n",
      "sepal width (cm)  -0.173801 -0.359689 -0.167212 -0.049361\n",
      "petal length (cm)  1.761545  0.085406 -0.021320 -0.074081\n",
      "petal width (cm)   0.736739  0.037183 -0.152647  0.116354\n"
     ]
    }
   ],
   "source": [
    "# haciendolo a mano con svd, sería\n",
    "\n",
    "loadings = (1/(np.sqrt(np.shape(X_norm)[0]-1))) * v.T @ s_matrix\n",
    "\n",
    "loading_matrix = pd.DataFrame(loadings, columns=['PC1', 'PC2', 'PC3', 'PC4'], index=iris.feature_names)\n",
    "print(loading_matrix)"
   ]
  },
  {
   "cell_type": "markdown",
   "metadata": {
    "slideshow": {
     "slide_type": "skip"
    },
    "tags": []
   },
   "source": [
    "(código basado en https://scentellegher.github.io/machine-learning/2020/01/27/pca-loadings-sklearn.html y en https://stats.stackexchange.com/questions/104306/what-is-the-difference-between-loadings-and-correlation-loadings-in-pca-and/104640#104640)"
   ]
  },
  {
   "cell_type": "markdown",
   "metadata": {
    "slideshow": {
     "slide_type": "subslide"
    },
    "tags": []
   },
   "source": [
    "Lo vemos gráficamente (en 2D)...\n",
    "\n",
    "(parte del codigo basado en https://stackoverflow.com/questions/42281966/how-to-plot-vectors-in-python-using-matplotlib)"
   ]
  },
  {
   "cell_type": "code",
   "execution_count": 20,
   "metadata": {
    "slideshow": {
     "slide_type": "fragment"
    },
    "tags": []
   },
   "outputs": [
    {
     "data": {
      "image/png": "[encoded data removed]",
      "text/plain": [
       "<Figure size 432x288 with 1 Axes>"
      ]
     },
     "metadata": {
      "needs_background": "light"
     },
     "output_type": "display_data"
    }
   ],
   "source": [
    "# codigo agregado para graficar los vectores\n",
    "V = np.array([[loadings[0,0],loadings[0,1]],\n",
    "              [loadings[1,0],loadings[1,1]],\n",
    "              [loadings[2,0],loadings[2,1]],\n",
    "              [loadings[3,0],loadings[3,1]]])\n",
    "origin = [0,0,0,0],[0,0,0,0] # origen, desde donde se situaran los vectores\n",
    "\n",
    "plot = plt.scatter(X_transformed[y==0, 0], X_transformed[y==0, 1], label=iris.target_names[0], color='orange')\n",
    "plot = plt.scatter(X_transformed[y==1, 0], X_transformed[y==1, 1], label=iris.target_names[1], color='blue')\n",
    "plot = plt.scatter(X_transformed[y==2, 0], X_transformed[y==2, 1], label=iris.target_names[2], color='green')\n",
    "\n",
    "plt.quiver(*origin, V[:,0], V[:,1], color=['r','purple','orange','cyan'], angles='xy', scale_units='xy', scale=1)\n",
    "\n",
    "# se agrega texto a los vectores, quitando el substring \" (cm)\"\n",
    "plt.text(loadings[0,0],loadings[0,1], iris.feature_names[0].replace(' (cm)', ''), fontsize=13, weight=1000)\n",
    "plt.text(loadings[1,0],loadings[1,1], iris.feature_names[1].replace(' (cm)', ''), fontsize=13, weight=1000)\n",
    "plt.text(loadings[2,0],loadings[2,1], iris.feature_names[2].replace(' (cm)', ''), fontsize=13, weight=1000)\n",
    "plt.text(loadings[3,0],loadings[3,1], iris.feature_names[3].replace(' (cm)', ''), fontsize=13, weight=1000)\n",
    "plt.xlabel('Valor del Primer Componente Principal')\n",
    "plt.ylabel('Valor del Segundo Componente Principal')\n",
    "plt.legend(loc='best', numpoints=1)\n",
    "plt.show()"
   ]
  },
  {
   "cell_type": "markdown",
   "metadata": {
    "slideshow": {
     "slide_type": "skip"
    },
    "tags": []
   },
   "source": [
    "En el gráfico podemos ver cómo los distintos features se modifican según los valores de sus dos primeros componentes principales, mostrando las diferencias entre los mismos.\n",
    "\n",
    "Por ejemplo, podemos ver intuitivamente que el vector del feature \"largo del pétalo\" (**\"petal length\"**) es el que a mayor proporción crece a medida que crece el primer componente principal, seguido por el ancho del pétalo, el largo del sépalo, mientras que el ancho del sépalo es inversamente proporcional al valor del primer componente principal (es decir, cuando el mismo decrece)."
   ]
  },
  {
   "cell_type": "markdown",
   "metadata": {
    "slideshow": {
     "slide_type": "subslide"
    },
    "tags": []
   },
   "source": [
    "Si utilizamos PCA para un conjunto $X_{train}$ y hacemos un modelo para aproximar el mismo, ¿qué hacemos si tenemos nuevos datos de test $X_{test}$?"
   ]
  },
  {
   "cell_type": "markdown",
   "metadata": {
    "slideshow": {
     "slide_type": "fragment"
    },
    "tags": []
   },
   "source": [
    "* Para los nuevos datos tenemos primero que **normalizarlos** con media 0, restándole a cada feature la media del feature para el conjunto de entrenamiento (puede también normalizarse en cuanto a la desviación estándar,  z-score)."
   ]
  },
  {
   "cell_type": "markdown",
   "metadata": {
    "slideshow": {
     "slide_type": "fragment"
    },
    "tags": []
   },
   "source": [
    "* Tras eso, **deben ser transformados** con respecto a los componentes principales del conjunto de entrenamiento con **_pca.transform($X_{test}$)_**. A partir de ahí ya pueden ser utilizados con el modelo empleado para el conjunto $X$."
   ]
  },
  {
   "cell_type": "markdown",
   "metadata": {
    "slideshow": {
     "slide_type": "skip"
    },
    "tags": []
   },
   "source": [
    "Por otra parte, nuestro dataset transformado puede ser devuelto a la matriz con los predictores originales con el método **pca.inverse_transform(X_transformed)**, quedando exactamente el mismo dataset que X si no se realizó ninguna modificación, y variando si alguna modificación fue realizada (por ejemplo, eliminar un feature de un componente principal que casi no aportaba a la explicación de la varianza se traduciría en una muy ligera variación en el dataset original)."
   ]
  },
  {
   "cell_type": "markdown",
   "metadata": {
    "slideshow": {
     "slide_type": "slide"
    },
    "tags": []
   },
   "source": [
    "## Clustering\n",
    "\n",
    "* _Clustering_ se refiere a aquellos métodos que separan un conjunto de datos $X$ en subgrupos (_clústers_), de tal forma que los datos pertenecientes a cada grupo tengan entre sí la mayor relación posible.\n",
    "* Dado que no consideramos las etiquetas $y$, estos grupos se infieren exclusivamente a partir de los features de nuestra matriz de datos $X$.\n",
    "* Para entender clustering, es posible interpretarlo como un método que le asigna un vector similar a un label a cada observación de $X$, donde cada una de las ocurrencias de dicho vector representa el clúster de la correspondiente observación."
   ]
  },
  {
   "cell_type": "markdown",
   "metadata": {
    "slideshow": {
     "slide_type": "subslide"
    },
    "tags": []
   },
   "source": [
    "### K-Means Clustering\n",
    "\n",
    "K-Means Clustering es un método iterativo y de propósito general muy simple que particiona las observaciones en un número predefinido $K$ de clústers, donde cada dato se asigna a un clúster. El algoritmo consiste en;\n",
    "\n",
    "1. Cada dato se asigna al clúster más cercano.\n",
    "1. Se modifica el centroide de los clústers respecto a los datos asignados.\n",
    "1. Se repiten 1. y 2. hasta que no haya cambios."
   ]
  },
  {
   "cell_type": "markdown",
   "metadata": {
    "slideshow": {
     "slide_type": "skip"
    },
    "tags": []
   },
   "source": [
    "Analíticamente:\n",
    "\n",
    "Dados los vectores fila $X_1, X_2, \\dots, X_n$, el vector centroide estará dado por\n",
    "\n",
    "$$X_{centroide} = \\frac{1}{n} (X_1 + X_2 + \\dots + X_n)$$"
   ]
  },
  {
   "cell_type": "markdown",
   "metadata": {
    "slideshow": {
     "slide_type": "subslide"
    },
    "tags": []
   },
   "source": [
    "* Veamos cómo funciona el algoritmo K-Means en el iris dataset.\n",
    "* Este es un ejemplo en el cuál no tiene mucho sentido hacer clústering debido a que tenemos los labels $y$, pero dado que es un conjunto conocido vamos a ver cómo convergen los distintos clústers."
   ]
  },
  {
   "cell_type": "code",
   "execution_count": 21,
   "metadata": {
    "slideshow": {
     "slide_type": "subslide"
    },
    "tags": []
   },
   "outputs": [],
   "source": [
    "from sklearn.cluster import KMeans\n",
    "\n",
    "def graficar_kmeans(number_of_cluster):\n",
    "    \n",
    "    kmeans = KMeans(n_clusters=number_of_cluster, random_state=80)\n",
    "    kmeans.fit(X)\n",
    "\n",
    "    print(\"Número de clúster asignado a cada observación \", kmeans.labels_)\n",
    "    print(\"Centroides de cada clúster \", kmeans.cluster_centers_)\n",
    "\n",
    "    for i in range(np.max(kmeans.labels_)+1):\n",
    "        plt.plot(X[kmeans.labels_==i,0], X[kmeans.labels_==i,1], 's', label=\"Cluster \" + str(i+1))\n",
    "        plt.plot(kmeans.cluster_centers_[i,0], kmeans.cluster_centers_[i,1], 'o', color='orange')\n",
    "\n",
    "    plt.xlabel(iris.feature_names[0])\n",
    "    plt.ylabel(iris.feature_names[1])\n",
    "    plt.legend(loc='best', numpoints=1)\n",
    "    plt.show()"
   ]
  },
  {
   "cell_type": "code",
   "execution_count": 22,
   "metadata": {
    "slideshow": {
     "slide_type": "subslide"
    },
    "tags": []
   },
   "outputs": [
    {
     "name": "stdout",
     "output_type": "stream",
     "text": [
      "Número de clúster asignado a cada observación  [0 0 0 0 0 0 0 0 0 0 0 0 0 0 0 0 0 0 0 0 0 0 0 0 0 0 0 0 0 0 0 0 0 0 0 0 0\n",
      " 0 0 0 0 0 0 0 0 0 0 0 0 0 0 0 0 0 0 0 0 0 0 0 0 0 0 0 0 0 0 0 0 0 0 0 0 0\n",
      " 0 0 0 0 0 0 0 0 0 0 0 0 0 0 0 0 0 0 0 0 0 0 0 0 0 0 0 0 0 0 0 0 0 0 0 0 0\n",
      " 0 0 0 0 0 0 0 0 0 0 0 0 0 0 0 0 0 0 0 0 0 0 0 0 0 0 0 0 0 0 0 0 0 0 0 0 0\n",
      " 0 0]\n",
      "Centroides de cada clúster  [[5.84333333 3.05733333 3.758      1.19933333]]\n"
     ]
    },
    {
     "data": {
      "image/png": "[encoded data removed]",
      "text/plain": [
       "<Figure size 432x288 with 1 Axes>"
      ]
     },
     "metadata": {
      "needs_background": "light"
     },
     "output_type": "display_data"
    }
   ],
   "source": [
    "graficar_kmeans(1)"
   ]
  },
  {
   "cell_type": "code",
   "execution_count": 23,
   "metadata": {
    "slideshow": {
     "slide_type": "subslide"
    },
    "tags": []
   },
   "outputs": [
    {
     "name": "stdout",
     "output_type": "stream",
     "text": [
      "Número de clúster asignado a cada observación  [0 0 0 0 0 0 0 0 0 0 0 0 0 0 0 0 0 0 0 0 0 0 0 0 0 0 0 0 0 0 0 0 0 0 0 0 0\n",
      " 0 0 0 0 0 0 0 0 0 0 0 0 0 1 1 1 1 1 1 1 0 1 1 1 1 1 1 1 1 1 1 1 1 1 1 1 1\n",
      " 1 1 1 1 1 1 1 1 1 1 1 1 1 1 1 1 1 1 1 0 1 1 1 1 0 1 1 1 1 1 1 1 1 1 1 1 1\n",
      " 1 1 1 1 1 1 1 1 1 1 1 1 1 1 1 1 1 1 1 1 1 1 1 1 1 1 1 1 1 1 1 1 1 1 1 1 1\n",
      " 1 1]\n",
      "Centroides de cada clúster  [[5.00566038 3.36981132 1.56037736 0.29056604]\n",
      " [6.30103093 2.88659794 4.95876289 1.69587629]]\n"
     ]
    },
    {
     "data": {
      "image/png": "[encoded data removed]",
      "text/plain": [
       "<Figure size 432x288 with 1 Axes>"
      ]
     },
     "metadata": {
      "needs_background": "light"
     },
     "output_type": "display_data"
    }
   ],
   "source": [
    "graficar_kmeans(2)"
   ]
  },
  {
   "cell_type": "code",
   "execution_count": 24,
   "metadata": {
    "slideshow": {
     "slide_type": "subslide"
    },
    "tags": []
   },
   "outputs": [
    {
     "name": "stdout",
     "output_type": "stream",
     "text": [
      "Número de clúster asignado a cada observación  [0 0 0 0 0 0 0 0 0 0 0 0 0 0 0 0 0 0 0 0 0 0 0 0 0 0 0 0 0 0 0 0 0 0 0 0 0\n",
      " 0 0 0 0 0 0 0 0 0 0 0 0 0 1 1 2 1 1 1 1 1 1 1 1 1 1 1 1 1 1 1 1 1 1 1 1 1\n",
      " 1 1 1 2 1 1 1 1 1 1 1 1 1 1 1 1 1 1 1 1 1 1 1 1 1 1 2 1 2 2 2 2 1 2 2 2 2\n",
      " 2 2 1 1 2 2 2 2 1 2 1 2 1 2 2 1 1 2 2 2 2 2 1 2 2 2 2 1 2 2 2 1 2 2 2 1 2\n",
      " 2 1]\n",
      "Centroides de cada clúster  [[5.006      3.428      1.462      0.246     ]\n",
      " [5.9016129  2.7483871  4.39354839 1.43387097]\n",
      " [6.85       3.07368421 5.74210526 2.07105263]]\n"
     ]
    },
    {
     "data": {
      "image/png": "[encoded data removed]",
      "text/plain": [
       "<Figure size 432x288 with 1 Axes>"
      ]
     },
     "metadata": {
      "needs_background": "light"
     },
     "output_type": "display_data"
    }
   ],
   "source": [
    "graficar_kmeans(3)"
   ]
  },
  {
   "cell_type": "code",
   "execution_count": 25,
   "metadata": {
    "slideshow": {
     "slide_type": "subslide"
    },
    "tags": []
   },
   "outputs": [
    {
     "name": "stdout",
     "output_type": "stream",
     "text": [
      "Número de clúster asignado a cada observación  [1 1 1 1 1 1 1 1 1 1 1 1 1 1 1 1 1 1 1 1 1 1 1 1 1 1 1 1 1 1 1 1 1 1 1 1 1\n",
      " 1 1 1 1 1 1 1 1 1 1 1 1 1 0 0 0 3 0 3 0 3 0 3 3 3 3 0 3 0 3 3 0 3 0 3 0 0\n",
      " 0 0 0 0 0 3 3 3 3 0 3 0 0 0 3 3 3 0 3 3 3 3 3 0 3 3 2 0 2 2 2 2 3 2 2 2 0\n",
      " 0 2 0 0 2 2 2 2 0 2 0 2 0 2 2 0 0 2 2 2 2 2 0 0 2 2 2 0 2 2 2 0 2 2 2 0 0\n",
      " 2 0]\n",
      "Centroides de cada clúster  [[6.2525     2.855      4.815      1.625     ]\n",
      " [5.006      3.428      1.462      0.246     ]\n",
      " [6.9125     3.1        5.846875   2.13125   ]\n",
      " [5.53214286 2.63571429 3.96071429 1.22857143]]\n"
     ]
    },
    {
     "data": {
      "image/png": "[encoded data removed]",
      "text/plain": [
       "<Figure size 432x288 with 1 Axes>"
      ]
     },
     "metadata": {
      "needs_background": "light"
     },
     "output_type": "display_data"
    }
   ],
   "source": [
    "graficar_kmeans(4)"
   ]
  },
  {
   "cell_type": "markdown",
   "metadata": {
    "slideshow": {
     "slide_type": "subslide"
    },
    "tags": []
   },
   "source": [
    "* Ejemplo de problema con KMeans (basado en http://scikit-learn.org/stable/auto_examples/cluster/plot_kmeans_assumptions.html)..."
   ]
  },
  {
   "cell_type": "code",
   "execution_count": 26,
   "metadata": {
    "slideshow": {
     "slide_type": "skip"
    },
    "tags": []
   },
   "outputs": [],
   "source": [
    "import numpy as np\n",
    "from sklearn.datasets import make_blobs\n",
    "\n",
    "# Creamos las tres \"manchas\" que forman nuestros datos para reflejar este ejemplo\n",
    "n_samples = 1500\n",
    "X_blob, y_blob = make_blobs(n_samples=n_samples, random_state=170)\n",
    "transformation = [[ 0.60834549, -0.63667341], [-0.40887718, 0.85253229]]\n",
    "X_aniso = np.dot(X_blob, transformation)\n",
    "\n",
    "def graficar_blobs_kmeans(number_of_cluster):\n",
    "\n",
    "    # Ajustamos nuestros datos a un modelo KMeans. Vemos lo que pasa cuando cambia el número de clústers\n",
    "    km = KMeans(n_clusters=number_of_cluster, random_state=170)\n",
    "    km.fit(X_aniso)\n",
    "    km_pred = km.predict(X_aniso)\n",
    "\n",
    "    plt.scatter(X_aniso[:, 0], X_aniso[:, 1], c=km_pred)\n",
    "    plt.show()"
   ]
  },
  {
   "cell_type": "code",
   "execution_count": 27,
   "metadata": {
    "slideshow": {
     "slide_type": "subslide"
    },
    "tags": []
   },
   "outputs": [
    {
     "data": {
      "image/png": "[encoded data removed]",
      "text/plain": [
       "<Figure size 432x288 with 1 Axes>"
      ]
     },
     "metadata": {
      "needs_background": "light"
     },
     "output_type": "display_data"
    }
   ],
   "source": [
    "graficar_blobs_kmeans(1)"
   ]
  },
  {
   "cell_type": "code",
   "execution_count": 28,
   "metadata": {
    "slideshow": {
     "slide_type": "subslide"
    },
    "tags": []
   },
   "outputs": [
    {
     "data": {
      "image/png": "[encoded data removed]",
      "text/plain": [
       "<Figure size 432x288 with 1 Axes>"
      ]
     },
     "metadata": {
      "needs_background": "light"
     },
     "output_type": "display_data"
    }
   ],
   "source": [
    "graficar_blobs_kmeans(2)"
   ]
  },
  {
   "cell_type": "code",
   "execution_count": 29,
   "metadata": {
    "slideshow": {
     "slide_type": "subslide"
    },
    "tags": []
   },
   "outputs": [
    {
     "data": {
      "image/png": "[encoded data removed]",
      "text/plain": [
       "<Figure size 432x288 with 1 Axes>"
      ]
     },
     "metadata": {
      "needs_background": "light"
     },
     "output_type": "display_data"
    }
   ],
   "source": [
    "graficar_blobs_kmeans(3)"
   ]
  },
  {
   "cell_type": "markdown",
   "metadata": {
    "slideshow": {
     "slide_type": "subslide"
    },
    "tags": []
   },
   "source": [
    "#### Mixture Models\n",
    "\n",
    "En los _Mixture Models_, se asume que los datos generados vienen de una **mezcla (_mixture_) de distribuciones probabilísticas de la misma familia (ej: Gaussianas) pero con distintos parámetros**. En nuestro ejemplo nos vamos a centrar en _Mixture of Gaussians_."
   ]
  },
  {
   "cell_type": "markdown",
   "metadata": {
    "slideshow": {
     "slide_type": "fragment"
    },
    "tags": []
   },
   "source": [
    "* Mixture of Gaussians puede ser pensado simplificadamente como una \"generalización del KMeans\" en donde se asume que los **centroides son formados a partir de distribuciones normales, además de incorporar información sobre la varianza de los datos**."
   ]
  },
  {
   "cell_type": "markdown",
   "metadata": {
    "slideshow": {
     "slide_type": "fragment"
    },
    "tags": []
   },
   "source": [
    "* Veamos cómo los mismos logran separar mucho mejor los datos de nuestro último ejemplo."
   ]
  },
  {
   "cell_type": "code",
   "execution_count": 30,
   "metadata": {
    "slideshow": {
     "slide_type": "subslide"
    },
    "tags": []
   },
   "outputs": [],
   "source": [
    "from sklearn import mixture\n",
    "\n",
    "def graficar_blobs_gmm(number_of_component):\n",
    "\n",
    "    # Ajustamos nuestros datos a un modelo Mixture of Gaussians\n",
    "    gmm = mixture.GaussianMixture(n_components=number_of_component)\n",
    "    gmm.fit(X_aniso)\n",
    "    gmm_pred = gmm.predict(X_aniso)\n",
    "\n",
    "    plt.scatter(X_aniso[:, 0], X_aniso[:, 1], c=gmm_pred)\n",
    "    plt.show()"
   ]
  },
  {
   "cell_type": "code",
   "execution_count": 31,
   "metadata": {
    "slideshow": {
     "slide_type": "subslide"
    },
    "tags": []
   },
   "outputs": [
    {
     "data": {
      "image/png": "[encoded data removed]",
      "text/plain": [
       "<Figure size 432x288 with 1 Axes>"
      ]
     },
     "metadata": {
      "needs_background": "light"
     },
     "output_type": "display_data"
    }
   ],
   "source": [
    "graficar_blobs_gmm(1)"
   ]
  },
  {
   "cell_type": "code",
   "execution_count": 32,
   "metadata": {
    "slideshow": {
     "slide_type": "subslide"
    },
    "tags": []
   },
   "outputs": [
    {
     "data": {
      "image/png": "[encoded data removed]",
      "text/plain": [
       "<Figure size 432x288 with 1 Axes>"
      ]
     },
     "metadata": {
      "needs_background": "light"
     },
     "output_type": "display_data"
    }
   ],
   "source": [
    "graficar_blobs_gmm(2)"
   ]
  },
  {
   "cell_type": "code",
   "execution_count": 33,
   "metadata": {
    "slideshow": {
     "slide_type": "subslide"
    },
    "tags": []
   },
   "outputs": [
    {
     "data": {
      "image/png": "[encoded data removed]",
      "text/plain": [
       "<Figure size 432x288 with 1 Axes>"
      ]
     },
     "metadata": {
      "needs_background": "light"
     },
     "output_type": "display_data"
    }
   ],
   "source": [
    "graficar_blobs_gmm(3)"
   ]
  },
  {
   "cell_type": "markdown",
   "metadata": {
    "slideshow": {
     "slide_type": "slide"
    },
    "tags": []
   },
   "source": [
    "### Conclusiones de la introducción al aprendizaje no supervisado\n",
    "\n",
    "* El aprendizaje no supervisado es una forma de aprendizaje donde el foco está centrado en extraer conocimiento sobre los datos con los que contamos, sin considerar la salida de los mismos.\n",
    "* Hemos visto los dos enfoques principales: PCA y clustering.\n",
    "* Con PCA, tomamos un dataset y, a partir de una transformación lineal, vemos cuán correlacionados están sus datos al contar con vectores ortogonales que los transforman.\n",
    "* Con clustering, lo que hacemos es ver cómo los datos pueden dividirse en subgrupos, de modo tal que podamos entender mejor las propiedades subyacentes de los features.\n",
    "\n",
    "Ambos enfoques nos sirven para obtener conocimiento desde una perspectiva distinta de la propuesta por las técnicas de aprendizaje supervisado."
   ]
  },
  {
   "cell_type": "markdown",
   "metadata": {
    "slideshow": {
     "slide_type": "slide"
    },
    "tags": []
   },
   "source": [
    "Bonus:\n",
    "\n",
    "* Visión general sobre cuándo usar qué métodos de Aprendizaje No Supervisado y Supervisado: http://scikit-learn.org/stable/tutorial/machine_learning_map/index.html"
   ]
  }
 ],
 "metadata": {
  "anaconda-cloud": {},
  "kernelspec": {
   "display_name": "Python 3",
   "language": "python",
   "name": "python3"
  },
  "language_info": {
   "codemirror_mode": {
    "name": "ipython",
    "version": 3
   },
   "file_extension": ".py",
   "mimetype": "text/x-python",
   "name": "python",
   "nbconvert_exporter": "python",
   "pygments_lexer": "ipython3",
   "version": "3.7.7"
  }
 },
 "nbformat": 4,
 "nbformat_minor": 4
}
