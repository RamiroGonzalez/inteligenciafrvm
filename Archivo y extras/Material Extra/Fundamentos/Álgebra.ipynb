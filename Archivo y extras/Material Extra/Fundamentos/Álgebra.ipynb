{
 "cells": [
  {
   "cell_type": "markdown",
   "metadata": {},
   "source": [
    "Guía en construcción 🛠\n",
    "\n",
    "La siguiente guía hace un repaso rápido de los conceptos de álgebra lineal que más relevantes se consideran para el aprendizaje automático.\n",
    "\n",
    "Para un repaso de propiedades, operaciones y reglas básicas: [The Matrix Cookbook](https://www.math.uwaterloo.ca/~hwolkowi/matrixcookbook.pdf)."
   ]
  },
  {
   "cell_type": "markdown",
   "metadata": {},
   "source": [
    "# Nociones básicas"
   ]
  },
  {
   "cell_type": "markdown",
   "metadata": {},
   "source": [
    "## Vectores\n",
    "\n",
    "Un vector Euclideano es un objeto geométrico que tiene magnitud y dirección. Puede representarse como vector columna,\n",
    "\n",
    "$v = \n",
    " \\begin{pmatrix}\n",
    "  v_{1} \\\\\n",
    "  v_{2} \\\\\n",
    "  \\vdots  \\\\\n",
    "  v_{n}  \n",
    " \\end{pmatrix}$\n",
    " \n",
    "o vector fila,\n",
    "\n",
    "$v^T = \n",
    " \\begin{pmatrix}\n",
    "  v_{1} \n",
    "  v_{2} \n",
    "  \\dots\n",
    "  v_{n}  \n",
    " \\end{pmatrix}$\n",
    " \n",
    "siendo $^T$ la operación de transpuesta."
   ]
  },
  {
   "cell_type": "code",
   "execution_count": 1,
   "metadata": {
    "tags": []
   },
   "outputs": [],
   "source": [
    "import numpy as np\n",
    "import matplotlib.pyplot as plt\n",
    "\n",
    "v = np.array([1,5])\n",
    "u = np.array([4,2])\n",
    "origen = [0,0],[0,0]"
   ]
  },
  {
   "cell_type": "markdown",
   "metadata": {},
   "source": [
    "### Magnitud"
   ]
  },
  {
   "cell_type": "markdown",
   "metadata": {},
   "source": [
    "La magnitud más común está dada por la norma L2 o distancia Euclideana, que representa esta distancia entre ambos lados del vector. Dado $v$, su magnitud está dada por\n",
    "\n",
    "$$||v|| = \\sqrt{v_1^2 + \\dots + v_n^2}$$\n",
    "\n",
    "también se expresa como $||v||_2$, $|v|$, $L^2$ o $\\mathcal{l}^2$"
   ]
  },
  {
   "cell_type": "markdown",
   "metadata": {},
   "source": [
    "### Graficación\n",
    "\n",
    "Dados dos vectores $v$ y $u$, los mismos pueden graficarse mediante"
   ]
  },
  {
   "cell_type": "code",
   "execution_count": 2,
   "metadata": {
    "tags": []
   },
   "outputs": [
    {
     "data": {
      "image/png": "[encoded data removed]",
      "text/plain": [
       "<Figure size 432x288 with 1 Axes>"
      ]
     },
     "metadata": {
      "needs_background": "light"
     },
     "output_type": "display_data"
    }
   ],
   "source": [
    "axes = plt.gca()\n",
    "axes.set_xlim([-6,6])\n",
    "axes.set_ylim([-6,6])\n",
    "plt.quiver(*origen, v, u, color=['r', 'b'], angles='xy',\n",
    "           scale_units='xy', scale=1)\n",
    "plt.show()"
   ]
  },
  {
   "cell_type": "markdown",
   "metadata": {},
   "source": [
    "### Suma de vectores\n",
    "\n",
    "La suma de dos vectores $v$ y $u$ con igual cantidad de elementos está dada por\n",
    "\n",
    "$v + u = \n",
    " \\begin{pmatrix}\n",
    "  v_{1} + u_{1} \\\\\n",
    "  v_{2} + u_{2} \\\\\n",
    "  \\vdots  \\\\\n",
    "  v_{n} + u_{n}  \n",
    " \\end{pmatrix}$\n",
    " \n",
    "Visualmente, el resultado de esta suma es similar al vector que resulta de \"adjuntar\" un vector al final del otro."
   ]
  },
  {
   "cell_type": "markdown",
   "metadata": {},
   "source": [
    "### Multiplicación de vectores"
   ]
  },
  {
   "cell_type": "markdown",
   "metadata": {},
   "source": [
    "#### Multiplicación escalar\n",
    "\n",
    "Multiplicar un vector $v$ por un escalar $\\alpha$ se define como\n",
    "\n",
    "$\\alpha v = \n",
    " \\begin{pmatrix}\n",
    "  \\alpha v_{1} \\\\\n",
    "  \\alpha v_{2} \\\\\n",
    "  \\vdots  \\\\\n",
    "  \\alpha v_{n}  \n",
    " \\end{pmatrix}$\n",
    " \n",
    "y extiende o contrae la magnitud del vector por $\\alpha$, cambiendo su dirección si $\\alpha < 0$"
   ]
  },
  {
   "cell_type": "markdown",
   "metadata": {},
   "source": [
    "#### Producto punto\n",
    "\n",
    "También llamado producto escalar, interno o *inner product* (\\*), está dado por\n",
    "\n",
    "$v \\cdot u = |v||u| \\cos(\\theta)$ (definición geométrica)\n",
    "\n",
    "o de forma equivalente,\n",
    "\n",
    "$v \\cdot u = \\sum_{i=1}^n v_i u_i$ (definición algebraica)\n",
    "\n",
    "el ángulo entre dos vectores está entonces dado por\n",
    "\n",
    "$\\theta = \\arccos (v \\cdot u / |v||u|)$ \n",
    "\n",
    "\n",
    "(\\*) Un producto interno $<v,u> \\to \\mathbb{R} \\cup \\mathbb{C}$ define un producto entre dos vectores que devuelve un escalar, y en el espacio Euclideano está dado por el producto punto. Cumple condiciones y posee propiedades importantes, más info [aquí](https://en.wikipedia.org/wiki/Inner_product_space)."
   ]
  },
  {
   "cell_type": "markdown",
   "metadata": {},
   "source": [
    "Algunas propiedades:\n",
    "\n",
    "1. $\\langle\\alpha v,u \\rangle = \\alpha \\langle v,u\\rangle, \\alpha \\in \\mathbb{R} \\cup \\mathbb{C}$\n",
    "\n",
    "1. $v \\neq 0 \\implies \\langle v,v \\rangle > 0 $"
   ]
  },
  {
   "cell_type": "markdown",
   "metadata": {},
   "source": [
    "#### Producto cruz\n",
    "\n",
    "$v \\times u = |v| |u| sin(\\theta) n$\n",
    "\n",
    "donde $n$ es el vector unitario perpendicular al plano que contiene a $u$ y $v$.\n",
    "\n",
    "Puede obtenerse a partir del determinante:\n",
    "\n",
    "$v \\times u = \n",
    " \\begin{vmatrix}\n",
    "  i & j & k \\\\\n",
    "  v_1 & v_2 & v_3  \\\\\n",
    "  u_1 & u_2 & u_3\n",
    " \\end{vmatrix}\n",
    "$"
   ]
  },
  {
   "cell_type": "markdown",
   "metadata": {},
   "source": [
    "#### Producto externo\n",
    "\n",
    "También llamado *outer product*.\n",
    "\n",
    "$v \\otimes u = u v^T$"
   ]
  },
  {
   "cell_type": "markdown",
   "metadata": {},
   "source": [
    "## Matrices\n",
    "\n",
    "Una matriz es un arreglo o tabla de números, dispuestos como filas $m$ y columnas $n$. Por ejemplo, una matriz $A$ puede expresarse como\n",
    "\n",
    "$A(m,n) = \n",
    " \\begin{pmatrix}\n",
    "  a_{1,1} & a_{1,2} & \\cdots & a_{1,m} \\\\\n",
    "  a_{2,1} & a_{2,2} & \\cdots & a_{2,m} \\\\\n",
    "  \\vdots  & \\vdots  & \\ddots & \\vdots  \\\\\n",
    "  a_{n,1} & a_{n,2} & \\cdots & a_{n,m}\n",
    " \\end{pmatrix}\n",
    "$\n",
    "\n",
    "Cada columna y fila de la matriz puede pensarse como un vector columna o fila, de dimensiones $(n,1)$ o $(1,m)$, respectivamente.\n",
    "\n",
    "Si $n=m$, entonces $A(n,n)$ es cuadrada."
   ]
  },
  {
   "cell_type": "markdown",
   "metadata": {},
   "source": [
    "### Algunos tipos de matrices"
   ]
  },
  {
   "cell_type": "markdown",
   "metadata": {},
   "source": [
    "#### Matriz diagonal\n",
    "\n",
    "$A$ es una matriz diagonal si es cuadrada y sólo tiene elementos distintos a 0 en su diagonal principal, es decir\n",
    "\n",
    "$A(n,n) = \n",
    " \\begin{pmatrix}\n",
    "  a_{1,1} & 0 & \\cdots & 0 \\\\\n",
    "  0 & a_{2,2} & \\cdots & 0 \\\\\n",
    "  \\vdots  & \\vdots  & \\ddots & \\vdots  \\\\\n",
    "  0 & 0 & \\cdots & a_{n,n} \n",
    " \\end{pmatrix}\n",
    "$\n",
    "\n",
    "Otro tipo es la matriz diagonal rectangular, donde\n",
    "\n",
    "$A(n,m) = \n",
    " \\begin{pmatrix}\n",
    "  a_{1,1} & 0 & \\cdots & 0 & \\dots & 0\\\\\n",
    "  0 & a_{2,2} & \\cdots & 0 & \\dots & 0\\\\\n",
    "  \\vdots  & \\vdots  & \\ddots & \\vdots & & \\vdots \\\\\n",
    "  0 & 0 & \\cdots & a_{n,n} & \\dots & 0\n",
    " \\end{pmatrix}\n",
    "$"
   ]
  },
  {
   "cell_type": "markdown",
   "metadata": {},
   "source": [
    "#### Matriz identidad\n",
    "\n",
    "La matriz identidad está dada por\n",
    "\n",
    "$I(n,n) = \n",
    " \\begin{pmatrix}\n",
    "  1 & 0 & \\cdots & 0 \\\\\n",
    "  0 & 1 & \\cdots & 0 \\\\\n",
    "  \\vdots  & \\vdots  & \\ddots & \\vdots  \\\\\n",
    "  0 & 0 & \\cdots & 1 \n",
    " \\end{pmatrix}\n",
    "$"
   ]
  },
  {
   "cell_type": "markdown",
   "metadata": {},
   "source": [
    "#### Matriz triangular\n",
    "\n",
    "Una matriz triangular expresada como $L$ o $U$, es aquella matriz cuadrada en donde todas las entradas por encima o por debajo de la diagonal principal son 0, en cuyo caso se denomina como matriz triangular inferior o superior, respectivamente. El determinante de esta matriz está dado por el producto entre los elementos de su diagonal principal.\n",
    "\n",
    "Así,\n",
    "\n",
    "$L(n,n) = \n",
    " \\begin{pmatrix}\n",
    "  a_{1,1} & 0 & \\cdots & 0 \\\\\n",
    "  a_{2,1} & a_{2,2} & \\cdots & 0 \\\\\n",
    "  \\vdots  & \\vdots  & \\ddots & \\vdots  \\\\\n",
    "  a_{n,1} & a_{n,2} & \\cdots & a_{n,n} \n",
    " \\end{pmatrix}\n",
    "$\n",
    "\n",
    "y\n",
    "\n",
    "$U(m,n) = \n",
    " \\begin{pmatrix}\n",
    "  a_{1,1} & a_{1,2} & \\cdots & a_{1,n} \\\\\n",
    "  0 & a_{2,2} & \\cdots & a_{2,n} \\\\\n",
    "  \\vdots  & \\vdots  & \\ddots & \\vdots  \\\\\n",
    "  0 & 0 & \\cdots & a_{n,n} \n",
    " \\end{pmatrix}\n",
    "$"
   ]
  },
  {
   "cell_type": "markdown",
   "metadata": {},
   "source": [
    "#### Matriz adjunta"
   ]
  },
  {
   "cell_type": "markdown",
   "metadata": {},
   "source": [
    "#### Positiva-definida y semi-definida\n",
    "\n",
    "Una matriz simétrica ($A(n,n)$ es simétrica si $A = A^T$) es positiva-definida si se cumple que,\n",
    "\n",
    "$v^T A v > 0, \\forall v \\in \\mathbb{R}^n, v \\neq 0$\n",
    "\n",
    "de forma similar, se considera positiva-semidefinida si\n",
    "\n",
    "$v^T A v \\geq 0, \\forall v \\in \\mathbb{R}^n$"
   ]
  },
  {
   "cell_type": "markdown",
   "metadata": {},
   "source": [
    "#### Matriz de permutación\n",
    "\n",
    "Es una matriz $P$ que posee exactamente un 1 por cada fila y por cada columna, teniendo 0 en todos sus demás elementos. Multiplicar esta matriz produce una permutación en las filas o en sus columnas."
   ]
  },
  {
   "cell_type": "markdown",
   "metadata": {},
   "source": [
    "### Multiplicación de matrices"
   ]
  },
  {
   "cell_type": "markdown",
   "metadata": {},
   "source": [
    "Dos matrices $A(n,p)$ y $B(p,m)$ pueden multiplicarse entre sí, produciendo una matriz $C(n,m)$,\n",
    "\n",
    "$C(n,m) = \n",
    " \\begin{pmatrix}\n",
    "  c_{1,1} & c_{1,2} & \\cdots & c_{1,m} \\\\\n",
    "  c_{2,1} & c_{2,2} & \\cdots & c_{2,m} \\\\\n",
    "  \\vdots  & \\vdots  & \\ddots & \\vdots  \\\\\n",
    "  c_{n,1} & c_{n,2} & \\cdots & c_{n,m} \n",
    " \\end{pmatrix}\n",
    "$\n",
    "\n",
    "donde se cumple que cada elemento está dado por $c_{i,j} = \\sum_{k=1}^p a_{ik}b_{kj}$\n",
    "\n"
   ]
  },
  {
   "cell_type": "markdown",
   "metadata": {},
   "source": [
    "La multiplicación de matrices es un caso de *transformación lineal*"
   ]
  },
  {
   "cell_type": "markdown",
   "metadata": {},
   "source": [
    "### Inversa de una matriz\n",
    "\n",
    "Dada una matriz cuadrada $A$, la misma es *invertible* si existe una matriz $B$ tal que\n",
    "\n",
    "$AB = BA = I_n$\n",
    "\n",
    "En este contexto, $B$ se denota como $A^{-1}$. Si la matriz $A$ no tiene inversa, se denomina como *matriz singular*.\n",
    "\n",
    "#### Pseudoinversa\n",
    "\n",
    "Existe una generalización de la inversión de matrices a matrices rectangulares $A(n,m)$ a partir de una pseudoinversa $A^+$. En ese sentido, si $A$ tiene rango completo (dado por $\\min(n,m)$) entonces:\n",
    "\n",
    "* Si $A$ tiene columnas con independencia lineal, entonces $AA^+ = I$, donde\n",
    "\n",
    "$A^+ = (A^T A)^{-1}A^T$\n",
    "\n",
    "* Si $A$ tiene filas con independencia lineal, entonces $A^+ A = I$, donde\n",
    "\n",
    "$A^+ = A^T (A A^T)^{-1}$\n",
    "\n",
    "* Si $A$ es invertible, entonces $A^+=A^{-1}$"
   ]
  },
  {
   "cell_type": "markdown",
   "metadata": {},
   "source": [
    "### Determinante"
   ]
  },
  {
   "cell_type": "markdown",
   "metadata": {},
   "source": [
    "El determinante de una matriz cuadrada $A$, $det(A)$ o $|A|$, es un escalar que caracteriza el volumen de la matriz y sumariza varias de sus propiedades, entre ellas:\n",
    "\n",
    "1. $|I| = 1$\n",
    "1. $|A| \\neq 0 \\iff \\exists A^{-1}$\n",
    "1. $det(A^{-1}) = det(A)^{-1}$\n",
    "1. $det(AB) = det(A)det(B)$\n",
    "1. $det(A^T) = det(A)$\n",
    "1. $det(cA) = c^n det(A)$ ($n$ es orden de la matriz)\n",
    "\n",
    "El determinante se calcula al multiplicar los autovalores de la matriz, y puede calcularse a partir de varios métodos. [Más información](https://en.wikipedia.org/wiki/Determinant).\n",
    "\n",
    "Si la matriz es triangular, el determinante está dado por el producto entre los elementos de la diagonal principal."
   ]
  },
  {
   "cell_type": "markdown",
   "metadata": {},
   "source": [
    "### Traza\n",
    "\n",
    "La traza de una matriz $A$, $tr(A)$ es la suma de todos los elementos de la diagonal principal de la matriz. "
   ]
  },
  {
   "cell_type": "markdown",
   "metadata": {},
   "source": [
    "### Rango\n",
    "\n",
    "El rango de una matriz es el número de columnas linealmente independientes de la misma."
   ]
  },
  {
   "cell_type": "markdown",
   "metadata": {},
   "source": [
    "### Descomposiciones\n",
    "\n",
    "Consisten en factorizar una matriz como un producto de matrices, lo cuál en muchos casos permite simplificar o conseguir estabilidad numérica al realizar operaciones sobre las mismas. Vemos las más relevantes para aprendizaje automático"
   ]
  },
  {
   "cell_type": "markdown",
   "metadata": {},
   "source": [
    "#### Descomposición LU y LUP\n",
    "\n",
    "La descomposición LU consiste en descomponer una matriz cuadrada $A$ como $A = LU$, donde $L$ y $U$ son las matrices triangulares inferior y superior, respectivamente.\n",
    "\n",
    "También puede factorizarse como $A = LUP$, donde $P$ es la matriz de permutación. Esto hace que sea más estable numéricamente."
   ]
  },
  {
   "cell_type": "markdown",
   "metadata": {},
   "source": [
    "#### Descomposición de Cholesky\n",
    "\n",
    "Consiste en descomponer una matriz A(n,n) simétrica y positiva-definida como\n",
    "\n",
    "$A = LL^T$, siendo $L$ la matriz triangular menor."
   ]
  },
  {
   "cell_type": "markdown",
   "metadata": {},
   "source": [
    "#### Descomposición QR\n",
    "\n",
    "Consiste en factorizar una matriz $A(n,m)$ en $QR$, donde $Q(n,n)$ es una matriz ortogonal (tal que $Q^T=Q^{-1}$, por lo tanto $QQ^T=I$) y $R(n,m)$ es una matriz triangular superior."
   ]
  },
  {
   "cell_type": "markdown",
   "metadata": {},
   "source": [
    "#### Autovalores y autovectores"
   ]
  },
  {
   "cell_type": "markdown",
   "metadata": {},
   "source": [
    "Dada una matriz $A(n,n)$, $v$ es un *autovector* si satisface\n",
    "\n",
    "$Av = \\lambda v$\n",
    "\n",
    "donde $\\lambda$ es un escalar denominado como *autovalor*, correspondiente a $v$\n",
    "\n",
    "Intuitivamente, $v$ es un vector que, al aplicar la transformación lineal $A$, se agranda o achica una cantidad dada por $\\lambda$."
   ]
  },
  {
   "cell_type": "markdown",
   "metadata": {},
   "source": [
    "Si $A(n,n)$ puede descomponerse en $n$ autovectores linealmente independientes, entonces puede factorizarse como\n",
    "\n",
    "$A = Q \\Lambda Q^{-1}$\n",
    "\n",
    "donde cada columna $i$ de $Q(n,n)$ es un autovector, mientras que $\\Lambda$ es una matriz diagonal cuyos valores $\\lambda_{ii}$ se corresponden a cada autovector $i$."
   ]
  },
  {
   "cell_type": "markdown",
   "metadata": {},
   "source": [
    "#### Decomposición en valores singulares (SVD)\n",
    "\n",
    "*Singular value decomposition* (SVD) generaliza la descomposición en autovalores y autovectores a cualquier matriz $A(n,m)$, de forma\n",
    "\n",
    "$A = U \\Sigma V^T$\n",
    "\n",
    "donde $U(n,n)$ y $V(n,m)$ son matrices que cumplen $UU^T = VV^T = I$ y $\\Sigma(n,m)$ es una matriz diagonal rectangular, cuyos elementos $\\sigma_{ii} \\in \\Sigma$ se denominan valores singulares.\n",
    "\n",
    "Dada la SVD de $A$, se cumple que\n",
    "\n",
    "$AA^T = U(\\Sigma\\Sigma^T)U^T$\n",
    "\n",
    "y\n",
    "\n",
    "$A^TA = V(\\Sigma^T\\Sigma)V^T$\n",
    "\n",
    "donde las columnas de $U$ y las columnas de $V$ son autovectores de $A$, mientras que los elementos de $\\Sigma$ distintos a 0 son la raíz cuadrada de los autovalores $\\neq 0$ de $AA^T$ o $A^TA$.\n",
    "\n",
    "SVD tiene una gran cantidad de usos, que incluyen el cálculo de la pseudoinversa, resolución de mínimos cuadrados, resolución de ecuaciones, reducción de dimensionalidad, entre otros."
   ]
  },
  {
   "cell_type": "markdown",
   "metadata": {},
   "source": [
    "# Aplicaciones"
   ]
  },
  {
   "cell_type": "markdown",
   "metadata": {},
   "source": [
    "## Análisis de componentes principales\n",
    "\n",
    "A grandes rasgos, el análisis de componentes principales consiste en proyectar un subconjunto de columnas de datos a un nuevo sistema de coordenadas, de modo que la primera coordenada capture la mayor proporción de la varianza de los datos, la segunda coordenada capture la segunda mayor, y así sucesivamente, permitiendo quitar dimensiones que no aportan a la varianza.\n",
    "\n",
    "El objetivo entonces es encontrar una matriz de vectores de pesos/coeficientes $W(p,p)$ (cuyos vectores columna se conocen como componentes principales) que transforme a los datos $X(n,p)$ (normalizados con media 0 en cada columna) mediante\n",
    "\n",
    "$T = XW$\n",
    "\n",
    "donde cada fila de $T$ representa el mapeo de la correspondiente fila de $X$ para el primer, segundo y último componente principal considerado (hasta un máximo de $min(n,p)$), mientras que cada columna representa los valores de cada observación para el primer componente principal.\n",
    "\n",
    "En $W$, cada columna/componente tiene los *loadings* del j-ésimo componente principal (con un máximo de $min(n,p)$).\n",
    "\n",
    "Utilizando descomposición de valores singulares, es posible descomponer $X$ como\n",
    "\n",
    "$X = U\\Sigma W^T$\n",
    "\n",
    "pudiendo computar $T$ mediante\n",
    "\n",
    "$T = XW = U\\Sigma$\n",
    "\n"
   ]
  },
  {
   "cell_type": "markdown",
   "metadata": {},
   "source": [
    "Otra forma de realizar PCA es mediante la matriz de coviarianza, dada por\n",
    "\n",
    "$S = \\frac{1}{n-1}X^TX$\n",
    "\n",
    "descomponiendo $S$ en autovalores y autovectores, siendo la varianza explicada por cada componente los primeros, y $W$ los segundos."
   ]
  },
  {
   "cell_type": "markdown",
   "metadata": {},
   "source": []
  }
 ],
 "metadata": {
  "kernelspec": {
   "display_name": "Python 3",
   "language": "python",
   "name": "python3"
  },
  "language_info": {
   "codemirror_mode": {
    "name": "ipython",
    "version": 3
   },
   "file_extension": ".py",
   "mimetype": "text/x-python",
   "name": "python",
   "nbconvert_exporter": "python",
   "pygments_lexer": "ipython3",
   "version": "3.7.7"
  }
 },
 "nbformat": 4,
 "nbformat_minor": 4
}
